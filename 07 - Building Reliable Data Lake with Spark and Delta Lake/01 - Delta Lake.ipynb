{
 "cells": [
  {
   "cell_type": "code",
   "execution_count": 1,
   "id": "4de815f8",
   "metadata": {},
   "outputs": [
    {
     "data": {
      "text/html": [
       "<style>pre { white-space: pre !important; }</style>"
      ],
      "text/plain": [
       "<IPython.core.display.HTML object>"
      ]
     },
     "metadata": {},
     "output_type": "display_data"
    }
   ],
   "source": [
    "import findspark\n",
    "findspark.init()\n",
    "findspark.find()\n",
    "\n",
    "from IPython.display import *\n",
    "display(HTML(\"<style>pre { white-space: pre !important; }</style>\"))"
   ]
  },
  {
   "cell_type": "code",
   "execution_count": 2,
   "id": "07dcef6a",
   "metadata": {},
   "outputs": [
    {
     "data": {
      "text/html": [
       "\n",
       "            <div>\n",
       "                <p><b>SparkSession - in-memory</b></p>\n",
       "                \n",
       "        <div>\n",
       "            <p><b>SparkContext</b></p>\n",
       "\n",
       "            <p><a href=\"http://CrystalTalks-PC:4040\">Spark UI</a></p>\n",
       "\n",
       "            <dl>\n",
       "              <dt>Version</dt>\n",
       "                <dd><code>v3.3.2</code></dd>\n",
       "              <dt>Master</dt>\n",
       "                <dd><code>local[4]</code></dd>\n",
       "              <dt>AppName</dt>\n",
       "                <dd><code>DeltaLakeApp</code></dd>\n",
       "            </dl>\n",
       "        </div>\n",
       "        \n",
       "            </div>\n",
       "        "
      ],
      "text/plain": [
       "<pyspark.sql.session.SparkSession at 0x1d6d426bfa0>"
      ]
     },
     "execution_count": 2,
     "metadata": {},
     "output_type": "execute_result"
    }
   ],
   "source": [
    "from pyspark.sql import SparkSession\n",
    "from pyspark.sql.types import *\n",
    "from pyspark.sql.functions import *\n",
    "\n",
    "spark = (\n",
    "            SparkSession\n",
    "                .builder\n",
    "                .appName(\"DeltaLakeApp\")\n",
    "    \n",
    "                .master(\"local[4]\")    \n",
    "                .config(\"spark.dynamicAllocation.enabled\", \"false\")     \n",
    "    \n",
    "    \n",
    "                # Add package for Delta Lake\n",
    "                .config(\"spark.jars.packages\", \"io.delta:delta-core_2.12:2.2.0\")\n",
    "    \n",
    "    \n",
    "                # Add settings to use Delta Lake with Spark session\n",
    "                .config(\"spark.sql.extensions\", \"io.delta.sql.DeltaSparkSessionExtension\")\n",
    "    \n",
    "                .config(\"spark.sql.catalog.spark_catalog\", \n",
    "                        \"org.apache.spark.sql.delta.catalog.DeltaCatalog\")\n",
    "    \n",
    "                .getOrCreate()\n",
    "        )\n",
    "\n",
    "sc = spark.sparkContext\n",
    "\n",
    "spark"
   ]
  },
  {
   "cell_type": "code",
   "execution_count": 3,
   "id": "58003ab9",
   "metadata": {},
   "outputs": [
    {
     "name": "stdout",
     "output_type": "stream",
     "text": [
      "root\n",
      " |-- VendorId: integer (nullable = true)\n",
      " |-- PickupTime: timestamp (nullable = true)\n",
      " |-- DropTime: timestamp (nullable = true)\n",
      " |-- PassengerCount: double (nullable = true)\n",
      " |-- TripDistance: double (nullable = true)\n",
      " |-- RateCodeId: double (nullable = true)\n",
      " |-- StoreAndFwdFlag: string (nullable = true)\n",
      " |-- PickupLocationId: integer (nullable = true)\n",
      " |-- DropLocationId: integer (nullable = true)\n",
      " |-- PaymentType: integer (nullable = true)\n",
      " |-- FareAmount: double (nullable = true)\n",
      " |-- Extra: double (nullable = true)\n",
      " |-- MtaTax: double (nullable = true)\n",
      " |-- TipAmount: double (nullable = true)\n",
      " |-- TollsAmount: double (nullable = true)\n",
      " |-- ImprovementSurcharge: double (nullable = true)\n",
      " |-- TotalAmount: double (nullable = true)\n",
      " |-- CongestionSurcharge: double (nullable = true)\n",
      " |-- AirportFee: double (nullable = true)\n",
      "\n"
     ]
    }
   ],
   "source": [
    "# Create schema for Yellow Taxi data\n",
    "yellowTaxiSchema = (\n",
    "                        StructType\n",
    "                        ([ \n",
    "                            StructField(\"VendorId\"               , IntegerType()   , True),\n",
    "                            StructField(\"PickupTime\"             , TimestampType() , True),\n",
    "                            StructField(\"DropTime\"               , TimestampType() , True),\n",
    "                            StructField(\"PassengerCount\"         , DoubleType()    , True),\n",
    "                            StructField(\"TripDistance\"           , DoubleType()    , True),\n",
    "                            StructField(\"RateCodeId\"             , DoubleType()    , True),\n",
    "                            StructField(\"StoreAndFwdFlag\"        , StringType()    , True),\n",
    "                            StructField(\"PickupLocationId\"       , IntegerType()   , True),\n",
    "                            StructField(\"DropLocationId\"         , IntegerType()   , True),\n",
    "                            StructField(\"PaymentType\"            , IntegerType()   , True),\n",
    "                            StructField(\"FareAmount\"             , DoubleType()    , True),\n",
    "                            StructField(\"Extra\"                  , DoubleType()    , True),\n",
    "                            StructField(\"MtaTax\"                 , DoubleType()    , True),\n",
    "                            StructField(\"TipAmount\"              , DoubleType()    , True),\n",
    "                            StructField(\"TollsAmount\"            , DoubleType()    , True),\n",
    "                            StructField(\"ImprovementSurcharge\"   , DoubleType()    , True),\n",
    "                            StructField(\"TotalAmount\"            , DoubleType()    , True),\n",
    "                            StructField(\"CongestionSurcharge\"    , DoubleType()    , True),\n",
    "                            StructField(\"AirportFee\"             , DoubleType()    , True)\n",
    "                        ])\n",
    "                   )\n",
    "\n",
    "\n",
    "# Read Yellow Taxis file\n",
    "yellowTaxiDF = (\n",
    "                  spark\n",
    "                    .read\n",
    "                    .option(\"header\", \"true\")    \n",
    "                    .schema(yellowTaxiSchema)    \n",
    "                    .csv(\"C:\\SparkCourse\\DataFiles\\Raw\\YellowTaxis_202210.csv\")\n",
    "               )\n",
    "\n",
    "\n",
    "# Print schema of DataFrame\n",
    "yellowTaxiDF.printSchema()"
   ]
  },
  {
   "cell_type": "markdown",
   "id": "6df7ea16",
   "metadata": {},
   "source": [
    "### Create database in metastore"
   ]
  },
  {
   "cell_type": "code",
   "execution_count": 4,
   "id": "ac588738",
   "metadata": {},
   "outputs": [
    {
     "data": {
      "text/plain": [
       "DataFrame[]"
      ]
     },
     "execution_count": 4,
     "metadata": {},
     "output_type": "execute_result"
    }
   ],
   "source": [
    "spark.sql(\"\"\"\n",
    "\n",
    "CREATE DATABASE IF NOT EXISTS TaxisDB\n",
    "\n",
    "\"\"\")"
   ]
  },
  {
   "cell_type": "markdown",
   "id": "34e81385",
   "metadata": {},
   "source": [
    "### Parquet format: Save DataFrame as a Table"
   ]
  },
  {
   "cell_type": "code",
   "execution_count": 5,
   "id": "361f1524",
   "metadata": {},
   "outputs": [],
   "source": [
    "(\n",
    "    yellowTaxiDF\n",
    "            .write    \n",
    "            .mode(\"overwrite\")\n",
    "    \n",
    "            .partitionBy(\"VendorId\")\n",
    "    \n",
    "            .format(\"parquet\")\n",
    "    \n",
    "            .option(\"path\", \"C:\\SparkCourse\\DataFiles\\Output\\YellowTaxis.parquet\")\n",
    "    \n",
    "            .saveAsTable(\"TaxisDB.YellowTaxisParquet\")\n",
    ")"
   ]
  },
  {
   "cell_type": "markdown",
   "id": "7e1584bd",
   "metadata": {},
   "source": [
    "### Delta format: Save DataFrame as Table"
   ]
  },
  {
   "cell_type": "code",
   "execution_count": 6,
   "id": "05749f52",
   "metadata": {},
   "outputs": [],
   "source": [
    "# If you have already run this command, and want to start from beginning,\n",
    "# delete folder from file system first\n",
    "\n",
    "from delta import *\n",
    "\n",
    "(\n",
    "    yellowTaxiDF\n",
    "            .write    \n",
    "            .mode(\"overwrite\")\n",
    "    \n",
    "            .partitionBy(\"VendorId\")\n",
    "    \n",
    "            .format(\"delta\")\n",
    "    \n",
    "            .option(\"path\", \"C:\\SparkCourse\\DataFiles\\Output\\YellowTaxis.delta\")\n",
    "    \n",
    "            .saveAsTable(\"TaxisDB.YellowTaxis\")\n",
    ")"
   ]
  },
  {
   "cell_type": "code",
   "execution_count": 7,
   "id": "c0dafe48",
   "metadata": {},
   "outputs": [
    {
     "name": "stdout",
     "output_type": "stream",
     "text": [
      "+--------+\n",
      "|count(1)|\n",
      "+--------+\n",
      "| 3675412|\n",
      "+--------+\n",
      "\n"
     ]
    }
   ],
   "source": [
    "spark.sql(\"\"\"\n",
    "\n",
    "SELECT COUNT(*)\n",
    "FROM TaxisDB.YellowTaxis\n",
    "\n",
    "\"\"\").show()"
   ]
  },
  {
   "cell_type": "markdown",
   "id": "7c63ea14",
   "metadata": {},
   "source": [
    "### Audit History of Delta Table\n",
    "\n",
    "This shows transaction log of Delta Table"
   ]
  },
  {
   "cell_type": "code",
   "execution_count": 8,
   "id": "ca47c782",
   "metadata": {},
   "outputs": [
    {
     "name": "stdout",
     "output_type": "stream",
     "text": [
      "+-------+-----------------------+------+--------+---------------------------------+---------------------------------------------------------------------------------------------------------------------------------------+----+--------+---------+-----------+--------------+-------------+---------------------------------------------------------------------+------------+-----------------------------------+\n",
      "|version|timestamp              |userId|userName|operation                        |operationParameters                                                                                                                    |job |notebook|clusterId|readVersion|isolationLevel|isBlindAppend|operationMetrics                                                     |userMetadata|engineInfo                         |\n",
      "+-------+-----------------------+------+--------+---------------------------------+---------------------------------------------------------------------------------------------------------------------------------------+----+--------+---------+-----------+--------------+-------------+---------------------------------------------------------------------+------------+-----------------------------------+\n",
      "|3      |2023-03-12 22:24:34.753|null  |null    |CREATE OR REPLACE TABLE AS SELECT|{isManaged -> false, description -> This table stores ride information for Yellow Taxis, partitionBy -> [\"VendorId\"], properties -> {}}|null|null    |null     |2          |Serializable  |false        |{numFiles -> 9, numOutputRows -> 3675412, numOutputBytes -> 80993013}|null        |Apache-Spark/3.3.2 Delta-Lake/2.2.0|\n",
      "|2      |2023-03-12 22:21:50.635|null  |null    |WRITE                            |{mode -> Append, partitionBy -> [\"VendorId\"]}                                                                                          |null|null    |null     |1          |Serializable  |true         |{numFiles -> 1, numOutputRows -> 3, numOutputBytes -> 5469}          |null        |Apache-Spark/3.3.2 Delta-Lake/2.2.0|\n",
      "|1      |2023-03-12 22:21:36.818|null  |null    |WRITE                            |{mode -> Append, partitionBy -> []}                                                                                                    |null|null    |null     |0          |Serializable  |true         |{numFiles -> 1, numOutputRows -> 1, numOutputBytes -> 5096}          |null        |Apache-Spark/3.3.2 Delta-Lake/2.2.0|\n",
      "|0      |2023-03-12 22:21:24.881|null  |null    |CREATE TABLE                     |{isManaged -> false, description -> This table stores ride information for Yellow Taxis, partitionBy -> [\"VendorId\"], properties -> {}}|null|null    |null     |null       |Serializable  |true         |{}                                                                   |null        |Apache-Spark/3.3.2 Delta-Lake/2.2.0|\n",
      "+-------+-----------------------+------+--------+---------------------------------+---------------------------------------------------------------------------------------------------------------------------------------+----+--------+---------+-----------+--------------+-------------+---------------------------------------------------------------------+------------+-----------------------------------+\n",
      "\n"
     ]
    }
   ],
   "source": [
    "spark.sql(\"\"\"\n",
    "\n",
    "DESCRIBE HISTORY TaxisDB.YellowTaxis\n",
    "\n",
    "\"\"\").show(truncate=False)"
   ]
  },
  {
   "cell_type": "markdown",
   "id": "2caff3a3",
   "metadata": {},
   "source": [
    "### Overwrite data in Delta table"
   ]
  },
  {
   "cell_type": "code",
   "execution_count": 9,
   "id": "3e86f82e",
   "metadata": {},
   "outputs": [],
   "source": [
    "# Overwrite data by re-running the command\n",
    "\n",
    "(\n",
    "    yellowTaxiDF\n",
    "            .write    \n",
    "            .mode(\"overwrite\")\n",
    "    \n",
    "            .partitionBy(\"VendorId\")\n",
    "    \n",
    "            .format(\"delta\")\n",
    "    \n",
    "            .option(\"path\", \"C:\\SparkCourse\\DataFiles\\Output\\YellowTaxis.delta\")\n",
    "    \n",
    "            .saveAsTable(\"TaxisDB.YellowTaxis\")\n",
    ")"
   ]
  },
  {
   "cell_type": "code",
   "execution_count": 10,
   "id": "820f4d5b",
   "metadata": {},
   "outputs": [
    {
     "name": "stdout",
     "output_type": "stream",
     "text": [
      "+-------+-----------------------+------+--------+---------------------------------+---------------------------------------------------------------------------------------------------------------------------------------+----+--------+---------+-----------+--------------+-------------+---------------------------------------------------------------------+------------+-----------------------------------+\n",
      "|version|timestamp              |userId|userName|operation                        |operationParameters                                                                                                                    |job |notebook|clusterId|readVersion|isolationLevel|isBlindAppend|operationMetrics                                                     |userMetadata|engineInfo                         |\n",
      "+-------+-----------------------+------+--------+---------------------------------+---------------------------------------------------------------------------------------------------------------------------------------+----+--------+---------+-----------+--------------+-------------+---------------------------------------------------------------------+------------+-----------------------------------+\n",
      "|4      |2023-03-12 22:24:53.136|null  |null    |CREATE OR REPLACE TABLE AS SELECT|{isManaged -> false, description -> This table stores ride information for Yellow Taxis, partitionBy -> [\"VendorId\"], properties -> {}}|null|null    |null     |3          |Serializable  |false        |{numFiles -> 9, numOutputRows -> 3675412, numOutputBytes -> 80993013}|null        |Apache-Spark/3.3.2 Delta-Lake/2.2.0|\n",
      "|3      |2023-03-12 22:24:34.753|null  |null    |CREATE OR REPLACE TABLE AS SELECT|{isManaged -> false, description -> This table stores ride information for Yellow Taxis, partitionBy -> [\"VendorId\"], properties -> {}}|null|null    |null     |2          |Serializable  |false        |{numFiles -> 9, numOutputRows -> 3675412, numOutputBytes -> 80993013}|null        |Apache-Spark/3.3.2 Delta-Lake/2.2.0|\n",
      "|2      |2023-03-12 22:21:50.635|null  |null    |WRITE                            |{mode -> Append, partitionBy -> [\"VendorId\"]}                                                                                          |null|null    |null     |1          |Serializable  |true         |{numFiles -> 1, numOutputRows -> 3, numOutputBytes -> 5469}          |null        |Apache-Spark/3.3.2 Delta-Lake/2.2.0|\n",
      "|1      |2023-03-12 22:21:36.818|null  |null    |WRITE                            |{mode -> Append, partitionBy -> []}                                                                                                    |null|null    |null     |0          |Serializable  |true         |{numFiles -> 1, numOutputRows -> 1, numOutputBytes -> 5096}          |null        |Apache-Spark/3.3.2 Delta-Lake/2.2.0|\n",
      "|0      |2023-03-12 22:21:24.881|null  |null    |CREATE TABLE                     |{isManaged -> false, description -> This table stores ride information for Yellow Taxis, partitionBy -> [\"VendorId\"], properties -> {}}|null|null    |null     |null       |Serializable  |true         |{}                                                                   |null        |Apache-Spark/3.3.2 Delta-Lake/2.2.0|\n",
      "+-------+-----------------------+------+--------+---------------------------------+---------------------------------------------------------------------------------------------------------------------------------------+----+--------+---------+-----------+--------------+-------------+---------------------------------------------------------------------+------------+-----------------------------------+\n",
      "\n"
     ]
    }
   ],
   "source": [
    "spark.sql(\"\"\"\n",
    "\n",
    "DESCRIBE HISTORY TaxisDB.YellowTaxis\n",
    "\n",
    "\"\"\").show(truncate=False)"
   ]
  },
  {
   "cell_type": "code",
   "execution_count": 11,
   "id": "c18d59fa",
   "metadata": {},
   "outputs": [
    {
     "data": {
      "text/plain": [
       "DataFrame[]"
      ]
     },
     "execution_count": 11,
     "metadata": {},
     "output_type": "execute_result"
    }
   ],
   "source": [
    "spark.sql(\"\"\"\n",
    "\n",
    "DROP TABLE TaxisDB.YellowTaxis\n",
    "\n",
    "\"\"\")"
   ]
  },
  {
   "cell_type": "markdown",
   "id": "5d6100a3",
   "metadata": {},
   "source": [
    "### Create Table Definition\n",
    "\n",
    "Create table using DDL command, and later add the data"
   ]
  },
  {
   "cell_type": "code",
   "execution_count": 12,
   "id": "ebc9e9cc",
   "metadata": {},
   "outputs": [
    {
     "data": {
      "text/plain": [
       "DataFrame[]"
      ]
     },
     "execution_count": 12,
     "metadata": {},
     "output_type": "execute_result"
    }
   ],
   "source": [
    "spark.sql(\"\"\"\n",
    "\n",
    "CREATE TABLE TaxisDB.YellowTaxis\n",
    "(\n",
    "    VendorId                INT               COMMENT 'Vendor providing the ride',\n",
    "    \n",
    "    PickupTime              TIMESTAMP,\n",
    "    DropTime                TIMESTAMP,\n",
    "    \n",
    "    PickupLocationId        INT               NOT NULL,\n",
    "    DropLocationId          INT,\n",
    "    \n",
    "    PassengerCount          DOUBLE,\n",
    "    TripDistance            DOUBLE,\n",
    "    \n",
    "    RateCodeId              DOUBLE,\n",
    "    StoreAndFwdFlag         STRING,\n",
    "    PaymentType             INT,\n",
    "    \n",
    "    FareAmount              DOUBLE,\n",
    "    Extra                   DOUBLE,\n",
    "    MtaTax                  DOUBLE,\n",
    "    TipAmount               DOUBLE,\n",
    "    TollsAmount             DOUBLE,\n",
    "    ImprovementSurcharge    DOUBLE,\n",
    "    TotalAmount             DOUBLE,\n",
    "    CongestionSurcharge     DOUBLE,\n",
    "    AirportFee              DOUBLE\n",
    ")\n",
    "\n",
    "USING DELTA                  -- default is Parquet\n",
    "\n",
    "LOCATION \"C:/SparkCourse/DataFiles/Output/YellowTaxis.delta/\"\n",
    "\n",
    "PARTITIONED BY (VendorId)    -- optional\n",
    "\n",
    "COMMENT 'This table stores ride information for Yellow Taxis'\n",
    "\n",
    "\"\"\")"
   ]
  },
  {
   "cell_type": "code",
   "execution_count": 13,
   "id": "7e311bc2",
   "metadata": {},
   "outputs": [
    {
     "name": "stdout",
     "output_type": "stream",
     "text": [
      "+----------------------------+-------------------------------------------------------+-------------------------+\n",
      "|col_name                    |data_type                                              |comment                  |\n",
      "+----------------------------+-------------------------------------------------------+-------------------------+\n",
      "|VendorId                    |int                                                    |Vendor providing the ride|\n",
      "|PickupTime                  |timestamp                                              |                         |\n",
      "|DropTime                    |timestamp                                              |                         |\n",
      "|PickupLocationId            |int                                                    |                         |\n",
      "|DropLocationId              |int                                                    |                         |\n",
      "|PassengerCount              |double                                                 |                         |\n",
      "|TripDistance                |double                                                 |                         |\n",
      "|RateCodeId                  |double                                                 |                         |\n",
      "|StoreAndFwdFlag             |string                                                 |                         |\n",
      "|PaymentType                 |int                                                    |                         |\n",
      "|FareAmount                  |double                                                 |                         |\n",
      "|Extra                       |double                                                 |                         |\n",
      "|MtaTax                      |double                                                 |                         |\n",
      "|TipAmount                   |double                                                 |                         |\n",
      "|TollsAmount                 |double                                                 |                         |\n",
      "|ImprovementSurcharge        |double                                                 |                         |\n",
      "|TotalAmount                 |double                                                 |                         |\n",
      "|CongestionSurcharge         |double                                                 |                         |\n",
      "|AirportFee                  |double                                                 |                         |\n",
      "|                            |                                                       |                         |\n",
      "|# Partitioning              |                                                       |                         |\n",
      "|Part 0                      |VendorId                                               |                         |\n",
      "|                            |                                                       |                         |\n",
      "|# Detailed Table Information|                                                       |                         |\n",
      "|Name                        |taxisdb.yellowtaxis                                    |                         |\n",
      "|Comment                     |This table stores ride information for Yellow Taxis    |                         |\n",
      "|Location                    |file:/C:/SparkCourse/DataFiles/Output/YellowTaxis.delta|                         |\n",
      "|Provider                    |delta                                                  |                         |\n",
      "|External                    |true                                                   |                         |\n",
      "|Table Properties            |[delta.minReaderVersion=1,delta.minWriterVersion=2]    |                         |\n",
      "+----------------------------+-------------------------------------------------------+-------------------------+\n",
      "\n"
     ]
    }
   ],
   "source": [
    "spark.sql(\"\"\"\n",
    "\n",
    "DESCRIBE TABLE EXTENDED TaxisDB.YellowTaxis\n",
    "\n",
    "\"\"\").show(50, truncate=False)"
   ]
  },
  {
   "cell_type": "markdown",
   "id": "6acb1329",
   "metadata": {},
   "source": [
    "### Options to Add Data to Delta Table"
   ]
  },
  {
   "cell_type": "markdown",
   "id": "d59dcfb5",
   "metadata": {},
   "source": [
    "#### Option 1: Insert command\n",
    "\n",
    "Use typical SQL Insert command to add data to table"
   ]
  },
  {
   "cell_type": "code",
   "execution_count": 14,
   "id": "5bab52cb",
   "metadata": {},
   "outputs": [
    {
     "data": {
      "text/plain": [
       "DataFrame[]"
      ]
     },
     "execution_count": 14,
     "metadata": {},
     "output_type": "execute_result"
    }
   ],
   "source": [
    "spark.sql(\"\"\"\n",
    "\n",
    "INSERT INTO TaxisDB.YellowTaxis\n",
    "\n",
    "-- (VendorId, PickupTime, DropTime, PickupLocationId, DropLocationId, PassengerCount, TripDistance, RateCodeId, StoreAndFwdFlag, PaymentType, FareAmount, Extra, MtaTax, TipAmount, TollsAmount, ImprovementSurcharge, TotalAmount, CongestionSurcharge, AirportFee)\n",
    "\n",
    "VALUES (3, '2022-12-01T00:00:00.000Z', '2022-12-01T00:15:34.000Z', 170, 140, 1.0, 2.9, 1.0, '1', 1, 13.0, 0.5, 0.5, 1.0, 0.0, 0.3, 15.3, 0.0, 0.0)\n",
    "\n",
    "\"\"\")"
   ]
  },
  {
   "cell_type": "code",
   "execution_count": 15,
   "id": "3471e45b",
   "metadata": {},
   "outputs": [
    {
     "name": "stdout",
     "output_type": "stream",
     "text": [
      "+--------+-------------------+-------------------+----------------+--------------+--------------+------------+----------+---------------+-----------+----------+-----+------+---------+-----------+--------------------+-----------+-------------------+----------+\n",
      "|VendorId|PickupTime         |DropTime           |PickupLocationId|DropLocationId|PassengerCount|TripDistance|RateCodeId|StoreAndFwdFlag|PaymentType|FareAmount|Extra|MtaTax|TipAmount|TollsAmount|ImprovementSurcharge|TotalAmount|CongestionSurcharge|AirportFee|\n",
      "+--------+-------------------+-------------------+----------------+--------------+--------------+------------+----------+---------------+-----------+----------+-----+------+---------+-----------+--------------------+-----------+-------------------+----------+\n",
      "|3       |2022-12-01 05:30:00|2022-12-01 05:45:34|170             |140           |1.0           |2.9         |1.0       |1              |1          |13.0      |0.5  |0.5   |1.0      |0.0        |0.3                 |15.3       |0.0                |0.0       |\n",
      "+--------+-------------------+-------------------+----------------+--------------+--------------+------------+----------+---------------+-----------+----------+-----+------+---------+-----------+--------------------+-----------+-------------------+----------+\n",
      "\n"
     ]
    }
   ],
   "source": [
    "spark.sql(\"\"\"\n",
    "\n",
    "SELECT * FROM TaxisDB.YellowTaxis\n",
    "\n",
    "\"\"\").show(truncate=False)"
   ]
  },
  {
   "cell_type": "code",
   "execution_count": 16,
   "id": "8f613a5b",
   "metadata": {},
   "outputs": [
    {
     "name": "stdout",
     "output_type": "stream",
     "text": [
      "+-------+-----------------------+------+--------+------------+---------------------------------------------------------------------------------------------------------------------------------------+----+--------+---------+-----------+--------------+-------------+-----------------------------------------------------------+------------+-----------------------------------+\n",
      "|version|timestamp              |userId|userName|operation   |operationParameters                                                                                                                    |job |notebook|clusterId|readVersion|isolationLevel|isBlindAppend|operationMetrics                                           |userMetadata|engineInfo                         |\n",
      "+-------+-----------------------+------+--------+------------+---------------------------------------------------------------------------------------------------------------------------------------+----+--------+---------+-----------+--------------+-------------+-----------------------------------------------------------+------------+-----------------------------------+\n",
      "|1      |2023-03-12 22:25:44.291|null  |null    |WRITE       |{mode -> Append, partitionBy -> []}                                                                                                    |null|null    |null     |0          |Serializable  |true         |{numFiles -> 1, numOutputRows -> 1, numOutputBytes -> 5096}|null        |Apache-Spark/3.3.2 Delta-Lake/2.2.0|\n",
      "|0      |2023-03-12 22:25:33.126|null  |null    |CREATE TABLE|{isManaged -> false, description -> This table stores ride information for Yellow Taxis, partitionBy -> [\"VendorId\"], properties -> {}}|null|null    |null     |null       |Serializable  |true         |{}                                                         |null        |Apache-Spark/3.3.2 Delta-Lake/2.2.0|\n",
      "+-------+-----------------------+------+--------+------------+---------------------------------------------------------------------------------------------------------------------------------------+----+--------+---------+-----------+--------------+-------------+-----------------------------------------------------------+------------+-----------------------------------+\n",
      "\n"
     ]
    }
   ],
   "source": [
    "spark.sql(\"\"\"\n",
    "\n",
    "DESCRIBE HISTORY TaxisDB.YellowTaxis\n",
    "\n",
    "\"\"\").show(truncate=False)"
   ]
  },
  {
   "cell_type": "markdown",
   "id": "cfe4e950",
   "metadata": {},
   "source": [
    "#### Option 2: Append a DataFrame\n",
    "\n",
    "Read data as a DataFrame and append to Delta Table using PySpark"
   ]
  },
  {
   "cell_type": "code",
   "execution_count": 17,
   "id": "b2393465",
   "metadata": {},
   "outputs": [
    {
     "name": "stdout",
     "output_type": "stream",
     "text": [
      "+--------+-------------------+-------------------+--------------+------------+----------+---------------+----------------+--------------+-----------+----------+-----+------+---------+-----------+--------------------+-----------+-------------------+----------+\n",
      "|VendorId|         PickupTime|           DropTime|PassengerCount|TripDistance|RateCodeId|StoreAndFwdFlag|PickupLocationId|DropLocationId|PaymentType|FareAmount|Extra|MtaTax|TipAmount|TollsAmount|ImprovementSurcharge|TotalAmount|CongestionSurcharge|AirportFee|\n",
      "+--------+-------------------+-------------------+--------------+------------+----------+---------------+----------------+--------------+-----------+----------+-----+------+---------+-----------+--------------------+-----------+-------------------+----------+\n",
      "|       3|2022-10-01 05:33:41|2022-10-01 05:48:39|           1.0|         1.7|       1.0|              N|             249|           107|          1|       9.5|  3.0|   0.5|     2.65|        0.0|                 0.3|      15.95|                2.5|       0.0|\n",
      "|       3|2022-10-01 05:44:30|2022-10-01 05:49:48|           2.0|        0.72|       1.0|              N|             151|           238|          2|       5.5|  0.5|   0.5|      0.0|        0.0|                 0.3|        9.3|                2.5|       0.0|\n",
      "|       3|2022-10-01 05:57:13|2022-10-01 06:07:41|           1.0|        1.74|       1.0|              N|             238|           166|          1|       9.0|  0.5|   0.5|     2.06|        0.0|                 0.3|      12.36|                0.0|       0.0|\n",
      "+--------+-------------------+-------------------+--------------+------------+----------+---------------+----------------+--------------+-----------+----------+-----+------+---------+-----------+--------------------+-----------+-------------------+----------+\n",
      "\n"
     ]
    }
   ],
   "source": [
    "# Extract new records from Storage/Data Lake\n",
    "\n",
    "yellowTaxisAppendDF = (\n",
    "                          spark\n",
    "                            .read\n",
    "                            .option(\"header\", \"true\")\n",
    "                            .schema(yellowTaxiSchema)\n",
    "                            .csv(\"C:\\SparkCourse\\DataFiles\\Raw\\YellowTaxis_append.csv\")\n",
    "                      )\n",
    "\n",
    "yellowTaxisAppendDF.show()"
   ]
  },
  {
   "cell_type": "code",
   "execution_count": 18,
   "id": "ff00dbc8",
   "metadata": {},
   "outputs": [],
   "source": [
    "# Append to data lake in delta format\n",
    "\n",
    "(\n",
    "    yellowTaxisAppendDF\n",
    "        .write\n",
    "  \n",
    "        .mode(\"append\")\n",
    "  \n",
    "        .partitionBy(\"VendorId\")  \n",
    "        .format(\"delta\")           \n",
    "        .save(\"C:\\SparkCourse\\DataFiles\\Output\\YellowTaxis.delta\")\n",
    ")"
   ]
  },
  {
   "cell_type": "code",
   "execution_count": 19,
   "id": "2341ec8c",
   "metadata": {},
   "outputs": [
    {
     "name": "stdout",
     "output_type": "stream",
     "text": [
      "+--------+-------------------+-------------------+----------------+--------------+--------------+------------+----------+---------------+-----------+----------+-----+------+---------+-----------+--------------------+-----------+-------------------+----------+\n",
      "|VendorId|         PickupTime|           DropTime|PickupLocationId|DropLocationId|PassengerCount|TripDistance|RateCodeId|StoreAndFwdFlag|PaymentType|FareAmount|Extra|MtaTax|TipAmount|TollsAmount|ImprovementSurcharge|TotalAmount|CongestionSurcharge|AirportFee|\n",
      "+--------+-------------------+-------------------+----------------+--------------+--------------+------------+----------+---------------+-----------+----------+-----+------+---------+-----------+--------------------+-----------+-------------------+----------+\n",
      "|       3|2022-10-01 05:33:41|2022-10-01 05:48:39|             249|           107|           1.0|         1.7|       1.0|              N|          1|       9.5|  3.0|   0.5|     2.65|        0.0|                 0.3|      15.95|                2.5|       0.0|\n",
      "|       3|2022-10-01 05:44:30|2022-10-01 05:49:48|             151|           238|           2.0|        0.72|       1.0|              N|          2|       5.5|  0.5|   0.5|      0.0|        0.0|                 0.3|        9.3|                2.5|       0.0|\n",
      "|       3|2022-10-01 05:57:13|2022-10-01 06:07:41|             238|           166|           1.0|        1.74|       1.0|              N|          1|       9.0|  0.5|   0.5|     2.06|        0.0|                 0.3|      12.36|                0.0|       0.0|\n",
      "|       3|2022-12-01 05:30:00|2022-12-01 05:45:34|             170|           140|           1.0|         2.9|       1.0|              1|          1|      13.0|  0.5|   0.5|      1.0|        0.0|                 0.3|       15.3|                0.0|       0.0|\n",
      "+--------+-------------------+-------------------+----------------+--------------+--------------+------------+----------+---------------+-----------+----------+-----+------+---------+-----------+--------------------+-----------+-------------------+----------+\n",
      "\n"
     ]
    }
   ],
   "source": [
    "spark.sql(\"\"\"\n",
    "\n",
    "SELECT * \n",
    "FROM TaxisDB.YellowTaxis\n",
    "\n",
    "\"\"\").show()"
   ]
  },
  {
   "cell_type": "code",
   "execution_count": 20,
   "id": "42471802",
   "metadata": {},
   "outputs": [
    {
     "name": "stdout",
     "output_type": "stream",
     "text": [
      "+-------+-----------------------+------+--------+------------+---------------------------------------------------------------------------------------------------------------------------------------+----+--------+---------+-----------+--------------+-------------+-----------------------------------------------------------+------------+-----------------------------------+\n",
      "|version|timestamp              |userId|userName|operation   |operationParameters                                                                                                                    |job |notebook|clusterId|readVersion|isolationLevel|isBlindAppend|operationMetrics                                           |userMetadata|engineInfo                         |\n",
      "+-------+-----------------------+------+--------+------------+---------------------------------------------------------------------------------------------------------------------------------------+----+--------+---------+-----------+--------------+-------------+-----------------------------------------------------------+------------+-----------------------------------+\n",
      "|2      |2023-03-12 22:25:56.749|null  |null    |WRITE       |{mode -> Append, partitionBy -> [\"VendorId\"]}                                                                                          |null|null    |null     |1          |Serializable  |true         |{numFiles -> 1, numOutputRows -> 3, numOutputBytes -> 5469}|null        |Apache-Spark/3.3.2 Delta-Lake/2.2.0|\n",
      "|1      |2023-03-12 22:25:44.291|null  |null    |WRITE       |{mode -> Append, partitionBy -> []}                                                                                                    |null|null    |null     |0          |Serializable  |true         |{numFiles -> 1, numOutputRows -> 1, numOutputBytes -> 5096}|null        |Apache-Spark/3.3.2 Delta-Lake/2.2.0|\n",
      "|0      |2023-03-12 22:25:33.126|null  |null    |CREATE TABLE|{isManaged -> false, description -> This table stores ride information for Yellow Taxis, partitionBy -> [\"VendorId\"], properties -> {}}|null|null    |null     |null       |Serializable  |true         |{}                                                         |null        |Apache-Spark/3.3.2 Delta-Lake/2.2.0|\n",
      "+-------+-----------------------+------+--------+------------+---------------------------------------------------------------------------------------------------------------------------------------+----+--------+---------+-----------+--------------+-------------+-----------------------------------------------------------+------------+-----------------------------------+\n",
      "\n"
     ]
    }
   ],
   "source": [
    "spark.sql(\"\"\"\n",
    "\n",
    "DESCRIBE HISTORY TaxisDB.YellowTaxis\n",
    "\n",
    "\"\"\").show(truncate=False)"
   ]
  },
  {
   "cell_type": "code",
   "execution_count": 21,
   "id": "c150833a",
   "metadata": {},
   "outputs": [],
   "source": [
    "# Append to data lake in delta format\n",
    "(\n",
    "    yellowTaxiDF\n",
    "        .write\n",
    "  \n",
    "        .mode(\"append\")\n",
    "  \n",
    "        .partitionBy(\"VendorId\")  \n",
    "        .format(\"delta\")\n",
    "        .save(\"C:\\SparkCourse\\DataFiles\\Output\\YellowTaxis.delta\")\n",
    ")"
   ]
  },
  {
   "cell_type": "code",
   "execution_count": 22,
   "id": "9bcad8f6",
   "metadata": {},
   "outputs": [
    {
     "name": "stdout",
     "output_type": "stream",
     "text": [
      "+--------+\n",
      "|count(1)|\n",
      "+--------+\n",
      "| 3675416|\n",
      "+--------+\n",
      "\n"
     ]
    }
   ],
   "source": [
    "spark.sql(\"\"\"\n",
    "\n",
    "SELECT COUNT(1)\n",
    "FROM TaxisDB.YellowTaxis\n",
    "\n",
    "\"\"\").show()"
   ]
  },
  {
   "cell_type": "markdown",
   "id": "0780fa4e",
   "metadata": {},
   "source": [
    "### Check files holding the data"
   ]
  },
  {
   "cell_type": "code",
   "execution_count": 23,
   "id": "fd28da4a",
   "metadata": {},
   "outputs": [
    {
     "name": "stdout",
     "output_type": "stream",
     "text": [
      "+--------------------------------------------------------------------------------------------------------------------------------------+--------+----------------+--------------+\n",
      "|input_file_name()                                                                                                                     |VendorId|PickupLocationId|PassengerCount|\n",
      "+--------------------------------------------------------------------------------------------------------------------------------------+--------+----------------+--------------+\n",
      "|file:/C:/SparkCourse/DataFiles/Output/YellowTaxis.delta/VendorId=3/part-00000-c415243a-0c19-4a8e-bbef-b4da98078da4.c000.snappy.parquet|3       |249             |1.0           |\n",
      "|file:/C:/SparkCourse/DataFiles/Output/YellowTaxis.delta/VendorId=3/part-00000-c415243a-0c19-4a8e-bbef-b4da98078da4.c000.snappy.parquet|3       |151             |2.0           |\n",
      "|file:/C:/SparkCourse/DataFiles/Output/YellowTaxis.delta/VendorId=3/part-00000-c415243a-0c19-4a8e-bbef-b4da98078da4.c000.snappy.parquet|3       |238             |1.0           |\n",
      "|file:/C:/SparkCourse/DataFiles/Output/YellowTaxis.delta/VendorId=3/part-00000-90599c52-13a0-4e57-9716-fbd86e807e7e.c000.snappy.parquet|3       |170             |1.0           |\n",
      "+--------------------------------------------------------------------------------------------------------------------------------------+--------+----------------+--------------+\n",
      "\n"
     ]
    }
   ],
   "source": [
    "spark.sql(\"\"\"\n",
    "\n",
    "SELECT INPUT_FILE_NAME()\n",
    "     \n",
    "     , VendorId\n",
    "     , PickupLocationId\n",
    "     , PassengerCount\n",
    "     \n",
    "FROM TaxisDB.YellowTaxis\n",
    "\n",
    "WHERE VendorId = 3\n",
    "\n",
    "\"\"\").show(truncate=False)"
   ]
  },
  {
   "cell_type": "markdown",
   "id": "7a7b1a87",
   "metadata": {},
   "source": [
    "### UPDATE command"
   ]
  },
  {
   "cell_type": "code",
   "execution_count": 24,
   "id": "975cd2d7",
   "metadata": {},
   "outputs": [
    {
     "name": "stdout",
     "output_type": "stream",
     "text": [
      "+--------+----------------+--------------+\n",
      "|VendorId|PickupLocationId|PassengerCount|\n",
      "+--------+----------------+--------------+\n",
      "|       3|             249|           1.0|\n",
      "+--------+----------------+--------------+\n",
      "\n"
     ]
    }
   ],
   "source": [
    "# Check passenger count\n",
    "\n",
    "spark.sql(\"\"\"\n",
    "\n",
    "SELECT VendorId\n",
    "     , PickupLocationId\n",
    "     , PassengerCount\n",
    "\n",
    "FROM TaxisDB.YellowTaxis\n",
    "\n",
    "WHERE VendorId = 3\n",
    "    AND PickupLocationId = 249\n",
    "\n",
    "\"\"\").show()"
   ]
  },
  {
   "cell_type": "code",
   "execution_count": 25,
   "id": "fdddd99c",
   "metadata": {},
   "outputs": [
    {
     "name": "stdout",
     "output_type": "stream",
     "text": [
      "+-----------------+\n",
      "|num_affected_rows|\n",
      "+-----------------+\n",
      "|                1|\n",
      "+-----------------+\n",
      "\n"
     ]
    }
   ],
   "source": [
    "# Run update statement to change passenger count\n",
    "\n",
    "spark.sql(\"\"\"\n",
    "\n",
    "UPDATE TaxisDB.YellowTaxis\n",
    "\n",
    "SET PassengerCount = 2\n",
    "\n",
    "WHERE VendorId = 3\n",
    "    AND PickupLocationId = 249\n",
    "\n",
    "\"\"\").show()"
   ]
  },
  {
   "cell_type": "code",
   "execution_count": 26,
   "id": "ad1c2854",
   "metadata": {},
   "outputs": [
    {
     "name": "stdout",
     "output_type": "stream",
     "text": [
      "+--------+----------------+--------------+\n",
      "|VendorId|PickupLocationId|PassengerCount|\n",
      "+--------+----------------+--------------+\n",
      "|       3|             249|           2.0|\n",
      "+--------+----------------+--------------+\n",
      "\n"
     ]
    }
   ],
   "source": [
    "# Check passenger count after update\n",
    "\n",
    "spark.sql(\"\"\"\n",
    "\n",
    "SELECT VendorId\n",
    "     , PickupLocationId\n",
    "     , PassengerCount\n",
    "\n",
    "FROM TaxisDB.YellowTaxis\n",
    "\n",
    "WHERE VendorId = 3\n",
    "    AND PickupLocationId = 249\n",
    "\n",
    "\"\"\").show()"
   ]
  },
  {
   "cell_type": "code",
   "execution_count": 27,
   "id": "d7c696d2",
   "metadata": {},
   "outputs": [
    {
     "name": "stdout",
     "output_type": "stream",
     "text": [
      "+-------+-----------------------+------+--------+------------+---------------------------------------------------------------------------------------------------------------------------------------+----+--------+---------+-----------+--------------+-------------+-------------------------------------------------------------------------------------------------------------------------------------------------------------------------------+------------+-----------------------------------+\n",
      "|version|timestamp              |userId|userName|operation   |operationParameters                                                                                                                    |job |notebook|clusterId|readVersion|isolationLevel|isBlindAppend|operationMetrics                                                                                                                                                               |userMetadata|engineInfo                         |\n",
      "+-------+-----------------------+------+--------+------------+---------------------------------------------------------------------------------------------------------------------------------------+----+--------+---------+-----------+--------------+-------------+-------------------------------------------------------------------------------------------------------------------------------------------------------------------------------+------------+-----------------------------------+\n",
      "|4      |2023-03-12 22:29:22.231|null  |null    |UPDATE      |{predicate -> ((VendorId#7797 = 3) AND (PickupLocationId#7800 = 249))}                                                                 |null|null    |null     |3          |Serializable  |false        |{numRemovedFiles -> 1, numCopiedRows -> 2, numAddedChangeFiles -> 0, executionTimeMs -> 1200, scanTimeMs -> 882, numAddedFiles -> 1, numUpdatedRows -> 1, rewriteTimeMs -> 310}|null        |Apache-Spark/3.3.2 Delta-Lake/2.2.0|\n",
      "|3      |2023-03-12 22:27:26.802|null  |null    |WRITE       |{mode -> Append, partitionBy -> [\"VendorId\"]}                                                                                          |null|null    |null     |2          |Serializable  |true         |{numFiles -> 9, numOutputRows -> 3675412, numOutputBytes -> 80993013}                                                                                                          |null        |Apache-Spark/3.3.2 Delta-Lake/2.2.0|\n",
      "|2      |2023-03-12 22:25:56.749|null  |null    |WRITE       |{mode -> Append, partitionBy -> [\"VendorId\"]}                                                                                          |null|null    |null     |1          |Serializable  |true         |{numFiles -> 1, numOutputRows -> 3, numOutputBytes -> 5469}                                                                                                                    |null        |Apache-Spark/3.3.2 Delta-Lake/2.2.0|\n",
      "|1      |2023-03-12 22:25:44.291|null  |null    |WRITE       |{mode -> Append, partitionBy -> []}                                                                                                    |null|null    |null     |0          |Serializable  |true         |{numFiles -> 1, numOutputRows -> 1, numOutputBytes -> 5096}                                                                                                                    |null        |Apache-Spark/3.3.2 Delta-Lake/2.2.0|\n",
      "|0      |2023-03-12 22:25:33.126|null  |null    |CREATE TABLE|{isManaged -> false, description -> This table stores ride information for Yellow Taxis, partitionBy -> [\"VendorId\"], properties -> {}}|null|null    |null     |null       |Serializable  |true         |{}                                                                                                                                                                             |null        |Apache-Spark/3.3.2 Delta-Lake/2.2.0|\n",
      "+-------+-----------------------+------+--------+------------+---------------------------------------------------------------------------------------------------------------------------------------+----+--------+---------+-----------+--------------+-------------+-------------------------------------------------------------------------------------------------------------------------------------------------------------------------------+------------+-----------------------------------+\n",
      "\n"
     ]
    }
   ],
   "source": [
    "spark.sql(\"\"\"\n",
    "\n",
    "DESCRIBE HISTORY TaxisDB.YellowTaxis\n",
    "\n",
    "\"\"\").show(truncate=False)"
   ]
  },
  {
   "cell_type": "markdown",
   "id": "37baa2d3",
   "metadata": {},
   "source": [
    "### DELETE command"
   ]
  },
  {
   "cell_type": "code",
   "execution_count": 28,
   "id": "d5b0f277",
   "metadata": {},
   "outputs": [
    {
     "name": "stdout",
     "output_type": "stream",
     "text": [
      "+--------+----------------+--------------+\n",
      "|VendorId|PickupLocationId|PassengerCount|\n",
      "+--------+----------------+--------------+\n",
      "|       3|             151|           2.0|\n",
      "+--------+----------------+--------------+\n",
      "\n"
     ]
    }
   ],
   "source": [
    "# Check if record exist\n",
    "\n",
    "spark.sql(\"\"\"\n",
    "\n",
    "SELECT VendorId\n",
    "     , PickupLocationId\n",
    "     , PassengerCount\n",
    "\n",
    "FROM TaxisDB.YellowTaxis\n",
    "\n",
    "WHERE VendorId = 3\n",
    "    AND PickupLocationId = 151\n",
    "\n",
    "\"\"\").show()"
   ]
  },
  {
   "cell_type": "code",
   "execution_count": 29,
   "id": "5cb297ba",
   "metadata": {},
   "outputs": [
    {
     "name": "stdout",
     "output_type": "stream",
     "text": [
      "+-----------------+\n",
      "|num_affected_rows|\n",
      "+-----------------+\n",
      "|                1|\n",
      "+-----------------+\n",
      "\n"
     ]
    }
   ],
   "source": [
    "# Delete the record\n",
    "\n",
    "spark.sql(\"\"\"\n",
    "\n",
    "DELETE FROM TaxisDB.YellowTaxis\n",
    "\n",
    "WHERE VendorId = 3\n",
    "    AND PickupLocationId = 151\n",
    "\n",
    "\"\"\").show()"
   ]
  },
  {
   "cell_type": "code",
   "execution_count": 30,
   "id": "adc510da",
   "metadata": {},
   "outputs": [
    {
     "name": "stdout",
     "output_type": "stream",
     "text": [
      "+--------+----------------+--------------+\n",
      "|VendorId|PickupLocationId|PassengerCount|\n",
      "+--------+----------------+--------------+\n",
      "+--------+----------------+--------------+\n",
      "\n"
     ]
    }
   ],
   "source": [
    "# Check if record exist after delete operation\n",
    "\n",
    "spark.sql(\"\"\"\n",
    "\n",
    "SELECT VendorId\n",
    "     , PickupLocationId\n",
    "     , PassengerCount\n",
    "\n",
    "FROM TaxisDB.YellowTaxis\n",
    "\n",
    "WHERE VendorId = 3\n",
    "    AND PickupLocationId = 151\n",
    "\n",
    "\"\"\").show()"
   ]
  },
  {
   "cell_type": "code",
   "execution_count": 31,
   "id": "44901e0d",
   "metadata": {},
   "outputs": [
    {
     "name": "stdout",
     "output_type": "stream",
     "text": [
      "+-------+-----------------------+------+--------+------------+---------------------------------------------------------------------------------------------------------------------------------------+----+--------+---------+-----------+--------------+-------------+-------------------------------------------------------------------------------------------------------------------------------------------------------------------------------+------------+-----------------------------------+\n",
      "|version|timestamp              |userId|userName|operation   |operationParameters                                                                                                                    |job |notebook|clusterId|readVersion|isolationLevel|isBlindAppend|operationMetrics                                                                                                                                                               |userMetadata|engineInfo                         |\n",
      "+-------+-----------------------+------+--------+------------+---------------------------------------------------------------------------------------------------------------------------------------+----+--------+---------+-----------+--------------+-------------+-------------------------------------------------------------------------------------------------------------------------------------------------------------------------------+------------+-----------------------------------+\n",
      "|5      |2023-03-12 22:33:18.096|null  |null    |DELETE      |{predicate -> [\"((spark_catalog.TaxisDB.YellowTaxis.VendorId = 3) AND (spark_catalog.TaxisDB.YellowTaxis.PickupLocationId = 151))\"]}   |null|null    |null     |4          |Serializable  |false        |{numRemovedFiles -> 1, numCopiedRows -> 2, numAddedChangeFiles -> 0, executionTimeMs -> 730, numDeletedRows -> 1, scanTimeMs -> 457, numAddedFiles -> 1, rewriteTimeMs -> 272} |null        |Apache-Spark/3.3.2 Delta-Lake/2.2.0|\n",
      "|4      |2023-03-12 22:29:22.231|null  |null    |UPDATE      |{predicate -> ((VendorId#7797 = 3) AND (PickupLocationId#7800 = 249))}                                                                 |null|null    |null     |3          |Serializable  |false        |{numRemovedFiles -> 1, numCopiedRows -> 2, numAddedChangeFiles -> 0, executionTimeMs -> 1200, scanTimeMs -> 882, numAddedFiles -> 1, numUpdatedRows -> 1, rewriteTimeMs -> 310}|null        |Apache-Spark/3.3.2 Delta-Lake/2.2.0|\n",
      "|3      |2023-03-12 22:27:26.802|null  |null    |WRITE       |{mode -> Append, partitionBy -> [\"VendorId\"]}                                                                                          |null|null    |null     |2          |Serializable  |true         |{numFiles -> 9, numOutputRows -> 3675412, numOutputBytes -> 80993013}                                                                                                          |null        |Apache-Spark/3.3.2 Delta-Lake/2.2.0|\n",
      "|2      |2023-03-12 22:25:56.749|null  |null    |WRITE       |{mode -> Append, partitionBy -> [\"VendorId\"]}                                                                                          |null|null    |null     |1          |Serializable  |true         |{numFiles -> 1, numOutputRows -> 3, numOutputBytes -> 5469}                                                                                                                    |null        |Apache-Spark/3.3.2 Delta-Lake/2.2.0|\n",
      "|1      |2023-03-12 22:25:44.291|null  |null    |WRITE       |{mode -> Append, partitionBy -> []}                                                                                                    |null|null    |null     |0          |Serializable  |true         |{numFiles -> 1, numOutputRows -> 1, numOutputBytes -> 5096}                                                                                                                    |null        |Apache-Spark/3.3.2 Delta-Lake/2.2.0|\n",
      "|0      |2023-03-12 22:25:33.126|null  |null    |CREATE TABLE|{isManaged -> false, description -> This table stores ride information for Yellow Taxis, partitionBy -> [\"VendorId\"], properties -> {}}|null|null    |null     |null       |Serializable  |true         |{}                                                                                                                                                                             |null        |Apache-Spark/3.3.2 Delta-Lake/2.2.0|\n",
      "+-------+-----------------------+------+--------+------------+---------------------------------------------------------------------------------------------------------------------------------------+----+--------+---------+-----------+--------------+-------------+-------------------------------------------------------------------------------------------------------------------------------------------------------------------------------+------------+-----------------------------------+\n",
      "\n"
     ]
    }
   ],
   "source": [
    "spark.sql(\"\"\"\n",
    "\n",
    "DESCRIBE HISTORY TaxisDB.YellowTaxis\n",
    "\n",
    "\"\"\").show(truncate=False)"
   ]
  },
  {
   "cell_type": "markdown",
   "id": "499bb621",
   "metadata": {},
   "source": [
    "### MERGE command"
   ]
  },
  {
   "cell_type": "code",
   "execution_count": 32,
   "id": "399ea04a",
   "metadata": {},
   "outputs": [
    {
     "name": "stdout",
     "output_type": "stream",
     "text": [
      "+--------+-------------------+-------------------+--------------+------------+----------+---------------+----------------+--------------+-----------+----------+-----+------+---------+-----------+--------------------+-----------+-------------------+----------+\n",
      "|VendorId|         PickupTime|           DropTime|PassengerCount|TripDistance|RateCodeId|StoreAndFwdFlag|PickupLocationId|DropLocationId|PaymentType|FareAmount|Extra|MtaTax|TipAmount|TollsAmount|ImprovementSurcharge|TotalAmount|CongestionSurcharge|AirportFee|\n",
      "+--------+-------------------+-------------------+--------------+------------+----------+---------------+----------------+--------------+-----------+----------+-----+------+---------+-----------+--------------------+-----------+-------------------+----------+\n",
      "|       3|2022-10-01 05:33:41|2022-10-01 05:48:39|           1.0|         1.7|       1.0|              N|             249|           107|          3|       9.5|  3.0|   0.5|     2.65|        0.0|                 0.3|      15.95|                2.5|       0.0|\n",
      "|       3|2022-10-01 05:44:30|2022-10-01 05:49:48|           2.0|        0.72|       1.0|              N|             170|           140|          3|       5.5|  0.5|   0.5|      0.0|        0.0|                 0.3|        9.3|                2.5|       0.0|\n",
      "|       3|2022-10-01 05:57:13|2022-10-01 06:07:41|           1.0|        1.74|       1.0|              N|             238|           166|          3|       9.0|  0.5|   0.5|     2.06|        0.0|                 0.3|      12.36|                0.0|       0.0|\n",
      "|       3|2022-10-01 06:05:13|2022-10-01 06:07:41|           0.0|        1.74|       1.0|              N|               1|           166|          3|       9.0|  0.5|   0.5|     2.06|        0.0|                 0.3|      12.36|                0.0|       0.0|\n",
      "+--------+-------------------+-------------------+--------------+------------+----------+---------------+----------------+--------------+-----------+----------+-----+------+---------+-----------+--------------------+-----------+-------------------+----------+\n",
      "\n"
     ]
    }
   ],
   "source": [
    "# Extract changed records from Storage/Data Lake\n",
    "\n",
    "yellowTaxiChangesDF = (\n",
    "                          spark\n",
    "                            .read\n",
    "                            .option(\"header\", \"true\")\n",
    "                            .schema(yellowTaxiSchema)\n",
    "                            .csv(\"C:\\SparkCourse\\DataFiles\\Raw\\YellowTaxis_changes.csv\")\n",
    "                      )\n",
    "\n",
    "yellowTaxiChangesDF.show()"
   ]
  },
  {
   "cell_type": "code",
   "execution_count": 33,
   "id": "87d6265c",
   "metadata": {},
   "outputs": [],
   "source": [
    "yellowTaxiChangesDF.createOrReplaceTempView(\"YellowTaxiChanges\")"
   ]
  },
  {
   "cell_type": "code",
   "execution_count": 34,
   "id": "58137217",
   "metadata": {},
   "outputs": [
    {
     "name": "stdout",
     "output_type": "stream",
     "text": [
      "+--------+-------------------+-------------------+--------------+------------+----------+---------------+----------------+--------------+-----------+----------+-----+------+---------+-----------+--------------------+-----------+-------------------+----------+\n",
      "|VendorId|         PickupTime|           DropTime|PassengerCount|TripDistance|RateCodeId|StoreAndFwdFlag|PickupLocationId|DropLocationId|PaymentType|FareAmount|Extra|MtaTax|TipAmount|TollsAmount|ImprovementSurcharge|TotalAmount|CongestionSurcharge|AirportFee|\n",
      "+--------+-------------------+-------------------+--------------+------------+----------+---------------+----------------+--------------+-----------+----------+-----+------+---------+-----------+--------------------+-----------+-------------------+----------+\n",
      "|       3|2022-10-01 05:33:41|2022-10-01 05:48:39|           1.0|         1.7|       1.0|              N|             249|           107|          3|       9.5|  3.0|   0.5|     2.65|        0.0|                 0.3|      15.95|                2.5|       0.0|\n",
      "|       3|2022-10-01 05:44:30|2022-10-01 05:49:48|           2.0|        0.72|       1.0|              N|             170|           140|          3|       5.5|  0.5|   0.5|      0.0|        0.0|                 0.3|        9.3|                2.5|       0.0|\n",
      "|       3|2022-10-01 05:57:13|2022-10-01 06:07:41|           1.0|        1.74|       1.0|              N|             238|           166|          3|       9.0|  0.5|   0.5|     2.06|        0.0|                 0.3|      12.36|                0.0|       0.0|\n",
      "|       3|2022-10-01 06:05:13|2022-10-01 06:07:41|           0.0|        1.74|       1.0|              N|               1|           166|          3|       9.0|  0.5|   0.5|     2.06|        0.0|                 0.3|      12.36|                0.0|       0.0|\n",
      "+--------+-------------------+-------------------+--------------+------------+----------+---------------+----------------+--------------+-----------+----------+-----+------+---------+-----------+--------------------+-----------+-------------------+----------+\n",
      "\n"
     ]
    }
   ],
   "source": [
    "spark.sql(\"\"\"\n",
    "\n",
    "SELECT *\n",
    "FROM YellowTaxiChanges\n",
    "\n",
    "\"\"\").show()"
   ]
  },
  {
   "cell_type": "code",
   "execution_count": 35,
   "id": "f52c63f2",
   "metadata": {},
   "outputs": [
    {
     "name": "stdout",
     "output_type": "stream",
     "text": [
      "+-----------------+----------------+----------------+-----------------+\n",
      "|num_affected_rows|num_updated_rows|num_deleted_rows|num_inserted_rows|\n",
      "+-----------------+----------------+----------------+-----------------+\n",
      "|                4|               3|               0|                1|\n",
      "+-----------------+----------------+----------------+-----------------+\n",
      "\n"
     ]
    }
   ],
   "source": [
    "spark.sql(\"\"\"\n",
    "\n",
    "MERGE INTO TaxisDB.YellowTaxis tgt\n",
    "\n",
    "    USING YellowTaxiChanges    src\n",
    "\n",
    "        ON    tgt.VendorId          =  src.VendorId\n",
    "          AND tgt.PickupLocationId  =  src.PickupLocationId\n",
    "  \n",
    "-- Update row if join conditions match\n",
    "WHEN MATCHED\n",
    "      \n",
    "      THEN  \n",
    "          UPDATE SET    tgt.PaymentType = src.PaymentType   \n",
    "          \n",
    "                                                      -- Use 'UPDATE SET *' to update all columns\n",
    "\n",
    "-- Insert row if row is not present in target table\n",
    "WHEN NOT MATCHED \n",
    "      AND PickupTime >= '2022-03-01'\n",
    "\n",
    "      THEN \n",
    "          INSERT (VendorId, PickupTime, DropTime, PickupLocationId, DropLocationId, PassengerCount, TripDistance, \n",
    "                  RateCodeId, StoreAndFwdFlag, PaymentType, FareAmount, Extra, MtaTax, TipAmount, TollsAmount, \n",
    "                  ImprovementSurcharge, TotalAmount, CongestionSurcharge, AirportFee)\n",
    "          \n",
    "          VALUES (VendorId, PickupTime, DropTime, PickupLocationId, DropLocationId, PassengerCount, TripDistance,\n",
    "                  RateCodeId, StoreAndFwdFlag, PaymentType, FareAmount, Extra, MtaTax, TipAmount, TollsAmount, \n",
    "                  ImprovementSurcharge, TotalAmount, CongestionSurcharge, AirportFee)\n",
    "                                                                         \n",
    "\n",
    "\n",
    "\"\"\").show()"
   ]
  },
  {
   "cell_type": "markdown",
   "id": "b9130c3a",
   "metadata": {},
   "source": [
    "### Constraints on Delta Table"
   ]
  },
  {
   "cell_type": "markdown",
   "id": "1e46f18e",
   "metadata": {},
   "source": [
    "#### NOT NULL constraint\n",
    "\n",
    "Drop the constraint here which was previously created\n",
    "\n",
    "<i>- Define NOT NULL constraint on column to avoid insertion of NULL values </i> <br/>"
   ]
  },
  {
   "cell_type": "code",
   "execution_count": 36,
   "id": "0ca78a8a",
   "metadata": {},
   "outputs": [
    {
     "name": "stdout",
     "output_type": "stream",
     "text": [
      "++\n",
      "||\n",
      "++\n",
      "++\n",
      "\n"
     ]
    }
   ],
   "source": [
    "spark.sql(\"\"\"\n",
    "\n",
    "ALTER TABLE TaxisDB.YellowTaxis\n",
    "\n",
    "      CHANGE COLUMN PickupLocationId DROP NOT NULL\n",
    "\n",
    "\"\"\").show()\n",
    "\n",
    "\n",
    "# At the time of recording, Open Issue: https://github.com/delta-io/delta/issues/831\n",
    "# Does not allow to set column as null after table creation\n",
    "\n",
    "# ALTER TABLE TaxisDB.YellowTaxis\n",
    "#      CHANGE COLUMN PickupLocationId SET NOT NULL"
   ]
  },
  {
   "cell_type": "code",
   "execution_count": 37,
   "id": "540621b3",
   "metadata": {},
   "outputs": [
    {
     "name": "stdout",
     "output_type": "stream",
     "text": [
      "+-------+-----------------------+------+--------+-------------+---------------------------------------------------------------------------------------------------------------------------------------------------------------------------------------------------------------------------------------------------------------------+----+--------+---------+-----------+--------------+-------------+--------------------------------------------------------------------------------------------------------------------------------------------------------------------------------------------------------------------------------------------------------------------------------------------------------------+------------+-----------------------------------+\n",
      "|version|timestamp              |userId|userName|operation    |operationParameters                                                                                                                                                                                                                                                  |job |notebook|clusterId|readVersion|isolationLevel|isBlindAppend|operationMetrics                                                                                                                                                                                                                                                                                              |userMetadata|engineInfo                         |\n",
      "+-------+-----------------------+------+--------+-------------+---------------------------------------------------------------------------------------------------------------------------------------------------------------------------------------------------------------------------------------------------------------------+----+--------+---------+-----------+--------------+-------------+--------------------------------------------------------------------------------------------------------------------------------------------------------------------------------------------------------------------------------------------------------------------------------------------------------------+------------+-----------------------------------+\n",
      "|7      |2023-03-12 22:37:36.529|null  |null    |CHANGE COLUMN|{column -> {\"name\":\"PickupLocationId\",\"type\":\"integer\",\"nullable\":true,\"metadata\":{}}}                                                                                                                                                                               |null|null    |null     |6          |Serializable  |true         |{}                                                                                                                                                                                                                                                                                                            |null        |Apache-Spark/3.3.2 Delta-Lake/2.2.0|\n",
      "|6      |2023-03-12 22:36:38.649|null  |null    |MERGE        |{predicate -> ((tgt.VendorId = src.VendorId) AND (tgt.PickupLocationId = src.PickupLocationId)), matchedPredicates -> [{\"actionType\":\"update\"}], notMatchedPredicates -> [{\"predicate\":\"(src.PickupTime >= TIMESTAMP '2022-03-01 00:00:00')\",\"actionType\":\"insert\"}]}|null|null    |null     |5          |Serializable  |false        |{numTargetRowsCopied -> 0, numTargetRowsDeleted -> 0, numTargetFilesAdded -> 1, executionTimeMs -> 2457, numTargetRowsInserted -> 1, scanTimeMs -> 1211, numTargetRowsUpdated -> 3, numOutputRows -> 4, numTargetChangeFilesAdded -> 0, numSourceRows -> 4, numTargetFilesRemoved -> 2, rewriteTimeMs -> 1149}|null        |Apache-Spark/3.3.2 Delta-Lake/2.2.0|\n",
      "|5      |2023-03-12 22:33:18.096|null  |null    |DELETE       |{predicate -> [\"((spark_catalog.TaxisDB.YellowTaxis.VendorId = 3) AND (spark_catalog.TaxisDB.YellowTaxis.PickupLocationId = 151))\"]}                                                                                                                                 |null|null    |null     |4          |Serializable  |false        |{numRemovedFiles -> 1, numCopiedRows -> 2, numAddedChangeFiles -> 0, executionTimeMs -> 730, numDeletedRows -> 1, scanTimeMs -> 457, numAddedFiles -> 1, rewriteTimeMs -> 272}                                                                                                                                |null        |Apache-Spark/3.3.2 Delta-Lake/2.2.0|\n",
      "|4      |2023-03-12 22:29:22.231|null  |null    |UPDATE       |{predicate -> ((VendorId#7797 = 3) AND (PickupLocationId#7800 = 249))}                                                                                                                                                                                               |null|null    |null     |3          |Serializable  |false        |{numRemovedFiles -> 1, numCopiedRows -> 2, numAddedChangeFiles -> 0, executionTimeMs -> 1200, scanTimeMs -> 882, numAddedFiles -> 1, numUpdatedRows -> 1, rewriteTimeMs -> 310}                                                                                                                               |null        |Apache-Spark/3.3.2 Delta-Lake/2.2.0|\n",
      "|3      |2023-03-12 22:27:26.802|null  |null    |WRITE        |{mode -> Append, partitionBy -> [\"VendorId\"]}                                                                                                                                                                                                                        |null|null    |null     |2          |Serializable  |true         |{numFiles -> 9, numOutputRows -> 3675412, numOutputBytes -> 80993013}                                                                                                                                                                                                                                         |null        |Apache-Spark/3.3.2 Delta-Lake/2.2.0|\n",
      "|2      |2023-03-12 22:25:56.749|null  |null    |WRITE        |{mode -> Append, partitionBy -> [\"VendorId\"]}                                                                                                                                                                                                                        |null|null    |null     |1          |Serializable  |true         |{numFiles -> 1, numOutputRows -> 3, numOutputBytes -> 5469}                                                                                                                                                                                                                                                   |null        |Apache-Spark/3.3.2 Delta-Lake/2.2.0|\n",
      "|1      |2023-03-12 22:25:44.291|null  |null    |WRITE        |{mode -> Append, partitionBy -> []}                                                                                                                                                                                                                                  |null|null    |null     |0          |Serializable  |true         |{numFiles -> 1, numOutputRows -> 1, numOutputBytes -> 5096}                                                                                                                                                                                                                                                   |null        |Apache-Spark/3.3.2 Delta-Lake/2.2.0|\n",
      "|0      |2023-03-12 22:25:33.126|null  |null    |CREATE TABLE |{isManaged -> false, description -> This table stores ride information for Yellow Taxis, partitionBy -> [\"VendorId\"], properties -> {}}                                                                                                                              |null|null    |null     |null       |Serializable  |true         |{}                                                                                                                                                                                                                                                                                                            |null        |Apache-Spark/3.3.2 Delta-Lake/2.2.0|\n",
      "+-------+-----------------------+------+--------+-------------+---------------------------------------------------------------------------------------------------------------------------------------------------------------------------------------------------------------------------------------------------------------------+----+--------+---------+-----------+--------------+-------------+--------------------------------------------------------------------------------------------------------------------------------------------------------------------------------------------------------------------------------------------------------------------------------------------------------------+------------+-----------------------------------+\n",
      "\n"
     ]
    }
   ],
   "source": [
    "spark.sql(\"\"\"\n",
    "\n",
    "DESCRIBE HISTORY TaxisDB.YellowTaxis\n",
    "\n",
    "\"\"\").show(truncate=False)"
   ]
  },
  {
   "cell_type": "markdown",
   "id": "dd41a2fd",
   "metadata": {},
   "source": [
    "#### CHECK constraint\n",
    "\n",
    "Check constraint helps to enforce certain conditions on the table"
   ]
  },
  {
   "cell_type": "code",
   "execution_count": 38,
   "id": "20f5332b",
   "metadata": {},
   "outputs": [
    {
     "ename": "AnalysisException",
     "evalue": "170881 rows in taxisdb.yellowtaxis violate the new CHECK constraint (PassengerCount <= 5)",
     "output_type": "error",
     "traceback": [
      "\u001b[1;31m---------------------------------------------------------------------------\u001b[0m",
      "\u001b[1;31mAnalysisException\u001b[0m                         Traceback (most recent call last)",
      "Cell \u001b[1;32mIn[38], line 1\u001b[0m\n\u001b[1;32m----> 1\u001b[0m \u001b[43mspark\u001b[49m\u001b[38;5;241;43m.\u001b[39;49m\u001b[43msql\u001b[49m\u001b[43m(\u001b[49m\u001b[38;5;124;43m\"\"\"\u001b[39;49m\n\u001b[0;32m      2\u001b[0m \n\u001b[0;32m      3\u001b[0m \u001b[38;5;124;43mALTER TABLE TaxisDB.YellowTaxis\u001b[39;49m\n\u001b[0;32m      4\u001b[0m \n\u001b[0;32m      5\u001b[0m \u001b[38;5;124;43m    ADD CONSTRAINT PassengerCountCheck CHECK (PassengerCount <= 5)\u001b[39;49m\n\u001b[0;32m      6\u001b[0m \n\u001b[0;32m      7\u001b[0m \u001b[38;5;124;43m\"\"\"\u001b[39;49m\u001b[43m)\u001b[49m\u001b[38;5;241m.\u001b[39mshow()\n",
      "File \u001b[1;32mC:\\Installation\\spark-3.3.2-bin-hadoop3\\python\\pyspark\\sql\\session.py:1034\u001b[0m, in \u001b[0;36mSparkSession.sql\u001b[1;34m(self, sqlQuery, **kwargs)\u001b[0m\n\u001b[0;32m   1032\u001b[0m     sqlQuery \u001b[38;5;241m=\u001b[39m formatter\u001b[38;5;241m.\u001b[39mformat(sqlQuery, \u001b[38;5;241m*\u001b[39m\u001b[38;5;241m*\u001b[39mkwargs)\n\u001b[0;32m   1033\u001b[0m \u001b[38;5;28;01mtry\u001b[39;00m:\n\u001b[1;32m-> 1034\u001b[0m     \u001b[38;5;28;01mreturn\u001b[39;00m DataFrame(\u001b[38;5;28;43mself\u001b[39;49m\u001b[38;5;241;43m.\u001b[39;49m\u001b[43m_jsparkSession\u001b[49m\u001b[38;5;241;43m.\u001b[39;49m\u001b[43msql\u001b[49m\u001b[43m(\u001b[49m\u001b[43msqlQuery\u001b[49m\u001b[43m)\u001b[49m, \u001b[38;5;28mself\u001b[39m)\n\u001b[0;32m   1035\u001b[0m \u001b[38;5;28;01mfinally\u001b[39;00m:\n\u001b[0;32m   1036\u001b[0m     \u001b[38;5;28;01mif\u001b[39;00m \u001b[38;5;28mlen\u001b[39m(kwargs) \u001b[38;5;241m>\u001b[39m \u001b[38;5;241m0\u001b[39m:\n",
      "File \u001b[1;32mC:\\Installation\\spark-3.3.2-bin-hadoop3\\python\\lib\\py4j-0.10.9.5-src.zip\\py4j\\java_gateway.py:1321\u001b[0m, in \u001b[0;36mJavaMember.__call__\u001b[1;34m(self, *args)\u001b[0m\n\u001b[0;32m   1315\u001b[0m command \u001b[38;5;241m=\u001b[39m proto\u001b[38;5;241m.\u001b[39mCALL_COMMAND_NAME \u001b[38;5;241m+\u001b[39m\\\n\u001b[0;32m   1316\u001b[0m     \u001b[38;5;28mself\u001b[39m\u001b[38;5;241m.\u001b[39mcommand_header \u001b[38;5;241m+\u001b[39m\\\n\u001b[0;32m   1317\u001b[0m     args_command \u001b[38;5;241m+\u001b[39m\\\n\u001b[0;32m   1318\u001b[0m     proto\u001b[38;5;241m.\u001b[39mEND_COMMAND_PART\n\u001b[0;32m   1320\u001b[0m answer \u001b[38;5;241m=\u001b[39m \u001b[38;5;28mself\u001b[39m\u001b[38;5;241m.\u001b[39mgateway_client\u001b[38;5;241m.\u001b[39msend_command(command)\n\u001b[1;32m-> 1321\u001b[0m return_value \u001b[38;5;241m=\u001b[39m \u001b[43mget_return_value\u001b[49m\u001b[43m(\u001b[49m\n\u001b[0;32m   1322\u001b[0m \u001b[43m    \u001b[49m\u001b[43manswer\u001b[49m\u001b[43m,\u001b[49m\u001b[43m \u001b[49m\u001b[38;5;28;43mself\u001b[39;49m\u001b[38;5;241;43m.\u001b[39;49m\u001b[43mgateway_client\u001b[49m\u001b[43m,\u001b[49m\u001b[43m \u001b[49m\u001b[38;5;28;43mself\u001b[39;49m\u001b[38;5;241;43m.\u001b[39;49m\u001b[43mtarget_id\u001b[49m\u001b[43m,\u001b[49m\u001b[43m \u001b[49m\u001b[38;5;28;43mself\u001b[39;49m\u001b[38;5;241;43m.\u001b[39;49m\u001b[43mname\u001b[49m\u001b[43m)\u001b[49m\n\u001b[0;32m   1324\u001b[0m \u001b[38;5;28;01mfor\u001b[39;00m temp_arg \u001b[38;5;129;01min\u001b[39;00m temp_args:\n\u001b[0;32m   1325\u001b[0m     temp_arg\u001b[38;5;241m.\u001b[39m_detach()\n",
      "File \u001b[1;32mC:\\Installation\\spark-3.3.2-bin-hadoop3\\python\\pyspark\\sql\\utils.py:196\u001b[0m, in \u001b[0;36mcapture_sql_exception.<locals>.deco\u001b[1;34m(*a, **kw)\u001b[0m\n\u001b[0;32m    192\u001b[0m converted \u001b[38;5;241m=\u001b[39m convert_exception(e\u001b[38;5;241m.\u001b[39mjava_exception)\n\u001b[0;32m    193\u001b[0m \u001b[38;5;28;01mif\u001b[39;00m \u001b[38;5;129;01mnot\u001b[39;00m \u001b[38;5;28misinstance\u001b[39m(converted, UnknownException):\n\u001b[0;32m    194\u001b[0m     \u001b[38;5;66;03m# Hide where the exception came from that shows a non-Pythonic\u001b[39;00m\n\u001b[0;32m    195\u001b[0m     \u001b[38;5;66;03m# JVM exception message.\u001b[39;00m\n\u001b[1;32m--> 196\u001b[0m     \u001b[38;5;28;01mraise\u001b[39;00m converted \u001b[38;5;28;01mfrom\u001b[39;00m \u001b[38;5;28mNone\u001b[39m\n\u001b[0;32m    197\u001b[0m \u001b[38;5;28;01melse\u001b[39;00m:\n\u001b[0;32m    198\u001b[0m     \u001b[38;5;28;01mraise\u001b[39;00m\n",
      "\u001b[1;31mAnalysisException\u001b[0m: 170881 rows in taxisdb.yellowtaxis violate the new CHECK constraint (PassengerCount <= 5)"
     ]
    }
   ],
   "source": [
    "spark.sql(\"\"\"\n",
    "\n",
    "ALTER TABLE TaxisDB.YellowTaxis\n",
    "\n",
    "    ADD CONSTRAINT PassengerCountCheck CHECK (PassengerCount <= 5)\n",
    "\n",
    "\"\"\").show()"
   ]
  },
  {
   "cell_type": "code",
   "execution_count": 39,
   "id": "a2b0f01b",
   "metadata": {},
   "outputs": [
    {
     "data": {
      "text/plain": [
       "DataFrame[]"
      ]
     },
     "execution_count": 39,
     "metadata": {},
     "output_type": "execute_result"
    }
   ],
   "source": [
    "spark.sql(\"\"\"\n",
    "\n",
    "ALTER TABLE TaxisDB.YellowTaxis\n",
    "\n",
    "    ADD CONSTRAINT PassengerCheck CHECK (PassengerCount <= 9 OR PassengerCount IS NULL)\n",
    "\n",
    "\"\"\")"
   ]
  },
  {
   "cell_type": "code",
   "execution_count": 40,
   "id": "6f496f9c",
   "metadata": {},
   "outputs": [
    {
     "ename": "Py4JJavaError",
     "evalue": "An error occurred while calling o36.sql.\n: org.apache.spark.sql.delta.schema.DeltaInvariantViolationException: CHECK constraint passengercheck ((PassengerCount <= 9) OR (PassengerCount IS NULL)) violated by row with values:\n - PassengerCount : 20.0\r\n\tat org.apache.spark.sql.delta.schema.DeltaInvariantViolationException$.apply(InvariantViolationException.scala:60)\r\n\tat org.apache.spark.sql.delta.schema.DeltaInvariantViolationException$.apply(InvariantViolationException.scala:70)\r\n\tat org.apache.spark.sql.delta.schema.DeltaInvariantViolationException.apply(InvariantViolationException.scala)\r\n\tat org.apache.spark.sql.catalyst.expressions.GeneratedClass$SpecificUnsafeProjection.apply(Unknown Source)\r\n\tat org.apache.spark.sql.delta.constraints.DeltaInvariantCheckerExec.$anonfun$doExecute$3(DeltaInvariantCheckerExec.scala:80)\r\n\tat scala.collection.Iterator$$anon$10.next(Iterator.scala:461)\r\n\tat org.apache.spark.sql.execution.UnsafeExternalRowSorter.sort(UnsafeExternalRowSorter.java:226)\r\n\tat org.apache.spark.sql.execution.SortExec.$anonfun$doExecute$1(SortExec.scala:119)\r\n\tat org.apache.spark.rdd.RDD.$anonfun$mapPartitionsInternal$2(RDD.scala:890)\r\n\tat org.apache.spark.rdd.RDD.$anonfun$mapPartitionsInternal$2$adapted(RDD.scala:890)\r\n\tat org.apache.spark.rdd.MapPartitionsRDD.compute(MapPartitionsRDD.scala:52)\r\n\tat org.apache.spark.rdd.RDD.computeOrReadCheckpoint(RDD.scala:365)\r\n\tat org.apache.spark.rdd.RDD.iterator(RDD.scala:329)\r\n\tat org.apache.spark.scheduler.ResultTask.runTask(ResultTask.scala:90)\r\n\tat org.apache.spark.scheduler.Task.run(Task.scala:136)\r\n\tat org.apache.spark.executor.Executor$TaskRunner.$anonfun$run$3(Executor.scala:548)\r\n\tat org.apache.spark.util.Utils$.tryWithSafeFinally(Utils.scala:1504)\r\n\tat org.apache.spark.executor.Executor$TaskRunner.run(Executor.scala:551)\r\n\tat java.base/java.util.concurrent.ThreadPoolExecutor.runWorker(ThreadPoolExecutor.java:1136)\r\n\tat java.base/java.util.concurrent.ThreadPoolExecutor$Worker.run(ThreadPoolExecutor.java:635)\r\n\tat java.base/java.lang.Thread.run(Thread.java:833)\r\n",
     "output_type": "error",
     "traceback": [
      "\u001b[1;31m---------------------------------------------------------------------------\u001b[0m",
      "\u001b[1;31mPy4JJavaError\u001b[0m                             Traceback (most recent call last)",
      "Cell \u001b[1;32mIn[40], line 1\u001b[0m\n\u001b[1;32m----> 1\u001b[0m \u001b[43mspark\u001b[49m\u001b[38;5;241;43m.\u001b[39;49m\u001b[43msql\u001b[49m\u001b[43m(\u001b[49m\u001b[38;5;124;43m\"\"\"\u001b[39;49m\n\u001b[0;32m      2\u001b[0m \n\u001b[0;32m      3\u001b[0m \u001b[38;5;124;43mINSERT INTO TaxisDB.YellowTaxis\u001b[39;49m\n\u001b[0;32m      4\u001b[0m \n\u001b[0;32m      5\u001b[0m \u001b[38;5;124;43m--(VendorId, PickupTime, DropTime, PickupLocationId, DropLocationId, PassengerCount, TripDistance, RateCodeId, StoreAndFwdFlag, PaymentType, FareAmount, Extra, MtaTax, TipAmount, TollsAmount, ImprovementSurcharge, TotalAmount, CongestionSurcharge, AirportFee)\u001b[39;49m\n\u001b[0;32m      6\u001b[0m \n\u001b[0;32m      7\u001b[0m \u001b[38;5;124;43mVALUES (3, \u001b[39;49m\u001b[38;5;124;43m'\u001b[39;49m\u001b[38;5;124;43m2022-12-01T00:00:00.000Z\u001b[39;49m\u001b[38;5;124;43m'\u001b[39;49m\u001b[38;5;124;43m, \u001b[39;49m\u001b[38;5;124;43m'\u001b[39;49m\u001b[38;5;124;43m2022-12-01T00:15:34.000Z\u001b[39;49m\u001b[38;5;124;43m'\u001b[39;49m\u001b[38;5;124;43m, 170, 140, \u001b[39;49m\n\u001b[0;32m      8\u001b[0m \n\u001b[0;32m      9\u001b[0m \u001b[38;5;124;43m        20,  -- PassengerCount\u001b[39;49m\n\u001b[0;32m     10\u001b[0m \n\u001b[0;32m     11\u001b[0m \u001b[38;5;124;43m        2.9, 1.0, \u001b[39;49m\u001b[38;5;124;43m'\u001b[39;49m\u001b[38;5;124;43m1\u001b[39;49m\u001b[38;5;124;43m'\u001b[39;49m\u001b[38;5;124;43m, 1, 13.0, 0.5, 0.5, 1.0, 0.0, 0.3, 15.3, 0.0, 0.0)\u001b[39;49m\n\u001b[0;32m     12\u001b[0m \n\u001b[0;32m     13\u001b[0m \u001b[38;5;124;43m\"\"\"\u001b[39;49m\u001b[43m)\u001b[49m\n",
      "File \u001b[1;32mC:\\Installation\\spark-3.3.2-bin-hadoop3\\python\\pyspark\\sql\\session.py:1034\u001b[0m, in \u001b[0;36mSparkSession.sql\u001b[1;34m(self, sqlQuery, **kwargs)\u001b[0m\n\u001b[0;32m   1032\u001b[0m     sqlQuery \u001b[38;5;241m=\u001b[39m formatter\u001b[38;5;241m.\u001b[39mformat(sqlQuery, \u001b[38;5;241m*\u001b[39m\u001b[38;5;241m*\u001b[39mkwargs)\n\u001b[0;32m   1033\u001b[0m \u001b[38;5;28;01mtry\u001b[39;00m:\n\u001b[1;32m-> 1034\u001b[0m     \u001b[38;5;28;01mreturn\u001b[39;00m DataFrame(\u001b[38;5;28;43mself\u001b[39;49m\u001b[38;5;241;43m.\u001b[39;49m\u001b[43m_jsparkSession\u001b[49m\u001b[38;5;241;43m.\u001b[39;49m\u001b[43msql\u001b[49m\u001b[43m(\u001b[49m\u001b[43msqlQuery\u001b[49m\u001b[43m)\u001b[49m, \u001b[38;5;28mself\u001b[39m)\n\u001b[0;32m   1035\u001b[0m \u001b[38;5;28;01mfinally\u001b[39;00m:\n\u001b[0;32m   1036\u001b[0m     \u001b[38;5;28;01mif\u001b[39;00m \u001b[38;5;28mlen\u001b[39m(kwargs) \u001b[38;5;241m>\u001b[39m \u001b[38;5;241m0\u001b[39m:\n",
      "File \u001b[1;32mC:\\Installation\\spark-3.3.2-bin-hadoop3\\python\\lib\\py4j-0.10.9.5-src.zip\\py4j\\java_gateway.py:1321\u001b[0m, in \u001b[0;36mJavaMember.__call__\u001b[1;34m(self, *args)\u001b[0m\n\u001b[0;32m   1315\u001b[0m command \u001b[38;5;241m=\u001b[39m proto\u001b[38;5;241m.\u001b[39mCALL_COMMAND_NAME \u001b[38;5;241m+\u001b[39m\\\n\u001b[0;32m   1316\u001b[0m     \u001b[38;5;28mself\u001b[39m\u001b[38;5;241m.\u001b[39mcommand_header \u001b[38;5;241m+\u001b[39m\\\n\u001b[0;32m   1317\u001b[0m     args_command \u001b[38;5;241m+\u001b[39m\\\n\u001b[0;32m   1318\u001b[0m     proto\u001b[38;5;241m.\u001b[39mEND_COMMAND_PART\n\u001b[0;32m   1320\u001b[0m answer \u001b[38;5;241m=\u001b[39m \u001b[38;5;28mself\u001b[39m\u001b[38;5;241m.\u001b[39mgateway_client\u001b[38;5;241m.\u001b[39msend_command(command)\n\u001b[1;32m-> 1321\u001b[0m return_value \u001b[38;5;241m=\u001b[39m \u001b[43mget_return_value\u001b[49m\u001b[43m(\u001b[49m\n\u001b[0;32m   1322\u001b[0m \u001b[43m    \u001b[49m\u001b[43manswer\u001b[49m\u001b[43m,\u001b[49m\u001b[43m \u001b[49m\u001b[38;5;28;43mself\u001b[39;49m\u001b[38;5;241;43m.\u001b[39;49m\u001b[43mgateway_client\u001b[49m\u001b[43m,\u001b[49m\u001b[43m \u001b[49m\u001b[38;5;28;43mself\u001b[39;49m\u001b[38;5;241;43m.\u001b[39;49m\u001b[43mtarget_id\u001b[49m\u001b[43m,\u001b[49m\u001b[43m \u001b[49m\u001b[38;5;28;43mself\u001b[39;49m\u001b[38;5;241;43m.\u001b[39;49m\u001b[43mname\u001b[49m\u001b[43m)\u001b[49m\n\u001b[0;32m   1324\u001b[0m \u001b[38;5;28;01mfor\u001b[39;00m temp_arg \u001b[38;5;129;01min\u001b[39;00m temp_args:\n\u001b[0;32m   1325\u001b[0m     temp_arg\u001b[38;5;241m.\u001b[39m_detach()\n",
      "File \u001b[1;32mC:\\Installation\\spark-3.3.2-bin-hadoop3\\python\\pyspark\\sql\\utils.py:190\u001b[0m, in \u001b[0;36mcapture_sql_exception.<locals>.deco\u001b[1;34m(*a, **kw)\u001b[0m\n\u001b[0;32m    188\u001b[0m \u001b[38;5;28;01mdef\u001b[39;00m \u001b[38;5;21mdeco\u001b[39m(\u001b[38;5;241m*\u001b[39ma: Any, \u001b[38;5;241m*\u001b[39m\u001b[38;5;241m*\u001b[39mkw: Any) \u001b[38;5;241m-\u001b[39m\u001b[38;5;241m>\u001b[39m Any:\n\u001b[0;32m    189\u001b[0m     \u001b[38;5;28;01mtry\u001b[39;00m:\n\u001b[1;32m--> 190\u001b[0m         \u001b[38;5;28;01mreturn\u001b[39;00m f(\u001b[38;5;241m*\u001b[39ma, \u001b[38;5;241m*\u001b[39m\u001b[38;5;241m*\u001b[39mkw)\n\u001b[0;32m    191\u001b[0m     \u001b[38;5;28;01mexcept\u001b[39;00m Py4JJavaError \u001b[38;5;28;01mas\u001b[39;00m e:\n\u001b[0;32m    192\u001b[0m         converted \u001b[38;5;241m=\u001b[39m convert_exception(e\u001b[38;5;241m.\u001b[39mjava_exception)\n",
      "File \u001b[1;32mC:\\Installation\\spark-3.3.2-bin-hadoop3\\python\\lib\\py4j-0.10.9.5-src.zip\\py4j\\protocol.py:326\u001b[0m, in \u001b[0;36mget_return_value\u001b[1;34m(answer, gateway_client, target_id, name)\u001b[0m\n\u001b[0;32m    324\u001b[0m value \u001b[38;5;241m=\u001b[39m OUTPUT_CONVERTER[\u001b[38;5;28mtype\u001b[39m](answer[\u001b[38;5;241m2\u001b[39m:], gateway_client)\n\u001b[0;32m    325\u001b[0m \u001b[38;5;28;01mif\u001b[39;00m answer[\u001b[38;5;241m1\u001b[39m] \u001b[38;5;241m==\u001b[39m REFERENCE_TYPE:\n\u001b[1;32m--> 326\u001b[0m     \u001b[38;5;28;01mraise\u001b[39;00m Py4JJavaError(\n\u001b[0;32m    327\u001b[0m         \u001b[38;5;124m\"\u001b[39m\u001b[38;5;124mAn error occurred while calling \u001b[39m\u001b[38;5;132;01m{0}\u001b[39;00m\u001b[38;5;132;01m{1}\u001b[39;00m\u001b[38;5;132;01m{2}\u001b[39;00m\u001b[38;5;124m.\u001b[39m\u001b[38;5;130;01m\\n\u001b[39;00m\u001b[38;5;124m\"\u001b[39m\u001b[38;5;241m.\u001b[39m\n\u001b[0;32m    328\u001b[0m         \u001b[38;5;28mformat\u001b[39m(target_id, \u001b[38;5;124m\"\u001b[39m\u001b[38;5;124m.\u001b[39m\u001b[38;5;124m\"\u001b[39m, name), value)\n\u001b[0;32m    329\u001b[0m \u001b[38;5;28;01melse\u001b[39;00m:\n\u001b[0;32m    330\u001b[0m     \u001b[38;5;28;01mraise\u001b[39;00m Py4JError(\n\u001b[0;32m    331\u001b[0m         \u001b[38;5;124m\"\u001b[39m\u001b[38;5;124mAn error occurred while calling \u001b[39m\u001b[38;5;132;01m{0}\u001b[39;00m\u001b[38;5;132;01m{1}\u001b[39;00m\u001b[38;5;132;01m{2}\u001b[39;00m\u001b[38;5;124m. Trace:\u001b[39m\u001b[38;5;130;01m\\n\u001b[39;00m\u001b[38;5;132;01m{3}\u001b[39;00m\u001b[38;5;130;01m\\n\u001b[39;00m\u001b[38;5;124m\"\u001b[39m\u001b[38;5;241m.\u001b[39m\n\u001b[0;32m    332\u001b[0m         \u001b[38;5;28mformat\u001b[39m(target_id, \u001b[38;5;124m\"\u001b[39m\u001b[38;5;124m.\u001b[39m\u001b[38;5;124m\"\u001b[39m, name, value))\n",
      "\u001b[1;31mPy4JJavaError\u001b[0m: An error occurred while calling o36.sql.\n: org.apache.spark.sql.delta.schema.DeltaInvariantViolationException: CHECK constraint passengercheck ((PassengerCount <= 9) OR (PassengerCount IS NULL)) violated by row with values:\n - PassengerCount : 20.0\r\n\tat org.apache.spark.sql.delta.schema.DeltaInvariantViolationException$.apply(InvariantViolationException.scala:60)\r\n\tat org.apache.spark.sql.delta.schema.DeltaInvariantViolationException$.apply(InvariantViolationException.scala:70)\r\n\tat org.apache.spark.sql.delta.schema.DeltaInvariantViolationException.apply(InvariantViolationException.scala)\r\n\tat org.apache.spark.sql.catalyst.expressions.GeneratedClass$SpecificUnsafeProjection.apply(Unknown Source)\r\n\tat org.apache.spark.sql.delta.constraints.DeltaInvariantCheckerExec.$anonfun$doExecute$3(DeltaInvariantCheckerExec.scala:80)\r\n\tat scala.collection.Iterator$$anon$10.next(Iterator.scala:461)\r\n\tat org.apache.spark.sql.execution.UnsafeExternalRowSorter.sort(UnsafeExternalRowSorter.java:226)\r\n\tat org.apache.spark.sql.execution.SortExec.$anonfun$doExecute$1(SortExec.scala:119)\r\n\tat org.apache.spark.rdd.RDD.$anonfun$mapPartitionsInternal$2(RDD.scala:890)\r\n\tat org.apache.spark.rdd.RDD.$anonfun$mapPartitionsInternal$2$adapted(RDD.scala:890)\r\n\tat org.apache.spark.rdd.MapPartitionsRDD.compute(MapPartitionsRDD.scala:52)\r\n\tat org.apache.spark.rdd.RDD.computeOrReadCheckpoint(RDD.scala:365)\r\n\tat org.apache.spark.rdd.RDD.iterator(RDD.scala:329)\r\n\tat org.apache.spark.scheduler.ResultTask.runTask(ResultTask.scala:90)\r\n\tat org.apache.spark.scheduler.Task.run(Task.scala:136)\r\n\tat org.apache.spark.executor.Executor$TaskRunner.$anonfun$run$3(Executor.scala:548)\r\n\tat org.apache.spark.util.Utils$.tryWithSafeFinally(Utils.scala:1504)\r\n\tat org.apache.spark.executor.Executor$TaskRunner.run(Executor.scala:551)\r\n\tat java.base/java.util.concurrent.ThreadPoolExecutor.runWorker(ThreadPoolExecutor.java:1136)\r\n\tat java.base/java.util.concurrent.ThreadPoolExecutor$Worker.run(ThreadPoolExecutor.java:635)\r\n\tat java.base/java.lang.Thread.run(Thread.java:833)\r\n"
     ]
    }
   ],
   "source": [
    "spark.sql(\"\"\"\n",
    "\n",
    "INSERT INTO TaxisDB.YellowTaxis\n",
    "\n",
    "--(VendorId, PickupTime, DropTime, PickupLocationId, DropLocationId, PassengerCount, TripDistance, RateCodeId, StoreAndFwdFlag, PaymentType, FareAmount, Extra, MtaTax, TipAmount, TollsAmount, ImprovementSurcharge, TotalAmount, CongestionSurcharge, AirportFee)\n",
    "\n",
    "VALUES (3, '2022-12-01T00:00:00.000Z', '2022-12-01T00:15:34.000Z', 170, 140, \n",
    "\n",
    "        20,  -- PassengerCount\n",
    "\n",
    "        2.9, 1.0, '1', 1, 13.0, 0.5, 0.5, 1.0, 0.0, 0.3, 15.3, 0.0, 0.0)\n",
    "\n",
    "\"\"\")"
   ]
  },
  {
   "cell_type": "code",
   "execution_count": 42,
   "id": "512a6de7",
   "metadata": {},
   "outputs": [
    {
     "data": {
      "text/plain": [
       "DataFrame[]"
      ]
     },
     "execution_count": 42,
     "metadata": {},
     "output_type": "execute_result"
    }
   ],
   "source": [
    "spark.sql(\"\"\"\n",
    "\n",
    "ALTER TABLE TaxisDB.YellowTaxis\n",
    "\n",
    "    DROP CONSTRAINT PassengerCheck\n",
    "\n",
    "\"\"\")"
   ]
  },
  {
   "cell_type": "code",
   "execution_count": 43,
   "id": "f16431ca",
   "metadata": {},
   "outputs": [
    {
     "name": "stdout",
     "output_type": "stream",
     "text": [
      "+-------+-----------------------+------+--------+---------------+---------------------------------------------------------------------------------------------------------------------------------------------------------------------------------------------------------------------------------------------------------------------+----+--------+---------+-----------+--------------+-------------+--------------------------------------------------------------------------------------------------------------------------------------------------------------------------------------------------------------------------------------------------------------------------------------------------------------+------------+-----------------------------------+\n",
      "|version|timestamp              |userId|userName|operation      |operationParameters                                                                                                                                                                                                                                                  |job |notebook|clusterId|readVersion|isolationLevel|isBlindAppend|operationMetrics                                                                                                                                                                                                                                                                                              |userMetadata|engineInfo                         |\n",
      "+-------+-----------------------+------+--------+---------------+---------------------------------------------------------------------------------------------------------------------------------------------------------------------------------------------------------------------------------------------------------------------+----+--------+---------+-----------+--------------+-------------+--------------------------------------------------------------------------------------------------------------------------------------------------------------------------------------------------------------------------------------------------------------------------------------------------------------+------------+-----------------------------------+\n",
      "|9      |2023-03-12 22:40:42.486|null  |null    |DROP CONSTRAINT|{name -> PassengerCheck, expr -> PassengerCount <= 9 OR PassengerCount IS NULL, existed -> true}                                                                                                                                                                     |null|null    |null     |8          |Serializable  |true         |{}                                                                                                                                                                                                                                                                                                            |null        |Apache-Spark/3.3.2 Delta-Lake/2.2.0|\n",
      "|8      |2023-03-12 22:39:04.071|null  |null    |ADD CONSTRAINT |{name -> PassengerCheck, expr -> PassengerCount <= 9 OR PassengerCount IS NULL}                                                                                                                                                                                      |null|null    |null     |7          |Serializable  |false        |{}                                                                                                                                                                                                                                                                                                            |null        |Apache-Spark/3.3.2 Delta-Lake/2.2.0|\n",
      "|7      |2023-03-12 22:37:36.529|null  |null    |CHANGE COLUMN  |{column -> {\"name\":\"PickupLocationId\",\"type\":\"integer\",\"nullable\":true,\"metadata\":{}}}                                                                                                                                                                               |null|null    |null     |6          |Serializable  |true         |{}                                                                                                                                                                                                                                                                                                            |null        |Apache-Spark/3.3.2 Delta-Lake/2.2.0|\n",
      "|6      |2023-03-12 22:36:38.649|null  |null    |MERGE          |{predicate -> ((tgt.VendorId = src.VendorId) AND (tgt.PickupLocationId = src.PickupLocationId)), matchedPredicates -> [{\"actionType\":\"update\"}], notMatchedPredicates -> [{\"predicate\":\"(src.PickupTime >= TIMESTAMP '2022-03-01 00:00:00')\",\"actionType\":\"insert\"}]}|null|null    |null     |5          |Serializable  |false        |{numTargetRowsCopied -> 0, numTargetRowsDeleted -> 0, numTargetFilesAdded -> 1, executionTimeMs -> 2457, numTargetRowsInserted -> 1, scanTimeMs -> 1211, numTargetRowsUpdated -> 3, numOutputRows -> 4, numTargetChangeFilesAdded -> 0, numSourceRows -> 4, numTargetFilesRemoved -> 2, rewriteTimeMs -> 1149}|null        |Apache-Spark/3.3.2 Delta-Lake/2.2.0|\n",
      "|5      |2023-03-12 22:33:18.096|null  |null    |DELETE         |{predicate -> [\"((spark_catalog.TaxisDB.YellowTaxis.VendorId = 3) AND (spark_catalog.TaxisDB.YellowTaxis.PickupLocationId = 151))\"]}                                                                                                                                 |null|null    |null     |4          |Serializable  |false        |{numRemovedFiles -> 1, numCopiedRows -> 2, numAddedChangeFiles -> 0, executionTimeMs -> 730, numDeletedRows -> 1, scanTimeMs -> 457, numAddedFiles -> 1, rewriteTimeMs -> 272}                                                                                                                                |null        |Apache-Spark/3.3.2 Delta-Lake/2.2.0|\n",
      "|4      |2023-03-12 22:29:22.231|null  |null    |UPDATE         |{predicate -> ((VendorId#7797 = 3) AND (PickupLocationId#7800 = 249))}                                                                                                                                                                                               |null|null    |null     |3          |Serializable  |false        |{numRemovedFiles -> 1, numCopiedRows -> 2, numAddedChangeFiles -> 0, executionTimeMs -> 1200, scanTimeMs -> 882, numAddedFiles -> 1, numUpdatedRows -> 1, rewriteTimeMs -> 310}                                                                                                                               |null        |Apache-Spark/3.3.2 Delta-Lake/2.2.0|\n",
      "|3      |2023-03-12 22:27:26.802|null  |null    |WRITE          |{mode -> Append, partitionBy -> [\"VendorId\"]}                                                                                                                                                                                                                        |null|null    |null     |2          |Serializable  |true         |{numFiles -> 9, numOutputRows -> 3675412, numOutputBytes -> 80993013}                                                                                                                                                                                                                                         |null        |Apache-Spark/3.3.2 Delta-Lake/2.2.0|\n",
      "|2      |2023-03-12 22:25:56.749|null  |null    |WRITE          |{mode -> Append, partitionBy -> [\"VendorId\"]}                                                                                                                                                                                                                        |null|null    |null     |1          |Serializable  |true         |{numFiles -> 1, numOutputRows -> 3, numOutputBytes -> 5469}                                                                                                                                                                                                                                                   |null        |Apache-Spark/3.3.2 Delta-Lake/2.2.0|\n",
      "|1      |2023-03-12 22:25:44.291|null  |null    |WRITE          |{mode -> Append, partitionBy -> []}                                                                                                                                                                                                                                  |null|null    |null     |0          |Serializable  |true         |{numFiles -> 1, numOutputRows -> 1, numOutputBytes -> 5096}                                                                                                                                                                                                                                                   |null        |Apache-Spark/3.3.2 Delta-Lake/2.2.0|\n",
      "|0      |2023-03-12 22:25:33.126|null  |null    |CREATE TABLE   |{isManaged -> false, description -> This table stores ride information for Yellow Taxis, partitionBy -> [\"VendorId\"], properties -> {}}                                                                                                                              |null|null    |null     |null       |Serializable  |true         |{}                                                                                                                                                                                                                                                                                                            |null        |Apache-Spark/3.3.2 Delta-Lake/2.2.0|\n",
      "+-------+-----------------------+------+--------+---------------+---------------------------------------------------------------------------------------------------------------------------------------------------------------------------------------------------------------------------------------------------------------------+----+--------+---------+-----------+--------------+-------------+--------------------------------------------------------------------------------------------------------------------------------------------------------------------------------------------------------------------------------------------------------------------------------------------------------------+------------+-----------------------------------+\n",
      "\n"
     ]
    }
   ],
   "source": [
    "spark.sql(\"\"\"\n",
    "\n",
    "DESCRIBE HISTORY TaxisDB.YellowTaxis\n",
    "\n",
    "\"\"\").show(truncate=False)"
   ]
  },
  {
   "cell_type": "markdown",
   "id": "5aac57f5",
   "metadata": {},
   "source": [
    "### Update a record"
   ]
  },
  {
   "cell_type": "code",
   "execution_count": 44,
   "id": "9316e360",
   "metadata": {},
   "outputs": [
    {
     "name": "stdout",
     "output_type": "stream",
     "text": [
      "+--------------+\n",
      "|PassengerCount|\n",
      "+--------------+\n",
      "|           0.0|\n",
      "+--------------+\n",
      "\n"
     ]
    }
   ],
   "source": [
    "# Check passenger count before update\n",
    "\n",
    "spark.sql(\"\"\"\n",
    "\n",
    "SELECT PassengerCount\n",
    "\n",
    "FROM TaxisDB.YellowTaxis\n",
    "\n",
    "WHERE VendorId = 3\n",
    "    AND PickupLocationId = 1\n",
    "\n",
    "\"\"\").show()"
   ]
  },
  {
   "cell_type": "code",
   "execution_count": 45,
   "id": "e145c7b4",
   "metadata": {},
   "outputs": [
    {
     "name": "stdout",
     "output_type": "stream",
     "text": [
      "+-----------------+\n",
      "|num_affected_rows|\n",
      "+-----------------+\n",
      "|                1|\n",
      "+-----------------+\n",
      "\n"
     ]
    }
   ],
   "source": [
    "# Update passenger count\n",
    "\n",
    "spark.sql(\"\"\"\n",
    "\n",
    "UPDATE TaxisDB.YellowTaxis\n",
    "\n",
    "SET PassengerCount = 1\n",
    "\n",
    "WHERE VendorId = 3\n",
    "    AND PickupLocationId = 1\n",
    "\n",
    "\"\"\").show()"
   ]
  },
  {
   "cell_type": "code",
   "execution_count": 46,
   "id": "69b5c641",
   "metadata": {},
   "outputs": [
    {
     "name": "stdout",
     "output_type": "stream",
     "text": [
      "+-------+-----------------------+------+--------+---------------+---------------------------------------------------------------------------------------------------------------------------------------------------------------------------------------------------------------------------------------------------------------------+----+--------+---------+-----------+--------------+-------------+--------------------------------------------------------------------------------------------------------------------------------------------------------------------------------------------------------------------------------------------------------------------------------------------------------------+------------+-----------------------------------+\n",
      "|version|timestamp              |userId|userName|operation      |operationParameters                                                                                                                                                                                                                                                  |job |notebook|clusterId|readVersion|isolationLevel|isBlindAppend|operationMetrics                                                                                                                                                                                                                                                                                              |userMetadata|engineInfo                         |\n",
      "+-------+-----------------------+------+--------+---------------+---------------------------------------------------------------------------------------------------------------------------------------------------------------------------------------------------------------------------------------------------------------------+----+--------+---------+-----------+--------------+-------------+--------------------------------------------------------------------------------------------------------------------------------------------------------------------------------------------------------------------------------------------------------------------------------------------------------------+------------+-----------------------------------+\n",
      "|10     |2023-03-12 22:41:51.211|null  |null    |UPDATE         |{predicate -> ((VendorId#15194 = 3) AND (PickupLocationId#15197 = 1))}                                                                                                                                                                                               |null|null    |null     |9          |Serializable  |false        |{numRemovedFiles -> 1, numCopiedRows -> 3, numAddedChangeFiles -> 0, executionTimeMs -> 773, scanTimeMs -> 535, numAddedFiles -> 1, numUpdatedRows -> 1, rewriteTimeMs -> 238}                                                                                                                                |null        |Apache-Spark/3.3.2 Delta-Lake/2.2.0|\n",
      "|9      |2023-03-12 22:40:42.486|null  |null    |DROP CONSTRAINT|{name -> PassengerCheck, expr -> PassengerCount <= 9 OR PassengerCount IS NULL, existed -> true}                                                                                                                                                                     |null|null    |null     |8          |Serializable  |true         |{}                                                                                                                                                                                                                                                                                                            |null        |Apache-Spark/3.3.2 Delta-Lake/2.2.0|\n",
      "|8      |2023-03-12 22:39:04.071|null  |null    |ADD CONSTRAINT |{name -> PassengerCheck, expr -> PassengerCount <= 9 OR PassengerCount IS NULL}                                                                                                                                                                                      |null|null    |null     |7          |Serializable  |false        |{}                                                                                                                                                                                                                                                                                                            |null        |Apache-Spark/3.3.2 Delta-Lake/2.2.0|\n",
      "|7      |2023-03-12 22:37:36.529|null  |null    |CHANGE COLUMN  |{column -> {\"name\":\"PickupLocationId\",\"type\":\"integer\",\"nullable\":true,\"metadata\":{}}}                                                                                                                                                                               |null|null    |null     |6          |Serializable  |true         |{}                                                                                                                                                                                                                                                                                                            |null        |Apache-Spark/3.3.2 Delta-Lake/2.2.0|\n",
      "|6      |2023-03-12 22:36:38.649|null  |null    |MERGE          |{predicate -> ((tgt.VendorId = src.VendorId) AND (tgt.PickupLocationId = src.PickupLocationId)), matchedPredicates -> [{\"actionType\":\"update\"}], notMatchedPredicates -> [{\"predicate\":\"(src.PickupTime >= TIMESTAMP '2022-03-01 00:00:00')\",\"actionType\":\"insert\"}]}|null|null    |null     |5          |Serializable  |false        |{numTargetRowsCopied -> 0, numTargetRowsDeleted -> 0, numTargetFilesAdded -> 1, executionTimeMs -> 2457, numTargetRowsInserted -> 1, scanTimeMs -> 1211, numTargetRowsUpdated -> 3, numOutputRows -> 4, numTargetChangeFilesAdded -> 0, numSourceRows -> 4, numTargetFilesRemoved -> 2, rewriteTimeMs -> 1149}|null        |Apache-Spark/3.3.2 Delta-Lake/2.2.0|\n",
      "|5      |2023-03-12 22:33:18.096|null  |null    |DELETE         |{predicate -> [\"((spark_catalog.TaxisDB.YellowTaxis.VendorId = 3) AND (spark_catalog.TaxisDB.YellowTaxis.PickupLocationId = 151))\"]}                                                                                                                                 |null|null    |null     |4          |Serializable  |false        |{numRemovedFiles -> 1, numCopiedRows -> 2, numAddedChangeFiles -> 0, executionTimeMs -> 730, numDeletedRows -> 1, scanTimeMs -> 457, numAddedFiles -> 1, rewriteTimeMs -> 272}                                                                                                                                |null        |Apache-Spark/3.3.2 Delta-Lake/2.2.0|\n",
      "|4      |2023-03-12 22:29:22.231|null  |null    |UPDATE         |{predicate -> ((VendorId#7797 = 3) AND (PickupLocationId#7800 = 249))}                                                                                                                                                                                               |null|null    |null     |3          |Serializable  |false        |{numRemovedFiles -> 1, numCopiedRows -> 2, numAddedChangeFiles -> 0, executionTimeMs -> 1200, scanTimeMs -> 882, numAddedFiles -> 1, numUpdatedRows -> 1, rewriteTimeMs -> 310}                                                                                                                               |null        |Apache-Spark/3.3.2 Delta-Lake/2.2.0|\n",
      "|3      |2023-03-12 22:27:26.802|null  |null    |WRITE          |{mode -> Append, partitionBy -> [\"VendorId\"]}                                                                                                                                                                                                                        |null|null    |null     |2          |Serializable  |true         |{numFiles -> 9, numOutputRows -> 3675412, numOutputBytes -> 80993013}                                                                                                                                                                                                                                         |null        |Apache-Spark/3.3.2 Delta-Lake/2.2.0|\n",
      "|2      |2023-03-12 22:25:56.749|null  |null    |WRITE          |{mode -> Append, partitionBy -> [\"VendorId\"]}                                                                                                                                                                                                                        |null|null    |null     |1          |Serializable  |true         |{numFiles -> 1, numOutputRows -> 3, numOutputBytes -> 5469}                                                                                                                                                                                                                                                   |null        |Apache-Spark/3.3.2 Delta-Lake/2.2.0|\n",
      "|1      |2023-03-12 22:25:44.291|null  |null    |WRITE          |{mode -> Append, partitionBy -> []}                                                                                                                                                                                                                                  |null|null    |null     |0          |Serializable  |true         |{numFiles -> 1, numOutputRows -> 1, numOutputBytes -> 5096}                                                                                                                                                                                                                                                   |null        |Apache-Spark/3.3.2 Delta-Lake/2.2.0|\n",
      "|0      |2023-03-12 22:25:33.126|null  |null    |CREATE TABLE   |{isManaged -> false, description -> This table stores ride information for Yellow Taxis, partitionBy -> [\"VendorId\"], properties -> {}}                                                                                                                              |null|null    |null     |null       |Serializable  |true         |{}                                                                                                                                                                                                                                                                                                            |null        |Apache-Spark/3.3.2 Delta-Lake/2.2.0|\n",
      "+-------+-----------------------+------+--------+---------------+---------------------------------------------------------------------------------------------------------------------------------------------------------------------------------------------------------------------------------------------------------------------+----+--------+---------+-----------+--------------+-------------+--------------------------------------------------------------------------------------------------------------------------------------------------------------------------------------------------------------------------------------------------------------------------------------------------------------+------------+-----------------------------------+\n",
      "\n"
     ]
    }
   ],
   "source": [
    "spark.sql(\"\"\"\n",
    "\n",
    "DESCRIBE HISTORY TaxisDB.YellowTaxis\n",
    "\n",
    "\"\"\").show(truncate=False)"
   ]
  },
  {
   "cell_type": "markdown",
   "id": "691fb04c",
   "metadata": {},
   "source": [
    "### Time Travel: Access using Version Number"
   ]
  },
  {
   "cell_type": "code",
   "execution_count": 47,
   "id": "6e2a1945",
   "metadata": {},
   "outputs": [
    {
     "name": "stdout",
     "output_type": "stream",
     "text": [
      "+--------------+\n",
      "|PassengerCount|\n",
      "+--------------+\n",
      "+--------------+\n",
      "\n"
     ]
    }
   ],
   "source": [
    "# Check at initial version\n",
    "\n",
    "spark.sql(\"\"\"\n",
    "\n",
    "SELECT PassengerCount\n",
    "\n",
    "FROM TaxisDB.YellowTaxis        VERSION AS OF 0\n",
    "\n",
    "WHERE VendorId = 3\n",
    "    AND PickupLocationId = 1\n",
    "\n",
    "\"\"\").show(truncate=False)"
   ]
  },
  {
   "cell_type": "code",
   "execution_count": 48,
   "id": "2f35f1de",
   "metadata": {},
   "outputs": [
    {
     "name": "stdout",
     "output_type": "stream",
     "text": [
      "+--------------+\n",
      "|PassengerCount|\n",
      "+--------------+\n",
      "|0.0           |\n",
      "+--------------+\n",
      "\n"
     ]
    }
   ],
   "source": [
    "# Check at one prior version\n",
    "\n",
    "spark.sql(\"\"\"\n",
    "\n",
    "SELECT PassengerCount\n",
    "\n",
    "FROM TaxisDB.YellowTaxis        VERSION AS OF 9\n",
    "\n",
    "WHERE VendorId = 3\n",
    "    AND PickupLocationId = 1\n",
    "\n",
    "\"\"\").show(truncate=False)"
   ]
  },
  {
   "cell_type": "markdown",
   "id": "dda55aa4",
   "metadata": {},
   "source": [
    "### Time Travel: Access using Timestamp"
   ]
  },
  {
   "cell_type": "code",
   "execution_count": 49,
   "id": "4f970a1b",
   "metadata": {},
   "outputs": [
    {
     "name": "stdout",
     "output_type": "stream",
     "text": [
      "+--------------+\n",
      "|PassengerCount|\n",
      "+--------------+\n",
      "|0.0           |\n",
      "+--------------+\n",
      "\n"
     ]
    }
   ],
   "source": [
    "spark.sql(\"\"\"\n",
    "\n",
    "SELECT PassengerCount\n",
    "\n",
    "FROM TaxisDB.YellowTaxis        TIMESTAMP AS OF '2023-03-12 22:39:00'\n",
    "\n",
    "WHERE VendorId = 3\n",
    "    AND PickupLocationId = 1\n",
    "\n",
    "\"\"\").show(truncate=False)"
   ]
  },
  {
   "cell_type": "markdown",
   "id": "aeb0d7d3",
   "metadata": {},
   "source": [
    "### Restore Table to older version"
   ]
  },
  {
   "cell_type": "code",
   "execution_count": 50,
   "id": "c137c072",
   "metadata": {},
   "outputs": [
    {
     "name": "stdout",
     "output_type": "stream",
     "text": [
      "+------------------------+--------------------------+-----------------+------------------+------------------+-------------------+\n",
      "|table_size_after_restore|num_of_files_after_restore|num_removed_files|num_restored_files|removed_files_size|restored_files_size|\n",
      "+------------------------+--------------------------+-----------------+------------------+------------------+-------------------+\n",
      "|80998650                |10                        |1                |1                 |5637              |5637               |\n",
      "+------------------------+--------------------------+-----------------+------------------+------------------+-------------------+\n",
      "\n"
     ]
    }
   ],
   "source": [
    "spark.sql(\"\"\"\n",
    "\n",
    "RESTORE TABLE TaxisDB.YellowTaxis    TO VERSION AS OF 9\n",
    "\n",
    "\"\"\").show(truncate=False)"
   ]
  },
  {
   "cell_type": "code",
   "execution_count": 51,
   "id": "a9d086fe",
   "metadata": {},
   "outputs": [
    {
     "name": "stdout",
     "output_type": "stream",
     "text": [
      "+-------+-----------------------+------+--------+---------------+---------------------------------------------------------------------------------------------------------------------------------------------------------------------------------------------------------------------------------------------------------------------+----+--------+---------+-----------+--------------+-------------+--------------------------------------------------------------------------------------------------------------------------------------------------------------------------------------------------------------------------------------------------------------------------------------------------------------+------------+-----------------------------------+\n",
      "|version|timestamp              |userId|userName|operation      |operationParameters                                                                                                                                                                                                                                                  |job |notebook|clusterId|readVersion|isolationLevel|isBlindAppend|operationMetrics                                                                                                                                                                                                                                                                                              |userMetadata|engineInfo                         |\n",
      "+-------+-----------------------+------+--------+---------------+---------------------------------------------------------------------------------------------------------------------------------------------------------------------------------------------------------------------------------------------------------------------+----+--------+---------+-----------+--------------+-------------+--------------------------------------------------------------------------------------------------------------------------------------------------------------------------------------------------------------------------------------------------------------------------------------------------------------+------------+-----------------------------------+\n",
      "|11     |2023-03-12 22:46:05.226|null  |null    |RESTORE        |{version -> 9, timestamp -> null}                                                                                                                                                                                                                                    |null|null    |null     |10         |Serializable  |false        |{numRestoredFiles -> 1, removedFilesSize -> 5637, numRemovedFiles -> 1, restoredFilesSize -> 5637, numOfFilesAfterRestore -> 10, tableSizeAfterRestore -> 80998650}                                                                                                                                           |null        |Apache-Spark/3.3.2 Delta-Lake/2.2.0|\n",
      "|10     |2023-03-12 22:41:51.211|null  |null    |UPDATE         |{predicate -> ((VendorId#15194 = 3) AND (PickupLocationId#15197 = 1))}                                                                                                                                                                                               |null|null    |null     |9          |Serializable  |false        |{numRemovedFiles -> 1, numCopiedRows -> 3, numAddedChangeFiles -> 0, executionTimeMs -> 773, scanTimeMs -> 535, numAddedFiles -> 1, numUpdatedRows -> 1, rewriteTimeMs -> 238}                                                                                                                                |null        |Apache-Spark/3.3.2 Delta-Lake/2.2.0|\n",
      "|9      |2023-03-12 22:40:42.486|null  |null    |DROP CONSTRAINT|{name -> PassengerCheck, expr -> PassengerCount <= 9 OR PassengerCount IS NULL, existed -> true}                                                                                                                                                                     |null|null    |null     |8          |Serializable  |true         |{}                                                                                                                                                                                                                                                                                                            |null        |Apache-Spark/3.3.2 Delta-Lake/2.2.0|\n",
      "|8      |2023-03-12 22:39:04.071|null  |null    |ADD CONSTRAINT |{name -> PassengerCheck, expr -> PassengerCount <= 9 OR PassengerCount IS NULL}                                                                                                                                                                                      |null|null    |null     |7          |Serializable  |false        |{}                                                                                                                                                                                                                                                                                                            |null        |Apache-Spark/3.3.2 Delta-Lake/2.2.0|\n",
      "|7      |2023-03-12 22:37:36.529|null  |null    |CHANGE COLUMN  |{column -> {\"name\":\"PickupLocationId\",\"type\":\"integer\",\"nullable\":true,\"metadata\":{}}}                                                                                                                                                                               |null|null    |null     |6          |Serializable  |true         |{}                                                                                                                                                                                                                                                                                                            |null        |Apache-Spark/3.3.2 Delta-Lake/2.2.0|\n",
      "|6      |2023-03-12 22:36:38.649|null  |null    |MERGE          |{predicate -> ((tgt.VendorId = src.VendorId) AND (tgt.PickupLocationId = src.PickupLocationId)), matchedPredicates -> [{\"actionType\":\"update\"}], notMatchedPredicates -> [{\"predicate\":\"(src.PickupTime >= TIMESTAMP '2022-03-01 00:00:00')\",\"actionType\":\"insert\"}]}|null|null    |null     |5          |Serializable  |false        |{numTargetRowsCopied -> 0, numTargetRowsDeleted -> 0, numTargetFilesAdded -> 1, executionTimeMs -> 2457, numTargetRowsInserted -> 1, scanTimeMs -> 1211, numTargetRowsUpdated -> 3, numOutputRows -> 4, numTargetChangeFilesAdded -> 0, numSourceRows -> 4, numTargetFilesRemoved -> 2, rewriteTimeMs -> 1149}|null        |Apache-Spark/3.3.2 Delta-Lake/2.2.0|\n",
      "|5      |2023-03-12 22:33:18.096|null  |null    |DELETE         |{predicate -> [\"((spark_catalog.TaxisDB.YellowTaxis.VendorId = 3) AND (spark_catalog.TaxisDB.YellowTaxis.PickupLocationId = 151))\"]}                                                                                                                                 |null|null    |null     |4          |Serializable  |false        |{numRemovedFiles -> 1, numCopiedRows -> 2, numAddedChangeFiles -> 0, executionTimeMs -> 730, numDeletedRows -> 1, scanTimeMs -> 457, numAddedFiles -> 1, rewriteTimeMs -> 272}                                                                                                                                |null        |Apache-Spark/3.3.2 Delta-Lake/2.2.0|\n",
      "|4      |2023-03-12 22:29:22.231|null  |null    |UPDATE         |{predicate -> ((VendorId#7797 = 3) AND (PickupLocationId#7800 = 249))}                                                                                                                                                                                               |null|null    |null     |3          |Serializable  |false        |{numRemovedFiles -> 1, numCopiedRows -> 2, numAddedChangeFiles -> 0, executionTimeMs -> 1200, scanTimeMs -> 882, numAddedFiles -> 1, numUpdatedRows -> 1, rewriteTimeMs -> 310}                                                                                                                               |null        |Apache-Spark/3.3.2 Delta-Lake/2.2.0|\n",
      "|3      |2023-03-12 22:27:26.802|null  |null    |WRITE          |{mode -> Append, partitionBy -> [\"VendorId\"]}                                                                                                                                                                                                                        |null|null    |null     |2          |Serializable  |true         |{numFiles -> 9, numOutputRows -> 3675412, numOutputBytes -> 80993013}                                                                                                                                                                                                                                         |null        |Apache-Spark/3.3.2 Delta-Lake/2.2.0|\n",
      "|2      |2023-03-12 22:25:56.749|null  |null    |WRITE          |{mode -> Append, partitionBy -> [\"VendorId\"]}                                                                                                                                                                                                                        |null|null    |null     |1          |Serializable  |true         |{numFiles -> 1, numOutputRows -> 3, numOutputBytes -> 5469}                                                                                                                                                                                                                                                   |null        |Apache-Spark/3.3.2 Delta-Lake/2.2.0|\n",
      "|1      |2023-03-12 22:25:44.291|null  |null    |WRITE          |{mode -> Append, partitionBy -> []}                                                                                                                                                                                                                                  |null|null    |null     |0          |Serializable  |true         |{numFiles -> 1, numOutputRows -> 1, numOutputBytes -> 5096}                                                                                                                                                                                                                                                   |null        |Apache-Spark/3.3.2 Delta-Lake/2.2.0|\n",
      "|0      |2023-03-12 22:25:33.126|null  |null    |CREATE TABLE   |{isManaged -> false, description -> This table stores ride information for Yellow Taxis, partitionBy -> [\"VendorId\"], properties -> {}}                                                                                                                              |null|null    |null     |null       |Serializable  |true         |{}                                                                                                                                                                                                                                                                                                            |null        |Apache-Spark/3.3.2 Delta-Lake/2.2.0|\n",
      "+-------+-----------------------+------+--------+---------------+---------------------------------------------------------------------------------------------------------------------------------------------------------------------------------------------------------------------------------------------------------------------+----+--------+---------+-----------+--------------+-------------+--------------------------------------------------------------------------------------------------------------------------------------------------------------------------------------------------------------------------------------------------------------------------------------------------------------+------------+-----------------------------------+\n",
      "\n"
     ]
    }
   ],
   "source": [
    "spark.sql(\"\"\"\n",
    "\n",
    "DESCRIBE HISTORY TaxisDB.YellowTaxis\n",
    "\n",
    "\"\"\").show(truncate=False)"
   ]
  },
  {
   "cell_type": "code",
   "execution_count": 52,
   "id": "8118e4b4",
   "metadata": {},
   "outputs": [
    {
     "name": "stdout",
     "output_type": "stream",
     "text": [
      "+--------------+\n",
      "|PassengerCount|\n",
      "+--------------+\n",
      "|           0.0|\n",
      "+--------------+\n",
      "\n"
     ]
    }
   ],
   "source": [
    "# Check data after restore\n",
    "\n",
    "spark.sql(\"\"\"\n",
    "\n",
    "SELECT PassengerCount\n",
    "\n",
    "FROM TaxisDB.YellowTaxis\n",
    "\n",
    "WHERE VendorId = 3\n",
    "    AND PickupLocationId = 1\n",
    "\n",
    "\"\"\").show()"
   ]
  },
  {
   "cell_type": "code",
   "execution_count": null,
   "id": "86106a6f",
   "metadata": {},
   "outputs": [],
   "source": []
  },
  {
   "cell_type": "code",
   "execution_count": null,
   "id": "cfeabe94",
   "metadata": {},
   "outputs": [],
   "source": []
  },
  {
   "cell_type": "code",
   "execution_count": null,
   "id": "68b356cf",
   "metadata": {},
   "outputs": [],
   "source": []
  },
  {
   "cell_type": "code",
   "execution_count": null,
   "id": "8229769e",
   "metadata": {},
   "outputs": [],
   "source": []
  },
  {
   "cell_type": "code",
   "execution_count": null,
   "id": "6b911317",
   "metadata": {},
   "outputs": [],
   "source": []
  },
  {
   "cell_type": "code",
   "execution_count": null,
   "id": "73f67430",
   "metadata": {},
   "outputs": [],
   "source": []
  },
  {
   "cell_type": "code",
   "execution_count": null,
   "id": "85c813c7",
   "metadata": {},
   "outputs": [],
   "source": []
  },
  {
   "cell_type": "code",
   "execution_count": null,
   "id": "c23d631c",
   "metadata": {},
   "outputs": [],
   "source": []
  },
  {
   "cell_type": "code",
   "execution_count": null,
   "id": "bd7ab284",
   "metadata": {},
   "outputs": [],
   "source": []
  },
  {
   "cell_type": "code",
   "execution_count": null,
   "id": "81a91ed7",
   "metadata": {},
   "outputs": [],
   "source": []
  },
  {
   "cell_type": "code",
   "execution_count": null,
   "id": "f338d50e",
   "metadata": {},
   "outputs": [],
   "source": []
  },
  {
   "cell_type": "code",
   "execution_count": null,
   "id": "cb2d6b45",
   "metadata": {},
   "outputs": [],
   "source": []
  },
  {
   "cell_type": "code",
   "execution_count": null,
   "id": "8973a295",
   "metadata": {},
   "outputs": [],
   "source": []
  }
 ],
 "metadata": {
  "kernelspec": {
   "display_name": "Python 3 (ipykernel)",
   "language": "python",
   "name": "python3"
  },
  "language_info": {
   "codemirror_mode": {
    "name": "ipython",
    "version": 3
   },
   "file_extension": ".py",
   "mimetype": "text/x-python",
   "name": "python",
   "nbconvert_exporter": "python",
   "pygments_lexer": "ipython3",
   "version": "3.10.9"
  }
 },
 "nbformat": 4,
 "nbformat_minor": 5
}
