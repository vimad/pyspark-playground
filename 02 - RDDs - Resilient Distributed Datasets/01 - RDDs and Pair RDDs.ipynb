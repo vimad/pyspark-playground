{
 "cells": [
  {
   "cell_type": "code",
   "execution_count": null,
   "id": "3fdb14d0",
   "metadata": {
    "is_executing": true
   },
   "outputs": [],
   "source": [
    "import findspark\n",
    "findspark.init()\n",
    "findspark.find()"
   ]
  },
  {
   "cell_type": "code",
   "execution_count": 2,
   "id": "4e853733",
   "metadata": {},
   "outputs": [],
   "source": [
    "from pyspark.sql import SparkSession\n",
    "from pyspark.sql.types import *\n",
    "\n",
    "spark = (\n",
    "            SparkSession\n",
    "                .builder\n",
    "                .appName(\"RDDApp\")\n",
    "                .master(\"local[4]\")\n",
    "                .getOrCreate()\n",
    "        )"
   ]
  },
  {
   "cell_type": "code",
   "execution_count": 3,
   "id": "c0b30290",
   "metadata": {},
   "outputs": [
    {
     "data": {
      "text/html": [
       "\n",
       "            <div>\n",
       "                <p><b>SparkSession - in-memory</b></p>\n",
       "                \n",
       "        <div>\n",
       "            <p><b>SparkContext</b></p>\n",
       "\n",
       "            <p><a href=\"http://CrystalTalks-PC:4040\">Spark UI</a></p>\n",
       "\n",
       "            <dl>\n",
       "              <dt>Version</dt>\n",
       "                <dd><code>v3.3.2</code></dd>\n",
       "              <dt>Master</dt>\n",
       "                <dd><code>local[4]</code></dd>\n",
       "              <dt>AppName</dt>\n",
       "                <dd><code>RDDApp</code></dd>\n",
       "            </dl>\n",
       "        </div>\n",
       "        \n",
       "            </div>\n",
       "        "
      ],
      "text/plain": [
       "<pyspark.sql.session.SparkSession at 0x2942bc0fdf0>"
      ]
     },
     "execution_count": 3,
     "metadata": {},
     "output_type": "execute_result"
    }
   ],
   "source": [
    "spark"
   ]
  },
  {
   "cell_type": "markdown",
   "id": "26cef7ff",
   "metadata": {},
   "source": [
    "### Create RDD - Option 1: Parallelize"
   ]
  },
  {
   "cell_type": "code",
   "execution_count": 4,
   "id": "5c2ed3d6",
   "metadata": {},
   "outputs": [],
   "source": [
    "# Create a variable for SparkContext\n",
    "\n",
    "sc = spark.sparkContext"
   ]
  },
  {
   "cell_type": "code",
   "execution_count": 5,
   "id": "4840afc9",
   "metadata": {},
   "outputs": [],
   "source": [
    "# Create RDD using parallelize\n",
    "\n",
    "numbersRdd = sc.parallelize( [1, 2, 3, 4, 5] )"
   ]
  },
  {
   "cell_type": "code",
   "execution_count": 6,
   "id": "27061738",
   "metadata": {},
   "outputs": [
    {
     "data": {
      "text/plain": [
       "4"
      ]
     },
     "execution_count": 6,
     "metadata": {},
     "output_type": "execute_result"
    }
   ],
   "source": [
    "# Check RDD partitions\n",
    "\n",
    "numbersRdd.getNumPartitions()"
   ]
  },
  {
   "cell_type": "code",
   "execution_count": 7,
   "id": "46ac9ee8",
   "metadata": {},
   "outputs": [
    {
     "name": "stdout",
     "output_type": "stream",
     "text": [
      "[1, 2, 3, 4, 5]\n"
     ]
    }
   ],
   "source": [
    "# Get result from RDD\n",
    "\n",
    "output = numbersRdd.collect()\n",
    "\n",
    "print(output)"
   ]
  },
  {
   "cell_type": "code",
   "execution_count": 8,
   "id": "b38153e2",
   "metadata": {},
   "outputs": [
    {
     "data": {
      "text/plain": [
       "[1, 2]"
      ]
     },
     "execution_count": 8,
     "metadata": {},
     "output_type": "execute_result"
    }
   ],
   "source": [
    "# Get any 2 records from RDD\n",
    "\n",
    "numbersRdd.take(2)"
   ]
  },
  {
   "cell_type": "code",
   "execution_count": 9,
   "id": "4487ba34",
   "metadata": {},
   "outputs": [
    {
     "data": {
      "text/plain": [
       "1"
      ]
     },
     "execution_count": 9,
     "metadata": {},
     "output_type": "execute_result"
    }
   ],
   "source": [
    "# Get first record from RDD\n",
    "# first() returns an element, while take(1) returns an array with one element\n",
    "\n",
    "numbersRdd.first()"
   ]
  },
  {
   "cell_type": "code",
   "execution_count": 10,
   "id": "cdeed2a4",
   "metadata": {},
   "outputs": [],
   "source": [
    "# Create RDD with complex types\n",
    "\n",
    "employeesRdd = sc.parallelize(\n",
    "                                [\n",
    "                                    [ 1, \"Neha\",  10000 ],\n",
    "                                    [ 2, \"Steve\", 20000 ],\n",
    "                                    [ 3, \"Kari\",  30000 ],\n",
    "                                    [ 4, \"Ivan\",  40000 ],\n",
    "                                    [ 5, \"Mohit\", 50000 ]\n",
    "                                ]\n",
    "                              )"
   ]
  },
  {
   "cell_type": "code",
   "execution_count": 11,
   "id": "f49cc820",
   "metadata": {},
   "outputs": [
    {
     "data": {
      "text/plain": [
       "[1, 'Neha', 10000]"
      ]
     },
     "execution_count": 11,
     "metadata": {},
     "output_type": "execute_result"
    }
   ],
   "source": [
    "# Get first record from RDD\n",
    "\n",
    "employeesRdd.first()"
   ]
  },
  {
   "cell_type": "markdown",
   "id": "8f908d85",
   "metadata": {},
   "source": [
    "### Create RDD - Option 2: Read a File"
   ]
  },
  {
   "cell_type": "code",
   "execution_count": 12,
   "id": "cace7404",
   "metadata": {},
   "outputs": [],
   "source": [
    "# Read TaxiZones.csv file and create RDD\n",
    "\n",
    "taxiZonesRdd = sc.textFile(\"C:\\development\\my\\python\\pyspark-playground\\DataFiles\\Raw\\TaxiZones.csv\")"
   ]
  },
  {
   "cell_type": "code",
   "execution_count": 13,
   "id": "1f2065cc",
   "metadata": {},
   "outputs": [
    {
     "data": {
      "text/plain": [
       "['1,EWR,Newark Airport,EWR',\n",
       " '2,Queens,Jamaica Bay,Boro Zone',\n",
       " '3,Bronx,Allerton/Pelham Gardens,Boro Zone',\n",
       " '4,Manhattan,Alphabet City,Yellow Zone',\n",
       " '5,Staten Island,Arden Heights,Boro Zone',\n",
       " '6,Staten Island,Arrochar/Fort Wadsworth,Boro Zone',\n",
       " '7,Queens,Astoria,Boro Zone',\n",
       " '8,Queens,Astoria Park,Boro Zone',\n",
       " '9,Queens,Auburndale,Boro Zone',\n",
       " '10,Queens,Baisley Park,Boro Zone']"
      ]
     },
     "execution_count": 13,
     "metadata": {},
     "output_type": "execute_result"
    }
   ],
   "source": [
    "# Get 10 records\n",
    "\n",
    "taxiZonesRdd.take(10)"
   ]
  },
  {
   "cell_type": "code",
   "execution_count": 14,
   "id": "78d6142e",
   "metadata": {},
   "outputs": [
    {
     "data": {
      "text/plain": [
       "2"
      ]
     },
     "execution_count": 14,
     "metadata": {},
     "output_type": "execute_result"
    }
   ],
   "source": [
    "# Check RDD partitions\n",
    "\n",
    "taxiZonesRdd.getNumPartitions()"
   ]
  },
  {
   "cell_type": "code",
   "execution_count": 15,
   "id": "d113c69b",
   "metadata": {},
   "outputs": [
    {
     "data": {
      "text/plain": [
       "4"
      ]
     },
     "execution_count": 15,
     "metadata": {},
     "output_type": "execute_result"
    }
   ],
   "source": [
    "# Read TaxiZones.csv file and create RDD (with 4 partitions)\n",
    "\n",
    "taxiZonesRdd = sc.textFile(\"C:\\development\\my\\python\\pyspark-playground\\DataFiles\\Raw\\TaxiZones.csv\", 4)\n",
    "\n",
    "taxiZonesRdd.getNumPartitions()"
   ]
  },
  {
   "cell_type": "markdown",
   "id": "f81054d7",
   "metadata": {},
   "source": [
    "### Create RDD - Option 3: Convert another RDD"
   ]
  },
  {
   "cell_type": "code",
   "execution_count": 16,
   "id": "7b047249",
   "metadata": {},
   "outputs": [
    {
     "data": {
      "text/plain": [
       "[['1', 'EWR', 'Newark Airport', 'EWR'],\n",
       " ['2', 'Queens', 'Jamaica Bay', 'Boro Zone'],\n",
       " ['3', 'Bronx', 'Allerton/Pelham Gardens', 'Boro Zone'],\n",
       " ['4', 'Manhattan', 'Alphabet City', 'Yellow Zone'],\n",
       " ['5', 'Staten Island', 'Arden Heights', 'Boro Zone']]"
      ]
     },
     "execution_count": 16,
     "metadata": {},
     "output_type": "execute_result"
    }
   ],
   "source": [
    "# Apply map operation to split each record by comma, and get array of items\n",
    "\n",
    "taxiZonesWithColsRdd = (\n",
    "                            taxiZonesRdd\n",
    "    \n",
    "                                .map( lambda zone: zone.split(\",\") )\n",
    "                       )\n",
    "\n",
    "taxiZonesWithColsRdd.take(5)"
   ]
  },
  {
   "cell_type": "code",
   "execution_count": 17,
   "id": "d55e59eb",
   "metadata": {},
   "outputs": [
    {
     "data": {
      "text/plain": [
       "[['41', 'Manhattan', 'Central Harlem', 'Boro Zone'],\n",
       " ['42', 'Manhattan', 'Central Harlem North', 'Boro Zone'],\n",
       " ['43', 'Manhattan', 'Central Park', 'Yellow Zone']]"
      ]
     },
     "execution_count": 17,
     "metadata": {},
     "output_type": "execute_result"
    }
   ],
   "source": [
    "# Apply filter operation\n",
    "# Get data where Borough is 'Manhattan' and Zone begins with 'central'\n",
    "\n",
    "filteredZonesRdd = (\n",
    "                        taxiZonesWithColsRdd\n",
    "    \n",
    "                            .filter( lambda zoneRow: zoneRow[1] == \"Manhattan\" \n",
    "\n",
    "                                                 and zoneRow[2].lower().startswith(\"central\")\n",
    "                                   )\n",
    "                   )\n",
    "\n",
    "filteredZonesRdd.take(5)"
   ]
  },
  {
   "cell_type": "code",
   "execution_count": 18,
   "id": "7bb3f7d1",
   "metadata": {},
   "outputs": [
    {
     "data": {
      "text/plain": [
       "['2,Queens,Jamaica Bay,Boro Zone',\n",
       " '4,Manhattan,Alphabet City,Yellow Zone',\n",
       " '6,Staten Island,Arrochar/Fort Wadsworth,Boro Zone',\n",
       " '8,Queens,Astoria Park,Boro Zone',\n",
       " '20,Bronx,Belmont,Boro Zone']"
      ]
     },
     "execution_count": 18,
     "metadata": {},
     "output_type": "execute_result"
    }
   ],
   "source": [
    "# Get list of Zones with even LocationId\n",
    "\n",
    "evenZoneIds = (\n",
    "                    taxiZonesRdd\n",
    "    \n",
    "                        .filter( lambda zoneRow: int(zoneRow[0]) % 2 == 0 )\n",
    "              )\n",
    "\n",
    "evenZoneIds.take(5)"
   ]
  },
  {
   "cell_type": "markdown",
   "id": "d8a78387",
   "metadata": {},
   "source": [
    "### Pair RDDs"
   ]
  },
  {
   "cell_type": "code",
   "execution_count": 19,
   "id": "57b23850",
   "metadata": {},
   "outputs": [
    {
     "data": {
      "text/plain": [
       "[(2, 1.4142135623730951),\n",
       " (3, 1.7320508075688772),\n",
       " (4, 2.0),\n",
       " (5, 2.23606797749979),\n",
       " (6, 2.449489742783178)]"
      ]
     },
     "execution_count": 19,
     "metadata": {},
     "output_type": "execute_result"
    }
   ],
   "source": [
    "import math\n",
    "\n",
    "numbersRDD = sc.parallelize( [2, 3, 4, 5, 6] )\n",
    "\n",
    "# Create Pair RDD\n",
    "numsWithSquareRootRdd = (\n",
    "                            numbersRDD\n",
    "    \n",
    "                                .map(lambda num: (\n",
    "                                                    num,\n",
    "                                                    math.sqrt(num)\n",
    "                                                 )\n",
    "                                    )\n",
    "                        )\n",
    "\n",
    "numsWithSquareRootRdd.collect()"
   ]
  },
  {
   "cell_type": "markdown",
   "id": "bf4050e7",
   "metadata": {},
   "source": [
    "### Exercise 1\n",
    "\n",
    "Use taxiZonesWithColsRdd and create a Pair RDD (LocationId as Key, Zone Details as Value)"
   ]
  },
  {
   "cell_type": "code",
   "execution_count": null,
   "id": "c355262f",
   "metadata": {},
   "outputs": [],
   "source": [
    "# Exercise 1 Answer\n",
    "\n",
    "taxiZonesPairRdd = (\n",
    "                        taxiZonesWithColsRdd\n",
    "    \n",
    "                            .map(lambda zoneRow: ( \n",
    "                                                    zoneRow[0],\n",
    "                                                    zoneRow\n",
    "                                                 )\n",
    "                                )\n",
    "                   )\n",
    "\n",
    "taxiZonesPairRdd.take(10)"
   ]
  },
  {
   "cell_type": "markdown",
   "id": "6220a4f5",
   "metadata": {},
   "source": [
    "### Calculate count of records for each Borough"
   ]
  },
  {
   "cell_type": "code",
   "execution_count": 20,
   "id": "69449b14",
   "metadata": {},
   "outputs": [
    {
     "data": {
      "text/plain": [
       "[('EWR', 1),\n",
       " ('Queens', 1),\n",
       " ('Bronx', 1),\n",
       " ('Manhattan', 1),\n",
       " ('Staten Island', 1),\n",
       " ('Staten Island', 1),\n",
       " ('Queens', 1),\n",
       " ('Queens', 1),\n",
       " ('Queens', 1),\n",
       " ('Queens', 1)]"
      ]
     },
     "execution_count": 20,
     "metadata": {},
     "output_type": "execute_result"
    }
   ],
   "source": [
    "# Create Pair RDD (locationId as Key, Value as 1)\n",
    "\n",
    "taxiZonesPairRdd = (\n",
    "                        taxiZonesWithColsRdd\n",
    "    \n",
    "                            .map(lambda zoneRow: ( \n",
    "                                                    zoneRow[1],   # Key   - Borough\n",
    "                                                    1             # Value - 1\n",
    "                                                 )\n",
    "                                )\n",
    "                   )\n",
    "\n",
    "taxiZonesPairRdd.take(10)"
   ]
  },
  {
   "cell_type": "code",
   "execution_count": 21,
   "id": "d93e3318",
   "metadata": {},
   "outputs": [
    {
     "data": {
      "text/plain": [
       "[('Bronx', 43),\n",
       " ('Staten Island', 20),\n",
       " ('EWR', 1),\n",
       " ('Manhattan', 69),\n",
       " ('Brooklyn', 61),\n",
       " ('Unknown', 2),\n",
       " ('Queens', 69)]"
      ]
     },
     "execution_count": 21,
     "metadata": {},
     "output_type": "execute_result"
    }
   ],
   "source": [
    "# Calculate count of records for each Borough\n",
    "\n",
    "boroughCountRdd = (\n",
    "                        taxiZonesPairRdd\n",
    "    \n",
    "                            .reduceByKey( lambda value1, value2: value1 + value2 )\n",
    "                  )\n",
    "\n",
    "boroughCountRdd.collect()"
   ]
  },
  {
   "cell_type": "code",
   "execution_count": 22,
   "id": "a42b0007",
   "metadata": {},
   "outputs": [
    {
     "data": {
      "text/plain": [
       "[('Bronx', 1),\n",
       " ('Bronx', 1),\n",
       " ('Bronx', 1),\n",
       " ('Bronx', 1),\n",
       " ('Bronx', 1),\n",
       " ('Bronx', 1),\n",
       " ('Bronx', 1),\n",
       " ('Bronx', 1),\n",
       " ('Bronx', 1),\n",
       " ('Bronx', 1),\n",
       " ('Bronx', 1),\n",
       " ('Bronx', 1),\n",
       " ('Bronx', 1),\n",
       " ('Bronx', 1),\n",
       " ('Bronx', 1),\n",
       " ('Bronx', 1),\n",
       " ('Bronx', 1),\n",
       " ('Bronx', 1),\n",
       " ('Bronx', 1),\n",
       " ('Bronx', 1),\n",
       " ('Bronx', 1),\n",
       " ('Bronx', 1),\n",
       " ('Bronx', 1),\n",
       " ('Bronx', 1),\n",
       " ('Bronx', 1),\n",
       " ('Bronx', 1),\n",
       " ('Bronx', 1),\n",
       " ('Bronx', 1),\n",
       " ('Bronx', 1),\n",
       " ('Bronx', 1),\n",
       " ('Bronx', 1),\n",
       " ('Bronx', 1),\n",
       " ('Bronx', 1),\n",
       " ('Bronx', 1),\n",
       " ('Bronx', 1),\n",
       " ('Bronx', 1),\n",
       " ('Bronx', 1),\n",
       " ('Bronx', 1),\n",
       " ('Bronx', 1),\n",
       " ('Bronx', 1),\n",
       " ('Bronx', 1),\n",
       " ('Bronx', 1),\n",
       " ('Bronx', 1),\n",
       " ('Brooklyn', 1),\n",
       " ('Brooklyn', 1),\n",
       " ('Brooklyn', 1),\n",
       " ('Brooklyn', 1),\n",
       " ('Brooklyn', 1),\n",
       " ('Brooklyn', 1),\n",
       " ('Brooklyn', 1),\n",
       " ('Brooklyn', 1),\n",
       " ('Brooklyn', 1),\n",
       " ('Brooklyn', 1),\n",
       " ('Brooklyn', 1),\n",
       " ('Brooklyn', 1),\n",
       " ('Brooklyn', 1),\n",
       " ('Brooklyn', 1),\n",
       " ('Brooklyn', 1),\n",
       " ('Brooklyn', 1),\n",
       " ('Brooklyn', 1),\n",
       " ('Brooklyn', 1),\n",
       " ('Brooklyn', 1),\n",
       " ('Brooklyn', 1),\n",
       " ('Brooklyn', 1),\n",
       " ('Brooklyn', 1),\n",
       " ('Brooklyn', 1),\n",
       " ('Brooklyn', 1),\n",
       " ('Brooklyn', 1),\n",
       " ('Brooklyn', 1),\n",
       " ('Brooklyn', 1),\n",
       " ('Brooklyn', 1),\n",
       " ('Brooklyn', 1),\n",
       " ('Brooklyn', 1),\n",
       " ('Brooklyn', 1),\n",
       " ('Brooklyn', 1),\n",
       " ('Brooklyn', 1),\n",
       " ('Brooklyn', 1),\n",
       " ('Brooklyn', 1),\n",
       " ('Brooklyn', 1),\n",
       " ('Brooklyn', 1),\n",
       " ('Brooklyn', 1),\n",
       " ('Brooklyn', 1),\n",
       " ('Brooklyn', 1),\n",
       " ('Brooklyn', 1),\n",
       " ('Brooklyn', 1),\n",
       " ('Brooklyn', 1),\n",
       " ('Brooklyn', 1),\n",
       " ('Brooklyn', 1),\n",
       " ('Brooklyn', 1),\n",
       " ('Brooklyn', 1),\n",
       " ('Brooklyn', 1),\n",
       " ('Brooklyn', 1),\n",
       " ('Brooklyn', 1),\n",
       " ('Brooklyn', 1),\n",
       " ('Brooklyn', 1),\n",
       " ('Brooklyn', 1),\n",
       " ('Brooklyn', 1),\n",
       " ('Brooklyn', 1),\n",
       " ('Brooklyn', 1),\n",
       " ('Brooklyn', 1),\n",
       " ('Brooklyn', 1),\n",
       " ('Brooklyn', 1),\n",
       " ('Brooklyn', 1),\n",
       " ('Brooklyn', 1),\n",
       " ('EWR', 1),\n",
       " ('Manhattan', 1),\n",
       " ('Manhattan', 1),\n",
       " ('Manhattan', 1),\n",
       " ('Manhattan', 1),\n",
       " ('Manhattan', 1),\n",
       " ('Manhattan', 1),\n",
       " ('Manhattan', 1),\n",
       " ('Manhattan', 1),\n",
       " ('Manhattan', 1),\n",
       " ('Manhattan', 1),\n",
       " ('Manhattan', 1),\n",
       " ('Manhattan', 1),\n",
       " ('Manhattan', 1),\n",
       " ('Manhattan', 1),\n",
       " ('Manhattan', 1),\n",
       " ('Manhattan', 1),\n",
       " ('Manhattan', 1),\n",
       " ('Manhattan', 1),\n",
       " ('Manhattan', 1),\n",
       " ('Manhattan', 1),\n",
       " ('Manhattan', 1),\n",
       " ('Manhattan', 1),\n",
       " ('Manhattan', 1),\n",
       " ('Manhattan', 1),\n",
       " ('Manhattan', 1),\n",
       " ('Manhattan', 1),\n",
       " ('Manhattan', 1),\n",
       " ('Manhattan', 1),\n",
       " ('Manhattan', 1),\n",
       " ('Manhattan', 1),\n",
       " ('Manhattan', 1),\n",
       " ('Manhattan', 1),\n",
       " ('Manhattan', 1),\n",
       " ('Manhattan', 1),\n",
       " ('Manhattan', 1),\n",
       " ('Manhattan', 1),\n",
       " ('Manhattan', 1),\n",
       " ('Manhattan', 1),\n",
       " ('Manhattan', 1),\n",
       " ('Manhattan', 1),\n",
       " ('Manhattan', 1),\n",
       " ('Manhattan', 1),\n",
       " ('Manhattan', 1),\n",
       " ('Manhattan', 1),\n",
       " ('Manhattan', 1),\n",
       " ('Manhattan', 1),\n",
       " ('Manhattan', 1),\n",
       " ('Manhattan', 1),\n",
       " ('Manhattan', 1),\n",
       " ('Manhattan', 1),\n",
       " ('Manhattan', 1),\n",
       " ('Manhattan', 1),\n",
       " ('Manhattan', 1),\n",
       " ('Manhattan', 1),\n",
       " ('Manhattan', 1),\n",
       " ('Manhattan', 1),\n",
       " ('Manhattan', 1),\n",
       " ('Manhattan', 1),\n",
       " ('Manhattan', 1),\n",
       " ('Manhattan', 1),\n",
       " ('Manhattan', 1),\n",
       " ('Manhattan', 1),\n",
       " ('Manhattan', 1),\n",
       " ('Manhattan', 1),\n",
       " ('Manhattan', 1),\n",
       " ('Manhattan', 1),\n",
       " ('Manhattan', 1),\n",
       " ('Manhattan', 1),\n",
       " ('Manhattan', 1),\n",
       " ('Queens', 1),\n",
       " ('Queens', 1),\n",
       " ('Queens', 1),\n",
       " ('Queens', 1),\n",
       " ('Queens', 1),\n",
       " ('Queens', 1),\n",
       " ('Queens', 1),\n",
       " ('Queens', 1),\n",
       " ('Queens', 1),\n",
       " ('Queens', 1),\n",
       " ('Queens', 1),\n",
       " ('Queens', 1),\n",
       " ('Queens', 1),\n",
       " ('Queens', 1),\n",
       " ('Queens', 1),\n",
       " ('Queens', 1),\n",
       " ('Queens', 1),\n",
       " ('Queens', 1),\n",
       " ('Queens', 1),\n",
       " ('Queens', 1),\n",
       " ('Queens', 1),\n",
       " ('Queens', 1),\n",
       " ('Queens', 1),\n",
       " ('Queens', 1),\n",
       " ('Queens', 1),\n",
       " ('Queens', 1),\n",
       " ('Queens', 1),\n",
       " ('Queens', 1),\n",
       " ('Queens', 1),\n",
       " ('Queens', 1),\n",
       " ('Queens', 1),\n",
       " ('Queens', 1),\n",
       " ('Queens', 1),\n",
       " ('Queens', 1),\n",
       " ('Queens', 1),\n",
       " ('Queens', 1),\n",
       " ('Queens', 1),\n",
       " ('Queens', 1),\n",
       " ('Queens', 1),\n",
       " ('Queens', 1),\n",
       " ('Queens', 1),\n",
       " ('Queens', 1),\n",
       " ('Queens', 1),\n",
       " ('Queens', 1),\n",
       " ('Queens', 1),\n",
       " ('Queens', 1),\n",
       " ('Queens', 1),\n",
       " ('Queens', 1),\n",
       " ('Queens', 1),\n",
       " ('Queens', 1),\n",
       " ('Queens', 1),\n",
       " ('Queens', 1),\n",
       " ('Queens', 1),\n",
       " ('Queens', 1),\n",
       " ('Queens', 1),\n",
       " ('Queens', 1),\n",
       " ('Queens', 1),\n",
       " ('Queens', 1),\n",
       " ('Queens', 1),\n",
       " ('Queens', 1),\n",
       " ('Queens', 1),\n",
       " ('Queens', 1),\n",
       " ('Queens', 1),\n",
       " ('Queens', 1),\n",
       " ('Queens', 1),\n",
       " ('Queens', 1),\n",
       " ('Queens', 1),\n",
       " ('Queens', 1),\n",
       " ('Queens', 1),\n",
       " ('Staten Island', 1),\n",
       " ('Staten Island', 1),\n",
       " ('Staten Island', 1),\n",
       " ('Staten Island', 1),\n",
       " ('Staten Island', 1),\n",
       " ('Staten Island', 1),\n",
       " ('Staten Island', 1),\n",
       " ('Staten Island', 1),\n",
       " ('Staten Island', 1),\n",
       " ('Staten Island', 1),\n",
       " ('Staten Island', 1),\n",
       " ('Staten Island', 1),\n",
       " ('Staten Island', 1),\n",
       " ('Staten Island', 1),\n",
       " ('Staten Island', 1),\n",
       " ('Staten Island', 1),\n",
       " ('Staten Island', 1),\n",
       " ('Staten Island', 1),\n",
       " ('Staten Island', 1),\n",
       " ('Staten Island', 1),\n",
       " ('Unknown', 1),\n",
       " ('Unknown', 1)]"
      ]
     },
     "execution_count": 22,
     "metadata": {},
     "output_type": "execute_result"
    }
   ],
   "source": [
    "# Sort the data by Key\n",
    "\n",
    "(\n",
    "    taxiZonesPairRdd\n",
    "    \n",
    "        .sortByKey()\n",
    "    \n",
    "        .collect()\n",
    ")"
   ]
  },
  {
   "cell_type": "code",
   "execution_count": 23,
   "id": "f47da012",
   "metadata": {},
   "outputs": [
    {
     "data": {
      "text/plain": [
       "['EWR',\n",
       " 'Queens',\n",
       " 'Bronx',\n",
       " 'Manhattan',\n",
       " 'Staten Island',\n",
       " 'Staten Island',\n",
       " 'Queens',\n",
       " 'Queens',\n",
       " 'Queens',\n",
       " 'Queens']"
      ]
     },
     "execution_count": 23,
     "metadata": {},
     "output_type": "execute_result"
    }
   ],
   "source": [
    "# Only return the keys\n",
    "\n",
    "(\n",
    "    taxiZonesPairRdd\n",
    "    \n",
    "        .keys()\n",
    "    \n",
    "        .take(10)\n",
    ")"
   ]
  },
  {
   "cell_type": "code",
   "execution_count": 24,
   "id": "fcaaffa2",
   "metadata": {},
   "outputs": [
    {
     "data": {
      "text/plain": [
       "[1, 1, 1, 1, 1, 1, 1, 1, 1, 1]"
      ]
     },
     "execution_count": 24,
     "metadata": {},
     "output_type": "execute_result"
    }
   ],
   "source": [
    "# Only return the values\n",
    "\n",
    "(\n",
    "    taxiZonesPairRdd\n",
    "    \n",
    "        .values()\n",
    "    \n",
    "        .take(10)\n",
    ")"
   ]
  },
  {
   "cell_type": "code",
   "execution_count": 25,
   "id": "11528f4e",
   "metadata": {},
   "outputs": [
    {
     "data": {
      "text/plain": [
       "[('Bronx', 1),\n",
       " ('Staten Island', 1),\n",
       " ('Queens', 1),\n",
       " ('EWR', 1),\n",
       " ('Manhattan', 1),\n",
       " ('Brooklyn', 1),\n",
       " ('Unknown', 1)]"
      ]
     },
     "execution_count": 25,
     "metadata": {},
     "output_type": "execute_result"
    }
   ],
   "source": [
    "# Return distinct pairs\n",
    "\n",
    "(\n",
    "    taxiZonesPairRdd\n",
    "    \n",
    "        .distinct()\n",
    "    \n",
    "        .collect()\n",
    ")"
   ]
  },
  {
   "cell_type": "code",
   "execution_count": null,
   "id": "e7138341",
   "metadata": {},
   "outputs": [],
   "source": []
  },
  {
   "cell_type": "code",
   "execution_count": null,
   "id": "8c67a139",
   "metadata": {},
   "outputs": [],
   "source": []
  },
  {
   "cell_type": "code",
   "execution_count": null,
   "id": "7cf70d95",
   "metadata": {},
   "outputs": [],
   "source": []
  },
  {
   "cell_type": "code",
   "execution_count": null,
   "id": "297109b3",
   "metadata": {},
   "outputs": [],
   "source": []
  },
  {
   "cell_type": "code",
   "execution_count": null,
   "id": "eb5bb6f6",
   "metadata": {},
   "outputs": [],
   "source": []
  },
  {
   "cell_type": "code",
   "execution_count": null,
   "id": "93569fec",
   "metadata": {},
   "outputs": [],
   "source": []
  },
  {
   "cell_type": "code",
   "execution_count": null,
   "id": "17479e12",
   "metadata": {},
   "outputs": [],
   "source": []
  },
  {
   "cell_type": "code",
   "execution_count": null,
   "id": "93b29b35",
   "metadata": {},
   "outputs": [],
   "source": []
  },
  {
   "cell_type": "code",
   "execution_count": null,
   "id": "1d93a5b4",
   "metadata": {},
   "outputs": [],
   "source": []
  },
  {
   "cell_type": "code",
   "execution_count": null,
   "id": "5b2d0e80",
   "metadata": {},
   "outputs": [],
   "source": []
  },
  {
   "cell_type": "code",
   "execution_count": null,
   "id": "1db74573",
   "metadata": {},
   "outputs": [],
   "source": []
  },
  {
   "cell_type": "code",
   "execution_count": null,
   "id": "0a6a9b63",
   "metadata": {},
   "outputs": [],
   "source": []
  },
  {
   "cell_type": "code",
   "execution_count": null,
   "id": "11d8d0f1",
   "metadata": {},
   "outputs": [],
   "source": []
  },
  {
   "cell_type": "code",
   "execution_count": null,
   "id": "e7aead32",
   "metadata": {},
   "outputs": [],
   "source": []
  }
 ],
 "metadata": {
  "kernelspec": {
   "display_name": "Python 3 (ipykernel)",
   "language": "python",
   "name": "python3"
  },
  "language_info": {
   "codemirror_mode": {
    "name": "ipython",
    "version": 3
   },
   "file_extension": ".py",
   "mimetype": "text/x-python",
   "name": "python",
   "nbconvert_exporter": "python",
   "pygments_lexer": "ipython3",
   "version": "3.10.9"
  }
 },
 "nbformat": 4,
 "nbformat_minor": 5
}
