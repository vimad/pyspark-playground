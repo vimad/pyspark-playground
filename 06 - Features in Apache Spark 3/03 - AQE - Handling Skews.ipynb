{
 "cells": [
  {
   "cell_type": "code",
   "execution_count": 1,
   "id": "54c076e2",
   "metadata": {},
   "outputs": [
    {
     "data": {
      "text/html": [
       "<style>pre { white-space: pre !important; }</style>"
      ],
      "text/plain": [
       "<IPython.core.display.HTML object>"
      ]
     },
     "metadata": {},
     "output_type": "display_data"
    }
   ],
   "source": [
    "import findspark\n",
    "findspark.init()\n",
    "findspark.find()\n",
    "\n",
    "from IPython.display import *\n",
    "display(HTML(\"<style>pre { white-space: pre !important; }</style>\"))"
   ]
  },
  {
   "cell_type": "code",
   "execution_count": 2,
   "id": "98c3fb4b",
   "metadata": {},
   "outputs": [
    {
     "data": {
      "text/html": [
       "\n",
       "            <div>\n",
       "                <p><b>SparkSession - in-memory</b></p>\n",
       "                \n",
       "        <div>\n",
       "            <p><b>SparkContext</b></p>\n",
       "\n",
       "            <p><a href=\"http://CrystalTalks-PC:4041\">Spark UI</a></p>\n",
       "\n",
       "            <dl>\n",
       "              <dt>Version</dt>\n",
       "                <dd><code>v3.3.2</code></dd>\n",
       "              <dt>Master</dt>\n",
       "                <dd><code>local[4]</code></dd>\n",
       "              <dt>AppName</dt>\n",
       "                <dd><code>AqeHandlingSkewApp</code></dd>\n",
       "            </dl>\n",
       "        </div>\n",
       "        \n",
       "            </div>\n",
       "        "
      ],
      "text/plain": [
       "<pyspark.sql.session.SparkSession at 0x16da2eb43d0>"
      ]
     },
     "execution_count": 2,
     "metadata": {},
     "output_type": "execute_result"
    }
   ],
   "source": [
    "from pyspark.sql import SparkSession\n",
    "from pyspark.sql.types import *\n",
    "from pyspark.sql.functions import *\n",
    "\n",
    "spark = (\n",
    "            SparkSession\n",
    "                .builder\n",
    "                .appName(\"AqeHandlingSkewApp\")\n",
    "    \n",
    "                .master(\"local[4]\")\n",
    "    \n",
    "                .config(\"spark.dynamicAllocation.enabled\", \"false\")\n",
    "    \n",
    "    \n",
    "                # Disable Skew Join\n",
    "                .config(\"spark.sql.adaptive.enabled\", \"true\")    \n",
    "                .config(\"spark.sql.adaptive.skewJoin.enabled\", \"false\")\n",
    "    \n",
    "    \n",
    "                .getOrCreate()\n",
    "        )\n",
    "\n",
    "sc = spark.sparkContext\n",
    "\n",
    "spark"
   ]
  },
  {
   "cell_type": "markdown",
   "id": "2829f717",
   "metadata": {},
   "source": [
    "### Create Products DataFrame\n",
    "\n",
    "With 2 million unique Product Ids"
   ]
  },
  {
   "cell_type": "code",
   "execution_count": 3,
   "id": "acd22fc6",
   "metadata": {},
   "outputs": [
    {
     "name": "stdout",
     "output_type": "stream",
     "text": [
      "+---------+-----+\n",
      "|ProductId|Price|\n",
      "+---------+-----+\n",
      "|        1|33.67|\n",
      "|        2|31.56|\n",
      "|        3|20.02|\n",
      "|        4|37.07|\n",
      "|        5|88.98|\n",
      "|        6|93.15|\n",
      "|        7| 5.74|\n",
      "|        8|85.46|\n",
      "|        9|96.78|\n",
      "|       10|13.52|\n",
      "|       11| 9.62|\n",
      "|       12|69.39|\n",
      "|       13|58.52|\n",
      "|       14| 46.0|\n",
      "|       15|41.26|\n",
      "|       16|88.41|\n",
      "|       17|41.81|\n",
      "|       18|43.68|\n",
      "|       19|52.19|\n",
      "|       20|61.34|\n",
      "+---------+-----+\n",
      "only showing top 20 rows\n",
      "\n"
     ]
    }
   ],
   "source": [
    "productsDF = (\n",
    "                 spark\n",
    "                    .range(1, 2000001)   # gives an 'id' column\n",
    "\n",
    "                    .select(\n",
    "                                col(\"id\").alias(\"ProductId\"),\n",
    "\n",
    "                                expr(\"ROUND(RAND() * 100, 2) AS Price\")\n",
    "                           )\n",
    "              )\n",
    "\n",
    "productsDF.show()"
   ]
  },
  {
   "cell_type": "markdown",
   "id": "bfac9984",
   "metadata": {},
   "source": [
    "### Create Sales DataFrame\n",
    "\n",
    "1. With 100 million sales records referring to Products\n",
    "2. Close to 70% sales are of ProductId=1"
   ]
  },
  {
   "cell_type": "code",
   "execution_count": 4,
   "id": "6b425286",
   "metadata": {},
   "outputs": [
    {
     "name": "stdout",
     "output_type": "stream",
     "text": [
      "+-------+---------+------------+----------+\n",
      "|SalesId|ProductId|QuantitySold| SalesDate|\n",
      "+-------+---------+------------+----------+\n",
      "|      1|        1|           6|2022-10-19|\n",
      "|      2|        1|           3|2022-07-16|\n",
      "|      3|    94849|           0|2022-11-20|\n",
      "|      4|        1|           2|2023-02-13|\n",
      "|      5|        1|           0|2022-08-19|\n",
      "|      6|  1134608|           6|2022-11-04|\n",
      "|      7|   205731|           5|2022-09-26|\n",
      "|      8|        1|           4|2022-03-13|\n",
      "|      9|        1|           3|2023-01-14|\n",
      "|     10|        1|           5|2023-02-25|\n",
      "|     11|        1|           8|2022-07-09|\n",
      "|     12|  1977349|           6|2022-12-25|\n",
      "|     13|   286223|           7|2022-10-02|\n",
      "|     14|        1|           9|2022-04-10|\n",
      "|     15|  1499828|           0|2022-08-07|\n",
      "|     16|        1|           2|2023-01-16|\n",
      "|     17|        1|           6|2022-09-08|\n",
      "|     18|        1|           6|2023-01-28|\n",
      "|     19|        1|           2|2022-12-25|\n",
      "|     20|        1|           2|2022-04-19|\n",
      "+-------+---------+------------+----------+\n",
      "only showing top 20 rows\n",
      "\n"
     ]
    }
   ],
   "source": [
    "salesDF = (\n",
    "            spark\n",
    "                .range(1, 100000001)   # gives an 'id' column\n",
    "\n",
    "                .select(\n",
    "                            col(\"id\").alias(\"SalesId\"),\n",
    "\n",
    "                            # ProductId - 70% values will be Id 1\n",
    "                            expr(\"\"\"\n",
    "                                       CASE \n",
    "                                           WHEN RAND() < 0.7 \n",
    "                                                THEN 1                                                    \n",
    "                                           ELSE \n",
    "                                               CAST (RAND() * 2000000 AS INT)\n",
    "                                        END                                            \n",
    "                                 \"\"\").alias(\"ProductId\"),\n",
    "\n",
    "                            # Quantity - Random\n",
    "                            expr(\"CAST(RAND() * 10 AS INTEGER)\").alias(\"QuantitySold\"),\n",
    "\n",
    "                            # Sales Date - Random\n",
    "                            expr(\"DATE_ADD(CURRENT_DATE(), - CAST(RAND() * 365 AS INT))\").alias(\"SalesDate\")\n",
    "                       )\n",
    "            )\n",
    "\n",
    "salesDF.show()"
   ]
  },
  {
   "cell_type": "markdown",
   "id": "ba05317a",
   "metadata": {},
   "source": [
    "### Create views on Products & Sales"
   ]
  },
  {
   "cell_type": "code",
   "execution_count": 5,
   "id": "5d5d0a3c",
   "metadata": {},
   "outputs": [],
   "source": [
    "productsDF.createOrReplaceTempView(\"Products\")\n",
    "\n",
    "salesDF.createOrReplaceTempView(\"Sales\")"
   ]
  },
  {
   "cell_type": "markdown",
   "id": "dd70db36",
   "metadata": {},
   "source": [
    "### Check sales of each product\n",
    "\n",
    "Data is highly skewed in favor of ProductId=1"
   ]
  },
  {
   "cell_type": "code",
   "execution_count": 6,
   "id": "f7aceda6",
   "metadata": {},
   "outputs": [
    {
     "name": "stdout",
     "output_type": "stream",
     "text": [
      "+---------+------------+\n",
      "|ProductId|ProductCount|\n",
      "+---------+------------+\n",
      "|        1|    70004064|\n",
      "|  1977815|          38|\n",
      "|   652857|          37|\n",
      "|  1323805|          36|\n",
      "|   376760|          36|\n",
      "|  1679899|          35|\n",
      "|  1829808|          35|\n",
      "|   165319|          35|\n",
      "|  1105029|          35|\n",
      "|    17836|          35|\n",
      "|   101456|          35|\n",
      "|   640114|          35|\n",
      "|  1519083|          35|\n",
      "|  1941062|          35|\n",
      "|   377511|          35|\n",
      "|  1563812|          34|\n",
      "|  1424152|          34|\n",
      "|   520889|          34|\n",
      "|  1038946|          34|\n",
      "|   560680|          34|\n",
      "+---------+------------+\n",
      "only showing top 20 rows\n",
      "\n"
     ]
    }
   ],
   "source": [
    "spark.sql(\"\"\"\n",
    "\n",
    "SELECT ProductId, COUNT(*) AS ProductCount\n",
    "\n",
    "FROM Sales\n",
    "\n",
    "GROUP BY ProductId\n",
    "\n",
    "ORDER BY ProductCount DESC\n",
    "\n",
    "\"\"\").show()"
   ]
  },
  {
   "cell_type": "markdown",
   "id": "adb76523",
   "metadata": {},
   "source": [
    "### Find total number of products sold per day\n",
    "\n",
    "With Adaptive Query Execution: Skew Join disabled"
   ]
  },
  {
   "cell_type": "code",
   "execution_count": 7,
   "id": "7f96c434",
   "metadata": {},
   "outputs": [
    {
     "name": "stdout",
     "output_type": "stream",
     "text": [
      "+----------+--------------------+\n",
      "| SalesDate|         SalesAmount|\n",
      "+----------+--------------------+\n",
      "|2022-09-19| 4.793803739002777E7|\n",
      "|2022-06-10| 4.785602659002823E7|\n",
      "|2023-01-17| 4.785248331002798E7|\n",
      "|2022-07-14| 4.784608933002815E7|\n",
      "|2022-09-28| 4.780843401002773E7|\n",
      "|2022-04-19|4.7782788870028116E7|\n",
      "|2022-07-21| 4.778059243002849E7|\n",
      "|2022-04-05| 4.777592552002846E7|\n",
      "|2023-01-30| 4.775811895002778E7|\n",
      "|2022-11-16| 4.775654313002841E7|\n",
      "|2023-02-01|  4.77474750900281E7|\n",
      "|2022-10-24| 4.773835376002826E7|\n",
      "|2023-01-08| 4.773803484002813E7|\n",
      "|2022-07-07|  4.77343092200274E7|\n",
      "|2022-09-21| 4.773031625002805E7|\n",
      "|2022-12-04|4.7730253010027975E7|\n",
      "|2023-02-02| 4.772624556002751E7|\n",
      "|2022-12-12|4.7726188580027685E7|\n",
      "|2023-01-09|4.7717497330027826E7|\n",
      "|2022-08-20| 4.771574968002813E7|\n",
      "+----------+--------------------+\n",
      "only showing top 20 rows\n",
      "\n"
     ]
    }
   ],
   "source": [
    "spark.sql(\"\"\"\n",
    "\n",
    "SELECT s.SalesDate, SUM(Price * QuantitySold) AS SalesAmount\n",
    "\n",
    "FROM Sales s\n",
    "\n",
    "    JOIN Products p ON p.ProductId = s.ProductId\n",
    "\n",
    "GROUP BY s.SalesDate\n",
    "\n",
    "ORDER BY SalesAmount DESC\n",
    "\n",
    "\"\"\").show()"
   ]
  },
  {
   "cell_type": "markdown",
   "id": "a5ca0013",
   "metadata": {},
   "source": [
    "### Enable Adaptive Query Execution - Handling Data Skew in Joins"
   ]
  },
  {
   "cell_type": "code",
   "execution_count": 8,
   "id": "f3afce9c",
   "metadata": {},
   "outputs": [],
   "source": [
    "spark.conf.set(\"spark.sql.adaptive.skewJoin.enabled\", \"true\")"
   ]
  },
  {
   "cell_type": "markdown",
   "id": "ca5e006c",
   "metadata": {},
   "source": [
    "### Find total number of products sold per day\n",
    "\n",
    "With Adaptive Query Execution: Skew Join enabled"
   ]
  },
  {
   "cell_type": "code",
   "execution_count": 9,
   "id": "1977d7c5",
   "metadata": {},
   "outputs": [
    {
     "name": "stdout",
     "output_type": "stream",
     "text": [
      "+----------+--------------------+\n",
      "| SalesDate|         SalesAmount|\n",
      "+----------+--------------------+\n",
      "|2022-09-19| 4.793803738999283E7|\n",
      "|2022-06-10| 4.785602658999281E7|\n",
      "|2023-01-17| 4.785248330999274E7|\n",
      "|2022-07-14|  4.78460893299928E7|\n",
      "|2022-09-28|4.7808434009992935E7|\n",
      "|2022-04-19|4.7782788869992815E7|\n",
      "|2022-07-21| 4.778059242999279E7|\n",
      "|2022-04-05|4.7775925519992694E7|\n",
      "|2023-01-30|4.7758118949992664E7|\n",
      "|2022-11-16| 4.775654312999285E7|\n",
      "|2023-02-01| 4.774747508999284E7|\n",
      "|2022-10-24| 4.773835375999287E7|\n",
      "|2023-01-08|  4.77380348399927E7|\n",
      "|2022-07-07| 4.773430921999268E7|\n",
      "|2022-09-21| 4.773031624999287E7|\n",
      "|2022-12-04| 4.773025300999274E7|\n",
      "|2023-02-02|4.7726245559992775E7|\n",
      "|2022-12-12|4.7726188579992846E7|\n",
      "|2023-01-09| 4.771749732999276E7|\n",
      "|2022-08-20| 4.771574967999276E7|\n",
      "+----------+--------------------+\n",
      "only showing top 20 rows\n",
      "\n"
     ]
    }
   ],
   "source": [
    "spark.sql(\"\"\"\n",
    "\n",
    "SELECT s.SalesDate, SUM(Price * QuantitySold) AS SalesAmount\n",
    "\n",
    "FROM Sales s\n",
    "\n",
    "    JOIN Products p ON p.ProductId = s.ProductId\n",
    "\n",
    "GROUP BY s.SalesDate\n",
    "\n",
    "ORDER BY SalesAmount DESC\n",
    "\n",
    "\"\"\").show()"
   ]
  },
  {
   "cell_type": "code",
   "execution_count": null,
   "id": "fef819f1",
   "metadata": {},
   "outputs": [],
   "source": []
  },
  {
   "cell_type": "code",
   "execution_count": null,
   "id": "88663e7a",
   "metadata": {},
   "outputs": [],
   "source": []
  },
  {
   "cell_type": "code",
   "execution_count": null,
   "id": "0c6d7059",
   "metadata": {},
   "outputs": [],
   "source": []
  },
  {
   "cell_type": "code",
   "execution_count": null,
   "id": "bc751a2b",
   "metadata": {},
   "outputs": [],
   "source": []
  },
  {
   "cell_type": "code",
   "execution_count": null,
   "id": "35628c2f",
   "metadata": {},
   "outputs": [],
   "source": []
  },
  {
   "cell_type": "code",
   "execution_count": null,
   "id": "bd9c492f",
   "metadata": {},
   "outputs": [],
   "source": []
  },
  {
   "cell_type": "code",
   "execution_count": null,
   "id": "9a060624",
   "metadata": {},
   "outputs": [],
   "source": []
  },
  {
   "cell_type": "code",
   "execution_count": null,
   "id": "6e3faff4",
   "metadata": {},
   "outputs": [],
   "source": []
  },
  {
   "cell_type": "code",
   "execution_count": null,
   "id": "3270db5f",
   "metadata": {},
   "outputs": [],
   "source": []
  },
  {
   "cell_type": "code",
   "execution_count": null,
   "id": "8aa7ea17",
   "metadata": {},
   "outputs": [],
   "source": []
  },
  {
   "cell_type": "code",
   "execution_count": null,
   "id": "9971e50b",
   "metadata": {},
   "outputs": [],
   "source": []
  },
  {
   "cell_type": "code",
   "execution_count": null,
   "id": "7b2f3a5a",
   "metadata": {},
   "outputs": [],
   "source": []
  },
  {
   "cell_type": "code",
   "execution_count": null,
   "id": "fc149c69",
   "metadata": {},
   "outputs": [],
   "source": []
  },
  {
   "cell_type": "code",
   "execution_count": null,
   "id": "0b1d9c63",
   "metadata": {},
   "outputs": [],
   "source": []
  },
  {
   "cell_type": "code",
   "execution_count": null,
   "id": "d0724be9",
   "metadata": {},
   "outputs": [],
   "source": []
  }
 ],
 "metadata": {
  "kernelspec": {
   "display_name": "Python 3 (ipykernel)",
   "language": "python",
   "name": "python3"
  },
  "language_info": {
   "codemirror_mode": {
    "name": "ipython",
    "version": 3
   },
   "file_extension": ".py",
   "mimetype": "text/x-python",
   "name": "python",
   "nbconvert_exporter": "python",
   "pygments_lexer": "ipython3",
   "version": "3.10.9"
  }
 },
 "nbformat": 4,
 "nbformat_minor": 5
}
