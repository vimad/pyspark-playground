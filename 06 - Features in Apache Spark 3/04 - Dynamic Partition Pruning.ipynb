{
 "cells": [
  {
   "cell_type": "code",
   "execution_count": 1,
   "id": "177d2af8",
   "metadata": {},
   "outputs": [
    {
     "data": {
      "text/html": [
       "<style>pre { white-space: pre !important; }</style>"
      ],
      "text/plain": [
       "<IPython.core.display.HTML object>"
      ]
     },
     "metadata": {},
     "output_type": "display_data"
    }
   ],
   "source": [
    "import findspark\n",
    "findspark.init()\n",
    "findspark.find()\n",
    "\n",
    "from IPython.display import *\n",
    "display(HTML(\"<style>pre { white-space: pre !important; }</style>\"))"
   ]
  },
  {
   "cell_type": "code",
   "execution_count": 2,
   "id": "a5085aa7",
   "metadata": {},
   "outputs": [
    {
     "data": {
      "text/html": [
       "\n",
       "            <div>\n",
       "                <p><b>SparkSession - in-memory</b></p>\n",
       "                \n",
       "        <div>\n",
       "            <p><b>SparkContext</b></p>\n",
       "\n",
       "            <p><a href=\"http://CrystalTalks-PC:4042\">Spark UI</a></p>\n",
       "\n",
       "            <dl>\n",
       "              <dt>Version</dt>\n",
       "                <dd><code>v3.3.2</code></dd>\n",
       "              <dt>Master</dt>\n",
       "                <dd><code>local[4]</code></dd>\n",
       "              <dt>AppName</dt>\n",
       "                <dd><code>DynamicPartitionPruningApp</code></dd>\n",
       "            </dl>\n",
       "        </div>\n",
       "        \n",
       "            </div>\n",
       "        "
      ],
      "text/plain": [
       "<pyspark.sql.session.SparkSession at 0x2b465ed43d0>"
      ]
     },
     "execution_count": 2,
     "metadata": {},
     "output_type": "execute_result"
    }
   ],
   "source": [
    "from pyspark.sql import SparkSession\n",
    "from pyspark.sql.types import *\n",
    "from pyspark.sql.functions import *\n",
    "\n",
    "spark = (\n",
    "            SparkSession\n",
    "                .builder\n",
    "                .appName(\"DynamicPartitionPruningApp\")\n",
    "    \n",
    "                .master(\"local[4]\")\n",
    "    \n",
    "                .config(\"spark.dynamicAllocation.enabled\", \"false\")\n",
    "                .config(\"spark.sql.adaptive.enabled\", \"false\")                    \n",
    "    \n",
    "    \n",
    "                # Disable Dynamic Partition Pruning\n",
    "                .config(\"spark.sql.optimizer.dynamicPartitionPruning.enabled\", \"false\")\n",
    "    \n",
    "                .getOrCreate()\n",
    "        )\n",
    "\n",
    "sc = spark.sparkContext\n",
    "\n",
    "spark"
   ]
  },
  {
   "cell_type": "markdown",
   "id": "7d44f263",
   "metadata": {},
   "source": [
    "### Save large DataFrame as a Partitioned Table"
   ]
  },
  {
   "cell_type": "code",
   "execution_count": 3,
   "id": "78c081aa",
   "metadata": {},
   "outputs": [],
   "source": [
    "# Create schema for Yellow Taxi data\n",
    "yellowTaxiSchema = (\n",
    "                        StructType\n",
    "                        ([ \n",
    "                            StructField(\"VendorId\"               , IntegerType()   , True),\n",
    "                            StructField(\"PickupTime\"             , TimestampType() , True),\n",
    "                            StructField(\"DropTime\"               , TimestampType() , True),                            \n",
    "                            StructField(\"PassengerCount\"         , DoubleType()    , True),\n",
    "                            StructField(\"TripDistance\"           , DoubleType()    , True),\n",
    "                            StructField(\"RateCodeId\"             , DoubleType()    , True),                            \n",
    "                            StructField(\"StoreAndFwdFlag\"        , StringType()    , True),\n",
    "                            StructField(\"PickupLocationId\"       , IntegerType()   , True),\n",
    "                            StructField(\"DropLocationId\"         , IntegerType()   , True),                            \n",
    "                            StructField(\"PaymentType\"            , IntegerType()   , True),                            \n",
    "                            StructField(\"FareAmount\"             , DoubleType()    , True),\n",
    "                            StructField(\"Extra\"                  , DoubleType()    , True),\n",
    "                            StructField(\"MtaTax\"                 , DoubleType()    , True),\n",
    "                            StructField(\"TipAmount\"              , DoubleType()    , True),\n",
    "                            StructField(\"TollsAmount\"            , DoubleType()    , True),\n",
    "                            StructField(\"ImprovementSurcharge\"   , DoubleType()    , True),\n",
    "                            StructField(\"TotalAmount\"            , DoubleType()    , True),\n",
    "                            StructField(\"CongestionSurcharge\"    , DoubleType()    , True),\n",
    "                            StructField(\"AirportFee\"             , DoubleType()    , True)\n",
    "                        ])\n",
    "                   )\n",
    "\n",
    "\n",
    "# Read Yellow Taxis file\n",
    "yellowTaxiDF = (\n",
    "                  spark\n",
    "                    .read\n",
    "                    .option(\"header\", \"true\")    \n",
    "                    .schema(yellowTaxiSchema)    \n",
    "                    .csv(\"C:\\SparkCourse\\DataFiles\\Raw\\YellowTaxis_202210.csv\")\n",
    "               )\n",
    "\n",
    "\n",
    "# Save Yellow Taxis as a partitioned table\n",
    "(\n",
    "    yellowTaxiDF\n",
    "            .write\n",
    "    \n",
    "            .partitionBy(\"PickupLocationId\")\n",
    "    \n",
    "            .option(\"header\", \"true\")\n",
    "            .option(\"dateFormat\", \"yyyy-MM-dd HH:mm:ss.S\")    \n",
    "            .mode(\"overwrite\")\n",
    "            .format(\"csv\")\n",
    "            .option(\"path\", \"C:\\SparkCourse\\DataFiles\\Output\\YellowTaxisPartitioned.csv\")\n",
    "    \n",
    "            .saveAsTable(\"YellowTaxis\")\n",
    ")"
   ]
  },
  {
   "cell_type": "markdown",
   "id": "bbd65073",
   "metadata": {},
   "source": [
    "### Save small DataFrame as a non-partitioned table"
   ]
  },
  {
   "cell_type": "code",
   "execution_count": 4,
   "id": "85129f81",
   "metadata": {},
   "outputs": [],
   "source": [
    "taxiZonesSchema = \"PickupLocationId INT, Borough STRING, Zone STRING, ServiceZone STRING\"\n",
    "\n",
    "# Read Taxi Zones file\n",
    "taxiZonesDF = (\n",
    "                  spark\n",
    "                    .read                    \n",
    "                    .schema(taxiZonesSchema)\n",
    "                    .csv(\"C:\\SparkCourse\\DataFiles\\Raw\\TaxiZones.csv\")\n",
    "              )\n",
    "\n",
    "# Save Taxi Zones as a non-partitioned table\n",
    "(\n",
    "    taxiZonesDF\n",
    "            .write    \n",
    "            .option(\"header\", \"true\")\n",
    "            .option(\"dateFormat\", \"yyyy-MM-dd HH:mm:ss.S\")    \n",
    "            .mode(\"overwrite\")\n",
    "            .format(\"csv\")\n",
    "            .option(\"path\", \"C:\\SparkCourse\\DataFiles\\Output\\TaxiZones.csv\")\n",
    "    \n",
    "            .saveAsTable(\"TaxiZones\")\n",
    ")"
   ]
  },
  {
   "cell_type": "markdown",
   "id": "0c1bed78",
   "metadata": {},
   "source": [
    "### Join Yellow Taxis and Taxi Zones with filter on Yellow Taxis table\n",
    "\n",
    "Filtering on same column (PickupLocationId) by which data is partitioned"
   ]
  },
  {
   "cell_type": "code",
   "execution_count": 5,
   "id": "92fd7c50",
   "metadata": {},
   "outputs": [
    {
     "name": "stdout",
     "output_type": "stream",
     "text": [
      "+--------+-------------------+-------------------+--------------+------------+----------+---------------+--------------+-----------+----------+-----+------+---------+-----------+--------------------+-----------+-------------------+----------+----------------+----------------+-------+--------------+-----------+\n",
      "|VendorId|         PickupTime|           DropTime|PassengerCount|TripDistance|RateCodeId|StoreAndFwdFlag|DropLocationId|PaymentType|FareAmount|Extra|MtaTax|TipAmount|TollsAmount|ImprovementSurcharge|TotalAmount|CongestionSurcharge|AirportFee|PickupLocationId|PickupLocationId|Borough|          Zone|ServiceZone|\n",
      "+--------+-------------------+-------------------+--------------+------------+----------+---------------+--------------+-----------+----------+-----+------+---------+-----------+--------------------+-----------+-------------------+----------+----------------+----------------+-------+--------------+-----------+\n",
      "|       2|2022-10-09 18:42:58|2022-10-09 18:43:02|           1.0|        0.02|       5.0|              N|             1|          1|      30.0|  0.0|   0.0|      0.0|        0.0|                 0.3|       30.3|                0.0|       0.0|               1|               1|    EWR|Newark Airport|        EWR|\n",
      "|       2|2022-10-14 15:48:28|2022-10-14 15:48:31|           1.0|         0.0|       5.0|              N|           264|          1|      95.0|  0.0|   0.5|    23.95|        0.0|                 0.3|     119.75|                0.0|       0.0|               1|               1|    EWR|Newark Airport|        EWR|\n",
      "|       2|2022-10-09 19:24:29|2022-10-09 19:24:38|           1.0|         0.0|       5.0|              N|             1|          2|     125.0|  0.0|   0.0|      0.0|        0.0|                 0.3|      125.3|                0.0|       0.0|               1|               1|    EWR|Newark Airport|        EWR|\n",
      "|       2|2022-10-14 17:28:20|2022-10-14 17:28:34|           1.0|         0.0|       5.0|              N|             1|          1|      79.0|  0.0|   0.0|    19.61|      18.75|                 0.3|     117.66|                0.0|       0.0|               1|               1|    EWR|Newark Airport|        EWR|\n",
      "|       2|2022-10-09 19:27:32|2022-10-09 19:27:36|           3.0|         0.0|       5.0|              N|             1|          1|     105.0|  0.0|   0.0|    21.06|        0.0|                 0.3|     126.36|                0.0|       0.0|               1|               1|    EWR|Newark Airport|        EWR|\n",
      "|       2|2022-10-14 16:34:44|2022-10-14 16:34:51|           4.0|        0.02|       5.0|              N|             1|          1|     115.0|  0.0|   0.0|    23.06|        0.0|                 0.3|     138.36|                0.0|       0.0|               1|               1|    EWR|Newark Airport|        EWR|\n",
      "|       2|2022-10-09 19:36:38|2022-10-09 19:36:46|           2.0|         0.0|       5.0|              N|             1|          1|      90.0|  0.0|   0.0|    18.06|        0.0|                 0.3|     108.36|                0.0|       0.0|               1|               1|    EWR|Newark Airport|        EWR|\n",
      "|       2|2022-10-14 18:28:57|2022-10-14 18:33:24|           1.0|        0.12|       5.0|              N|             1|          1|     110.0|  0.0|   0.0|    33.09|        0.0|                 0.3|     143.39|                0.0|       0.0|               1|               1|    EWR|Newark Airport|        EWR|\n",
      "|       2|2022-10-09 20:20:25|2022-10-09 20:20:51|           3.0|         0.0|       5.0|              N|             1|          1|      69.0|  0.0|   0.0|    18.46|       23.0|                 0.3|     110.76|                0.0|       0.0|               1|               1|    EWR|Newark Airport|        EWR|\n",
      "|       2|2022-10-14 17:50:32|2022-10-14 17:51:39|           1.0|        0.52|       5.0|              N|             1|          1|      90.0|  0.0|   0.0|      5.0|      11.75|                 0.3|     107.05|                0.0|       0.0|               1|               1|    EWR|Newark Airport|        EWR|\n",
      "|       2|2022-10-09 20:48:20|2022-10-09 20:50:24|           2.0|        0.41|       5.0|              N|             1|          1|      85.0|  0.0|   0.0|    20.61|      17.75|                 0.3|     123.66|                0.0|       0.0|               1|               1|    EWR|Newark Airport|        EWR|\n",
      "|       2|2022-10-14 18:42:42|2022-10-14 18:42:56|           4.0|         0.0|       5.0|              N|             1|          1|      95.0|  0.0|   0.0|    22.81|      18.75|                 0.3|     136.86|                0.0|       0.0|               1|               1|    EWR|Newark Airport|        EWR|\n",
      "|       2|2022-10-09 20:39:50|2022-10-09 20:39:54|           1.0|         0.0|       5.0|              N|             1|          1|      95.0|  0.0|   0.5|    19.16|        0.0|                 0.3|     114.96|                0.0|       0.0|               1|               1|    EWR|Newark Airport|        EWR|\n",
      "|       2|2022-10-14 18:42:11|2022-10-14 18:42:23|           2.0|        0.01|       5.0|              N|             1|          1|      85.0|  0.0|   0.0|    21.26|       21.0|                 0.3|     127.56|                0.0|       0.0|               1|               1|    EWR|Newark Airport|        EWR|\n",
      "|       2|2022-10-09 21:43:36|2022-10-09 21:43:49|           1.0|         0.0|       5.0|              N|             1|          1|      23.0|  0.0|   0.0|      0.0|        0.0|                 0.3|       23.3|                0.0|       0.0|               1|               1|    EWR|Newark Airport|        EWR|\n",
      "|       2|2022-10-14 18:44:06|2022-10-14 18:44:17|           2.0|         0.0|       5.0|              N|             1|          1|      79.0|  0.0|   0.5|    18.31|      11.75|                 0.3|     109.86|                0.0|       0.0|               1|               1|    EWR|Newark Airport|        EWR|\n",
      "|       2|2022-10-09 22:12:10|2022-10-09 22:13:00|           4.0|         0.0|       5.0|              N|             1|          2|      55.0|  0.0|   0.0|      0.0|      16.75|                 0.3|      72.05|                0.0|       0.0|               1|               1|    EWR|Newark Airport|        EWR|\n",
      "|       1|2022-10-14 20:28:22|2022-10-14 20:29:26|           1.0|         0.0|       5.0|              N|             1|          1|      50.0|  0.0|   0.0|    10.05|        0.0|                 0.3|      60.35|                0.0|       0.0|               1|               1|    EWR|Newark Airport|        EWR|\n",
      "|       2|2022-10-09 21:33:06|2022-10-09 21:33:11|           0.0|         0.0|       5.0|              N|             1|          1|     119.0|  0.0|   0.5|      0.0|        0.0|                 0.3|      119.8|                0.0|       0.0|               1|               1|    EWR|Newark Airport|        EWR|\n",
      "|       2|2022-10-14 20:04:18|2022-10-14 20:04:24|           4.0|         0.0|       5.0|              N|             1|          1|      95.0|  0.0|   0.0|    23.82|        0.0|                 0.3|     119.12|                0.0|       0.0|               1|               1|    EWR|Newark Airport|        EWR|\n",
      "+--------+-------------------+-------------------+--------------+------------+----------+---------------+--------------+-----------+----------+-----+------+---------+-----------+--------------------+-----------+-------------------+----------+----------------+----------------+-------+--------------+-----------+\n",
      "only showing top 20 rows\n",
      "\n"
     ]
    }
   ],
   "source": [
    "spark.sql(\"\"\"\n",
    "\n",
    "SELECT *\n",
    "\n",
    "FROM YellowTaxis yt\n",
    "\n",
    "    JOIN TaxiZones tz ON yt.PickupLocationId = tz.PickupLocationId\n",
    "    \n",
    "    WHERE yt.PickupLocationid = 1\n",
    "\n",
    "\"\"\").show()"
   ]
  },
  {
   "cell_type": "markdown",
   "id": "a22ad5f7",
   "metadata": {},
   "source": [
    "### Check Pickup Location Ids in one Borough\n",
    "\n",
    "'EWR' borough has only one Pickup Location Id, which is Id=1"
   ]
  },
  {
   "cell_type": "code",
   "execution_count": 6,
   "id": "c54379aa",
   "metadata": {},
   "outputs": [
    {
     "name": "stdout",
     "output_type": "stream",
     "text": [
      "+----------------+-------+--------------+-----------+\n",
      "|PickupLocationId|Borough|          Zone|ServiceZone|\n",
      "+----------------+-------+--------------+-----------+\n",
      "|               1|    EWR|Newark Airport|        EWR|\n",
      "+----------------+-------+--------------+-----------+\n",
      "\n"
     ]
    }
   ],
   "source": [
    "spark.sql(\"\"\"\n",
    "\n",
    "SELECT *\n",
    "\n",
    "FROM TaxiZones\n",
    "\n",
    "WHERE Borough = 'EWR'\n",
    "\n",
    "\"\"\").show()"
   ]
  },
  {
   "cell_type": "markdown",
   "id": "f4bb1709",
   "metadata": {},
   "source": [
    "### DPP disabled: Join Yellow Taxis and Taxi Zones with filter on Taxi Zones table\n",
    "\n",
    "Output is the same as previous query. <br/>\n",
    "But since filter is on Taxi Zones, Partition Pruning will not work."
   ]
  },
  {
   "cell_type": "code",
   "execution_count": 7,
   "id": "a26eceb6",
   "metadata": {},
   "outputs": [
    {
     "name": "stdout",
     "output_type": "stream",
     "text": [
      "+--------+-------------------+-------------------+--------------+------------+----------+---------------+--------------+-----------+----------+-----+------+---------+-----------+--------------------+-----------+-------------------+----------+----------------+----------------+-------+--------------+-----------+\n",
      "|VendorId|         PickupTime|           DropTime|PassengerCount|TripDistance|RateCodeId|StoreAndFwdFlag|DropLocationId|PaymentType|FareAmount|Extra|MtaTax|TipAmount|TollsAmount|ImprovementSurcharge|TotalAmount|CongestionSurcharge|AirportFee|PickupLocationId|PickupLocationId|Borough|          Zone|ServiceZone|\n",
      "+--------+-------------------+-------------------+--------------+------------+----------+---------------+--------------+-----------+----------+-----+------+---------+-----------+--------------------+-----------+-------------------+----------+----------------+----------------+-------+--------------+-----------+\n",
      "|       2|2022-10-09 18:42:58|2022-10-09 18:43:02|           1.0|        0.02|       5.0|              N|             1|          1|      30.0|  0.0|   0.0|      0.0|        0.0|                 0.3|       30.3|                0.0|       0.0|               1|               1|    EWR|Newark Airport|        EWR|\n",
      "|       2|2022-10-14 15:48:28|2022-10-14 15:48:31|           1.0|         0.0|       5.0|              N|           264|          1|      95.0|  0.0|   0.5|    23.95|        0.0|                 0.3|     119.75|                0.0|       0.0|               1|               1|    EWR|Newark Airport|        EWR|\n",
      "|       2|2022-10-09 19:24:29|2022-10-09 19:24:38|           1.0|         0.0|       5.0|              N|             1|          2|     125.0|  0.0|   0.0|      0.0|        0.0|                 0.3|      125.3|                0.0|       0.0|               1|               1|    EWR|Newark Airport|        EWR|\n",
      "|       2|2022-10-14 17:28:20|2022-10-14 17:28:34|           1.0|         0.0|       5.0|              N|             1|          1|      79.0|  0.0|   0.0|    19.61|      18.75|                 0.3|     117.66|                0.0|       0.0|               1|               1|    EWR|Newark Airport|        EWR|\n",
      "|       2|2022-10-09 19:27:32|2022-10-09 19:27:36|           3.0|         0.0|       5.0|              N|             1|          1|     105.0|  0.0|   0.0|    21.06|        0.0|                 0.3|     126.36|                0.0|       0.0|               1|               1|    EWR|Newark Airport|        EWR|\n",
      "|       2|2022-10-14 16:34:44|2022-10-14 16:34:51|           4.0|        0.02|       5.0|              N|             1|          1|     115.0|  0.0|   0.0|    23.06|        0.0|                 0.3|     138.36|                0.0|       0.0|               1|               1|    EWR|Newark Airport|        EWR|\n",
      "|       2|2022-10-09 19:36:38|2022-10-09 19:36:46|           2.0|         0.0|       5.0|              N|             1|          1|      90.0|  0.0|   0.0|    18.06|        0.0|                 0.3|     108.36|                0.0|       0.0|               1|               1|    EWR|Newark Airport|        EWR|\n",
      "|       2|2022-10-14 18:28:57|2022-10-14 18:33:24|           1.0|        0.12|       5.0|              N|             1|          1|     110.0|  0.0|   0.0|    33.09|        0.0|                 0.3|     143.39|                0.0|       0.0|               1|               1|    EWR|Newark Airport|        EWR|\n",
      "|       2|2022-10-09 20:20:25|2022-10-09 20:20:51|           3.0|         0.0|       5.0|              N|             1|          1|      69.0|  0.0|   0.0|    18.46|       23.0|                 0.3|     110.76|                0.0|       0.0|               1|               1|    EWR|Newark Airport|        EWR|\n",
      "|       2|2022-10-14 17:50:32|2022-10-14 17:51:39|           1.0|        0.52|       5.0|              N|             1|          1|      90.0|  0.0|   0.0|      5.0|      11.75|                 0.3|     107.05|                0.0|       0.0|               1|               1|    EWR|Newark Airport|        EWR|\n",
      "|       2|2022-10-09 20:48:20|2022-10-09 20:50:24|           2.0|        0.41|       5.0|              N|             1|          1|      85.0|  0.0|   0.0|    20.61|      17.75|                 0.3|     123.66|                0.0|       0.0|               1|               1|    EWR|Newark Airport|        EWR|\n",
      "|       2|2022-10-14 18:42:42|2022-10-14 18:42:56|           4.0|         0.0|       5.0|              N|             1|          1|      95.0|  0.0|   0.0|    22.81|      18.75|                 0.3|     136.86|                0.0|       0.0|               1|               1|    EWR|Newark Airport|        EWR|\n",
      "|       2|2022-10-09 20:39:50|2022-10-09 20:39:54|           1.0|         0.0|       5.0|              N|             1|          1|      95.0|  0.0|   0.5|    19.16|        0.0|                 0.3|     114.96|                0.0|       0.0|               1|               1|    EWR|Newark Airport|        EWR|\n",
      "|       2|2022-10-14 18:42:11|2022-10-14 18:42:23|           2.0|        0.01|       5.0|              N|             1|          1|      85.0|  0.0|   0.0|    21.26|       21.0|                 0.3|     127.56|                0.0|       0.0|               1|               1|    EWR|Newark Airport|        EWR|\n",
      "|       2|2022-10-09 21:43:36|2022-10-09 21:43:49|           1.0|         0.0|       5.0|              N|             1|          1|      23.0|  0.0|   0.0|      0.0|        0.0|                 0.3|       23.3|                0.0|       0.0|               1|               1|    EWR|Newark Airport|        EWR|\n",
      "|       2|2022-10-14 18:44:06|2022-10-14 18:44:17|           2.0|         0.0|       5.0|              N|             1|          1|      79.0|  0.0|   0.5|    18.31|      11.75|                 0.3|     109.86|                0.0|       0.0|               1|               1|    EWR|Newark Airport|        EWR|\n",
      "|       2|2022-10-09 22:12:10|2022-10-09 22:13:00|           4.0|         0.0|       5.0|              N|             1|          2|      55.0|  0.0|   0.0|      0.0|      16.75|                 0.3|      72.05|                0.0|       0.0|               1|               1|    EWR|Newark Airport|        EWR|\n",
      "|       1|2022-10-14 20:28:22|2022-10-14 20:29:26|           1.0|         0.0|       5.0|              N|             1|          1|      50.0|  0.0|   0.0|    10.05|        0.0|                 0.3|      60.35|                0.0|       0.0|               1|               1|    EWR|Newark Airport|        EWR|\n",
      "|       2|2022-10-09 21:33:06|2022-10-09 21:33:11|           0.0|         0.0|       5.0|              N|             1|          1|     119.0|  0.0|   0.5|      0.0|        0.0|                 0.3|      119.8|                0.0|       0.0|               1|               1|    EWR|Newark Airport|        EWR|\n",
      "|       2|2022-10-14 20:04:18|2022-10-14 20:04:24|           4.0|         0.0|       5.0|              N|             1|          1|      95.0|  0.0|   0.0|    23.82|        0.0|                 0.3|     119.12|                0.0|       0.0|               1|               1|    EWR|Newark Airport|        EWR|\n",
      "+--------+-------------------+-------------------+--------------+------------+----------+---------------+--------------+-----------+----------+-----+------+---------+-----------+--------------------+-----------+-------------------+----------+----------------+----------------+-------+--------------+-----------+\n",
      "only showing top 20 rows\n",
      "\n"
     ]
    }
   ],
   "source": [
    "spark.sql(\"\"\"\n",
    "\n",
    "SELECT * \n",
    "\n",
    "FROM YellowTaxis yt\n",
    "\n",
    "    JOIN TaxiZones tz ON yt.PickupLocationId = tz.PickupLocationId\n",
    "        \n",
    "    WHERE tz.Borough = 'EWR'     --WHERE yt.PickupLocationid = 1 (Both will yield same output)\n",
    "\n",
    "\"\"\").show()"
   ]
  },
  {
   "cell_type": "markdown",
   "id": "eb63958d",
   "metadata": {},
   "source": [
    "### Enable Dynamic Partition Pruning"
   ]
  },
  {
   "cell_type": "code",
   "execution_count": 8,
   "id": "5a8b6fa4",
   "metadata": {},
   "outputs": [],
   "source": [
    "spark.conf.set( \"spark.sql.optimizer.dynamicPartitionPruning.enabled\", \"true\" )"
   ]
  },
  {
   "cell_type": "markdown",
   "id": "8a702de7",
   "metadata": {},
   "source": [
    "### DPP enabled: Join Yellow Taxis and Taxi Zones with filter on Taxi Zones table\n",
    "\n",
    "Partition Pruning will work"
   ]
  },
  {
   "cell_type": "code",
   "execution_count": 9,
   "id": "fa63cc98",
   "metadata": {},
   "outputs": [
    {
     "name": "stdout",
     "output_type": "stream",
     "text": [
      "+--------+-------------------+-------------------+--------------+------------+----------+---------------+--------------+-----------+----------+-----+------+---------+-----------+--------------------+-----------+-------------------+----------+----------------+----------------+-------+--------------+-----------+\n",
      "|VendorId|         PickupTime|           DropTime|PassengerCount|TripDistance|RateCodeId|StoreAndFwdFlag|DropLocationId|PaymentType|FareAmount|Extra|MtaTax|TipAmount|TollsAmount|ImprovementSurcharge|TotalAmount|CongestionSurcharge|AirportFee|PickupLocationId|PickupLocationId|Borough|          Zone|ServiceZone|\n",
      "+--------+-------------------+-------------------+--------------+------------+----------+---------------+--------------+-----------+----------+-----+------+---------+-----------+--------------------+-----------+-------------------+----------+----------------+----------------+-------+--------------+-----------+\n",
      "|       2|2022-10-09 18:42:58|2022-10-09 18:43:02|           1.0|        0.02|       5.0|              N|             1|          1|      30.0|  0.0|   0.0|      0.0|        0.0|                 0.3|       30.3|                0.0|       0.0|               1|               1|    EWR|Newark Airport|        EWR|\n",
      "|       2|2022-10-14 15:48:28|2022-10-14 15:48:31|           1.0|         0.0|       5.0|              N|           264|          1|      95.0|  0.0|   0.5|    23.95|        0.0|                 0.3|     119.75|                0.0|       0.0|               1|               1|    EWR|Newark Airport|        EWR|\n",
      "|       2|2022-10-09 19:24:29|2022-10-09 19:24:38|           1.0|         0.0|       5.0|              N|             1|          2|     125.0|  0.0|   0.0|      0.0|        0.0|                 0.3|      125.3|                0.0|       0.0|               1|               1|    EWR|Newark Airport|        EWR|\n",
      "|       2|2022-10-14 17:28:20|2022-10-14 17:28:34|           1.0|         0.0|       5.0|              N|             1|          1|      79.0|  0.0|   0.0|    19.61|      18.75|                 0.3|     117.66|                0.0|       0.0|               1|               1|    EWR|Newark Airport|        EWR|\n",
      "|       2|2022-10-09 19:27:32|2022-10-09 19:27:36|           3.0|         0.0|       5.0|              N|             1|          1|     105.0|  0.0|   0.0|    21.06|        0.0|                 0.3|     126.36|                0.0|       0.0|               1|               1|    EWR|Newark Airport|        EWR|\n",
      "|       2|2022-10-14 16:34:44|2022-10-14 16:34:51|           4.0|        0.02|       5.0|              N|             1|          1|     115.0|  0.0|   0.0|    23.06|        0.0|                 0.3|     138.36|                0.0|       0.0|               1|               1|    EWR|Newark Airport|        EWR|\n",
      "|       2|2022-10-09 19:36:38|2022-10-09 19:36:46|           2.0|         0.0|       5.0|              N|             1|          1|      90.0|  0.0|   0.0|    18.06|        0.0|                 0.3|     108.36|                0.0|       0.0|               1|               1|    EWR|Newark Airport|        EWR|\n",
      "|       2|2022-10-14 18:28:57|2022-10-14 18:33:24|           1.0|        0.12|       5.0|              N|             1|          1|     110.0|  0.0|   0.0|    33.09|        0.0|                 0.3|     143.39|                0.0|       0.0|               1|               1|    EWR|Newark Airport|        EWR|\n",
      "|       2|2022-10-09 20:20:25|2022-10-09 20:20:51|           3.0|         0.0|       5.0|              N|             1|          1|      69.0|  0.0|   0.0|    18.46|       23.0|                 0.3|     110.76|                0.0|       0.0|               1|               1|    EWR|Newark Airport|        EWR|\n",
      "|       2|2022-10-14 17:50:32|2022-10-14 17:51:39|           1.0|        0.52|       5.0|              N|             1|          1|      90.0|  0.0|   0.0|      5.0|      11.75|                 0.3|     107.05|                0.0|       0.0|               1|               1|    EWR|Newark Airport|        EWR|\n",
      "|       2|2022-10-09 20:48:20|2022-10-09 20:50:24|           2.0|        0.41|       5.0|              N|             1|          1|      85.0|  0.0|   0.0|    20.61|      17.75|                 0.3|     123.66|                0.0|       0.0|               1|               1|    EWR|Newark Airport|        EWR|\n",
      "|       2|2022-10-14 18:42:42|2022-10-14 18:42:56|           4.0|         0.0|       5.0|              N|             1|          1|      95.0|  0.0|   0.0|    22.81|      18.75|                 0.3|     136.86|                0.0|       0.0|               1|               1|    EWR|Newark Airport|        EWR|\n",
      "|       2|2022-10-09 20:39:50|2022-10-09 20:39:54|           1.0|         0.0|       5.0|              N|             1|          1|      95.0|  0.0|   0.5|    19.16|        0.0|                 0.3|     114.96|                0.0|       0.0|               1|               1|    EWR|Newark Airport|        EWR|\n",
      "|       2|2022-10-14 18:42:11|2022-10-14 18:42:23|           2.0|        0.01|       5.0|              N|             1|          1|      85.0|  0.0|   0.0|    21.26|       21.0|                 0.3|     127.56|                0.0|       0.0|               1|               1|    EWR|Newark Airport|        EWR|\n",
      "|       2|2022-10-09 21:43:36|2022-10-09 21:43:49|           1.0|         0.0|       5.0|              N|             1|          1|      23.0|  0.0|   0.0|      0.0|        0.0|                 0.3|       23.3|                0.0|       0.0|               1|               1|    EWR|Newark Airport|        EWR|\n",
      "|       2|2022-10-14 18:44:06|2022-10-14 18:44:17|           2.0|         0.0|       5.0|              N|             1|          1|      79.0|  0.0|   0.5|    18.31|      11.75|                 0.3|     109.86|                0.0|       0.0|               1|               1|    EWR|Newark Airport|        EWR|\n",
      "|       2|2022-10-09 22:12:10|2022-10-09 22:13:00|           4.0|         0.0|       5.0|              N|             1|          2|      55.0|  0.0|   0.0|      0.0|      16.75|                 0.3|      72.05|                0.0|       0.0|               1|               1|    EWR|Newark Airport|        EWR|\n",
      "|       1|2022-10-14 20:28:22|2022-10-14 20:29:26|           1.0|         0.0|       5.0|              N|             1|          1|      50.0|  0.0|   0.0|    10.05|        0.0|                 0.3|      60.35|                0.0|       0.0|               1|               1|    EWR|Newark Airport|        EWR|\n",
      "|       2|2022-10-09 21:33:06|2022-10-09 21:33:11|           0.0|         0.0|       5.0|              N|             1|          1|     119.0|  0.0|   0.5|      0.0|        0.0|                 0.3|      119.8|                0.0|       0.0|               1|               1|    EWR|Newark Airport|        EWR|\n",
      "|       2|2022-10-14 20:04:18|2022-10-14 20:04:24|           4.0|         0.0|       5.0|              N|             1|          1|      95.0|  0.0|   0.0|    23.82|        0.0|                 0.3|     119.12|                0.0|       0.0|               1|               1|    EWR|Newark Airport|        EWR|\n",
      "+--------+-------------------+-------------------+--------------+------------+----------+---------------+--------------+-----------+----------+-----+------+---------+-----------+--------------------+-----------+-------------------+----------+----------------+----------------+-------+--------------+-----------+\n",
      "only showing top 20 rows\n",
      "\n"
     ]
    }
   ],
   "source": [
    "spark.sql(\"\"\"\n",
    "\n",
    "SELECT * \n",
    "\n",
    "FROM YellowTaxis yt\n",
    "\n",
    "    JOIN TaxiZones tz ON yt.PickupLocationId = tz.PickupLocationId\n",
    "    \n",
    "    WHERE tz.Borough = 'EWR'\n",
    "\n",
    "\"\"\").show()"
   ]
  },
  {
   "cell_type": "code",
   "execution_count": null,
   "id": "8b4f5936",
   "metadata": {},
   "outputs": [],
   "source": []
  },
  {
   "cell_type": "code",
   "execution_count": null,
   "id": "fd9fd173",
   "metadata": {},
   "outputs": [],
   "source": []
  },
  {
   "cell_type": "code",
   "execution_count": null,
   "id": "be2a7b37",
   "metadata": {},
   "outputs": [],
   "source": []
  },
  {
   "cell_type": "code",
   "execution_count": null,
   "id": "82b79ecd",
   "metadata": {},
   "outputs": [],
   "source": []
  },
  {
   "cell_type": "code",
   "execution_count": null,
   "id": "089ed816",
   "metadata": {},
   "outputs": [],
   "source": []
  },
  {
   "cell_type": "code",
   "execution_count": null,
   "id": "6579c6e2",
   "metadata": {},
   "outputs": [],
   "source": []
  },
  {
   "cell_type": "code",
   "execution_count": null,
   "id": "d9f51a08",
   "metadata": {},
   "outputs": [],
   "source": []
  },
  {
   "cell_type": "code",
   "execution_count": null,
   "id": "780e7372",
   "metadata": {},
   "outputs": [],
   "source": []
  },
  {
   "cell_type": "code",
   "execution_count": null,
   "id": "53746f89",
   "metadata": {},
   "outputs": [],
   "source": []
  },
  {
   "cell_type": "code",
   "execution_count": null,
   "id": "2fa7d8e7",
   "metadata": {},
   "outputs": [],
   "source": []
  },
  {
   "cell_type": "code",
   "execution_count": null,
   "id": "3966b915",
   "metadata": {},
   "outputs": [],
   "source": []
  },
  {
   "cell_type": "code",
   "execution_count": null,
   "id": "7084b6fa",
   "metadata": {},
   "outputs": [],
   "source": []
  }
 ],
 "metadata": {
  "kernelspec": {
   "display_name": "Python 3 (ipykernel)",
   "language": "python",
   "name": "python3"
  },
  "language_info": {
   "codemirror_mode": {
    "name": "ipython",
    "version": 3
   },
   "file_extension": ".py",
   "mimetype": "text/x-python",
   "name": "python",
   "nbconvert_exporter": "python",
   "pygments_lexer": "ipython3",
   "version": "3.10.9"
  }
 },
 "nbformat": 4,
 "nbformat_minor": 5
}
