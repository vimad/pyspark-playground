{
 "cells": [
  {
   "cell_type": "code",
   "execution_count": 1,
   "id": "3232ad47",
   "metadata": {},
   "outputs": [
    {
     "data": {
      "text/html": [
       "<style>pre { white-space: pre !important; }</style>"
      ],
      "text/plain": [
       "<IPython.core.display.HTML object>"
      ]
     },
     "metadata": {},
     "output_type": "display_data"
    }
   ],
   "source": [
    "import findspark\n",
    "findspark.init()\n",
    "findspark.find()\n",
    "\n",
    "from IPython.display import *\n",
    "display(HTML(\"<style>pre { white-space: pre !important; }</style>\"))"
   ]
  },
  {
   "cell_type": "code",
   "execution_count": 2,
   "id": "bee508dd",
   "metadata": {},
   "outputs": [
    {
     "data": {
      "text/html": [
       "\n",
       "            <div>\n",
       "                <p><b>SparkSession - in-memory</b></p>\n",
       "                \n",
       "        <div>\n",
       "            <p><b>SparkContext</b></p>\n",
       "\n",
       "            <p><a href=\"http://CrystalTalks-PC:4044\">Spark UI</a></p>\n",
       "\n",
       "            <dl>\n",
       "              <dt>Version</dt>\n",
       "                <dd><code>v3.3.2</code></dd>\n",
       "              <dt>Master</dt>\n",
       "                <dd><code>local[4]</code></dd>\n",
       "              <dt>AppName</dt>\n",
       "                <dd><code>WindowOperationsApp</code></dd>\n",
       "            </dl>\n",
       "        </div>\n",
       "        \n",
       "            </div>\n",
       "        "
      ],
      "text/plain": [
       "<pyspark.sql.session.SparkSession at 0x1eb3dfa4280>"
      ]
     },
     "execution_count": 2,
     "metadata": {},
     "output_type": "execute_result"
    }
   ],
   "source": [
    "from pyspark.sql import SparkSession\n",
    "from pyspark.sql.types import *\n",
    "from pyspark.sql.functions import *\n",
    "\n",
    "spark = (\n",
    "            SparkSession\n",
    "                .builder\n",
    "                .appName(\"WindowOperationsApp\")\n",
    "                .master(\"local[4]\")\n",
    "    \n",
    "                .config(\"spark.dynamicAllocation.enabled\", \"false\")\n",
    "                .config(\"spark.sql.adaptive.enabled\", \"false\")\n",
    "                \n",
    "                .getOrCreate()\n",
    "        )\n",
    "\n",
    "sc = spark.sparkContext\n",
    "\n",
    "spark"
   ]
  },
  {
   "cell_type": "code",
   "execution_count": 3,
   "id": "849e7e61",
   "metadata": {},
   "outputs": [],
   "source": [
    "# Create schema for Yellow Taxi data\n",
    "yellowTaxiSchema = (\n",
    "                        StructType\n",
    "                        ([ \n",
    "                            StructField(\"VendorId\"               , IntegerType()   , True),\n",
    "                            StructField(\"PickupTime\"             , TimestampType() , True),\n",
    "                            StructField(\"DropTime\"               , TimestampType() , True),\n",
    "                            StructField(\"PassengerCount\"         , DoubleType()    , True),\n",
    "                            StructField(\"TripDistance\"           , DoubleType()    , True),\n",
    "                            StructField(\"RateCodeId\"             , DoubleType()    , True),\n",
    "                            StructField(\"StoreAndFwdFlag\"        , StringType()    , True),\n",
    "                            StructField(\"PickupLocationId\"       , IntegerType()   , True),\n",
    "                            StructField(\"DropLocationId\"         , IntegerType()   , True),\n",
    "                            StructField(\"PaymentType\"            , IntegerType()   , True),\n",
    "                            StructField(\"FareAmount\"             , DoubleType()    , True),\n",
    "                            StructField(\"Extra\"                  , DoubleType()    , True),\n",
    "                            StructField(\"MtaTax\"                 , DoubleType()    , True),\n",
    "                            StructField(\"TipAmount\"              , DoubleType()    , True),\n",
    "                            StructField(\"TollsAmount\"            , DoubleType()    , True),\n",
    "                            StructField(\"ImprovementSurcharge\"   , DoubleType()    , True),\n",
    "                            StructField(\"TotalAmount\"            , DoubleType()    , True),\n",
    "                            StructField(\"CongestionSurcharge\"    , DoubleType()    , True),\n",
    "                            StructField(\"AirportFee\"             , DoubleType()    , True)\n",
    "                        ])\n",
    "                   )\n",
    "\n",
    "\n",
    "# Read Yellow Taxis file\n",
    "yellowTaxiDF = (\n",
    "                  spark\n",
    "                    .read\n",
    "                    .option(\"header\", \"true\")    \n",
    "                    .schema(yellowTaxiSchema)    \n",
    "                    .csv(\"D:\\DemoFiles\\SparkCourseFiles\\YellowTaxis_202210.csv\")\n",
    "               )\n",
    "\n",
    "\n",
    "# Create temp view\n",
    "yellowTaxiDF.createOrReplaceTempView(\"YellowTaxis\")"
   ]
  },
  {
   "cell_type": "code",
   "execution_count": 4,
   "id": "62737919",
   "metadata": {},
   "outputs": [],
   "source": [
    "# Create schema for Taxi Zones data\n",
    "taxiZonesSchema = \"PickupLocationId INT, Borough STRING, Zone STRING, ServiceZone STRING\"\n",
    "\n",
    "\n",
    "# Read Taxi Zones file\n",
    "taxiZonesDF = (\n",
    "                  spark\n",
    "                    .read                    \n",
    "                    .schema(taxiZonesSchema)\n",
    "                    .csv(\"D:\\DemoFiles\\SparkCourseFiles\\TaxiZones.csv\")\n",
    "              )\n",
    "\n",
    "\n",
    "# Create temp view\n",
    "taxiZonesDF.createOrReplaceTempView(\"TaxiZones\")"
   ]
  },
  {
   "cell_type": "markdown",
   "id": "3caf67e2",
   "metadata": {},
   "source": [
    "## Windows - Find share of each borough in terms of rides"
   ]
  },
  {
   "cell_type": "markdown",
   "id": "a2ba2f4a",
   "metadata": {},
   "source": [
    "### 1. Get rides for each borough"
   ]
  },
  {
   "cell_type": "code",
   "execution_count": 5,
   "id": "29e5b800",
   "metadata": {},
   "outputs": [
    {
     "name": "stdout",
     "output_type": "stream",
     "text": [
      "+-------------+---------+\n",
      "|      Borough|RideCount|\n",
      "+-------------+---------+\n",
      "|        Bronx|     4511|\n",
      "|     Brooklyn|    28089|\n",
      "|          EWR|     1157|\n",
      "|    Manhattan|  3250695|\n",
      "|       Queens|   333922|\n",
      "|Staten Island|      303|\n",
      "|      Unknown|    56735|\n",
      "+-------------+---------+\n",
      "\n"
     ]
    }
   ],
   "source": [
    "taxiRidesDF = (\n",
    "    \n",
    "  spark.sql(\"\"\"\n",
    "                SELECT tz.Borough\n",
    "                     , COUNT(*)     AS RideCount\n",
    "\n",
    "                FROM TaxiZones tz\n",
    "                    INNER JOIN YellowTaxis yt ON yt.PickupLocationId = tz.PickupLocationId\n",
    "\n",
    "                GROUP BY tz.Borough\n",
    "   \"\"\")\n",
    ")\n",
    "\n",
    "taxiRidesDF.createOrReplaceTempView(\"TaxiRides\")\n",
    "\n",
    "taxiRidesDF.orderBy(\"Borough\").show()"
   ]
  },
  {
   "cell_type": "markdown",
   "id": "1771b861",
   "metadata": {},
   "source": [
    "### 2. Calculate total rides across all boroughs\n",
    "\n",
    "a) Create Window over entire table <br/>\n",
    "b) Add total rides (across all boroughs) against each row"
   ]
  },
  {
   "cell_type": "code",
   "execution_count": 6,
   "id": "387e56d2",
   "metadata": {},
   "outputs": [
    {
     "name": "stdout",
     "output_type": "stream",
     "text": [
      "+-------------+---------+--------------+\n",
      "|      Borough|RideCount|TotalRideCount|\n",
      "+-------------+---------+--------------+\n",
      "|        Bronx|     4511|       3675412|\n",
      "|     Brooklyn|    28089|       3675412|\n",
      "|          EWR|     1157|       3675412|\n",
      "|    Manhattan|  3250695|       3675412|\n",
      "|       Queens|   333922|       3675412|\n",
      "|Staten Island|      303|       3675412|\n",
      "|      Unknown|    56735|       3675412|\n",
      "+-------------+---------+--------------+\n",
      "\n"
     ]
    }
   ],
   "source": [
    "taxiRidesWindowDF = (\n",
    "    spark.sql(\"\"\"\n",
    "                    SELECT *\n",
    "                         , SUM (RideCount)   OVER ()   AS TotalRideCount\n",
    "\n",
    "                    FROM TaxiRides\n",
    "    \"\"\")\n",
    ")\n",
    "\n",
    "taxiRidesWindowDF.orderBy(\"Borough\").show()\n",
    "\n",
    "taxiRidesWindowDF.createOrReplaceTempView(\"TaxiRidesWindow\")"
   ]
  },
  {
   "cell_type": "markdown",
   "id": "d78afdba",
   "metadata": {},
   "source": [
    "### 3. Find share of each borough in terms of rides\n",
    "\n",
    "Divide Borough's ride count with Total Ride Count (across all boroughs)"
   ]
  },
  {
   "cell_type": "code",
   "execution_count": 7,
   "id": "a973a2bc",
   "metadata": {},
   "outputs": [
    {
     "name": "stdout",
     "output_type": "stream",
     "text": [
      "+-------------+---------+--------------+-----------------+\n",
      "|      Borough|RideCount|TotalRideCount|RidesSharePercent|\n",
      "+-------------+---------+--------------+-----------------+\n",
      "|        Bronx|     4511|       3675412|             0.12|\n",
      "|     Brooklyn|    28089|       3675412|             0.76|\n",
      "|          EWR|     1157|       3675412|             0.03|\n",
      "|    Manhattan|  3250695|       3675412|            88.44|\n",
      "|       Queens|   333922|       3675412|             9.09|\n",
      "|Staten Island|      303|       3675412|             0.01|\n",
      "|      Unknown|    56735|       3675412|             1.54|\n",
      "+-------------+---------+--------------+-----------------+\n",
      "\n"
     ]
    }
   ],
   "source": [
    "(spark.sql(\"\"\"\n",
    "\n",
    "            SELECT *\n",
    "                  , ROUND( (RideCount * 100) / TotalRideCount, 2)   AS RidesSharePercent\n",
    "\n",
    "            FROM TaxiRidesWindow\n",
    "            ORDER BY Borough\n",
    "\n",
    "\"\"\")).show()"
   ]
  },
  {
   "cell_type": "markdown",
   "id": "93cefae3",
   "metadata": {},
   "source": [
    "### Window Partitions - Find share of each zone in terms of rides, within their borough"
   ]
  },
  {
   "cell_type": "markdown",
   "id": "7213072e",
   "metadata": {},
   "source": [
    "### 1. Get rides for each zone\n",
    "\n",
    "Zone is part of Borough"
   ]
  },
  {
   "cell_type": "code",
   "execution_count": 8,
   "id": "8796399a",
   "metadata": {},
   "outputs": [
    {
     "name": "stdout",
     "output_type": "stream",
     "text": [
      "+-------+--------------------------------+---------+\n",
      "|Borough|Zone                            |RideCount|\n",
      "+-------+--------------------------------+---------+\n",
      "|Bronx  |Allerton/Pelham Gardens         |51       |\n",
      "|Bronx  |Bedford Park                    |92       |\n",
      "|Bronx  |Belmont                         |59       |\n",
      "|Bronx  |Bronx Park                      |22       |\n",
      "|Bronx  |Bronxdale                       |48       |\n",
      "|Bronx  |City Island                     |11       |\n",
      "|Bronx  |Claremont/Bathgate              |98       |\n",
      "|Bronx  |Co-Op City                      |200      |\n",
      "|Bronx  |Country Club                    |7        |\n",
      "|Bronx  |Crotona Park                    |2        |\n",
      "|Bronx  |Crotona Park East               |45       |\n",
      "|Bronx  |East Concourse/Concourse Village|180      |\n",
      "|Bronx  |East Tremont                    |113      |\n",
      "|Bronx  |Eastchester                     |73       |\n",
      "|Bronx  |Fordham South                   |52       |\n",
      "|Bronx  |Highbridge                      |158      |\n",
      "|Bronx  |Hunts Point                     |67       |\n",
      "|Bronx  |Kingsbridge Heights             |116      |\n",
      "|Bronx  |Longwood                        |41       |\n",
      "|Bronx  |Melrose South                   |173      |\n",
      "+-------+--------------------------------+---------+\n",
      "only showing top 20 rows\n",
      "\n"
     ]
    }
   ],
   "source": [
    "taxiRidesDF = (\n",
    "    spark.sql(\"\"\"\n",
    "                    SELECT tz.Borough\n",
    "                         , tz.Zone\n",
    "                         , COUNT(*)     AS RideCount\n",
    "\n",
    "                    FROM TaxiZones tz\n",
    "                        INNER JOIN YellowTaxis yt ON yt.PickupLocationId = tz.PickupLocationId\n",
    "\n",
    "                    GROUP BY tz.Borough\n",
    "                           , tz.Zone                        \n",
    "    \"\"\")\n",
    ")\n",
    "\n",
    "taxiRidesDF.orderBy(\"Borough\", \"Zone\").show(truncate=False)\n",
    "\n",
    "taxiRidesDF.createOrReplaceTempView(\"TaxiRides\")"
   ]
  },
  {
   "cell_type": "markdown",
   "id": "e9efb827",
   "metadata": {},
   "source": [
    "### 2. Calculate total rides across each borough\n",
    "\n",
    "a) Create Window over entire table, and partition by Borough <br/>\n",
    "b) Add total rides (across all zones in a borough) against each row"
   ]
  },
  {
   "cell_type": "code",
   "execution_count": 9,
   "id": "b36dc996",
   "metadata": {},
   "outputs": [
    {
     "name": "stdout",
     "output_type": "stream",
     "text": [
      "+-------+--------------------------------+---------+-----------------------+\n",
      "|Borough|Zone                            |RideCount|TotalRideCountByBorough|\n",
      "+-------+--------------------------------+---------+-----------------------+\n",
      "|Bronx  |Allerton/Pelham Gardens         |51       |4511                   |\n",
      "|Bronx  |Bedford Park                    |92       |4511                   |\n",
      "|Bronx  |Belmont                         |59       |4511                   |\n",
      "|Bronx  |Bronx Park                      |22       |4511                   |\n",
      "|Bronx  |Bronxdale                       |48       |4511                   |\n",
      "|Bronx  |City Island                     |11       |4511                   |\n",
      "|Bronx  |Claremont/Bathgate              |98       |4511                   |\n",
      "|Bronx  |Co-Op City                      |200      |4511                   |\n",
      "|Bronx  |Country Club                    |7        |4511                   |\n",
      "|Bronx  |Crotona Park                    |2        |4511                   |\n",
      "|Bronx  |Crotona Park East               |45       |4511                   |\n",
      "|Bronx  |East Concourse/Concourse Village|180      |4511                   |\n",
      "|Bronx  |East Tremont                    |113      |4511                   |\n",
      "|Bronx  |Eastchester                     |73       |4511                   |\n",
      "|Bronx  |Fordham South                   |52       |4511                   |\n",
      "|Bronx  |Highbridge                      |158      |4511                   |\n",
      "|Bronx  |Hunts Point                     |67       |4511                   |\n",
      "|Bronx  |Kingsbridge Heights             |116      |4511                   |\n",
      "|Bronx  |Longwood                        |41       |4511                   |\n",
      "|Bronx  |Melrose South                   |173      |4511                   |\n",
      "+-------+--------------------------------+---------+-----------------------+\n",
      "only showing top 20 rows\n",
      "\n"
     ]
    }
   ],
   "source": [
    "taxiRidesWindowDF = (\n",
    "  spark.sql(\"\"\"\n",
    "  \n",
    "            SELECT *\n",
    "                 , SUM (RideCount)     OVER (PARTITION BY Borough)    AS TotalRideCountByBorough\n",
    "\n",
    "            FROM TaxiRides\n",
    "  \"\"\")\n",
    ")\n",
    "\n",
    "taxiRidesWindowDF.orderBy(\"Borough\", \"Zone\").show(truncate=False)\n",
    "\n",
    "taxiRidesWindowDF.createOrReplaceTempView(\"TaxiRidesWindow\")"
   ]
  },
  {
   "cell_type": "markdown",
   "id": "c150a6ff",
   "metadata": {},
   "source": [
    "### 3. Find share of each zone in terms of rides, within their borough\n",
    "\n",
    "Divide Zone's ride count with Borough Ride Count"
   ]
  },
  {
   "cell_type": "code",
   "execution_count": 10,
   "id": "13840a0b",
   "metadata": {},
   "outputs": [
    {
     "name": "stdout",
     "output_type": "stream",
     "text": [
      "+-------+--------------------------------+---------+-----------------------+--------------------------+\n",
      "|Borough|Zone                            |RideCount|TotalRideCountByBorough|RidesSharePercentInBorough|\n",
      "+-------+--------------------------------+---------+-----------------------+--------------------------+\n",
      "|Bronx  |Allerton/Pelham Gardens         |51       |4511                   |1.13                      |\n",
      "|Bronx  |Bedford Park                    |92       |4511                   |2.04                      |\n",
      "|Bronx  |Belmont                         |59       |4511                   |1.31                      |\n",
      "|Bronx  |Bronx Park                      |22       |4511                   |0.49                      |\n",
      "|Bronx  |Bronxdale                       |48       |4511                   |1.06                      |\n",
      "|Bronx  |City Island                     |11       |4511                   |0.24                      |\n",
      "|Bronx  |Claremont/Bathgate              |98       |4511                   |2.17                      |\n",
      "|Bronx  |Co-Op City                      |200      |4511                   |4.43                      |\n",
      "|Bronx  |Country Club                    |7        |4511                   |0.16                      |\n",
      "|Bronx  |Crotona Park                    |2        |4511                   |0.04                      |\n",
      "|Bronx  |Crotona Park East               |45       |4511                   |1.0                       |\n",
      "|Bronx  |East Concourse/Concourse Village|180      |4511                   |3.99                      |\n",
      "|Bronx  |East Tremont                    |113      |4511                   |2.5                       |\n",
      "|Bronx  |Eastchester                     |73       |4511                   |1.62                      |\n",
      "|Bronx  |Fordham South                   |52       |4511                   |1.15                      |\n",
      "|Bronx  |Highbridge                      |158      |4511                   |3.5                       |\n",
      "|Bronx  |Hunts Point                     |67       |4511                   |1.49                      |\n",
      "|Bronx  |Kingsbridge Heights             |116      |4511                   |2.57                      |\n",
      "|Bronx  |Longwood                        |41       |4511                   |0.91                      |\n",
      "|Bronx  |Melrose South                   |173      |4511                   |3.84                      |\n",
      "+-------+--------------------------------+---------+-----------------------+--------------------------+\n",
      "only showing top 20 rows\n",
      "\n"
     ]
    }
   ],
   "source": [
    "(spark.sql(\"\"\"\n",
    "\n",
    "    SELECT *\n",
    "          , ROUND( (RideCount * 100) / TotalRideCountByBorough, 2)   AS RidesSharePercentInBorough\n",
    "\n",
    "    FROM TaxiRidesWindow\n",
    "    ORDER BY Borough, Zone\n",
    "\n",
    "\"\"\")).show(truncate=False)"
   ]
  },
  {
   "cell_type": "code",
   "execution_count": null,
   "id": "842b3b5e",
   "metadata": {},
   "outputs": [],
   "source": []
  },
  {
   "cell_type": "code",
   "execution_count": null,
   "id": "4f34ca1c",
   "metadata": {},
   "outputs": [],
   "source": []
  },
  {
   "cell_type": "code",
   "execution_count": null,
   "id": "a5599b2b",
   "metadata": {},
   "outputs": [],
   "source": []
  },
  {
   "cell_type": "code",
   "execution_count": null,
   "id": "d2de7ee6",
   "metadata": {},
   "outputs": [],
   "source": []
  },
  {
   "cell_type": "code",
   "execution_count": null,
   "id": "cdada6f2",
   "metadata": {},
   "outputs": [],
   "source": []
  },
  {
   "cell_type": "code",
   "execution_count": null,
   "id": "3448f590",
   "metadata": {},
   "outputs": [],
   "source": []
  },
  {
   "cell_type": "code",
   "execution_count": null,
   "id": "ddc11e10",
   "metadata": {},
   "outputs": [],
   "source": []
  },
  {
   "cell_type": "code",
   "execution_count": null,
   "id": "25c79df8",
   "metadata": {},
   "outputs": [],
   "source": []
  },
  {
   "cell_type": "code",
   "execution_count": null,
   "id": "5b493b34",
   "metadata": {},
   "outputs": [],
   "source": []
  },
  {
   "cell_type": "code",
   "execution_count": null,
   "id": "31770ca6",
   "metadata": {},
   "outputs": [],
   "source": []
  },
  {
   "cell_type": "code",
   "execution_count": null,
   "id": "1223af53",
   "metadata": {},
   "outputs": [],
   "source": []
  }
 ],
 "metadata": {
  "kernelspec": {
   "display_name": "Python 3 (ipykernel)",
   "language": "python",
   "name": "python3"
  },
  "language_info": {
   "codemirror_mode": {
    "name": "ipython",
    "version": 3
   },
   "file_extension": ".py",
   "mimetype": "text/x-python",
   "name": "python",
   "nbconvert_exporter": "python",
   "pygments_lexer": "ipython3",
   "version": "3.10.9"
  }
 },
 "nbformat": 4,
 "nbformat_minor": 5
}
