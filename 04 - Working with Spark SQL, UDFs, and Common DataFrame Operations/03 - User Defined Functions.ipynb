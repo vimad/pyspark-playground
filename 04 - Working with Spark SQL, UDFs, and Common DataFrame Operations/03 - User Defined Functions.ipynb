{
 "cells": [
  {
   "cell_type": "code",
   "execution_count": 1,
   "id": "a5620f37",
   "metadata": {},
   "outputs": [
    {
     "data": {
      "text/plain": [
       "'C:\\\\Installation\\\\spark-3.3.2-bin-hadoop3'"
      ]
     },
     "execution_count": 1,
     "metadata": {},
     "output_type": "execute_result"
    }
   ],
   "source": [
    "import findspark\n",
    "findspark.init()\n",
    "findspark.find()"
   ]
  },
  {
   "cell_type": "code",
   "execution_count": 2,
   "id": "da3b995d",
   "metadata": {},
   "outputs": [
    {
     "data": {
      "text/html": [
       "\n",
       "            <div>\n",
       "                <p><b>SparkSession - in-memory</b></p>\n",
       "                \n",
       "        <div>\n",
       "            <p><b>SparkContext</b></p>\n",
       "\n",
       "            <p><a href=\"http://CrystalTalks-PC:4042\">Spark UI</a></p>\n",
       "\n",
       "            <dl>\n",
       "              <dt>Version</dt>\n",
       "                <dd><code>v3.3.2</code></dd>\n",
       "              <dt>Master</dt>\n",
       "                <dd><code>local[4]</code></dd>\n",
       "              <dt>AppName</dt>\n",
       "                <dd><code>UdfApp</code></dd>\n",
       "            </dl>\n",
       "        </div>\n",
       "        \n",
       "            </div>\n",
       "        "
      ],
      "text/plain": [
       "<pyspark.sql.session.SparkSession at 0x1c5a20a4280>"
      ]
     },
     "execution_count": 2,
     "metadata": {},
     "output_type": "execute_result"
    }
   ],
   "source": [
    "from pyspark.sql import SparkSession\n",
    "from pyspark.sql.types import *\n",
    "from pyspark.sql.functions import *\n",
    "\n",
    "spark = (\n",
    "            SparkSession\n",
    "                .builder\n",
    "                .appName(\"UdfApp\")\n",
    "                .master(\"local[4]\")\n",
    "    \n",
    "                .config(\"spark.dynamicAllocation.enabled\", \"false\")\n",
    "                .config(\"spark.sql.adaptive.enabled\", \"false\")\n",
    "    \n",
    "                .getOrCreate()\n",
    "        )\n",
    "\n",
    "sc = spark.sparkContext\n",
    "\n",
    "spark"
   ]
  },
  {
   "cell_type": "code",
   "execution_count": 3,
   "id": "7beb4c31",
   "metadata": {},
   "outputs": [
    {
     "data": {
      "text/html": [
       "<style>pre { white-space: pre !important; }</style>"
      ],
      "text/plain": [
       "<IPython.core.display.HTML object>"
      ]
     },
     "metadata": {},
     "output_type": "display_data"
    }
   ],
   "source": [
    "from IPython.display import *\n",
    "display(HTML(\"<style>pre { white-space: pre !important; }</style>\"))"
   ]
  },
  {
   "cell_type": "code",
   "execution_count": 5,
   "id": "d03ffe79",
   "metadata": {},
   "outputs": [
    {
     "name": "stdout",
     "output_type": "stream",
     "text": [
      "+---------+--------------------+------------------------+----------------+------+-------------------+-----------------+--------------------+-----------+-----------+---------------+--------------------------+--------------------------------------------+---------------+\n",
      "|CabNumber|VehicleLicenseNumber|Name                    |LicenseType     |Active|PermitLicenseNumber|VehicleVinNumber |WheelchairAccessible|VehicleYear|VehicleType|TelephoneNumber|Website                   |Address                                     |LastDateUpdated|\n",
      "+---------+--------------------+------------------------+----------------+------+-------------------+-----------------+--------------------+-----------+-----------+---------------+--------------------------+--------------------------------------------+---------------+\n",
      "|T802127C |C19641              |ABCON INC.              |OWNER MUST DRIVE|YES   |null               |5TDBK3EH0DS268018|null                |2016       |null       |(718)438-1100  |null                      |41-24   38 STREET L.I.C. NY 11101           |04/22/2020     |\n",
      "|T525963C |5362996             |ACCEPTABLE TAXI LLC     |NAMED DRIVER    |YES   |null               |JTDZN3EU1GJ044907|null                |2016       |null       |(718)375-1001  |null                      |2395 CONEY ISLAND AVENUE BROOKLYN NY 11223  |04/22/2020     |\n",
      "|T457353C |5122403             |ALLIS CAB CORP          |NAMED DRIVER    |YES   |null               |4T1BD1FK9FU150746|null                |2013       |null       |(212)927-4600  |null                      |2400 AMSTERDAM AVENUE NEW YORK NY 10033     |04/22/2020     |\n",
      "|T606373C |5386507             |BENE CAB CORP           |NAMED DRIVER    |YES   |AC992              |4T1BD1FK1EU137360|null                |2015       |null       |(718)472-9800  |null                      |29 - 10   36 AVENUE ASTORIA NY 11106        |04/22/2020     |\n",
      "|T451536C |5143151             |BOULOS TAXI CORP.       |NAMED DRIVER    |YES   |null               |4T1BD1FK8FU142430|null                |2017       |null       |(718)971-5639  |null                      |636 WEST   28 STREET NEW YORK NY 10001      |04/22/2020     |\n",
      "|T500313C |5268004             |CACERES,JAIME,P         |OWNER MUST DRIVE|YES   |null               |4T1BF1FK8FU477889|null                |2015       |null       |(516)861-2019  |null                      |62 MAIN STREET PT WASHINGTON NY 11050       |04/22/2020     |\n",
      "|T484321C |5238526             |CALCIUM ONE SERVICE INC.|NAMED DRIVER    |YES   |null               |4T1BD1FK4FU176834|null                |2017       |null       |(718)971-5559  |WWW.DRIVEUBERNYC.COM      |636 WEST   28 STREET NEW YORK NY 10001      |04/22/2020     |\n",
      "|T663612C |5386120             |CHARLES,WILBERT         |OWNER MUST DRIVE|YES   |null               |JTMRJREV1HD120102|null                |2015       |null       |(718)658-5700  |null                      |135-10 JAMAICA AVENUE RICHMOND HILL NY 11418|04/22/2020     |\n",
      "|T725323C |5171032             |CHAWKI,MICHAEL          |OWNER MUST DRIVE|YES   |null               |1FMCU4K35AKA35795|null                |2016       |null       |(646)665-3514  |DRIVEUBERNYC.COM          |636 WEST   28 STREET NEW YORK NY 10001      |04/22/2020     |\n",
      "|T519718C |5330235             |CHRYSOVALANTOU CORP,    |NAMED DRIVER    |YES   |null               |4T1BD1FK4FU149276|null                |2017       |null       |(718)515-5555  |WWW.BESTDEALCARSERVICE.COM|757 A BURKE AVENUE BRONX NY 10467           |04/22/2020     |\n",
      "|T664587C |5588056             |COFI BOAT CORP.         |OWNER MUST DRIVE|YES   |null               |JTMRJREV5GD012564|null                |2016       |null       |(212)666-6666  |null                      |2642 BROADWAY NY NY 10025                   |04/22/2020     |\n",
      "|ELITE346 |F37515              |DEKEL TAXI CAB CORP     |NAMED DRIVER    |YES   |null               |4T1BD1FK4FU163789|null                |2019       |null       |(718)472-2300  |null                      |32-72 GALE AVENUE LIC NY 11101              |04/22/2020     |\n",
      "|T621614C |5453341             |FLORIAN & ROBERT INC    |NAMED DRIVER    |YES   |null               |JTDZN3EU3E3306122|null                |2012       |null       |(718)543-0001  |null                      |3107 KINGSBRIDGE AVENUE BRONX NY 10463      |04/22/2020     |\n",
      "|T714073C |5385905             |GART CAB CORP           |NAMED DRIVER    |YES   |null               |3N8CM0JT9EK702820|null                |2016       |null       |(718)971-5559  |ZWEINYC.COM               |636 WEST   28 STREET NEW YORK NY 10001      |04/22/2020     |\n",
      "|T655723C |5553705             |GAUTHIER,JACQUES        |OWNER MUST DRIVE|YES   |null               |1FMCU4K35CKA37551|null                |2016       |null       |(212)431-5555  |null                      |11-35   31 DRIVE LONG ISLAND CIT NY 11106   |04/22/2020     |\n",
      "|T600330C |V75262              |GEORGAKOPOULOS, GEORGIA |NAMED DRIVER    |YES   |null               |2FABP7AV7BX148809|null                |2010       |null       |(646)665-7584  |null                      |636 WEST   28 STREET NEW YORK NY 10001      |04/22/2020     |\n",
      "|T652698C |5552919             |GUJAR CAB CORP          |NAMED DRIVER    |YES   |null               |1FMCU4K35CKA85955|null                |2015       |null       |(646)665-7540  |WWW.ELFNYC1.COM           |636 WEST   28 STREET NEW YORK NY 10001      |04/22/2020     |\n",
      "|T624038C |5438429             |HUEZO, SALVADOR         |OWNER MUST DRIVE|YES   |null               |3N8CM0JT3GK701911|null                |2019       |null       |(646)665-7304  |DRIVEUBERNYC.COM          |636 WEST   28 STREET NEW YORK NY 10001      |04/22/2020     |\n",
      "|ELITE903 |5388274             |JEAN-PIERRE,SERGE       |OWNER MUST DRIVE|YES   |null               |5TDZK3DCXGS706794|null                |2014       |null       |(718)472-2300  |null                      |32-72 GALE AVENUE LIC NY 11101              |04/22/2020     |\n",
      "|T487069C |5250818             |JETS CAB CORP.          |NAMED DRIVER    |YES   |null               |JTMRJREV8HD120663|null                |2016       |null       |(646)665-7402  |null                      |636 WEST   28 STREET NEW YORK NY 10001      |04/22/2020     |\n",
      "+---------+--------------------+------------------------+----------------+------+-------------------+-----------------+--------------------+-----------+-----------+---------------+--------------------------+--------------------------------------------+---------------+\n",
      "only showing top 20 rows\n",
      "\n"
     ]
    }
   ],
   "source": [
    "# Read Cabs file\n",
    "cabsDF = (\n",
    "              spark\n",
    "                .read\n",
    "                .option(\"header\", \"true\")\n",
    "                .option(\"inferSchema\", \"true\")\n",
    "    \n",
    "                .csv(\"C:\\SparkCourse\\DataFiles\\Raw\\Cabs.csv\")\n",
    "         )\n",
    "\n",
    "\n",
    "# Create temp view\n",
    "cabsDF.createOrReplaceTempView(\"Cabs\")\n",
    "\n",
    "\n",
    "cabsDF.show(truncate=False)"
   ]
  },
  {
   "cell_type": "markdown",
   "id": "b30205b7",
   "metadata": {},
   "source": [
    "### Create a function to convert case"
   ]
  },
  {
   "cell_type": "code",
   "execution_count": 6,
   "id": "79c8c018",
   "metadata": {},
   "outputs": [],
   "source": [
    "def convertCase(str):\n",
    "    \n",
    "    result = \"\"\n",
    "    \n",
    "    nameWordsArray = str.split(\",\")\n",
    "    \n",
    "    for nameWord in nameWordsArray:        \n",
    "       result = (result\n",
    "                    + nameWord[0:1].upper()             # Ex- for word 'MOHIT', returns=> 'M'\n",
    "                    + nameWord[1:len(nameWord)].lower() # Ex- for word 'MOHIT', returns=> 'ohit, '\n",
    "                    + \", \"   \n",
    "                )\n",
    "    \n",
    "    result = result[0:len(result) - 2]\n",
    "                                        # Ex- for name 'Batra, Mohit, ' returns => 'Batra, Mohit'\n",
    "    \n",
    "    return result "
   ]
  },
  {
   "cell_type": "markdown",
   "id": "02a5f77c",
   "metadata": {},
   "source": [
    "### Option 1: Register function as a User Defined Function (UDF)\n",
    "\n",
    "This registration option is for using UDF in Python/Scala"
   ]
  },
  {
   "cell_type": "code",
   "execution_count": 7,
   "id": "a1ee2789",
   "metadata": {},
   "outputs": [],
   "source": [
    "convertCaseUdf = udf( lambda str: convertCase(str), StringType() )"
   ]
  },
  {
   "cell_type": "markdown",
   "id": "a58fd2c0",
   "metadata": {},
   "source": [
    "### Use UDF in DataFrame code"
   ]
  },
  {
   "cell_type": "code",
   "execution_count": 8,
   "id": "9622d1dd",
   "metadata": {},
   "outputs": [
    {
     "name": "stdout",
     "output_type": "stream",
     "text": [
      "+------------------------+------------------------+\n",
      "|Name                    |Name_ConvertedCase      |\n",
      "+------------------------+------------------------+\n",
      "|ABCON INC.              |Abcon inc.              |\n",
      "|ACCEPTABLE TAXI LLC     |Acceptable taxi llc     |\n",
      "|ALLIS CAB CORP          |Allis cab corp          |\n",
      "|BENE CAB CORP           |Bene cab corp           |\n",
      "|BOULOS TAXI CORP.       |Boulos taxi corp.       |\n",
      "|CACERES,JAIME,P         |Caceres, Jaime, P       |\n",
      "|CALCIUM ONE SERVICE INC.|Calcium one service inc.|\n",
      "|CHARLES,WILBERT         |Charles, Wilbert        |\n",
      "|CHAWKI,MICHAEL          |Chawki, Michael         |\n",
      "|CHRYSOVALANTOU CORP,    |Chrysovalantou corp,    |\n",
      "|COFI BOAT CORP.         |Cofi boat corp.         |\n",
      "|DEKEL TAXI CAB CORP     |Dekel taxi cab corp     |\n",
      "|FLORIAN & ROBERT INC    |Florian & robert inc    |\n",
      "|GART CAB CORP           |Gart cab corp           |\n",
      "|GAUTHIER,JACQUES        |Gauthier, Jacques       |\n",
      "|GEORGAKOPOULOS, GEORGIA |Georgakopoulos,  georgia|\n",
      "|GUJAR CAB CORP          |Gujar cab corp          |\n",
      "|HUEZO, SALVADOR         |Huezo,  salvador        |\n",
      "|JEAN-PIERRE,SERGE       |Jean-pierre, Serge      |\n",
      "|JETS CAB CORP.          |Jets cab corp.          |\n",
      "+------------------------+------------------------+\n",
      "only showing top 20 rows\n",
      "\n"
     ]
    }
   ],
   "source": [
    "(\n",
    "    cabsDF\n",
    "        .select(\n",
    "                    \"Name\",\n",
    "            \n",
    "                    convertCaseUdf(col(\"Name\")).alias(\"Name_ConvertedCase\")\n",
    "               )\n",
    "    \n",
    "        # .withColumn (\"Name_ConvertedCase\", convertCaseUdf(col(\"Name\")))\n",
    "    \n",
    ").show(truncate=False)"
   ]
  },
  {
   "cell_type": "markdown",
   "id": "998879a8",
   "metadata": {},
   "source": [
    "### Option 2: Register function as a User Defined Function (UDF)\n",
    "\n",
    "This registration option is for using UDF in SQL"
   ]
  },
  {
   "cell_type": "code",
   "execution_count": 9,
   "id": "3f771d9b",
   "metadata": {},
   "outputs": [
    {
     "data": {
      "text/plain": [
       "<function __main__.convertCase(str)>"
      ]
     },
     "execution_count": 9,
     "metadata": {},
     "output_type": "execute_result"
    }
   ],
   "source": [
    "spark.udf.register(\"convertCaseSqlUdf\", convertCase, StringType())"
   ]
  },
  {
   "cell_type": "markdown",
   "id": "5ce9f85a",
   "metadata": {},
   "source": [
    "### Use UDF in SQL query"
   ]
  },
  {
   "cell_type": "code",
   "execution_count": 10,
   "id": "68b3700b",
   "metadata": {},
   "outputs": [
    {
     "name": "stdout",
     "output_type": "stream",
     "text": [
      "+------------------------+------------------------+\n",
      "|Name                    |Name_ConvertedCase      |\n",
      "+------------------------+------------------------+\n",
      "|ABCON INC.              |Abcon inc.              |\n",
      "|ACCEPTABLE TAXI LLC     |Acceptable taxi llc     |\n",
      "|ALLIS CAB CORP          |Allis cab corp          |\n",
      "|BENE CAB CORP           |Bene cab corp           |\n",
      "|BOULOS TAXI CORP.       |Boulos taxi corp.       |\n",
      "|CACERES,JAIME,P         |Caceres, Jaime, P       |\n",
      "|CALCIUM ONE SERVICE INC.|Calcium one service inc.|\n",
      "|CHARLES,WILBERT         |Charles, Wilbert        |\n",
      "|CHAWKI,MICHAEL          |Chawki, Michael         |\n",
      "|CHRYSOVALANTOU CORP,    |Chrysovalantou corp,    |\n",
      "|COFI BOAT CORP.         |Cofi boat corp.         |\n",
      "|DEKEL TAXI CAB CORP     |Dekel taxi cab corp     |\n",
      "|FLORIAN & ROBERT INC    |Florian & robert inc    |\n",
      "|GART CAB CORP           |Gart cab corp           |\n",
      "|GAUTHIER,JACQUES        |Gauthier, Jacques       |\n",
      "|GEORGAKOPOULOS, GEORGIA |Georgakopoulos,  georgia|\n",
      "|GUJAR CAB CORP          |Gujar cab corp          |\n",
      "|HUEZO, SALVADOR         |Huezo,  salvador        |\n",
      "|JEAN-PIERRE,SERGE       |Jean-pierre, Serge      |\n",
      "|JETS CAB CORP.          |Jets cab corp.          |\n",
      "+------------------------+------------------------+\n",
      "only showing top 20 rows\n",
      "\n"
     ]
    }
   ],
   "source": [
    "spark.sql(\"\"\"\n",
    "\n",
    "    SELECT Name\n",
    "    \n",
    "         , convertCaseSqlUdf(Name) AS Name_ConvertedCase\n",
    "    \n",
    "    FROM Cabs\n",
    "\n",
    "\"\"\").show(truncate=False)"
   ]
  },
  {
   "cell_type": "code",
   "execution_count": null,
   "id": "898c4577",
   "metadata": {},
   "outputs": [],
   "source": []
  },
  {
   "cell_type": "code",
   "execution_count": null,
   "id": "d448b3f8",
   "metadata": {},
   "outputs": [],
   "source": []
  },
  {
   "cell_type": "code",
   "execution_count": null,
   "id": "0acd43be",
   "metadata": {},
   "outputs": [],
   "source": []
  },
  {
   "cell_type": "code",
   "execution_count": null,
   "id": "09a013d7",
   "metadata": {},
   "outputs": [],
   "source": []
  },
  {
   "cell_type": "code",
   "execution_count": null,
   "id": "1c78cf6a",
   "metadata": {},
   "outputs": [],
   "source": []
  },
  {
   "cell_type": "code",
   "execution_count": null,
   "id": "c3aadb15",
   "metadata": {},
   "outputs": [],
   "source": []
  },
  {
   "cell_type": "code",
   "execution_count": null,
   "id": "15f584f6",
   "metadata": {},
   "outputs": [],
   "source": []
  },
  {
   "cell_type": "code",
   "execution_count": null,
   "id": "8fcb4e63",
   "metadata": {},
   "outputs": [],
   "source": []
  },
  {
   "cell_type": "code",
   "execution_count": null,
   "id": "41ce81f0",
   "metadata": {},
   "outputs": [],
   "source": []
  },
  {
   "cell_type": "code",
   "execution_count": null,
   "id": "94b58c02",
   "metadata": {},
   "outputs": [],
   "source": []
  },
  {
   "cell_type": "code",
   "execution_count": null,
   "id": "e9ec4863",
   "metadata": {},
   "outputs": [],
   "source": []
  }
 ],
 "metadata": {
  "kernelspec": {
   "display_name": "Python 3 (ipykernel)",
   "language": "python",
   "name": "python3"
  },
  "language_info": {
   "codemirror_mode": {
    "name": "ipython",
    "version": 3
   },
   "file_extension": ".py",
   "mimetype": "text/x-python",
   "name": "python",
   "nbconvert_exporter": "python",
   "pygments_lexer": "ipython3",
   "version": "3.10.9"
  }
 },
 "nbformat": 4,
 "nbformat_minor": 5
}
