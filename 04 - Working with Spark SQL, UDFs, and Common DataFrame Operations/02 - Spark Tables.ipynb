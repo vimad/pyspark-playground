{
 "cells": [
  {
   "cell_type": "code",
   "execution_count": 1,
   "id": "005bb575",
   "metadata": {},
   "outputs": [
    {
     "data": {
      "text/plain": [
       "'C:\\\\Installation\\\\spark-3.3.2-bin-hadoop3'"
      ]
     },
     "execution_count": 1,
     "metadata": {},
     "output_type": "execute_result"
    }
   ],
   "source": [
    "import findspark\n",
    "findspark.init()\n",
    "findspark.find()"
   ]
  },
  {
   "cell_type": "code",
   "execution_count": 2,
   "id": "7e7b6122",
   "metadata": {},
   "outputs": [
    {
     "data": {
      "text/html": [
       "<style>pre { white-space: pre !important; }</style>"
      ],
      "text/plain": [
       "<IPython.core.display.HTML object>"
      ]
     },
     "metadata": {},
     "output_type": "display_data"
    }
   ],
   "source": [
    "from IPython.display import *\n",
    "display(HTML(\"<style>pre { white-space: pre !important; }</style>\"))"
   ]
  },
  {
   "cell_type": "code",
   "execution_count": 3,
   "id": "77a9a007",
   "metadata": {},
   "outputs": [
    {
     "data": {
      "text/html": [
       "\n",
       "            <div>\n",
       "                <p><b>SparkSession - hive</b></p>\n",
       "                \n",
       "        <div>\n",
       "            <p><b>SparkContext</b></p>\n",
       "\n",
       "            <p><a href=\"http://CrystalTalks-PC:4041\">Spark UI</a></p>\n",
       "\n",
       "            <dl>\n",
       "              <dt>Version</dt>\n",
       "                <dd><code>v3.3.2</code></dd>\n",
       "              <dt>Master</dt>\n",
       "                <dd><code>local[4]</code></dd>\n",
       "              <dt>AppName</dt>\n",
       "                <dd><code>SparkTablesApp</code></dd>\n",
       "            </dl>\n",
       "        </div>\n",
       "        \n",
       "            </div>\n",
       "        "
      ],
      "text/plain": [
       "<pyspark.sql.session.SparkSession at 0x2067c1c0370>"
      ]
     },
     "execution_count": 3,
     "metadata": {},
     "output_type": "execute_result"
    }
   ],
   "source": [
    "from pyspark.sql import SparkSession\n",
    "from pyspark.sql.types import *\n",
    "from pyspark.sql.functions import *\n",
    "\n",
    "spark = (\n",
    "            SparkSession\n",
    "                .builder\n",
    "                .appName(\"SparkTablesApp\")\n",
    "                .master(\"local[4]\")\n",
    "    \n",
    "                .config(\"spark.dynamicAllocation.enabled\", \"false\")\n",
    "                .config(\"spark.sql.adaptive.enabled\", \"false\")\n",
    "    \n",
    "                # Enable Hive support\n",
    "                .enableHiveSupport()\n",
    "                \n",
    "                .getOrCreate()\n",
    "        )\n",
    "\n",
    "sc = spark.sparkContext\n",
    "\n",
    "spark"
   ]
  },
  {
   "cell_type": "code",
   "execution_count": 4,
   "id": "4e8c9473",
   "metadata": {},
   "outputs": [
    {
     "name": "stdout",
     "output_type": "stream",
     "text": [
      "root\n",
      " |-- VendorId: integer (nullable = true)\n",
      " |-- lpep_pickup_datetime: timestamp (nullable = true)\n",
      " |-- lpep_dropoff_datetime: timestamp (nullable = true)\n",
      " |-- passenger_count: double (nullable = true)\n",
      " |-- trip_distance: double (nullable = true)\n",
      " |-- RatecodeID: double (nullable = true)\n",
      " |-- store_and_fwd_flag: string (nullable = true)\n",
      " |-- PULocationID: integer (nullable = true)\n",
      " |-- DOLocationID: integer (nullable = true)\n",
      " |-- payment_type: integer (nullable = true)\n",
      " |-- fare_amount: double (nullable = true)\n",
      " |-- extra: double (nullable = true)\n",
      " |-- mta_tax: double (nullable = true)\n",
      " |-- tip_amount: double (nullable = true)\n",
      " |-- tolls_amount: double (nullable = true)\n",
      " |-- improvement_surcharge: double (nullable = true)\n",
      " |-- total_amount: double (nullable = true)\n",
      " |-- congestion_surcharge: double (nullable = true)\n",
      " |-- airport_fee: double (nullable = true)\n",
      "\n"
     ]
    }
   ],
   "source": [
    "# Create schema for Yellow Taxi data\n",
    "yellowTaxiSchema = (\n",
    "                        StructType\n",
    "                        ([ \n",
    "                            StructField(\"VendorId\"               , IntegerType()   , True),\n",
    "                            StructField(\"lpep_pickup_datetime\"   , TimestampType() , True),\n",
    "                            StructField(\"lpep_dropoff_datetime\"  , TimestampType() , True),\n",
    "                            StructField(\"passenger_count\"        , DoubleType()    , True),\n",
    "                            StructField(\"trip_distance\"          , DoubleType()    , True),\n",
    "                            StructField(\"RatecodeID\"             , DoubleType()    , True),\n",
    "                            StructField(\"store_and_fwd_flag\"     , StringType()    , True),\n",
    "                            StructField(\"PULocationID\"           , IntegerType()   , True),\n",
    "                            StructField(\"DOLocationID\"           , IntegerType()   , True),\n",
    "                            StructField(\"payment_type\"           , IntegerType()   , True),\n",
    "                            StructField(\"fare_amount\"            , DoubleType()    , True),\n",
    "                            StructField(\"extra\"                  , DoubleType()    , True),\n",
    "                            StructField(\"mta_tax\"                , DoubleType()    , True),\n",
    "                            StructField(\"tip_amount\"             , DoubleType()    , True),\n",
    "                            StructField(\"tolls_amount\"           , DoubleType()    , True),\n",
    "                            StructField(\"improvement_surcharge\"  , DoubleType()    , True),\n",
    "                            StructField(\"total_amount\"           , DoubleType()    , True),\n",
    "                            StructField(\"congestion_surcharge\"   , DoubleType()    , True),\n",
    "                            StructField(\"airport_fee\"            , DoubleType()    , True)\n",
    "                        ])\n",
    "                   )\n",
    "\n",
    "# Read YellowTaxis CSV file\n",
    "yellowTaxiDF = (\n",
    "                  spark\n",
    "                    .read\n",
    "                    .option(\"header\", \"true\")    \n",
    "                    .schema(yellowTaxiSchema)    \n",
    "                    .csv(\"C:\\SparkCourse\\DataFiles\\Raw\\YellowTaxis_202210.csv\")\n",
    "               )\n",
    "\n",
    "yellowTaxiDF.printSchema()"
   ]
  },
  {
   "cell_type": "markdown",
   "id": "43c1002f",
   "metadata": {},
   "source": [
    "### Create Database in Hive metastore"
   ]
  },
  {
   "cell_type": "code",
   "execution_count": 5,
   "id": "9a2fec1e",
   "metadata": {},
   "outputs": [
    {
     "name": "stdout",
     "output_type": "stream",
     "text": [
      "+---------+\n",
      "|namespace|\n",
      "+---------+\n",
      "|  default|\n",
      "+---------+\n",
      "\n"
     ]
    }
   ],
   "source": [
    "spark.sql(\"\"\"\n",
    "\n",
    "SHOW DATABASES\n",
    "\n",
    "\"\"\").show()"
   ]
  },
  {
   "cell_type": "code",
   "execution_count": 6,
   "id": "c5c0f831",
   "metadata": {},
   "outputs": [
    {
     "data": {
      "text/plain": [
       "DataFrame[]"
      ]
     },
     "execution_count": 6,
     "metadata": {},
     "output_type": "execute_result"
    }
   ],
   "source": [
    "spark.sql(\"\"\"\n",
    "\n",
    "CREATE DATABASE IF NOT EXISTS TaxisDB\n",
    "\n",
    "\"\"\")"
   ]
  },
  {
   "cell_type": "code",
   "execution_count": 7,
   "id": "d028fe6c",
   "metadata": {},
   "outputs": [
    {
     "name": "stdout",
     "output_type": "stream",
     "text": [
      "+---------+\n",
      "|namespace|\n",
      "+---------+\n",
      "|  default|\n",
      "|  taxisdb|\n",
      "+---------+\n",
      "\n"
     ]
    }
   ],
   "source": [
    "spark.sql(\"\"\"\n",
    "\n",
    "SHOW DATABASES\n",
    "\n",
    "\"\"\").show()"
   ]
  },
  {
   "cell_type": "markdown",
   "id": "df36df46",
   "metadata": {},
   "source": [
    "### Save DataFrame as a Managed Spark Table in Hive"
   ]
  },
  {
   "cell_type": "code",
   "execution_count": 8,
   "id": "2db21c2e",
   "metadata": {},
   "outputs": [],
   "source": [
    "(\n",
    "    yellowTaxiDF\n",
    "            .write\n",
    "            \n",
    "            .mode(\"overwrite\")\n",
    "    \n",
    "            .saveAsTable(\"TaxisDB.YellowTaxisManaged\")\n",
    ")"
   ]
  },
  {
   "cell_type": "code",
   "execution_count": 9,
   "id": "81eb6f7b",
   "metadata": {},
   "outputs": [
    {
     "name": "stdout",
     "output_type": "stream",
     "text": [
      "+---------+------------------+-----------+\n",
      "|namespace|tableName         |isTemporary|\n",
      "+---------+------------------+-----------+\n",
      "|taxisdb  |yellowtaxismanaged|false      |\n",
      "+---------+------------------+-----------+\n",
      "\n"
     ]
    }
   ],
   "source": [
    "spark.sql(\"\"\"\n",
    "\n",
    "SHOW TABLES IN TaxisDB\n",
    "\n",
    "\"\"\").show(50, truncate=False)"
   ]
  },
  {
   "cell_type": "markdown",
   "id": "f65d1c48",
   "metadata": {},
   "source": [
    "### Run queries on Managed Spark Table"
   ]
  },
  {
   "cell_type": "code",
   "execution_count": 10,
   "id": "0d9ec00c",
   "metadata": {},
   "outputs": [
    {
     "name": "stdout",
     "output_type": "stream",
     "text": [
      "+--------+--------------------+---------------------+---------------+-------------+----------+------------------+------------+------------+------------+-----------+-----+-------+----------+------------+---------------------+------------+--------------------+-----------+\n",
      "|VendorId|lpep_pickup_datetime|lpep_dropoff_datetime|passenger_count|trip_distance|RatecodeID|store_and_fwd_flag|PULocationID|DOLocationID|payment_type|fare_amount|extra|mta_tax|tip_amount|tolls_amount|improvement_surcharge|total_amount|congestion_surcharge|airport_fee|\n",
      "+--------+--------------------+---------------------+---------------+-------------+----------+------------------+------------+------------+------------+-----------+-----+-------+----------+------------+---------------------+------------+--------------------+-----------+\n",
      "|       2| 2022-10-09 18:33:31|  2022-10-09 19:06:57|            1.0|         2.65|       1.0|                 N|         151|         142|           1|       21.0|  0.0|    0.5|      4.86|         0.0|                  0.3|       29.16|                 2.5|        0.0|\n",
      "|       2| 2022-10-09 19:08:46|  2022-10-09 19:31:10|            1.0|         2.35|       1.0|                 N|         142|         186|           1|       15.0|  0.0|    0.5|      5.49|         0.0|                  0.3|       23.79|                 2.5|        0.0|\n",
      "|       2| 2022-10-09 19:02:28|  2022-10-09 19:14:25|            1.0|         1.15|       1.0|                 N|         162|         237|           2|        9.0|  0.0|    0.5|       0.0|         0.0|                  0.3|        12.3|                 2.5|        0.0|\n",
      "|       2| 2022-10-09 19:25:13|  2022-10-09 19:28:10|            1.0|         0.77|       1.0|                 N|         237|         263|           1|        4.5|  0.0|    0.5|      1.56|         0.0|                  0.3|        9.36|                 2.5|        0.0|\n",
      "|       2| 2022-10-09 19:29:18|  2022-10-09 19:40:09|            1.0|          2.6|       1.0|                 N|         231|         246|           1|       10.5|  0.0|    0.5|      2.76|         0.0|                  0.3|       16.56|                 2.5|        0.0|\n",
      "|       1| 2022-10-09 18:39:36|  2022-10-09 19:06:54|            1.0|         10.2|       1.0|                 N|          70|          33|           1|       30.0|  0.0|    0.5|      6.15|         0.0|                  0.3|       36.95|                 0.0|        0.0|\n",
      "|       1| 2022-10-09 19:12:17|  2022-10-09 19:32:40|            2.0|          4.0|       1.0|                 N|          65|          90|           1|       16.0|  2.5|    0.5|      3.85|         0.0|                  0.3|       23.15|                 2.5|        0.0|\n",
      "|       1| 2022-10-09 18:57:54|  2022-10-09 19:25:44|            1.0|          8.9|       1.0|                 N|         151|         138|           1|       29.5|  0.0|    0.5|       6.0|        6.55|                  0.3|       42.85|                 0.0|        0.0|\n",
      "|       2| 2022-10-09 19:12:32|  2022-10-09 19:36:30|            1.0|         5.63|       1.0|                 N|         140|         144|           1|       21.0|  0.0|    0.5|      6.08|         0.0|                  0.3|       30.38|                 2.5|        0.0|\n",
      "|       2| 2022-10-09 19:29:17|  2022-10-09 19:37:19|            1.0|          0.9|       1.0|                 N|         264|          68|           1|        7.0|  0.0|    0.5|      1.56|         0.0|                  0.3|        9.36|                 0.0|        0.0|\n",
      "+--------+--------------------+---------------------+---------------+-------------+----------+------------------+------------+------------+------------+-----------+-----+-------+----------+------------+---------------------+------------+--------------------+-----------+\n",
      "\n"
     ]
    }
   ],
   "source": [
    "spark.sql(\"\"\"\n",
    "\n",
    "SELECT *\n",
    "\n",
    "FROM TaxisDB.YellowTaxisManaged\n",
    "\n",
    "LIMIT 10\n",
    "\n",
    "\"\"\").show()"
   ]
  },
  {
   "cell_type": "code",
   "execution_count": 11,
   "id": "b6038307",
   "metadata": {},
   "outputs": [
    {
     "name": "stdout",
     "output_type": "stream",
     "text": [
      "+--------+--------------------+---------------------+---------------+-------------+----------+------------------+------------+------------+------------+-----------+-----+-------+----------+------------+---------------------+------------+--------------------+-----------+\n",
      "|VendorId|lpep_pickup_datetime|lpep_dropoff_datetime|passenger_count|trip_distance|RatecodeID|store_and_fwd_flag|PULocationID|DOLocationID|payment_type|fare_amount|extra|mta_tax|tip_amount|tolls_amount|improvement_surcharge|total_amount|congestion_surcharge|airport_fee|\n",
      "+--------+--------------------+---------------------+---------------+-------------+----------+------------------+------------+------------+------------+-----------+-----+-------+----------+------------+---------------------+------------+--------------------+-----------+\n",
      "|       2| 2022-10-09 18:33:31|  2022-10-09 19:06:57|            1.0|         2.65|       1.0|                 N|         151|         142|           1|       21.0|  0.0|    0.5|      4.86|         0.0|                  0.3|       29.16|                 2.5|        0.0|\n",
      "|       2| 2022-10-09 19:08:46|  2022-10-09 19:31:10|            1.0|         2.35|       1.0|                 N|         142|         186|           1|       15.0|  0.0|    0.5|      5.49|         0.0|                  0.3|       23.79|                 2.5|        0.0|\n",
      "|       2| 2022-10-09 19:02:28|  2022-10-09 19:14:25|            1.0|         1.15|       1.0|                 N|         162|         237|           2|        9.0|  0.0|    0.5|       0.0|         0.0|                  0.3|        12.3|                 2.5|        0.0|\n",
      "|       2| 2022-10-09 19:25:13|  2022-10-09 19:28:10|            1.0|         0.77|       1.0|                 N|         237|         263|           1|        4.5|  0.0|    0.5|      1.56|         0.0|                  0.3|        9.36|                 2.5|        0.0|\n",
      "|       2| 2022-10-09 19:29:18|  2022-10-09 19:40:09|            1.0|          2.6|       1.0|                 N|         231|         246|           1|       10.5|  0.0|    0.5|      2.76|         0.0|                  0.3|       16.56|                 2.5|        0.0|\n",
      "|       1| 2022-10-09 18:39:36|  2022-10-09 19:06:54|            1.0|         10.2|       1.0|                 N|          70|          33|           1|       30.0|  0.0|    0.5|      6.15|         0.0|                  0.3|       36.95|                 0.0|        0.0|\n",
      "|       1| 2022-10-09 19:12:17|  2022-10-09 19:32:40|            2.0|          4.0|       1.0|                 N|          65|          90|           1|       16.0|  2.5|    0.5|      3.85|         0.0|                  0.3|       23.15|                 2.5|        0.0|\n",
      "|       1| 2022-10-09 18:57:54|  2022-10-09 19:25:44|            1.0|          8.9|       1.0|                 N|         151|         138|           1|       29.5|  0.0|    0.5|       6.0|        6.55|                  0.3|       42.85|                 0.0|        0.0|\n",
      "|       2| 2022-10-09 19:12:32|  2022-10-09 19:36:30|            1.0|         5.63|       1.0|                 N|         140|         144|           1|       21.0|  0.0|    0.5|      6.08|         0.0|                  0.3|       30.38|                 2.5|        0.0|\n",
      "|       2| 2022-10-09 19:29:17|  2022-10-09 19:37:19|            1.0|          0.9|       1.0|                 N|         264|          68|           1|        7.0|  0.0|    0.5|      1.56|         0.0|                  0.3|        9.36|                 0.0|        0.0|\n",
      "+--------+--------------------+---------------------+---------------+-------------+----------+------------------+------------+------------+------------+-----------+-----+-------+----------+------------+---------------------+------------+--------------------+-----------+\n",
      "\n"
     ]
    }
   ],
   "source": [
    "outputDF = (\n",
    "                spark\n",
    "                    .read\n",
    "                    .table(\"TaxisDB.YellowTaxisManaged\")\n",
    "           )\n",
    "\n",
    "outputDF.limit(10).show()"
   ]
  },
  {
   "cell_type": "code",
   "execution_count": 12,
   "id": "8510dddb",
   "metadata": {},
   "outputs": [
    {
     "name": "stdout",
     "output_type": "stream",
     "text": [
      "+----------------------------+------------------------------------------------------------------+-------+\n",
      "|col_name                    |data_type                                                         |comment|\n",
      "+----------------------------+------------------------------------------------------------------+-------+\n",
      "|VendorId                    |int                                                               |null   |\n",
      "|lpep_pickup_datetime        |timestamp                                                         |null   |\n",
      "|lpep_dropoff_datetime       |timestamp                                                         |null   |\n",
      "|passenger_count             |double                                                            |null   |\n",
      "|trip_distance               |double                                                            |null   |\n",
      "|RatecodeID                  |double                                                            |null   |\n",
      "|store_and_fwd_flag          |string                                                            |null   |\n",
      "|PULocationID                |int                                                               |null   |\n",
      "|DOLocationID                |int                                                               |null   |\n",
      "|payment_type                |int                                                               |null   |\n",
      "|fare_amount                 |double                                                            |null   |\n",
      "|extra                       |double                                                            |null   |\n",
      "|mta_tax                     |double                                                            |null   |\n",
      "|tip_amount                  |double                                                            |null   |\n",
      "|tolls_amount                |double                                                            |null   |\n",
      "|improvement_surcharge       |double                                                            |null   |\n",
      "|total_amount                |double                                                            |null   |\n",
      "|congestion_surcharge        |double                                                            |null   |\n",
      "|airport_fee                 |double                                                            |null   |\n",
      "|                            |                                                                  |       |\n",
      "|# Detailed Table Information|                                                                  |       |\n",
      "|Database                    |taxisdb                                                           |       |\n",
      "|Table                       |yellowtaxismanaged                                                |       |\n",
      "|Owner                       |msc_b                                                             |       |\n",
      "|Created Time                |Wed Mar 01 22:58:10 IST 2023                                      |       |\n",
      "|Last Access                 |UNKNOWN                                                           |       |\n",
      "|Created By                  |Spark 3.3.2                                                       |       |\n",
      "|Type                        |MANAGED                                                           |       |\n",
      "|Provider                    |parquet                                                           |       |\n",
      "|Statistics                  |78241286 bytes                                                    |       |\n",
      "|Location                    |file:/C:/Users/msc_b/spark-warehouse/taxisdb.db/yellowtaxismanaged|       |\n",
      "|Serde Library               |org.apache.hadoop.hive.ql.io.parquet.serde.ParquetHiveSerDe       |       |\n",
      "|InputFormat                 |org.apache.hadoop.hive.ql.io.parquet.MapredParquetInputFormat     |       |\n",
      "|OutputFormat                |org.apache.hadoop.hive.ql.io.parquet.MapredParquetOutputFormat    |       |\n",
      "+----------------------------+------------------------------------------------------------------+-------+\n",
      "\n"
     ]
    }
   ],
   "source": [
    "spark.sql(\"\"\"\n",
    "\n",
    "DESCRIBE TABLE EXTENDED TaxisDB.YellowTaxisManaged\n",
    "\n",
    "\"\"\").show(50, truncate=False)"
   ]
  },
  {
   "cell_type": "markdown",
   "id": "fff1216b",
   "metadata": {},
   "source": [
    "### Save DataFrame as an Unmanaged / External Spark Table in Hive\n",
    "\n",
    "Only change is to define the path"
   ]
  },
  {
   "cell_type": "code",
   "execution_count": 13,
   "id": "6f5b12a3",
   "metadata": {},
   "outputs": [],
   "source": [
    "(\n",
    "    yellowTaxiDF\n",
    "            .write\n",
    "            \n",
    "            .mode(\"overwrite\")\n",
    "    \n",
    "            .option(\"path\", \"C:\\SparkCourse\\DataFiles\\Output\\YellowTaxisOutput.parquet\")\n",
    "    \n",
    "            #.option(\"format\", \"csv\")             # Default is 'parquet'\n",
    "    \n",
    "            .saveAsTable(\"TaxisDB.YellowTaxis\")\n",
    ")"
   ]
  },
  {
   "cell_type": "code",
   "execution_count": 14,
   "id": "1387de85",
   "metadata": {},
   "outputs": [
    {
     "name": "stdout",
     "output_type": "stream",
     "text": [
      "+----------------------------+---------------------------------------------------------------+-------+\n",
      "|col_name                    |data_type                                                      |comment|\n",
      "+----------------------------+---------------------------------------------------------------+-------+\n",
      "|VendorId                    |int                                                            |null   |\n",
      "|lpep_pickup_datetime        |timestamp                                                      |null   |\n",
      "|lpep_dropoff_datetime       |timestamp                                                      |null   |\n",
      "|passenger_count             |double                                                         |null   |\n",
      "|trip_distance               |double                                                         |null   |\n",
      "|RatecodeID                  |double                                                         |null   |\n",
      "|store_and_fwd_flag          |string                                                         |null   |\n",
      "|PULocationID                |int                                                            |null   |\n",
      "|DOLocationID                |int                                                            |null   |\n",
      "|payment_type                |int                                                            |null   |\n",
      "|fare_amount                 |double                                                         |null   |\n",
      "|extra                       |double                                                         |null   |\n",
      "|mta_tax                     |double                                                         |null   |\n",
      "|tip_amount                  |double                                                         |null   |\n",
      "|tolls_amount                |double                                                         |null   |\n",
      "|improvement_surcharge       |double                                                         |null   |\n",
      "|total_amount                |double                                                         |null   |\n",
      "|congestion_surcharge        |double                                                         |null   |\n",
      "|airport_fee                 |double                                                         |null   |\n",
      "|                            |                                                               |       |\n",
      "|# Detailed Table Information|                                                               |       |\n",
      "|Database                    |taxisdb                                                        |       |\n",
      "|Table                       |yellowtaxis                                                    |       |\n",
      "|Owner                       |msc_b                                                          |       |\n",
      "|Created Time                |Wed Mar 01 23:00:56 IST 2023                                   |       |\n",
      "|Last Access                 |UNKNOWN                                                        |       |\n",
      "|Created By                  |Spark 3.3.2                                                    |       |\n",
      "|Type                        |EXTERNAL                                                       |       |\n",
      "|Provider                    |parquet                                                        |       |\n",
      "|Statistics                  |78241286 bytes                                                 |       |\n",
      "|Location                    |file:/C:/SparkCourse/DataFiles/Output/YellowTaxisOutput.parquet|       |\n",
      "|Serde Library               |org.apache.hadoop.hive.ql.io.parquet.serde.ParquetHiveSerDe    |       |\n",
      "|InputFormat                 |org.apache.hadoop.hive.ql.io.parquet.MapredParquetInputFormat  |       |\n",
      "|OutputFormat                |org.apache.hadoop.hive.ql.io.parquet.MapredParquetOutputFormat |       |\n",
      "+----------------------------+---------------------------------------------------------------+-------+\n",
      "\n"
     ]
    }
   ],
   "source": [
    "spark.sql(\"\"\"\n",
    "\n",
    "DESCRIBE TABLE EXTENDED TaxisDB.YellowTaxis\n",
    "\n",
    "\"\"\").show(50, truncate=False)"
   ]
  },
  {
   "cell_type": "markdown",
   "id": "a9b1ad95",
   "metadata": {},
   "source": [
    "### Drop External table and recreate using stored files"
   ]
  },
  {
   "cell_type": "code",
   "execution_count": 15,
   "id": "72fb09bb",
   "metadata": {},
   "outputs": [
    {
     "data": {
      "text/plain": [
       "DataFrame[]"
      ]
     },
     "execution_count": 15,
     "metadata": {},
     "output_type": "execute_result"
    }
   ],
   "source": [
    "spark.sql(\"\"\"\n",
    "\n",
    "DROP TABLE TaxisDB.YellowTaxis\n",
    "\n",
    "\"\"\")"
   ]
  },
  {
   "cell_type": "code",
   "execution_count": 16,
   "id": "2a7407b9",
   "metadata": {},
   "outputs": [
    {
     "data": {
      "text/plain": [
       "DataFrame[]"
      ]
     },
     "execution_count": 16,
     "metadata": {},
     "output_type": "execute_result"
    }
   ],
   "source": [
    "spark.sql(\"\"\"\n",
    "\n",
    "CREATE TABLE TaxisDB.YellowTaxis\n",
    "\n",
    "USING PARQUET\n",
    "\n",
    "LOCATION \"C:/SparkCourse/DataFiles/Output/YellowTaxisOutput.parquet/\"\n",
    "\n",
    "\"\"\")"
   ]
  },
  {
   "cell_type": "code",
   "execution_count": 17,
   "id": "179a5aac",
   "metadata": {},
   "outputs": [
    {
     "name": "stdout",
     "output_type": "stream",
     "text": [
      "+--------+--------------------+---------------------+---------------+-------------+----------+------------------+------------+------------+------------+-----------+-----+-------+----------+------------+---------------------+------------+--------------------+-----------+\n",
      "|VendorId|lpep_pickup_datetime|lpep_dropoff_datetime|passenger_count|trip_distance|RatecodeID|store_and_fwd_flag|PULocationID|DOLocationID|payment_type|fare_amount|extra|mta_tax|tip_amount|tolls_amount|improvement_surcharge|total_amount|congestion_surcharge|airport_fee|\n",
      "+--------+--------------------+---------------------+---------------+-------------+----------+------------------+------------+------------+------------+-----------+-----+-------+----------+------------+---------------------+------------+--------------------+-----------+\n",
      "|       2| 2022-10-09 18:33:31|  2022-10-09 19:06:57|            1.0|         2.65|       1.0|                 N|         151|         142|           1|       21.0|  0.0|    0.5|      4.86|         0.0|                  0.3|       29.16|                 2.5|        0.0|\n",
      "|       2| 2022-10-09 19:08:46|  2022-10-09 19:31:10|            1.0|         2.35|       1.0|                 N|         142|         186|           1|       15.0|  0.0|    0.5|      5.49|         0.0|                  0.3|       23.79|                 2.5|        0.0|\n",
      "|       2| 2022-10-09 19:02:28|  2022-10-09 19:14:25|            1.0|         1.15|       1.0|                 N|         162|         237|           2|        9.0|  0.0|    0.5|       0.0|         0.0|                  0.3|        12.3|                 2.5|        0.0|\n",
      "|       2| 2022-10-09 19:25:13|  2022-10-09 19:28:10|            1.0|         0.77|       1.0|                 N|         237|         263|           1|        4.5|  0.0|    0.5|      1.56|         0.0|                  0.3|        9.36|                 2.5|        0.0|\n",
      "|       2| 2022-10-09 19:29:18|  2022-10-09 19:40:09|            1.0|          2.6|       1.0|                 N|         231|         246|           1|       10.5|  0.0|    0.5|      2.76|         0.0|                  0.3|       16.56|                 2.5|        0.0|\n",
      "|       1| 2022-10-09 18:39:36|  2022-10-09 19:06:54|            1.0|         10.2|       1.0|                 N|          70|          33|           1|       30.0|  0.0|    0.5|      6.15|         0.0|                  0.3|       36.95|                 0.0|        0.0|\n",
      "|       1| 2022-10-09 19:12:17|  2022-10-09 19:32:40|            2.0|          4.0|       1.0|                 N|          65|          90|           1|       16.0|  2.5|    0.5|      3.85|         0.0|                  0.3|       23.15|                 2.5|        0.0|\n",
      "|       1| 2022-10-09 18:57:54|  2022-10-09 19:25:44|            1.0|          8.9|       1.0|                 N|         151|         138|           1|       29.5|  0.0|    0.5|       6.0|        6.55|                  0.3|       42.85|                 0.0|        0.0|\n",
      "|       2| 2022-10-09 19:12:32|  2022-10-09 19:36:30|            1.0|         5.63|       1.0|                 N|         140|         144|           1|       21.0|  0.0|    0.5|      6.08|         0.0|                  0.3|       30.38|                 2.5|        0.0|\n",
      "|       2| 2022-10-09 19:29:17|  2022-10-09 19:37:19|            1.0|          0.9|       1.0|                 N|         264|          68|           1|        7.0|  0.0|    0.5|      1.56|         0.0|                  0.3|        9.36|                 0.0|        0.0|\n",
      "|       2| 2022-10-09 18:31:46|  2022-10-09 18:47:28|            1.0|         3.68|       1.0|                 N|         107|         262|           1|       13.5|  0.0|    0.5|      3.36|         0.0|                  0.3|       20.16|                 2.5|        0.0|\n",
      "|       2| 2022-10-09 18:49:26|  2022-10-09 18:58:09|            1.0|         1.48|       1.0|                 N|         262|         229|           1|        8.0|  0.0|    0.5|      2.26|         0.0|                  0.3|       13.56|                 2.5|        0.0|\n",
      "|       2| 2022-10-09 19:10:02|  2022-10-09 19:56:38|            1.0|         4.24|       1.0|                 N|         237|         170|           2|       28.5|  0.0|    0.5|       0.0|         0.0|                  0.3|        31.8|                 2.5|        0.0|\n",
      "|       2| 2022-10-09 18:46:14|  2022-10-09 18:53:55|            1.0|         1.28|       1.0|                 N|         140|         141|           1|        7.5|  0.0|    0.5|      2.16|         0.0|                  0.3|       12.96|                 2.5|        0.0|\n",
      "|       2| 2022-10-09 19:03:48|  2022-10-09 19:13:41|            1.0|         1.36|       1.0|                 N|         237|          75|           1|        8.5|  0.0|    0.5|      2.36|         0.0|                  0.3|       14.16|                 2.5|        0.0|\n",
      "|       2| 2022-10-09 19:16:54|  2022-10-09 19:22:38|            1.0|         0.99|       1.0|                 N|          43|         236|           1|        6.0|  0.0|    0.5|      1.86|         0.0|                  0.3|       11.16|                 2.5|        0.0|\n",
      "|       2| 2022-10-09 18:46:00|  2022-10-09 19:14:44|            1.0|         1.69|       1.0|                 N|         239|         142|           1|       17.5|  0.0|    0.5|      4.16|         0.0|                  0.3|       24.96|                 2.5|        0.0|\n",
      "|       2| 2022-10-09 19:17:03|  2022-10-09 19:26:41|            1.0|          1.4|       1.0|                 N|         142|          50|           1|        8.0|  0.0|    0.5|      0.56|         0.0|                  0.3|       11.86|                 2.5|        0.0|\n",
      "|       2| 2022-10-09 19:28:43|  2022-10-09 20:00:27|            1.0|         4.79|       1.0|                 N|          50|         148|           1|       22.5|  0.0|    0.5|      6.45|         0.0|                  0.3|       32.25|                 2.5|        0.0|\n",
      "|       2| 2022-10-09 19:06:55|  2022-10-09 19:30:43|            2.0|         8.41|       1.0|                 N|         264|         141|           1|       25.5|  0.0|    0.5|      7.07|        6.55|                  0.3|       43.67|                 2.5|       1.25|\n",
      "+--------+--------------------+---------------------+---------------+-------------+----------+------------------+------------+------------+------------+-----------+-----+-------+----------+------------+---------------------+------------+--------------------+-----------+\n",
      "only showing top 20 rows\n",
      "\n"
     ]
    }
   ],
   "source": [
    "yellowTaxiDF = (\n",
    "                  spark\n",
    "                    .read\n",
    "                    .table(\"TaxisDB.YellowTaxis\")\n",
    "    \n",
    "               )\n",
    "\n",
    "yellowTaxiDF.show()"
   ]
  },
  {
   "cell_type": "code",
   "execution_count": null,
   "id": "9e7d99ef",
   "metadata": {},
   "outputs": [],
   "source": []
  },
  {
   "cell_type": "code",
   "execution_count": null,
   "id": "4a82f6eb",
   "metadata": {},
   "outputs": [],
   "source": []
  },
  {
   "cell_type": "code",
   "execution_count": null,
   "id": "6e59bef3",
   "metadata": {},
   "outputs": [],
   "source": []
  },
  {
   "cell_type": "code",
   "execution_count": null,
   "id": "1485c9b7",
   "metadata": {},
   "outputs": [],
   "source": []
  },
  {
   "cell_type": "code",
   "execution_count": null,
   "id": "6d2cf730",
   "metadata": {},
   "outputs": [],
   "source": []
  },
  {
   "cell_type": "code",
   "execution_count": null,
   "id": "a213452a",
   "metadata": {},
   "outputs": [],
   "source": []
  },
  {
   "cell_type": "code",
   "execution_count": null,
   "id": "0252d54e",
   "metadata": {},
   "outputs": [],
   "source": []
  },
  {
   "cell_type": "code",
   "execution_count": null,
   "id": "8df1d389",
   "metadata": {},
   "outputs": [],
   "source": []
  },
  {
   "cell_type": "code",
   "execution_count": null,
   "id": "ba1ee10d",
   "metadata": {},
   "outputs": [],
   "source": []
  },
  {
   "cell_type": "code",
   "execution_count": null,
   "id": "b796948f",
   "metadata": {},
   "outputs": [],
   "source": []
  },
  {
   "cell_type": "code",
   "execution_count": null,
   "id": "5ce36b4c",
   "metadata": {},
   "outputs": [],
   "source": []
  },
  {
   "cell_type": "code",
   "execution_count": null,
   "id": "9ff1239a",
   "metadata": {},
   "outputs": [],
   "source": []
  }
 ],
 "metadata": {
  "kernelspec": {
   "display_name": "Python 3 (ipykernel)",
   "language": "python",
   "name": "python3"
  },
  "language_info": {
   "codemirror_mode": {
    "name": "ipython",
    "version": 3
   },
   "file_extension": ".py",
   "mimetype": "text/x-python",
   "name": "python",
   "nbconvert_exporter": "python",
   "pygments_lexer": "ipython3",
   "version": "3.10.9"
  }
 },
 "nbformat": 4,
 "nbformat_minor": 5
}
