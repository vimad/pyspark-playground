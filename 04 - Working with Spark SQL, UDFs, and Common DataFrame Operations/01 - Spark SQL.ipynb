{
 "cells": [
  {
   "cell_type": "code",
   "execution_count": 1,
   "id": "1678309b",
   "metadata": {},
   "outputs": [
    {
     "data": {
      "text/plain": [
       "'C:\\\\Installation\\\\spark-3.3.2-bin-hadoop3'"
      ]
     },
     "execution_count": 1,
     "metadata": {},
     "output_type": "execute_result"
    }
   ],
   "source": [
    "import findspark\n",
    "findspark.init()\n",
    "findspark.find()"
   ]
  },
  {
   "cell_type": "code",
   "execution_count": 2,
   "id": "00e695e1",
   "metadata": {},
   "outputs": [
    {
     "data": {
      "text/html": [
       "\n",
       "            <div>\n",
       "                <p><b>SparkSession - in-memory</b></p>\n",
       "                \n",
       "        <div>\n",
       "            <p><b>SparkContext</b></p>\n",
       "\n",
       "            <p><a href=\"http://CrystalTalks-PC:4041\">Spark UI</a></p>\n",
       "\n",
       "            <dl>\n",
       "              <dt>Version</dt>\n",
       "                <dd><code>v3.3.2</code></dd>\n",
       "              <dt>Master</dt>\n",
       "                <dd><code>local[4]</code></dd>\n",
       "              <dt>AppName</dt>\n",
       "                <dd><code>SparkSQLApp</code></dd>\n",
       "            </dl>\n",
       "        </div>\n",
       "        \n",
       "            </div>\n",
       "        "
      ],
      "text/plain": [
       "<pyspark.sql.session.SparkSession at 0x1e262454280>"
      ]
     },
     "execution_count": 2,
     "metadata": {},
     "output_type": "execute_result"
    }
   ],
   "source": [
    "from pyspark.sql import SparkSession\n",
    "from pyspark.sql.types import *\n",
    "from pyspark.sql.functions import *\n",
    "\n",
    "spark = (\n",
    "            SparkSession\n",
    "                .builder\n",
    "                .appName(\"SparkSQLApp\")\n",
    "                .master(\"local[4]\")\n",
    "    \n",
    "                .config(\"spark.dynamicAllocation.enabled\", \"false\")\n",
    "                .config(\"spark.sql.adaptive.enabled\", \"false\")\n",
    "    \n",
    "                .getOrCreate()\n",
    "        )\n",
    "\n",
    "sc = spark.sparkContext\n",
    "\n",
    "spark"
   ]
  },
  {
   "cell_type": "code",
   "execution_count": 3,
   "id": "28b1954d",
   "metadata": {},
   "outputs": [
    {
     "data": {
      "text/html": [
       "<style>pre { white-space: pre !important; }</style>"
      ],
      "text/plain": [
       "<IPython.core.display.HTML object>"
      ]
     },
     "metadata": {},
     "output_type": "display_data"
    }
   ],
   "source": [
    "from IPython.display import *\n",
    "display(HTML(\"<style>pre { white-space: pre !important; }</style>\"))"
   ]
  },
  {
   "cell_type": "markdown",
   "id": "d70431db",
   "metadata": {},
   "source": [
    "### Read Yellow Taxis data"
   ]
  },
  {
   "cell_type": "code",
   "execution_count": 4,
   "id": "78c6ad3a",
   "metadata": {},
   "outputs": [],
   "source": [
    "# Create schema for Yellow Taxi Data\n",
    "\n",
    "taxiSchema = (\n",
    "                    StructType\n",
    "                    ([ \n",
    "                        StructField(\"VendorId\"               , IntegerType()   , True),\n",
    "                        StructField(\"lpep_pickup_datetime\"   , TimestampType() , True),\n",
    "                        StructField(\"lpep_dropoff_datetime\"  , TimestampType() , True),                            \n",
    "                        StructField(\"passenger_count\"        , DoubleType()    , True),\n",
    "                        StructField(\"trip_distance\"          , DoubleType()    , True),\n",
    "                        StructField(\"RatecodeID\"             , DoubleType()    , True),                            \n",
    "                        StructField(\"store_and_fwd_flag\"     , StringType()    , True),\n",
    "                        StructField(\"PULocationID\"           , IntegerType()   , True),\n",
    "                        StructField(\"DOLocationID\"           , IntegerType()   , True),                            \n",
    "                        StructField(\"payment_type\"           , IntegerType()   , True),                            \n",
    "                        StructField(\"fare_amount\"            , DoubleType()    , True),\n",
    "                        StructField(\"extra\"                  , DoubleType()    , True),\n",
    "                        StructField(\"mta_tax\"                , DoubleType()    , True),\n",
    "                        StructField(\"tip_amount\"             , DoubleType()    , True),\n",
    "                        StructField(\"tolls_amount\"           , DoubleType()    , True),\n",
    "                        StructField(\"improvement_surcharge\"  , DoubleType()    , True),\n",
    "                        StructField(\"total_amount\"           , DoubleType()    , True),\n",
    "                        StructField(\"congestion_surcharge\"   , DoubleType()    , True),\n",
    "                        StructField(\"airport_fee\"            , DoubleType()    , True)\n",
    "                    ])\n",
    "               )"
   ]
  },
  {
   "cell_type": "code",
   "execution_count": 5,
   "id": "fb2a18ec",
   "metadata": {},
   "outputs": [
    {
     "name": "stdout",
     "output_type": "stream",
     "text": [
      "root\n",
      " |-- VendorId: integer (nullable = true)\n",
      " |-- lpep_pickup_datetime: timestamp (nullable = true)\n",
      " |-- lpep_dropoff_datetime: timestamp (nullable = true)\n",
      " |-- passenger_count: double (nullable = true)\n",
      " |-- trip_distance: double (nullable = true)\n",
      " |-- RatecodeID: double (nullable = true)\n",
      " |-- store_and_fwd_flag: string (nullable = true)\n",
      " |-- PULocationID: integer (nullable = true)\n",
      " |-- DOLocationID: integer (nullable = true)\n",
      " |-- payment_type: integer (nullable = true)\n",
      " |-- fare_amount: double (nullable = true)\n",
      " |-- extra: double (nullable = true)\n",
      " |-- mta_tax: double (nullable = true)\n",
      " |-- tip_amount: double (nullable = true)\n",
      " |-- tolls_amount: double (nullable = true)\n",
      " |-- improvement_surcharge: double (nullable = true)\n",
      " |-- total_amount: double (nullable = true)\n",
      " |-- congestion_surcharge: double (nullable = true)\n",
      " |-- airport_fee: double (nullable = true)\n",
      "\n"
     ]
    }
   ],
   "source": [
    "# Read YellowTaxis CSV file\n",
    "\n",
    "yellowTaxiDF = (\n",
    "                  spark\n",
    "                    .read\n",
    "                    .option(\"header\", \"true\")\n",
    "    \n",
    "                    .schema(taxiSchema)\n",
    "    \n",
    "                    .csv(\"C:\\SparkCourse\\DataFiles\\Raw\\YellowTaxis_202210.csv\")\n",
    "               )\n",
    "\n",
    "yellowTaxiDF.printSchema()"
   ]
  },
  {
   "cell_type": "markdown",
   "id": "7f09f663",
   "metadata": {},
   "source": [
    "### Create a SQL View based on Python DataFrame"
   ]
  },
  {
   "cell_type": "code",
   "execution_count": 6,
   "id": "864793b7",
   "metadata": {},
   "outputs": [],
   "source": [
    "yellowTaxiDF.createOrReplaceTempView(\"YellowTaxis\")"
   ]
  },
  {
   "cell_type": "markdown",
   "id": "90cf6067",
   "metadata": {},
   "source": [
    "### Run SQL query on View"
   ]
  },
  {
   "cell_type": "code",
   "execution_count": 7,
   "id": "37fb57a7",
   "metadata": {},
   "outputs": [
    {
     "name": "stdout",
     "output_type": "stream",
     "text": [
      "+--------+--------------------+---------------------+---------------+-------------+----------+------------------+------------+------------+------------+-----------+-----+-------+----------+------------+---------------------+------------+--------------------+-----------+\n",
      "|VendorId|lpep_pickup_datetime|lpep_dropoff_datetime|passenger_count|trip_distance|RatecodeID|store_and_fwd_flag|PULocationID|DOLocationID|payment_type|fare_amount|extra|mta_tax|tip_amount|tolls_amount|improvement_surcharge|total_amount|congestion_surcharge|airport_fee|\n",
      "+--------+--------------------+---------------------+---------------+-------------+----------+------------------+------------+------------+------------+-----------+-----+-------+----------+------------+---------------------+------------+--------------------+-----------+\n",
      "|       1| 2022-10-01 13:47:23|  2022-10-01 14:38:50|            1.0|          9.4|      99.0|                 N|         171|         263|           1|       35.2|  0.0|    0.5|       0.0|        6.55|                  0.3|       42.55|                 0.0|        0.0|\n",
      "|       1| 2022-10-02 09:58:04|  2022-10-02 09:58:26|            2.0|          3.2|       5.0|                 Y|         171|         171|           2|       75.0|  0.0|    0.0|       0.0|         0.0|                  0.3|        75.3|                 0.0|        0.0|\n",
      "|       1| 2022-10-02 14:18:08|  2022-10-02 14:39:53|            1.0|          0.0|      99.0|                 N|         171|         262|           1|       35.2|  0.0|    0.5|       0.0|        6.55|                  0.3|       42.55|                 0.0|        0.0|\n",
      "|       1| 2022-10-02 14:40:11|  2022-10-02 15:25:13|            1.0|         10.0|      99.0|                 N|         171|          80|           1|       36.2|  0.0|    0.5|       0.0|         0.0|                  0.3|        37.0|                 0.0|        0.0|\n",
      "|       1| 2022-10-02 21:33:21|  2022-10-02 21:53:20|            1.0|          7.7|      99.0|                 N|         171|         258|           1|       31.2|  0.0|    0.5|       0.0|         0.0|                  0.3|        32.0|                 0.0|        0.0|\n",
      "|       1| 2022-10-03 13:48:22|  2022-10-03 14:25:15|            1.0|         13.1|      99.0|                 N|         171|         216|           1|       37.2|  0.0|    0.5|       0.0|         0.0|                  0.3|        38.0|                 0.0|        0.0|\n",
      "|       1| 2022-10-03 15:10:35|  2022-10-03 15:10:36|            1.0|          0.0|       1.0|                 N|         171|         171|           1|       15.2|  0.0|    0.5|       0.0|         0.0|                  0.3|        16.0|                 0.0|        0.0|\n",
      "|       1| 2022-10-04 16:57:24|  2022-10-04 17:26:22|            1.0|          6.8|      99.0|                 N|         171|         205|           1|       42.2|  0.0|    0.5|       0.0|         0.0|                  0.3|        43.0|                 0.0|        0.0|\n",
      "|       1| 2022-10-06 15:09:40|  2022-10-06 15:21:14|            1.0|          0.0|       1.0|                 N|         171|          92|           1|       15.2|  0.0|    0.5|       0.0|         0.0|                  0.3|        16.0|                 0.0|        0.0|\n",
      "|       1| 2022-10-06 17:26:02|  2022-10-06 17:33:01|            1.0|          0.7|      99.0|                 N|         171|          92|           1|       15.2|  0.0|    0.5|       0.0|         0.0|                  0.3|        16.0|                 0.0|        0.0|\n",
      "|       2| 2022-10-06 17:14:02|  2022-10-06 17:14:09|            2.0|          0.0|       2.0|                 N|         171|         171|           1|       52.0|  0.0|    0.5|       5.0|         0.0|                  0.3|       59.05|                 0.0|       1.25|\n",
      "|       2| 2022-10-07 07:51:31|  2022-10-07 08:09:30|            5.0|          4.2|       1.0|                 N|         171|          28|           2|       16.5|  0.5|    0.5|       0.0|         0.0|                  0.3|        17.8|                 0.0|        0.0|\n",
      "|       2| 2022-10-08 09:47:20|  2022-10-08 09:47:30|            2.0|          0.0|       5.0|                 N|         171|         171|           1|       60.0|  0.0|    0.0|       0.0|         0.0|                  0.3|        60.3|                 0.0|        0.0|\n",
      "|       1| 2022-10-08 14:24:28|  2022-10-08 14:55:33|            1.0|          9.1|      99.0|                 N|         171|         262|           1|       35.2|  0.0|    0.5|       0.0|        6.55|                  0.3|       42.55|                 0.0|        0.0|\n",
      "|       2| 2022-10-08 16:55:13|  2022-10-08 17:32:01|            5.0|          6.3|       1.0|                 N|         171|           7|           2|       25.5|  0.0|    0.5|       0.0|         0.0|                  0.3|        26.3|                 0.0|        0.0|\n",
      "|       1| 2022-10-09 14:28:59|  2022-10-09 14:51:36|            1.0|          0.0|       1.0|                 N|         171|         263|           1|       35.2|  0.0|    0.5|       0.0|         0.0|                  0.3|        36.0|                 0.0|        0.0|\n",
      "|       2| 2022-10-09 23:40:51|  2022-10-09 23:41:04|            3.0|          0.0|       5.0|                 N|         171|         171|           1|       55.0|  0.0|    0.0|       0.0|         0.0|                  0.3|        55.3|                 0.0|        0.0|\n",
      "|       1| 2022-10-10 14:42:41|  2022-10-10 15:07:09|            1.0|         12.1|       1.0|                 N|         171|         263|           1|       34.0|  2.5|    0.5|     10.95|        6.55|                  0.3|        54.8|                 2.5|        0.0|\n",
      "|       1| 2022-10-10 15:44:54|  2022-10-10 16:29:54|            1.0|          0.0|       1.0|                 N|         171|         162|           1|       45.2|  0.0|    0.5|       0.0|        6.55|                  0.3|       52.55|                 0.0|        0.0|\n",
      "|       1| 2022-10-10 17:51:17|  2022-10-10 18:14:06|            1.0|          8.6|      99.0|                 N|         171|          74|           1|       33.2|  0.0|    0.5|       0.0|        6.55|                  0.3|       40.55|                 0.0|        0.0|\n",
      "+--------+--------------------+---------------------+---------------+-------------+----------+------------------+------------+------------+------------+-----------+-----+-------+----------+------------+---------------------+------------+--------------------+-----------+\n",
      "only showing top 20 rows\n",
      "\n"
     ]
    }
   ],
   "source": [
    "outputDF = spark.sql(\n",
    "                        \"SELECT * FROM YellowTaxis WHERE PULocationID = 171\"\n",
    "                    )\n",
    "    \n",
    "outputDF.show()"
   ]
  },
  {
   "cell_type": "markdown",
   "id": "d8d2be7c",
   "metadata": {},
   "source": [
    "### Read Green Taxis data, and create Temp View"
   ]
  },
  {
   "cell_type": "code",
   "execution_count": 8,
   "id": "38f7d64f",
   "metadata": {},
   "outputs": [],
   "source": [
    "# Read GreenTaxis TSV file\n",
    "\n",
    "greenTaxiDF = (\n",
    "                  spark\n",
    "                    .read                     \n",
    "                    .option(\"header\", \"true\")    \n",
    "                    .option(\"delimiter\", \"\\t\")    \n",
    "                    .csv(\"C:\\SparkCourse\\DataFiles\\Raw\\GreenTaxis_202210.csv\")\n",
    "              )\n",
    "\n",
    "greenTaxiDF.createOrReplaceTempView(\"GreenTaxis\")"
   ]
  },
  {
   "cell_type": "markdown",
   "id": "2b4e71af",
   "metadata": {},
   "source": [
    "### Write SQL query to merge Yellow and Green Taxis data"
   ]
  },
  {
   "cell_type": "code",
   "execution_count": 9,
   "id": "938cdb10",
   "metadata": {},
   "outputs": [
    {
     "name": "stdout",
     "output_type": "stream",
     "text": [
      "+--------+-------------------+-------------------+----------------+--------------+\n",
      "|TaxiType|         PickupTime|           DropTime|PickupLocationId|DropLocationId|\n",
      "+--------+-------------------+-------------------+----------------+--------------+\n",
      "|  Yellow|2022-10-01 05:33:41|2022-10-01 05:48:39|             249|           107|\n",
      "|  Yellow|2022-10-01 05:44:30|2022-10-01 05:49:48|             151|           238|\n",
      "|  Yellow|2022-10-01 05:57:13|2022-10-01 06:07:41|             238|           166|\n",
      "|  Yellow|2022-10-01 06:02:53|2022-10-01 06:08:55|             142|           239|\n",
      "|  Yellow|2022-10-01 06:14:55|2022-10-01 06:20:21|             238|           166|\n",
      "|  Yellow|2022-10-01 05:52:52|2022-10-01 06:22:14|             186|            41|\n",
      "|  Yellow|2022-10-01 06:03:19|2022-10-01 06:14:51|             162|           145|\n",
      "|  Yellow|2022-10-01 05:32:42|2022-10-01 06:20:01|             100|            22|\n",
      "|  Yellow|2022-10-01 05:36:35|2022-10-01 05:54:38|             138|           112|\n",
      "|  Yellow|2022-10-01 05:59:25|2022-10-01 06:13:15|             145|            75|\n",
      "|  Yellow|2022-10-01 05:31:55|2022-10-01 05:50:16|             138|           236|\n",
      "|  Yellow|2022-10-01 05:57:48|2022-10-01 06:29:50|             140|            36|\n",
      "|  Yellow|2022-10-01 05:35:27|2022-10-01 06:05:33|              70|           230|\n",
      "|  Yellow|2022-10-01 06:08:53|2022-10-01 06:18:13|             230|            68|\n",
      "|  Yellow|2022-10-01 05:54:40|2022-10-01 06:00:23|              79|           113|\n",
      "|  Yellow|2022-10-01 06:02:22|2022-10-01 06:28:55|             113|           116|\n",
      "|  Yellow|2022-10-01 05:47:08|2022-10-01 06:00:50|              13|           249|\n",
      "|  Yellow|2022-10-01 06:02:14|2022-10-01 06:14:35|             249|            79|\n",
      "|  Yellow|2022-10-01 05:39:24|2022-10-01 05:51:45|              48|           249|\n",
      "|  Yellow|2022-10-01 05:52:29|2022-10-01 06:03:53|             249|           224|\n",
      "+--------+-------------------+-------------------+----------------+--------------+\n",
      "only showing top 20 rows\n",
      "\n"
     ]
    }
   ],
   "source": [
    "spark.sql(\"\"\"\n",
    "\n",
    "SELECT 'Yellow'                   AS TaxiType\n",
    "\n",
    "      , lpep_pickup_datetime      AS PickupTime\n",
    "      , lpep_dropoff_datetime     AS DropTime\n",
    "      , PULocationID              AS PickupLocationId\n",
    "      , DOLocationID              AS DropLocationId      \n",
    "FROM YellowTaxis\n",
    "\n",
    "UNION ALL\n",
    "\n",
    "SELECT 'Green'                    AS TaxiType\n",
    "\n",
    "      , lpep_pickup_datetime      AS PickupTime\n",
    "      , lpep_dropoff_datetime     AS DropTime\n",
    "      , PULocationID              AS PickupLocationId\n",
    "      , DOLocationID              AS DropLocationId \n",
    "FROM GreenTaxis\n",
    "\n",
    "\"\"\").show()"
   ]
  },
  {
   "cell_type": "markdown",
   "id": "cac112fa",
   "metadata": {},
   "source": [
    "### Read Taxi Zones data, and create Global Temp View"
   ]
  },
  {
   "cell_type": "code",
   "execution_count": 10,
   "id": "f4d846a3",
   "metadata": {},
   "outputs": [
    {
     "name": "stdout",
     "output_type": "stream",
     "text": [
      "+----------+-------------+--------------------+-----------+\n",
      "|LocationID|      Borough|                Zone|ServiceZone|\n",
      "+----------+-------------+--------------------+-----------+\n",
      "|         1|          EWR|      Newark Airport|        EWR|\n",
      "|         2|       Queens|         Jamaica Bay|  Boro Zone|\n",
      "|         3|        Bronx|Allerton/Pelham G...|  Boro Zone|\n",
      "|         4|    Manhattan|       Alphabet City|Yellow Zone|\n",
      "|         5|Staten Island|       Arden Heights|  Boro Zone|\n",
      "|         6|Staten Island|Arrochar/Fort Wad...|  Boro Zone|\n",
      "|         7|       Queens|             Astoria|  Boro Zone|\n",
      "|         8|       Queens|        Astoria Park|  Boro Zone|\n",
      "|         9|       Queens|          Auburndale|  Boro Zone|\n",
      "|        10|       Queens|        Baisley Park|  Boro Zone|\n",
      "|        11|     Brooklyn|          Bath Beach|  Boro Zone|\n",
      "|        12|    Manhattan|        Battery Park|Yellow Zone|\n",
      "|        13|    Manhattan|   Battery Park City|Yellow Zone|\n",
      "|        14|     Brooklyn|           Bay Ridge|  Boro Zone|\n",
      "|        15|       Queens|Bay Terrace/Fort ...|  Boro Zone|\n",
      "|        16|       Queens|             Bayside|  Boro Zone|\n",
      "|        17|     Brooklyn|             Bedford|  Boro Zone|\n",
      "|        18|        Bronx|        Bedford Park|  Boro Zone|\n",
      "|        19|       Queens|           Bellerose|  Boro Zone|\n",
      "|        20|        Bronx|             Belmont|  Boro Zone|\n",
      "+----------+-------------+--------------------+-----------+\n",
      "only showing top 20 rows\n",
      "\n"
     ]
    }
   ],
   "source": [
    "taxiZonesSchema = \"LocationID INT, Borough STRING, Zone STRING, ServiceZone STRING\"\n",
    "\n",
    "taxiZonesDF = (\n",
    "                  spark\n",
    "                    .read                    \n",
    "                    .schema(taxiZonesSchema)\n",
    "                    .csv(\"D:\\DemoFiles\\SparkCourseFiles\\TaxiZones.csv\")\n",
    "              )\n",
    "\n",
    "\n",
    "# Create global temp view\n",
    "taxiZonesDF.createOrReplaceGlobalTempView(\"TaxiZones\")\n",
    "\n",
    "\n",
    "taxiZonesDF.show()"
   ]
  },
  {
   "cell_type": "markdown",
   "id": "77988396",
   "metadata": {},
   "source": [
    "### Create a report \n",
    "\n",
    "Figure out number of rides, grouped by Borough and type of Taxi"
   ]
  },
  {
   "cell_type": "code",
   "execution_count": 11,
   "id": "dfb7ae6a",
   "metadata": {},
   "outputs": [
    {
     "name": "stdout",
     "output_type": "stream",
     "text": [
      "+-------------+--------+----------+\n",
      "|      Borough|TaxiType|TotalTrips|\n",
      "+-------------+--------+----------+\n",
      "|        Bronx|   Green|      1852|\n",
      "|        Bronx|  Yellow|      4511|\n",
      "|     Brooklyn|   Green|     11113|\n",
      "|     Brooklyn|  Yellow|     28089|\n",
      "|          EWR|   Green|        15|\n",
      "|          EWR|  Yellow|      1157|\n",
      "|    Manhattan|    null|         2|\n",
      "|    Manhattan|   Green|     40545|\n",
      "|    Manhattan|  Yellow|   3250695|\n",
      "|       Queens|    null|         1|\n",
      "|       Queens|   Green|     15377|\n",
      "|       Queens|  Yellow|    333922|\n",
      "|Staten Island|    null|         2|\n",
      "|Staten Island|   Green|         8|\n",
      "|Staten Island|  Yellow|       303|\n",
      "|      Unknown|   Green|       412|\n",
      "|      Unknown|  Yellow|     56735|\n",
      "+-------------+--------+----------+\n",
      "\n"
     ]
    }
   ],
   "source": [
    "spark.sql(\"\"\"\n",
    "\n",
    "SELECT Borough, TaxiType, COUNT(*) AS TotalTrips\n",
    "\n",
    "FROM global_temp.TaxiZones\n",
    "\n",
    "LEFT JOIN\n",
    "(\n",
    "\n",
    "    SELECT 'Yellow' AS TaxiType, PULocationID FROM YellowTaxis\n",
    "    \n",
    "    UNION ALL\n",
    "    \n",
    "    SELECT 'Green' AS TaxiType, PULocationID FROM GreenTaxis\n",
    "    \n",
    ") AllTaxis\n",
    "\n",
    "ON AllTaxis.PULocationID = TaxiZones.LocationID\n",
    "\n",
    "GROUP BY Borough, TaxiType\n",
    "\n",
    "ORDER BY Borough, TaxiType\n",
    "\n",
    "\"\"\").show()"
   ]
  },
  {
   "cell_type": "code",
   "execution_count": null,
   "id": "956fccc9",
   "metadata": {},
   "outputs": [],
   "source": []
  },
  {
   "cell_type": "code",
   "execution_count": null,
   "id": "4b064bd9",
   "metadata": {},
   "outputs": [],
   "source": []
  },
  {
   "cell_type": "code",
   "execution_count": null,
   "id": "8061a6b8",
   "metadata": {},
   "outputs": [],
   "source": []
  },
  {
   "cell_type": "code",
   "execution_count": null,
   "id": "9ed62935",
   "metadata": {},
   "outputs": [],
   "source": []
  },
  {
   "cell_type": "code",
   "execution_count": null,
   "id": "3e2295b1",
   "metadata": {},
   "outputs": [],
   "source": []
  },
  {
   "cell_type": "code",
   "execution_count": null,
   "id": "c7ccf588",
   "metadata": {},
   "outputs": [],
   "source": []
  },
  {
   "cell_type": "code",
   "execution_count": null,
   "id": "acf14ed5",
   "metadata": {},
   "outputs": [],
   "source": []
  },
  {
   "cell_type": "code",
   "execution_count": null,
   "id": "63213128",
   "metadata": {},
   "outputs": [],
   "source": []
  },
  {
   "cell_type": "code",
   "execution_count": null,
   "id": "cf67d958",
   "metadata": {},
   "outputs": [],
   "source": []
  },
  {
   "cell_type": "code",
   "execution_count": null,
   "id": "3e037a8a",
   "metadata": {},
   "outputs": [],
   "source": []
  },
  {
   "cell_type": "code",
   "execution_count": null,
   "id": "d8f5dfdb",
   "metadata": {},
   "outputs": [],
   "source": []
  },
  {
   "cell_type": "code",
   "execution_count": null,
   "id": "9f846e3a",
   "metadata": {},
   "outputs": [],
   "source": []
  },
  {
   "cell_type": "code",
   "execution_count": null,
   "id": "38ce3c00",
   "metadata": {},
   "outputs": [],
   "source": []
  }
 ],
 "metadata": {
  "kernelspec": {
   "display_name": "Python 3 (ipykernel)",
   "language": "python",
   "name": "python3"
  },
  "language_info": {
   "codemirror_mode": {
    "name": "ipython",
    "version": 3
   },
   "file_extension": ".py",
   "mimetype": "text/x-python",
   "name": "python",
   "nbconvert_exporter": "python",
   "pygments_lexer": "ipython3",
   "version": "3.10.9"
  }
 },
 "nbformat": 4,
 "nbformat_minor": 5
}
