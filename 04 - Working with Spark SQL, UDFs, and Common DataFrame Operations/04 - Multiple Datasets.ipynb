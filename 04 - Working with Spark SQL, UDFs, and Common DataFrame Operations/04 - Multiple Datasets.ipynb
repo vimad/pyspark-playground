{
 "cells": [
  {
   "cell_type": "code",
   "execution_count": 1,
   "id": "a4a953cf",
   "metadata": {},
   "outputs": [
    {
     "data": {
      "text/plain": [
       "'C:\\\\Installation\\\\spark-3.3.2-bin-hadoop3'"
      ]
     },
     "execution_count": 1,
     "metadata": {},
     "output_type": "execute_result"
    }
   ],
   "source": [
    "import findspark\n",
    "findspark.init()\n",
    "findspark.find()"
   ]
  },
  {
   "cell_type": "code",
   "execution_count": 2,
   "id": "3ff7e4dd",
   "metadata": {},
   "outputs": [
    {
     "data": {
      "text/html": [
       "\n",
       "            <div>\n",
       "                <p><b>SparkSession - in-memory</b></p>\n",
       "                \n",
       "        <div>\n",
       "            <p><b>SparkContext</b></p>\n",
       "\n",
       "            <p><a href=\"http://CrystalTalks-PC:4043\">Spark UI</a></p>\n",
       "\n",
       "            <dl>\n",
       "              <dt>Version</dt>\n",
       "                <dd><code>v3.3.2</code></dd>\n",
       "              <dt>Master</dt>\n",
       "                <dd><code>local[4]</code></dd>\n",
       "              <dt>AppName</dt>\n",
       "                <dd><code>MultipleDatasetsApp</code></dd>\n",
       "            </dl>\n",
       "        </div>\n",
       "        \n",
       "            </div>\n",
       "        "
      ],
      "text/plain": [
       "<pyspark.sql.session.SparkSession at 0x173d0470280>"
      ]
     },
     "execution_count": 2,
     "metadata": {},
     "output_type": "execute_result"
    }
   ],
   "source": [
    "from pyspark.sql import SparkSession\n",
    "from pyspark.sql.types import *\n",
    "from pyspark.sql.functions import *\n",
    "\n",
    "spark = (\n",
    "            SparkSession\n",
    "                .builder\n",
    "                .appName(\"MultipleDatasetsApp\")\n",
    "                .master(\"local[4]\")\n",
    "    \n",
    "                .config(\"spark.dynamicAllocation.enabled\", \"false\")\n",
    "                .config(\"spark.sql.adaptive.enabled\", \"false\")\n",
    "                \n",
    "                .getOrCreate()\n",
    "        )\n",
    "\n",
    "sc = spark.sparkContext\n",
    "\n",
    "spark"
   ]
  },
  {
   "cell_type": "code",
   "execution_count": 3,
   "id": "418e778d",
   "metadata": {},
   "outputs": [
    {
     "data": {
      "text/html": [
       "<style>pre { white-space: pre !important; }</style>"
      ],
      "text/plain": [
       "<IPython.core.display.HTML object>"
      ]
     },
     "metadata": {},
     "output_type": "display_data"
    }
   ],
   "source": [
    "from IPython.display import *\n",
    "display(HTML(\"<style>pre { white-space: pre !important; }</style>\"))"
   ]
  },
  {
   "cell_type": "markdown",
   "id": "942a21bc",
   "metadata": {},
   "source": [
    "## JOIN Operations"
   ]
  },
  {
   "cell_type": "code",
   "execution_count": 4,
   "id": "47933ed2",
   "metadata": {},
   "outputs": [
    {
     "name": "stdout",
     "output_type": "stream",
     "text": [
      "root\n",
      " |-- VendorId: integer (nullable = true)\n",
      " |-- PickupTime: timestamp (nullable = true)\n",
      " |-- DropTime: timestamp (nullable = true)\n",
      " |-- PassengerCount: double (nullable = true)\n",
      " |-- TripDistance: double (nullable = true)\n",
      " |-- RateCodeId: double (nullable = true)\n",
      " |-- StoreAndFwdFlag: string (nullable = true)\n",
      " |-- PickupLocationId: integer (nullable = true)\n",
      " |-- DropLocationId: integer (nullable = true)\n",
      " |-- PaymentType: integer (nullable = true)\n",
      " |-- FareAmount: double (nullable = true)\n",
      " |-- Extra: double (nullable = true)\n",
      " |-- MtaTax: double (nullable = true)\n",
      " |-- TipAmount: double (nullable = true)\n",
      " |-- TollsAmount: double (nullable = true)\n",
      " |-- ImprovementSurcharge: double (nullable = true)\n",
      " |-- TotalAmount: double (nullable = true)\n",
      " |-- CongestionSurcharge: double (nullable = true)\n",
      " |-- AirportFee: double (nullable = true)\n",
      "\n"
     ]
    }
   ],
   "source": [
    "# Create schema for Yellow Taxi data\n",
    "yellowTaxiSchema = (\n",
    "                        StructType\n",
    "                        ([ \n",
    "                            StructField(\"VendorId\"               , IntegerType()   , True),\n",
    "                            StructField(\"PickupTime\"             , TimestampType() , True),\n",
    "                            StructField(\"DropTime\"               , TimestampType() , True),                            \n",
    "                            StructField(\"PassengerCount\"         , DoubleType()    , True),\n",
    "                            StructField(\"TripDistance\"           , DoubleType()    , True),\n",
    "                            StructField(\"RateCodeId\"             , DoubleType()    , True),                            \n",
    "                            StructField(\"StoreAndFwdFlag\"        , StringType()    , True),\n",
    "                            StructField(\"PickupLocationId\"       , IntegerType()   , True),\n",
    "                            StructField(\"DropLocationId\"         , IntegerType()   , True),                            \n",
    "                            StructField(\"PaymentType\"            , IntegerType()   , True),                            \n",
    "                            StructField(\"FareAmount\"             , DoubleType()    , True),\n",
    "                            StructField(\"Extra\"                  , DoubleType()    , True),\n",
    "                            StructField(\"MtaTax\"                 , DoubleType()    , True),\n",
    "                            StructField(\"TipAmount\"              , DoubleType()    , True),\n",
    "                            StructField(\"TollsAmount\"            , DoubleType()    , True),\n",
    "                            StructField(\"ImprovementSurcharge\"   , DoubleType()    , True),\n",
    "                            StructField(\"TotalAmount\"            , DoubleType()    , True),\n",
    "                            StructField(\"CongestionSurcharge\"    , DoubleType()    , True),\n",
    "                            StructField(\"AirportFee\"             , DoubleType()    , True)\n",
    "                        ])\n",
    "                   )\n",
    "\n",
    "\n",
    "# Read Yellow Taxis file\n",
    "yellowTaxiDF = (\n",
    "                  spark\n",
    "                    .read\n",
    "                    .option(\"header\", \"true\")    \n",
    "                    .schema(yellowTaxiSchema)    \n",
    "                    .csv(\"C:\\SparkCourse\\DataFiles\\Raw\\YellowTaxis_202210.csv\")\n",
    "               )\n",
    "\n",
    "\n",
    "# Create temp view\n",
    "yellowTaxiDF.createOrReplaceTempView(\"YellowTaxis\")\n",
    "\n",
    "\n",
    "# Print the schema\n",
    "yellowTaxiDF.printSchema()"
   ]
  },
  {
   "cell_type": "code",
   "execution_count": 5,
   "id": "7c8c27dc",
   "metadata": {},
   "outputs": [
    {
     "name": "stdout",
     "output_type": "stream",
     "text": [
      "root\n",
      " |-- PickupLocationId: integer (nullable = true)\n",
      " |-- Borough: string (nullable = true)\n",
      " |-- Zone: string (nullable = true)\n",
      " |-- ServiceZone: string (nullable = true)\n",
      "\n"
     ]
    }
   ],
   "source": [
    "# Create schema for Taxi Zones data\n",
    "taxiZonesSchema = \"PickupLocationId INT, Borough STRING, Zone STRING, ServiceZone STRING\"\n",
    "\n",
    "\n",
    "# Read Taxi Zones file\n",
    "taxiZonesDF = (\n",
    "                  spark\n",
    "                    .read                    \n",
    "                    .schema(taxiZonesSchema)\n",
    "                    .csv(\"C:\\SparkCourse\\DataFiles\\Raw\\TaxiZones.csv\")\n",
    "              )\n",
    "\n",
    "\n",
    "# Create temp view\n",
    "taxiZonesDF.createOrReplaceTempView(\"TaxiZones\")\n",
    "\n",
    "\n",
    "# Print the schema\n",
    "taxiZonesDF.printSchema()"
   ]
  },
  {
   "cell_type": "markdown",
   "id": "74d5c5c7",
   "metadata": {},
   "source": [
    "### Display location information for each ride\n",
    "\n",
    "Join DataFrames of Yellow Taxis and Taxi Zones"
   ]
  },
  {
   "cell_type": "code",
   "execution_count": 6,
   "id": "8280306b",
   "metadata": {},
   "outputs": [
    {
     "name": "stdout",
     "output_type": "stream",
     "text": [
      "root\n",
      " |-- VendorId: integer (nullable = true)\n",
      " |-- PickupTime: timestamp (nullable = true)\n",
      " |-- DropTime: timestamp (nullable = true)\n",
      " |-- PassengerCount: double (nullable = true)\n",
      " |-- TripDistance: double (nullable = true)\n",
      " |-- RateCodeId: double (nullable = true)\n",
      " |-- StoreAndFwdFlag: string (nullable = true)\n",
      " |-- PickupLocationId: integer (nullable = true)\n",
      " |-- DropLocationId: integer (nullable = true)\n",
      " |-- PaymentType: integer (nullable = true)\n",
      " |-- FareAmount: double (nullable = true)\n",
      " |-- Extra: double (nullable = true)\n",
      " |-- MtaTax: double (nullable = true)\n",
      " |-- TipAmount: double (nullable = true)\n",
      " |-- TollsAmount: double (nullable = true)\n",
      " |-- ImprovementSurcharge: double (nullable = true)\n",
      " |-- TotalAmount: double (nullable = true)\n",
      " |-- CongestionSurcharge: double (nullable = true)\n",
      " |-- AirportFee: double (nullable = true)\n",
      " |-- PickupLocationId: integer (nullable = true)\n",
      " |-- Borough: string (nullable = true)\n",
      " |-- Zone: string (nullable = true)\n",
      " |-- ServiceZone: string (nullable = true)\n",
      "\n"
     ]
    }
   ],
   "source": [
    "joinedDF = (\n",
    "                yellowTaxiDF\n",
    "\n",
    "                    .join\n",
    "                    (\n",
    "                        taxiZonesDF,\n",
    "\n",
    "                        yellowTaxiDF.PickupLocationId == taxiZonesDF.PickupLocationId, \n",
    "                        \n",
    "                                  # [condition1, condition2...]\n",
    "\n",
    "                        \"inner\"   # left, leftouter, right, rightouter, full etc.\n",
    "                    )\n",
    "            )\n",
    "                    \n",
    "joinedDF.printSchema()"
   ]
  },
  {
   "cell_type": "code",
   "execution_count": 8,
   "id": "9bdb4e93",
   "metadata": {},
   "outputs": [
    {
     "name": "stdout",
     "output_type": "stream",
     "text": [
      "root\n",
      " |-- VendorId: integer (nullable = true)\n",
      " |-- PickupTime: timestamp (nullable = true)\n",
      " |-- DropTime: timestamp (nullable = true)\n",
      " |-- PassengerCount: double (nullable = true)\n",
      " |-- TripDistance: double (nullable = true)\n",
      " |-- RateCodeId: double (nullable = true)\n",
      " |-- StoreAndFwdFlag: string (nullable = true)\n",
      " |-- PickupLocationId: integer (nullable = true)\n",
      " |-- DropLocationId: integer (nullable = true)\n",
      " |-- PaymentType: integer (nullable = true)\n",
      " |-- FareAmount: double (nullable = true)\n",
      " |-- Extra: double (nullable = true)\n",
      " |-- MtaTax: double (nullable = true)\n",
      " |-- TipAmount: double (nullable = true)\n",
      " |-- TollsAmount: double (nullable = true)\n",
      " |-- ImprovementSurcharge: double (nullable = true)\n",
      " |-- TotalAmount: double (nullable = true)\n",
      " |-- CongestionSurcharge: double (nullable = true)\n",
      " |-- AirportFee: double (nullable = true)\n",
      " |-- PickupLocationId: integer (nullable = true)\n",
      " |-- Borough: string (nullable = true)\n",
      " |-- Zone: string (nullable = true)\n",
      " |-- ServiceZone: string (nullable = true)\n",
      "\n"
     ]
    }
   ],
   "source": [
    "# Remove duplicate 'PickupLocationId' column\n",
    "\n",
    "joinedDF = (\n",
    "                yellowTaxiDF\n",
    "\n",
    "                    .join\n",
    "                    (\n",
    "                        taxiZonesDF,\n",
    "\n",
    "                        yellowTaxiDF.PickupLocationId == taxiZonesDF.PickupLocationId, \n",
    "\n",
    "                                  # [condition1, condition2...]\n",
    "\n",
    "                        \"inner\"   # left, leftouter, right, rightouter, full etc.\n",
    "                    )\n",
    "\n",
    "                    .drop(col(\"tz.PickupLocationId\"))\n",
    "           )    \n",
    "                    \n",
    "joinedDF.printSchema()"
   ]
  },
  {
   "cell_type": "code",
   "execution_count": 9,
   "id": "a883ff42",
   "metadata": {},
   "outputs": [
    {
     "name": "stdout",
     "output_type": "stream",
     "text": [
      "root\n",
      " |-- PickupLocationId: integer (nullable = true)\n",
      " |-- VendorId: integer (nullable = true)\n",
      " |-- PickupTime: timestamp (nullable = true)\n",
      " |-- DropTime: timestamp (nullable = true)\n",
      " |-- PassengerCount: double (nullable = true)\n",
      " |-- TripDistance: double (nullable = true)\n",
      " |-- RateCodeId: double (nullable = true)\n",
      " |-- StoreAndFwdFlag: string (nullable = true)\n",
      " |-- DropLocationId: integer (nullable = true)\n",
      " |-- PaymentType: integer (nullable = true)\n",
      " |-- FareAmount: double (nullable = true)\n",
      " |-- Extra: double (nullable = true)\n",
      " |-- MtaTax: double (nullable = true)\n",
      " |-- TipAmount: double (nullable = true)\n",
      " |-- TollsAmount: double (nullable = true)\n",
      " |-- ImprovementSurcharge: double (nullable = true)\n",
      " |-- TotalAmount: double (nullable = true)\n",
      " |-- CongestionSurcharge: double (nullable = true)\n",
      " |-- AirportFee: double (nullable = true)\n",
      " |-- Borough: string (nullable = true)\n",
      " |-- Zone: string (nullable = true)\n",
      " |-- ServiceZone: string (nullable = true)\n",
      "\n"
     ]
    }
   ],
   "source": [
    "# Join on same column name\n",
    "# Only one column shows up in output\n",
    "\n",
    "joinedDF = (\n",
    "                yellowTaxiDF.alias(\"yt\")\n",
    "    \n",
    "                    .join\n",
    "                    (\n",
    "                        taxiZonesDF.alias(\"tz\"),\n",
    "                        \n",
    "                        #col(\"yt.PickupLocationId\") == col(\"tz.PickupLocationId\")\n",
    "                        \n",
    "                        ['PickupLocationId'],   # only one PickupLocationId column will be kept\n",
    "                        \n",
    "                        \"inner\"\n",
    "                    )\n",
    "           )\n",
    "\n",
    "joinedDF.printSchema()"
   ]
  },
  {
   "cell_type": "markdown",
   "id": "7ceff9f4",
   "metadata": {},
   "source": [
    "### Exercise 1\n",
    "\n",
    "Find all LocationIds in TaxiZones, from where no pickups have happened"
   ]
  },
  {
   "cell_type": "code",
   "execution_count": null,
   "id": "09031cb8",
   "metadata": {},
   "outputs": [],
   "source": [
    "# Exercise 1 Answer\n",
    "\n",
    "(spark.sql(\"\"\"\n",
    "\n",
    "    SELECT DISTINCT tz.*\n",
    "\n",
    "    FROM TaxiZones tz\n",
    "\n",
    "        LEFT JOIN YellowTaxis yt ON yt.PickupLocationId = tz.PickupLocationId\n",
    "        \n",
    "        WHERE yt.PickupLocationId IS NULL\n",
    "\n",
    "\"\"\")).show()"
   ]
  },
  {
   "cell_type": "markdown",
   "id": "43827a9c",
   "metadata": {},
   "source": [
    "## SET Operations"
   ]
  },
  {
   "cell_type": "code",
   "execution_count": 10,
   "id": "644da6d1",
   "metadata": {},
   "outputs": [
    {
     "name": "stdout",
     "output_type": "stream",
     "text": [
      "+-------------------+--------------------+--------------------+--------------+---------------+\n",
      "|DriverLicenseNumber|                Name|                Type|ExpirationDate|LastDateUpdated|\n",
      "+-------------------+--------------------+--------------------+--------------+---------------+\n",
      "|            5430898|   ABDEL-BAR,ESLAM,M|MEDALLION TAXI DR...|    04/12/2023|     04/22/2020|\n",
      "|            5363749|ABDOUSAMADOV,ALIC...|MEDALLION TAXI DR...|    06/01/2020|     04/22/2020|\n",
      "|            5534446|  ABDUHALIKOV,RUSTAM|MEDALLION TAXI DR...|    06/16/2020|     04/22/2020|\n",
      "|            5935702|   ABDULLAEV,JONIBEK|MEDALLION TAXI DR...|    03/14/2022|     04/22/2020|\n",
      "|            5255097|ABDULNABI,MASHHOUR,H|MEDALLION TAXI DR...|    03/16/2021|     04/22/2020|\n",
      "|            5778633|ABDUSALOMOV,IKROMJON|MEDALLION TAXI DR...|    06/02/2023|     04/22/2020|\n",
      "|            5934755|ABDUVOKHIDOV,MURO...|MEDALLION TAXI DR...|    02/27/2022|     04/22/2020|\n",
      "|             443085|         ABEDIN,MD,J|MEDALLION TAXI DR...|    11/28/2020|     04/22/2020|\n",
      "|            5206734|ABUAL-AINAIN,OSAMA,S|MEDALLION TAXI DR...|    07/06/2020|     04/22/2020|\n",
      "|            5891245|      ABUTIDZE,LEVAN|MEDALLION TAXI DR...|    09/11/2021|     04/22/2020|\n",
      "|            5939698|ADAMES DICENT,HEC...|MEDALLION TAXI DR...|    06/27/2022|     04/22/2020|\n",
      "|            5856128|     AGLAGUEL,ADNANE|MEDALLION TAXI DR...|    03/20/2021|     04/22/2020|\n",
      "|            5702245|      AHAMED,TANVEER|MEDALLION TAXI DR...|    06/30/2022|     04/22/2020|\n",
      "|            5596480|AHMAD,FIRAS,HAMAM...|MEDALLION TAXI DR...|    05/11/2022|     04/22/2020|\n",
      "|            5570416|      AHMAD,IFTEKHAR|MEDALLION TAXI DR...|    12/04/2020|     04/22/2020|\n",
      "|            5526240|        AHMAD,JAWAID|MEDALLION TAXI DR...|    04/22/2023|     04/22/2020|\n",
      "|            5741789|         AHMAD,MALAK|MEDALLION TAXI DR...|    01/20/2023|     04/22/2020|\n",
      "|            5448948|        AHMAD,SABBIR|MEDALLION TAXI DR...|    11/20/2020|     04/22/2020|\n",
      "|             439779|      AHMAD,ZULFEQAR|MEDALLION TAXI DR...|    05/21/2022|     04/22/2020|\n",
      "|            5895140|AHMED KHAN,MOHAMM...|MEDALLION TAXI DR...|    10/23/2021|     04/22/2020|\n",
      "+-------------------+--------------------+--------------------+--------------+---------------+\n",
      "only showing top 20 rows\n",
      "\n"
     ]
    }
   ],
   "source": [
    "# Read Drivers file\n",
    "driversDF = (\n",
    "                  spark\n",
    "                    .read                    \n",
    "                    .option(\"header\", \"true\")\n",
    "                    .option(\"inferSchema\", \"true\")\n",
    "                    .csv(\"C:\\SparkCourse\\DataFiles\\Raw\\Drivers.csv\")\n",
    "            )\n",
    "\n",
    "# Create temp view\n",
    "driversDF.createOrReplaceTempView(\"Drivers\")\n",
    "\n",
    "\n",
    "driversDF.show()"
   ]
  },
  {
   "cell_type": "code",
   "execution_count": 11,
   "id": "0fc6349e",
   "metadata": {},
   "outputs": [
    {
     "name": "stdout",
     "output_type": "stream",
     "text": [
      "+---------+--------------------+--------------------+----------------+------+-------------------+-----------------+--------------------+-----------+-----------+---------------+--------------------+--------------------+---------------+\n",
      "|CabNumber|VehicleLicenseNumber|                Name|     LicenseType|Active|PermitLicenseNumber| VehicleVinNumber|WheelchairAccessible|VehicleYear|VehicleType|TelephoneNumber|             Website|             Address|LastDateUpdated|\n",
      "+---------+--------------------+--------------------+----------------+------+-------------------+-----------------+--------------------+-----------+-----------+---------------+--------------------+--------------------+---------------+\n",
      "| T802127C|              C19641|          ABCON INC.|OWNER MUST DRIVE|   YES|               null|5TDBK3EH0DS268018|                null|       2016|       null|  (718)438-1100|                null|41-24   38 STREET...|     04/22/2020|\n",
      "| T525963C|             5362996| ACCEPTABLE TAXI LLC|    NAMED DRIVER|   YES|               null|JTDZN3EU1GJ044907|                null|       2016|       null|  (718)375-1001|                null|2395 CONEY ISLAND...|     04/22/2020|\n",
      "| T457353C|             5122403|      ALLIS CAB CORP|    NAMED DRIVER|   YES|               null|4T1BD1FK9FU150746|                null|       2013|       null|  (212)927-4600|                null|2400 AMSTERDAM AV...|     04/22/2020|\n",
      "| T606373C|             5386507|       BENE CAB CORP|    NAMED DRIVER|   YES|              AC992|4T1BD1FK1EU137360|                null|       2015|       null|  (718)472-9800|                null|29 - 10   36 AVEN...|     04/22/2020|\n",
      "| T451536C|             5143151|   BOULOS TAXI CORP.|    NAMED DRIVER|   YES|               null|4T1BD1FK8FU142430|                null|       2017|       null|  (718)971-5639|                null|636 WEST   28 STR...|     04/22/2020|\n",
      "| T500313C|             5268004|     CACERES,JAIME,P|OWNER MUST DRIVE|   YES|               null|4T1BF1FK8FU477889|                null|       2015|       null|  (516)861-2019|                null|62 MAIN STREET PT...|     04/22/2020|\n",
      "| T484321C|             5238526|CALCIUM ONE SERVI...|    NAMED DRIVER|   YES|               null|4T1BD1FK4FU176834|                null|       2017|       null|  (718)971-5559|WWW.DRIVEUBERNYC.COM|636 WEST   28 STR...|     04/22/2020|\n",
      "| T663612C|             5386120|     CHARLES,WILBERT|OWNER MUST DRIVE|   YES|               null|JTMRJREV1HD120102|                null|       2015|       null|  (718)658-5700|                null|135-10 JAMAICA AV...|     04/22/2020|\n",
      "| T725323C|             5171032|      CHAWKI,MICHAEL|OWNER MUST DRIVE|   YES|               null|1FMCU4K35AKA35795|                null|       2016|       null|  (646)665-3514|    DRIVEUBERNYC.COM|636 WEST   28 STR...|     04/22/2020|\n",
      "| T519718C|             5330235|CHRYSOVALANTOU CORP,|    NAMED DRIVER|   YES|               null|4T1BD1FK4FU149276|                null|       2017|       null|  (718)515-5555|WWW.BESTDEALCARSE...|757 A BURKE AVENU...|     04/22/2020|\n",
      "| T664587C|             5588056|     COFI BOAT CORP.|OWNER MUST DRIVE|   YES|               null|JTMRJREV5GD012564|                null|       2016|       null|  (212)666-6666|                null|2642 BROADWAY NY ...|     04/22/2020|\n",
      "| ELITE346|              F37515| DEKEL TAXI CAB CORP|    NAMED DRIVER|   YES|               null|4T1BD1FK4FU163789|                null|       2019|       null|  (718)472-2300|                null|32-72 GALE AVENUE...|     04/22/2020|\n",
      "| T621614C|             5453341|FLORIAN & ROBERT INC|    NAMED DRIVER|   YES|               null|JTDZN3EU3E3306122|                null|       2012|       null|  (718)543-0001|                null|3107 KINGSBRIDGE ...|     04/22/2020|\n",
      "| T714073C|             5385905|       GART CAB CORP|    NAMED DRIVER|   YES|               null|3N8CM0JT9EK702820|                null|       2016|       null|  (718)971-5559|         ZWEINYC.COM|636 WEST   28 STR...|     04/22/2020|\n",
      "| T655723C|             5553705|    GAUTHIER,JACQUES|OWNER MUST DRIVE|   YES|               null|1FMCU4K35CKA37551|                null|       2016|       null|  (212)431-5555|                null|11-35   31 DRIVE ...|     04/22/2020|\n",
      "| T600330C|              V75262|GEORGAKOPOULOS, G...|    NAMED DRIVER|   YES|               null|2FABP7AV7BX148809|                null|       2010|       null|  (646)665-7584|                null|636 WEST   28 STR...|     04/22/2020|\n",
      "| T652698C|             5552919|      GUJAR CAB CORP|    NAMED DRIVER|   YES|               null|1FMCU4K35CKA85955|                null|       2015|       null|  (646)665-7540|     WWW.ELFNYC1.COM|636 WEST   28 STR...|     04/22/2020|\n",
      "| T624038C|             5438429|     HUEZO, SALVADOR|OWNER MUST DRIVE|   YES|               null|3N8CM0JT3GK701911|                null|       2019|       null|  (646)665-7304|    DRIVEUBERNYC.COM|636 WEST   28 STR...|     04/22/2020|\n",
      "| ELITE903|             5388274|   JEAN-PIERRE,SERGE|OWNER MUST DRIVE|   YES|               null|5TDZK3DCXGS706794|                null|       2014|       null|  (718)472-2300|                null|32-72 GALE AVENUE...|     04/22/2020|\n",
      "| T487069C|             5250818|      JETS CAB CORP.|    NAMED DRIVER|   YES|               null|JTMRJREV8HD120663|                null|       2016|       null|  (646)665-7402|                null|636 WEST   28 STR...|     04/22/2020|\n",
      "+---------+--------------------+--------------------+----------------+------+-------------------+-----------------+--------------------+-----------+-----------+---------------+--------------------+--------------------+---------------+\n",
      "only showing top 20 rows\n",
      "\n"
     ]
    }
   ],
   "source": [
    "# Read Cabs file\n",
    "cabsDF = (\n",
    "              spark\n",
    "                .read                    \n",
    "                .option(\"header\", \"true\")\n",
    "                .option(\"inferSchema\", \"true\")\n",
    "                .csv(\"C:\\SparkCourse\\DataFiles\\Raw\\Cabs.csv\")\n",
    "         )\n",
    "\n",
    "# Create temp view\n",
    "cabsDF.createOrReplaceTempView(\"Cabs\")\n",
    "\n",
    "\n",
    "cabsDF.show()"
   ]
  },
  {
   "cell_type": "markdown",
   "id": "31864fed",
   "metadata": {},
   "source": [
    "### 1. Create list of all drivers"
   ]
  },
  {
   "cell_type": "code",
   "execution_count": 12,
   "id": "ea2236f6",
   "metadata": {},
   "outputs": [
    {
     "data": {
      "text/plain": [
       "157716"
      ]
     },
     "execution_count": 12,
     "metadata": {},
     "output_type": "execute_result"
    }
   ],
   "source": [
    "(spark.sql(\"\"\"\n",
    "\n",
    "    (\n",
    "        SELECT Name \n",
    "        FROM Cabs\n",
    "        WHERE LicenseType = 'OWNER MUST DRIVE'\n",
    "    )\n",
    "\n",
    "    UNION ALL\n",
    "\n",
    "    (\n",
    "        SELECT Name\n",
    "        FROM Drivers\n",
    "    )\n",
    "\n",
    "\"\"\")).count()"
   ]
  },
  {
   "cell_type": "markdown",
   "id": "2f45fdb2",
   "metadata": {},
   "source": [
    "### 2. Create list of unique drivers"
   ]
  },
  {
   "cell_type": "code",
   "execution_count": 13,
   "id": "c77af211",
   "metadata": {},
   "outputs": [
    {
     "data": {
      "text/plain": [
       "156566"
      ]
     },
     "execution_count": 13,
     "metadata": {},
     "output_type": "execute_result"
    }
   ],
   "source": [
    "(spark.sql(\"\"\"\n",
    "\n",
    "    (\n",
    "        SELECT Name \n",
    "        FROM Cabs\n",
    "        WHERE LicenseType = 'OWNER MUST DRIVE'\n",
    "    )\n",
    "\n",
    "    UNION\n",
    "\n",
    "    (\n",
    "        SELECT Name\n",
    "        FROM Drivers\n",
    "    )\n",
    "\n",
    "\"\"\")).count()"
   ]
  },
  {
   "cell_type": "markdown",
   "id": "2fd6793f",
   "metadata": {},
   "source": [
    "### 3. Create list of all registered drivers who are driving cabs"
   ]
  },
  {
   "cell_type": "code",
   "execution_count": 14,
   "id": "706efb31",
   "metadata": {},
   "outputs": [
    {
     "data": {
      "text/plain": [
       "1150"
      ]
     },
     "execution_count": 14,
     "metadata": {},
     "output_type": "execute_result"
    }
   ],
   "source": [
    "(spark.sql(\"\"\"\n",
    "\n",
    "    (\n",
    "        SELECT Name \n",
    "        FROM Cabs\n",
    "        WHERE LicenseType = 'OWNER MUST DRIVE'\n",
    "    )\n",
    "\n",
    "    INTERSECT\n",
    "\n",
    "    (\n",
    "        SELECT Name\n",
    "        FROM Drivers\n",
    "    )\n",
    "\n",
    "\"\"\")).count()"
   ]
  },
  {
   "cell_type": "markdown",
   "id": "d743dd13",
   "metadata": {},
   "source": [
    "### 4. Create list of drivers driving cabs, but not registered"
   ]
  },
  {
   "cell_type": "code",
   "execution_count": 15,
   "id": "6ec22185",
   "metadata": {},
   "outputs": [
    {
     "data": {
      "text/plain": [
       "1940"
      ]
     },
     "execution_count": 15,
     "metadata": {},
     "output_type": "execute_result"
    }
   ],
   "source": [
    "(spark.sql(\"\"\"\n",
    "    \n",
    "    (\n",
    "        SELECT Name \n",
    "        FROM Cabs\n",
    "        WHERE LicenseType = 'OWNER MUST DRIVE'\n",
    "    )\n",
    "\n",
    "    EXCEPT\n",
    "\n",
    "    (\n",
    "        SELECT Name\n",
    "        FROM Drivers\n",
    "    )\n",
    "\n",
    "\"\"\")).count()"
   ]
  },
  {
   "cell_type": "code",
   "execution_count": null,
   "id": "a2ebb911",
   "metadata": {},
   "outputs": [],
   "source": []
  },
  {
   "cell_type": "code",
   "execution_count": null,
   "id": "c55e99b0",
   "metadata": {},
   "outputs": [],
   "source": []
  },
  {
   "cell_type": "code",
   "execution_count": null,
   "id": "1ff1ea49",
   "metadata": {},
   "outputs": [],
   "source": []
  },
  {
   "cell_type": "code",
   "execution_count": null,
   "id": "465a366a",
   "metadata": {},
   "outputs": [],
   "source": []
  },
  {
   "cell_type": "code",
   "execution_count": null,
   "id": "9a4653ea",
   "metadata": {},
   "outputs": [],
   "source": []
  },
  {
   "cell_type": "code",
   "execution_count": null,
   "id": "1cb9edce",
   "metadata": {},
   "outputs": [],
   "source": []
  },
  {
   "cell_type": "code",
   "execution_count": null,
   "id": "d5c8812a",
   "metadata": {},
   "outputs": [],
   "source": []
  },
  {
   "cell_type": "code",
   "execution_count": null,
   "id": "43a318a8",
   "metadata": {},
   "outputs": [],
   "source": []
  },
  {
   "cell_type": "code",
   "execution_count": null,
   "id": "163eb96b",
   "metadata": {},
   "outputs": [],
   "source": []
  },
  {
   "cell_type": "code",
   "execution_count": null,
   "id": "7b95c7bf",
   "metadata": {},
   "outputs": [],
   "source": []
  }
 ],
 "metadata": {
  "kernelspec": {
   "display_name": "Python 3 (ipykernel)",
   "language": "python",
   "name": "python3"
  },
  "language_info": {
   "codemirror_mode": {
    "name": "ipython",
    "version": 3
   },
   "file_extension": ".py",
   "mimetype": "text/x-python",
   "name": "python",
   "nbconvert_exporter": "python",
   "pygments_lexer": "ipython3",
   "version": "3.10.9"
  }
 },
 "nbformat": 4,
 "nbformat_minor": 5
}
