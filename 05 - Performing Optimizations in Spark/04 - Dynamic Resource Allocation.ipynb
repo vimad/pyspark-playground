{
 "cells": [
  {
   "cell_type": "code",
   "execution_count": 1,
   "id": "ca71cc45",
   "metadata": {},
   "outputs": [
    {
     "data": {
      "text/plain": [
       "'C:\\\\Installation\\\\spark-3.3.2-bin-hadoop3'"
      ]
     },
     "execution_count": 1,
     "metadata": {},
     "output_type": "execute_result"
    }
   ],
   "source": [
    "import findspark\n",
    "findspark.init()\n",
    "findspark.find()"
   ]
  },
  {
   "cell_type": "code",
   "execution_count": 2,
   "id": "b1cb2ae8",
   "metadata": {},
   "outputs": [
    {
     "data": {
      "text/html": [
       "<style>pre { white-space: pre !important; }</style>"
      ],
      "text/plain": [
       "<IPython.core.display.HTML object>"
      ]
     },
     "metadata": {},
     "output_type": "display_data"
    }
   ],
   "source": [
    "from IPython.display import *\n",
    "display(HTML(\"<style>pre { white-space: pre !important; }</style>\"))"
   ]
  },
  {
   "cell_type": "code",
   "execution_count": 3,
   "id": "60aa2b86",
   "metadata": {},
   "outputs": [
    {
     "data": {
      "text/html": [
       "\n",
       "            <div>\n",
       "                <p><b>SparkSession - in-memory</b></p>\n",
       "                \n",
       "        <div>\n",
       "            <p><b>SparkContext</b></p>\n",
       "\n",
       "            <p><a href=\"http://CrystalTalks-PC:4043\">Spark UI</a></p>\n",
       "\n",
       "            <dl>\n",
       "              <dt>Version</dt>\n",
       "                <dd><code>v3.3.2</code></dd>\n",
       "              <dt>Master</dt>\n",
       "                <dd><code>spark://CrystalTalks-PC:7077</code></dd>\n",
       "              <dt>AppName</dt>\n",
       "                <dd><code>ResourceAllocationApp</code></dd>\n",
       "            </dl>\n",
       "        </div>\n",
       "        \n",
       "            </div>\n",
       "        "
      ],
      "text/plain": [
       "<pyspark.sql.session.SparkSession at 0x22ffea9fe50>"
      ]
     },
     "execution_count": 3,
     "metadata": {},
     "output_type": "execute_result"
    }
   ],
   "source": [
    "from pyspark.sql import SparkSession\n",
    "from pyspark.sql.types import *\n",
    "from pyspark.sql.functions import *\n",
    "\n",
    "spark = (\n",
    "            SparkSession\n",
    "                .builder\n",
    "                .appName(\"ResourceAllocationApp\")\n",
    "    \n",
    "                # Connect to multi-node cluster\n",
    "                .master(\"spark://CrystalTalks-PC:7077\")\n",
    "\n",
    "    \n",
    "                # Disable Dynamic Resource Allocation\n",
    "                .config(\"spark.dynamicAllocation.enabled\", \"false\")\n",
    "    \n",
    "    \n",
    "                # Define configuration for application\n",
    "                .config(\"spark.cores.max\",          \"4\")    \n",
    "                .config(\"spark.executor.memory\",    \"2g\")\n",
    "                .config(\"spark.executor.cores\",     \"2\")\n",
    "    \n",
    "                .config(\"spark.sql.adaptive.enabled\", \"false\")\n",
    "\n",
    "                .getOrCreate()\n",
    "        )\n",
    "\n",
    "spark"
   ]
  },
  {
   "cell_type": "markdown",
   "id": "ad9b4fc5",
   "metadata": {},
   "source": [
    "## Restart the Application"
   ]
  },
  {
   "cell_type": "code",
   "execution_count": null,
   "id": "ce3f9528",
   "metadata": {},
   "outputs": [],
   "source": []
  },
  {
   "cell_type": "code",
   "execution_count": 1,
   "id": "66bbc803",
   "metadata": {},
   "outputs": [
    {
     "data": {
      "text/plain": [
       "'C:\\\\Installation\\\\spark-3.3.2-bin-hadoop3'"
      ]
     },
     "execution_count": 1,
     "metadata": {},
     "output_type": "execute_result"
    }
   ],
   "source": [
    "import findspark\n",
    "findspark.init()\n",
    "findspark.find()"
   ]
  },
  {
   "cell_type": "code",
   "execution_count": 2,
   "id": "06e31861",
   "metadata": {},
   "outputs": [
    {
     "data": {
      "text/html": [
       "<style>pre { white-space: pre !important; }</style>"
      ],
      "text/plain": [
       "<IPython.core.display.HTML object>"
      ]
     },
     "metadata": {},
     "output_type": "display_data"
    }
   ],
   "source": [
    "from IPython.display import *\n",
    "display(HTML(\"<style>pre { white-space: pre !important; }</style>\"))"
   ]
  },
  {
   "cell_type": "code",
   "execution_count": 3,
   "id": "ea453f97",
   "metadata": {},
   "outputs": [
    {
     "data": {
      "text/html": [
       "\n",
       "            <div>\n",
       "                <p><b>SparkSession - in-memory</b></p>\n",
       "                \n",
       "        <div>\n",
       "            <p><b>SparkContext</b></p>\n",
       "\n",
       "            <p><a href=\"http://CrystalTalks-PC:4043\">Spark UI</a></p>\n",
       "\n",
       "            <dl>\n",
       "              <dt>Version</dt>\n",
       "                <dd><code>v3.3.2</code></dd>\n",
       "              <dt>Master</dt>\n",
       "                <dd><code>spark://CrystalTalks-PC:7077</code></dd>\n",
       "              <dt>AppName</dt>\n",
       "                <dd><code>ResourceAllocationApp</code></dd>\n",
       "            </dl>\n",
       "        </div>\n",
       "        \n",
       "            </div>\n",
       "        "
      ],
      "text/plain": [
       "<pyspark.sql.session.SparkSession at 0x1bd9a183d90>"
      ]
     },
     "execution_count": 3,
     "metadata": {},
     "output_type": "execute_result"
    }
   ],
   "source": [
    "from pyspark.sql import SparkSession\n",
    "from pyspark.sql.types import *\n",
    "from pyspark.sql.functions import *\n",
    "\n",
    "spark = (\n",
    "            SparkSession\n",
    "                .builder\n",
    "                .appName(\"ResourceAllocationApp\")\n",
    "    \n",
    "    \n",
    "                # Connect to multi-node cluster\n",
    "                .master(\"spark://CrystalTalks-PC:7077\")\n",
    "    \n",
    "                .config(\"spark.sql.adaptive.enabled\", \"false\")\n",
    "    \n",
    "\n",
    "                # Enable dynamic allocation\n",
    "                .config(\"spark.dynamicAllocation.enabled\",                 \"true\")\n",
    "                .config(\"spark.dynamicAllocation.shuffleTracking.enabled\", \"true\")\n",
    "    \n",
    "    \n",
    "                # Define configuration for application\n",
    "                .config(\"spark.executor.memory\",    \"2g\")\n",
    "                .config(\"spark.executor.cores\",     \"2\")\n",
    "    \n",
    "                .config(\"spark.executor.instances\", \"2\")\n",
    "    \n",
    "    \n",
    "                # Define minimum and maximum executors\n",
    "                .config(\"spark.dynamicAllocation.minExecutors\", \"0\")\n",
    "                .config(\"spark.dynamicAllocation.maxExecutors\", \"5\")\n",
    "    \n",
    "                # Set scheduler backlog timeout\n",
    "                .config(\"spark.dynamicAllocation.schedulerBacklogTimeout\",   \"1s\")\n",
    "    \n",
    "                # Set executor idle timeout\n",
    "                .config(\"spark.dynamicAllocation.executorIdleTimeout\",       \"10s\")\n",
    "    \n",
    "                # Set cached idle timeout\n",
    "                .config(\"spark.dynamicAllocation.cachedExecutorIdleTimeout\", \"10s\")\n",
    "\n",
    "    \n",
    "                .getOrCreate()\n",
    "        )\n",
    "\n",
    "spark"
   ]
  },
  {
   "cell_type": "code",
   "execution_count": 4,
   "id": "76cfe6dd",
   "metadata": {},
   "outputs": [
    {
     "name": "stdout",
     "output_type": "stream",
     "text": [
      "+------------+------------------+\n",
      "|PULocationID| sum(total_amount)|\n",
      "+------------+------------------+\n",
      "|         148| 795087.6300000012|\n",
      "|         243|16739.699999999993|\n",
      "|          31| 935.1500000000001|\n",
      "|         137| 762800.5900000016|\n",
      "|          85|3172.5600000000013|\n",
      "|         251|            521.63|\n",
      "|          65| 80190.22999999998|\n",
      "|         255| 51031.78000000003|\n",
      "|          53|1601.2899999999993|\n",
      "|         133| 3281.480000000002|\n",
      "|          78| 3559.940000000002|\n",
      "|         108|3688.3300000000004|\n",
      "|         155| 5599.840000000004|\n",
      "|         211| 529940.7900000006|\n",
      "|         193|20420.560000000005|\n",
      "|          34| 2659.959999999999|\n",
      "|         126| 1586.979999999999|\n",
      "|         101|1735.7099999999994|\n",
      "|         115|160.15000000000003|\n",
      "|          81| 2964.390000000001|\n",
      "+------------+------------------+\n",
      "only showing top 20 rows\n",
      "\n"
     ]
    }
   ],
   "source": [
    "yellowTaxiDF = (\n",
    "                  spark\n",
    "                    .read\n",
    "                    .option(\"header\", \"true\")    \n",
    "                    .option(\"inferSchema\", \"true\")                    \n",
    "                    .csv(\"D:\\DemoFiles\\SparkCourseFiles\\YellowTaxis_202210.csv\")\n",
    "               )\n",
    "\n",
    "yellowTaxiGroupedDF = (\n",
    "                            yellowTaxiDF\n",
    "                                .dropDuplicates()\n",
    "    \n",
    "                                .groupBy(\"PULocationID\")\n",
    "                                .agg(sum(\"total_amount\"))\n",
    "                      )\n",
    "\n",
    "yellowTaxiGroupedDF.show()"
   ]
  },
  {
   "cell_type": "code",
   "execution_count": null,
   "id": "3c70c67b",
   "metadata": {},
   "outputs": [],
   "source": []
  },
  {
   "cell_type": "code",
   "execution_count": null,
   "id": "b5449db7",
   "metadata": {},
   "outputs": [],
   "source": []
  },
  {
   "cell_type": "code",
   "execution_count": null,
   "id": "e8d7e805",
   "metadata": {},
   "outputs": [],
   "source": []
  },
  {
   "cell_type": "code",
   "execution_count": null,
   "id": "c5a32db0",
   "metadata": {},
   "outputs": [],
   "source": []
  },
  {
   "cell_type": "code",
   "execution_count": null,
   "id": "27c0d930",
   "metadata": {},
   "outputs": [],
   "source": []
  },
  {
   "cell_type": "code",
   "execution_count": null,
   "id": "3ad8577b",
   "metadata": {},
   "outputs": [],
   "source": []
  },
  {
   "cell_type": "code",
   "execution_count": null,
   "id": "a23ababc",
   "metadata": {},
   "outputs": [],
   "source": []
  },
  {
   "cell_type": "code",
   "execution_count": null,
   "id": "da3914b2",
   "metadata": {},
   "outputs": [],
   "source": []
  },
  {
   "cell_type": "code",
   "execution_count": null,
   "id": "eb8111a2",
   "metadata": {},
   "outputs": [],
   "source": []
  },
  {
   "cell_type": "code",
   "execution_count": null,
   "id": "a5abb85f",
   "metadata": {},
   "outputs": [],
   "source": []
  },
  {
   "cell_type": "code",
   "execution_count": null,
   "id": "59380950",
   "metadata": {},
   "outputs": [],
   "source": []
  },
  {
   "cell_type": "code",
   "execution_count": null,
   "id": "fae514e9",
   "metadata": {},
   "outputs": [],
   "source": []
  }
 ],
 "metadata": {
  "kernelspec": {
   "display_name": "Python 3 (ipykernel)",
   "language": "python",
   "name": "python3"
  },
  "language_info": {
   "codemirror_mode": {
    "name": "ipython",
    "version": 3
   },
   "file_extension": ".py",
   "mimetype": "text/x-python",
   "name": "python",
   "nbconvert_exporter": "python",
   "pygments_lexer": "ipython3",
   "version": "3.10.9"
  }
 },
 "nbformat": 4,
 "nbformat_minor": 5
}
