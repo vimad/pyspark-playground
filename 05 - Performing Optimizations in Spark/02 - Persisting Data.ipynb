{
 "cells": [
  {
   "cell_type": "code",
   "execution_count": 1,
   "id": "ad1fecb9",
   "metadata": {},
   "outputs": [
    {
     "data": {
      "text/plain": [
       "'C:\\\\Installation\\\\spark-3.3.2-bin-hadoop3'"
      ]
     },
     "execution_count": 1,
     "metadata": {},
     "output_type": "execute_result"
    }
   ],
   "source": [
    "import findspark\n",
    "findspark.init()\n",
    "findspark.find()"
   ]
  },
  {
   "cell_type": "code",
   "execution_count": 2,
   "id": "0e2e08be",
   "metadata": {},
   "outputs": [
    {
     "data": {
      "text/html": [
       "\n",
       "            <div>\n",
       "                <p><b>SparkSession - in-memory</b></p>\n",
       "                \n",
       "        <div>\n",
       "            <p><b>SparkContext</b></p>\n",
       "\n",
       "            <p><a href=\"http://CrystalTalks-PC:4041\">Spark UI</a></p>\n",
       "\n",
       "            <dl>\n",
       "              <dt>Version</dt>\n",
       "                <dd><code>v3.3.2</code></dd>\n",
       "              <dt>Master</dt>\n",
       "                <dd><code>local[4]</code></dd>\n",
       "              <dt>AppName</dt>\n",
       "                <dd><code>PersistingDataApp</code></dd>\n",
       "            </dl>\n",
       "        </div>\n",
       "        \n",
       "            </div>\n",
       "        "
      ],
      "text/plain": [
       "<pyspark.sql.session.SparkSession at 0x1cb626f0280>"
      ]
     },
     "execution_count": 2,
     "metadata": {},
     "output_type": "execute_result"
    }
   ],
   "source": [
    "from pyspark.sql import SparkSession\n",
    "from pyspark.sql.types import *\n",
    "from pyspark.sql.functions import *\n",
    "\n",
    "spark = (\n",
    "            SparkSession\n",
    "                .builder\n",
    "                .appName(\"PersistingDataApp\")\n",
    "                .master(\"local[4]\")\n",
    "    \n",
    "                .config(\"spark.dynamicAllocation.enabled\", \"false\")\n",
    "                .config(\"spark.sql.adaptive.enabled\", \"false\")\n",
    "                \n",
    "                .getOrCreate()\n",
    "        )\n",
    "\n",
    "sc = spark.sparkContext\n",
    "\n",
    "spark"
   ]
  },
  {
   "cell_type": "code",
   "execution_count": 3,
   "id": "0611ad3d",
   "metadata": {},
   "outputs": [],
   "source": [
    "# Read Yellow Taxis data\n",
    "yellowTaxiDF = (\n",
    "                  spark\n",
    "                    .read\n",
    "                    .option(\"header\", \"true\")    \n",
    "                    .option(\"inferSchema\", \"true\")                    \n",
    "                    .csv(\"C:\\SparkCourse\\DataFiles\\Raw\\YellowTaxis_202210.csv\")\n",
    "               )\n",
    "\n",
    "# Aggregate the data\n",
    "yellowTaxiGroupedDF = (\n",
    "                            yellowTaxiDF\n",
    "                                .dropDuplicates()\n",
    "    \n",
    "                                .groupBy(\"PULocationID\")\n",
    "                                .agg(sum(\"total_amount\"))\n",
    "                      )"
   ]
  },
  {
   "cell_type": "markdown",
   "id": "c9edf9bc",
   "metadata": {},
   "source": [
    "### Save data without caching"
   ]
  },
  {
   "cell_type": "code",
   "execution_count": 4,
   "id": "23bafe0e",
   "metadata": {},
   "outputs": [],
   "source": [
    "(\n",
    "    yellowTaxiGroupedDF    \n",
    "            .write\n",
    "    \n",
    "            .option(\"header\", \"true\")\n",
    "            .option(\"dateFormat\", \"yyyy-MM-dd HH:mm:ss.S\")\n",
    "    \n",
    "            .mode(\"overwrite\")\n",
    "    \n",
    "            .csv(\"C:\\SparkCourse\\DataFiles\\Output\\CacheTest_WithoutEnabling.csv\")\n",
    ")"
   ]
  },
  {
   "cell_type": "markdown",
   "id": "1a312f1e",
   "metadata": {},
   "source": [
    "### Apply persist operation on DataFrame\n",
    "\n",
    "This will not cache data because it's a lazy operation"
   ]
  },
  {
   "cell_type": "code",
   "execution_count": 5,
   "id": "57cb5f4b",
   "metadata": {},
   "outputs": [
    {
     "data": {
      "text/plain": [
       "DataFrame[PULocationID: int, sum(total_amount): double]"
      ]
     },
     "execution_count": 5,
     "metadata": {},
     "output_type": "execute_result"
    }
   ],
   "source": [
    "import pyspark\n",
    "\n",
    "yellowTaxiGroupedDF.persist( pyspark.StorageLevel.MEMORY_AND_DISK )\n"
   ]
  },
  {
   "cell_type": "markdown",
   "id": "96bdf19f",
   "metadata": {},
   "source": [
    "### Save data with caching enabled\n",
    "\n",
    "This will save data to disk and cache the data"
   ]
  },
  {
   "cell_type": "code",
   "execution_count": 6,
   "id": "04ce1ac3",
   "metadata": {},
   "outputs": [],
   "source": [
    "(\n",
    "    yellowTaxiGroupedDF    \n",
    "            .write\n",
    "            \n",
    "            .option(\"header\", \"true\")\n",
    "            .option(\"dateFormat\", \"yyyy-MM-dd HH:mm:ss.S\")\n",
    "    \n",
    "            .mode(\"overwrite\")\n",
    "    \n",
    "            .csv(\"C:\\SparkCourse\\DataFiles\\Output\\CacheTest_EnabledFirstTime.csv\")\n",
    ")"
   ]
  },
  {
   "cell_type": "markdown",
   "id": "e0cb2166",
   "metadata": {},
   "source": [
    "### Save data to disk by using persisted data\n",
    "\n",
    "This will take cached data and write to disk"
   ]
  },
  {
   "cell_type": "code",
   "execution_count": 7,
   "id": "998baefb",
   "metadata": {},
   "outputs": [],
   "source": [
    "(\n",
    "    yellowTaxiGroupedDF    \n",
    "            .write\n",
    "            \n",
    "            .option(\"header\", \"true\")\n",
    "            .option(\"dateFormat\", \"yyyy-MM-dd HH:mm:ss.S\")\n",
    "    \n",
    "            .mode(\"overwrite\")\n",
    "    \n",
    "            .csv(\"C:\\SparkCourse\\DataFiles\\Output\\CacheTest_EnabledAndCached.csv\")\n",
    ")"
   ]
  },
  {
   "cell_type": "markdown",
   "id": "78751ae0",
   "metadata": {},
   "source": [
    "### Unpersist data\n",
    "\n",
    "This will remove cached partitions"
   ]
  },
  {
   "cell_type": "code",
   "execution_count": 8,
   "id": "2e610fa8",
   "metadata": {},
   "outputs": [
    {
     "data": {
      "text/plain": [
       "DataFrame[PULocationID: int, sum(total_amount): double]"
      ]
     },
     "execution_count": 8,
     "metadata": {},
     "output_type": "execute_result"
    }
   ],
   "source": [
    "yellowTaxiGroupedDF.unpersist()"
   ]
  },
  {
   "cell_type": "code",
   "execution_count": null,
   "id": "2bbdf1b9",
   "metadata": {},
   "outputs": [],
   "source": []
  },
  {
   "cell_type": "code",
   "execution_count": null,
   "id": "29074370",
   "metadata": {},
   "outputs": [],
   "source": []
  },
  {
   "cell_type": "code",
   "execution_count": null,
   "id": "2c23300d",
   "metadata": {},
   "outputs": [],
   "source": []
  },
  {
   "cell_type": "code",
   "execution_count": null,
   "id": "87772a1f",
   "metadata": {},
   "outputs": [],
   "source": []
  },
  {
   "cell_type": "code",
   "execution_count": null,
   "id": "38d24823",
   "metadata": {},
   "outputs": [],
   "source": []
  },
  {
   "cell_type": "code",
   "execution_count": null,
   "id": "173915ff",
   "metadata": {},
   "outputs": [],
   "source": []
  },
  {
   "cell_type": "code",
   "execution_count": null,
   "id": "a95d1ad6",
   "metadata": {},
   "outputs": [],
   "source": []
  },
  {
   "cell_type": "code",
   "execution_count": null,
   "id": "56e7f446",
   "metadata": {},
   "outputs": [],
   "source": []
  },
  {
   "cell_type": "code",
   "execution_count": null,
   "id": "d5633061",
   "metadata": {},
   "outputs": [],
   "source": []
  },
  {
   "cell_type": "code",
   "execution_count": null,
   "id": "af2ef99b",
   "metadata": {},
   "outputs": [],
   "source": []
  },
  {
   "cell_type": "code",
   "execution_count": null,
   "id": "d1227b01",
   "metadata": {},
   "outputs": [],
   "source": []
  }
 ],
 "metadata": {
  "kernelspec": {
   "display_name": "Python 3 (ipykernel)",
   "language": "python",
   "name": "python3"
  },
  "language_info": {
   "codemirror_mode": {
    "name": "ipython",
    "version": 3
   },
   "file_extension": ".py",
   "mimetype": "text/x-python",
   "name": "python",
   "nbconvert_exporter": "python",
   "pygments_lexer": "ipython3",
   "version": "3.10.9"
  }
 },
 "nbformat": 4,
 "nbformat_minor": 5
}
