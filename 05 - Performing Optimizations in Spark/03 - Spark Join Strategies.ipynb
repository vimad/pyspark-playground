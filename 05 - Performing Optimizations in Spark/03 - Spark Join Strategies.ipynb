{
 "cells": [
  {
   "cell_type": "code",
   "execution_count": 1,
   "id": "df559189",
   "metadata": {},
   "outputs": [
    {
     "data": {
      "text/plain": [
       "'C:\\\\Installation\\\\spark-3.3.2-bin-hadoop3'"
      ]
     },
     "execution_count": 1,
     "metadata": {},
     "output_type": "execute_result"
    }
   ],
   "source": [
    "import findspark\n",
    "findspark.init()\n",
    "findspark.find()"
   ]
  },
  {
   "cell_type": "code",
   "execution_count": 2,
   "id": "61aca728",
   "metadata": {},
   "outputs": [
    {
     "data": {
      "text/html": [
       "\n",
       "            <div>\n",
       "                <p><b>SparkSession - hive</b></p>\n",
       "                \n",
       "        <div>\n",
       "            <p><b>SparkContext</b></p>\n",
       "\n",
       "            <p><a href=\"http://CrystalTalks-PC:4042\">Spark UI</a></p>\n",
       "\n",
       "            <dl>\n",
       "              <dt>Version</dt>\n",
       "                <dd><code>v3.3.2</code></dd>\n",
       "              <dt>Master</dt>\n",
       "                <dd><code>local[4]</code></dd>\n",
       "              <dt>AppName</dt>\n",
       "                <dd><code>SparkJoinsApp</code></dd>\n",
       "            </dl>\n",
       "        </div>\n",
       "        \n",
       "            </div>\n",
       "        "
      ],
      "text/plain": [
       "<pyspark.sql.session.SparkSession at 0x17bcde24370>"
      ]
     },
     "execution_count": 2,
     "metadata": {},
     "output_type": "execute_result"
    }
   ],
   "source": [
    "from pyspark.sql import SparkSession\n",
    "from pyspark.sql.types import *\n",
    "from pyspark.sql.functions import *\n",
    "\n",
    "spark = (\n",
    "            SparkSession\n",
    "                .builder\n",
    "                .appName(\"SparkJoinsApp\")\n",
    "                .master(\"local[4]\")\n",
    "    \n",
    "                .config(\"spark.dynamicAllocation.enabled\", \"false\")\n",
    "                .config(\"spark.sql.adaptive.enabled\", \"false\")\n",
    "    \n",
    "                .enableHiveSupport()\n",
    "                \n",
    "                .getOrCreate()\n",
    "        )\n",
    "\n",
    "sc = spark.sparkContext\n",
    "\n",
    "spark"
   ]
  },
  {
   "cell_type": "code",
   "execution_count": 3,
   "id": "212244bf",
   "metadata": {},
   "outputs": [
    {
     "data": {
      "text/html": [
       "<style>pre { white-space: pre !important; }</style>"
      ],
      "text/plain": [
       "<IPython.core.display.HTML object>"
      ]
     },
     "metadata": {},
     "output_type": "display_data"
    }
   ],
   "source": [
    "from IPython.display import *\n",
    "display(HTML(\"<style>pre { white-space: pre !important; }</style>\"))"
   ]
  },
  {
   "cell_type": "markdown",
   "id": "681b6a35",
   "metadata": {},
   "source": [
    "### Change Auto Broadcast setting\n",
    "\n",
    "In real-life scenario, only disable if there is a specific use case, otherwise keep it enabled"
   ]
  },
  {
   "cell_type": "code",
   "execution_count": 4,
   "id": "4a55884b",
   "metadata": {},
   "outputs": [
    {
     "data": {
      "text/plain": [
       "'10485760b'"
      ]
     },
     "execution_count": 4,
     "metadata": {},
     "output_type": "execute_result"
    }
   ],
   "source": [
    "# Check default value\n",
    "\n",
    "spark.conf.get( \"spark.sql.autoBroadcastJoinThreshold\" )"
   ]
  },
  {
   "cell_type": "code",
   "execution_count": 5,
   "id": "b4ae0aae",
   "metadata": {},
   "outputs": [],
   "source": [
    "# Disable auto broadcast by setting value to -1\n",
    "\n",
    "spark.conf.set( \"spark.sql.autoBroadcastJoinThreshold\", \"-1\" )"
   ]
  },
  {
   "cell_type": "markdown",
   "id": "1b2ca21d",
   "metadata": {},
   "source": [
    "### Read files"
   ]
  },
  {
   "cell_type": "code",
   "execution_count": 6,
   "id": "acb61f8d",
   "metadata": {},
   "outputs": [
    {
     "data": {
      "text/plain": [
       "3675412"
      ]
     },
     "execution_count": 6,
     "metadata": {},
     "output_type": "execute_result"
    }
   ],
   "source": [
    "# Create schema for Yellow Taxi Data\n",
    "\n",
    "yellowTaxiSchema = (\n",
    "                        StructType\n",
    "                        ([ \n",
    "                            StructField(\"VendorId\"               , IntegerType()   , True),\n",
    "                            StructField(\"PickupTime\"             , TimestampType() , True),\n",
    "                            StructField(\"DropTime\"               , TimestampType() , True),                            \n",
    "                            StructField(\"PassengerCount\"         , DoubleType()    , True),\n",
    "                            StructField(\"TripDistance\"           , DoubleType()    , True),\n",
    "                            StructField(\"RateCodeId\"             , DoubleType()    , True),                            \n",
    "                            StructField(\"StoreAndFwdFlag\"        , StringType()    , True),\n",
    "                            StructField(\"PickupLocationId\"       , IntegerType()   , True),\n",
    "                            StructField(\"DropLocationId\"         , IntegerType()   , True),                            \n",
    "                            StructField(\"PaymentType\"            , IntegerType()   , True),                            \n",
    "                            StructField(\"FareAmount\"             , DoubleType()    , True),\n",
    "                            StructField(\"Extra\"                  , DoubleType()    , True),\n",
    "                            StructField(\"MtaTax\"                 , DoubleType()    , True),\n",
    "                            StructField(\"TipAmount\"              , DoubleType()    , True),\n",
    "                            StructField(\"TollsAmount\"            , DoubleType()    , True),\n",
    "                            StructField(\"ImprovementSurcharge\"   , DoubleType()    , True),\n",
    "                            StructField(\"TotalAmount\"            , DoubleType()    , True),\n",
    "                            StructField(\"CongestionSurcharge\"    , DoubleType()    , True),\n",
    "                            StructField(\"AirportFee\"             , DoubleType()    , True)\n",
    "                        ])\n",
    "                   )\n",
    "\n",
    "yellowTaxiDF = (\n",
    "                  spark\n",
    "                    .read\n",
    "                    .option(\"header\", \"true\")    \n",
    "                    .schema(yellowTaxiSchema)    \n",
    "                    .csv(\"C:\\SparkCourse\\DataFiles\\Raw\\YellowTaxis_202210.csv\")\n",
    "               )\n",
    "\n",
    "yellowTaxiDF.count()"
   ]
  },
  {
   "cell_type": "code",
   "execution_count": 7,
   "id": "725bc162",
   "metadata": {},
   "outputs": [
    {
     "data": {
      "text/plain": [
       "265"
      ]
     },
     "execution_count": 7,
     "metadata": {},
     "output_type": "execute_result"
    }
   ],
   "source": [
    "taxiZonesSchema = \"PickupLocationId INT, Borough STRING, Zone STRING, ServiceZone STRING\"\n",
    "\n",
    "taxiZonesDF = (\n",
    "                  spark\n",
    "                    .read                    \n",
    "                    .schema(taxiZonesSchema)\n",
    "                    .csv(\"C:\\SparkCourse\\DataFiles\\Raw\\TaxiZones.csv\")\n",
    "              )\n",
    "\n",
    "taxiZonesDF.count()"
   ]
  },
  {
   "cell_type": "markdown",
   "id": "abe4c625",
   "metadata": {},
   "source": [
    "### Join large and small datasets\n",
    "\n",
    "Auto-broadcast is already disabled"
   ]
  },
  {
   "cell_type": "code",
   "execution_count": 8,
   "id": "41264e31",
   "metadata": {},
   "outputs": [
    {
     "name": "stdout",
     "output_type": "stream",
     "text": [
      "+--------+-------------------+-------------------+--------------+------------+----------+---------------+----------------+--------------+-----------+----------+-----+------+---------+-----------+--------------------+-----------+-------------------+----------+----------------+---------+---------------+-----------+\n",
      "|VendorId|         PickupTime|           DropTime|PassengerCount|TripDistance|RateCodeId|StoreAndFwdFlag|PickupLocationId|DropLocationId|PaymentType|FareAmount|Extra|MtaTax|TipAmount|TollsAmount|ImprovementSurcharge|TotalAmount|CongestionSurcharge|AirportFee|PickupLocationId|  Borough|           Zone|ServiceZone|\n",
      "+--------+-------------------+-------------------+--------------+------------+----------+---------------+----------------+--------------+-----------+----------+-----+------+---------+-----------+--------------------+-----------+-------------------+----------+----------------+---------+---------------+-----------+\n",
      "|       1|2022-10-01 06:09:18|2022-10-01 06:23:51|           1.0|         2.7|       1.0|              N|             148|           186|          1|      11.5|  3.0|   0.5|      3.8|        0.0|                 0.3|       19.1|                2.5|       0.0|             148|Manhattan|Lower East Side|Yellow Zone|\n",
      "|       1|2022-10-01 06:02:43|2022-10-01 06:10:22|           1.0|         0.9|       1.0|              N|             148|            87|          4|       6.5|  3.0|   0.5|      0.0|        0.0|                 0.3|       10.3|                2.5|       0.0|             148|Manhattan|Lower East Side|Yellow Zone|\n",
      "|       2|2022-10-01 06:17:08|2022-10-01 06:28:18|           5.0|        1.75|       1.0|              N|             148|           114|          1|       9.0|  0.5|   0.5|     2.56|        0.0|                 0.3|      15.36|                2.5|       0.0|             148|Manhattan|Lower East Side|Yellow Zone|\n",
      "|       2|2022-10-01 06:39:39|2022-10-01 06:53:49|           5.0|        2.62|       1.0|              N|             148|           233|          1|      11.5|  0.5|   0.5|     3.06|        0.0|                 0.3|      18.36|                2.5|       0.0|             148|Manhattan|Lower East Side|Yellow Zone|\n",
      "|       1|2022-10-01 05:36:36|2022-10-01 06:03:08|           2.0|         4.0|       1.0|              N|             148|           225|          1|      19.0|  3.0|   0.5|     4.55|        0.0|                 0.3|      27.35|                2.5|       0.0|             148|Manhattan|Lower East Side|Yellow Zone|\n",
      "|       2|2022-10-01 05:58:58|2022-10-01 06:11:32|           2.0|        2.02|       1.0|              N|             148|           170|          1|      10.0|  0.5|   0.5|      2.0|        0.0|                 0.3|       15.8|                2.5|       0.0|             148|Manhattan|Lower East Side|Yellow Zone|\n",
      "|       2|2022-10-01 05:48:16|2022-10-01 06:06:07|           1.0|        2.33|       1.0|              N|             148|           158|          1|      12.5|  0.5|   0.5|     3.26|        0.0|                 0.3|      19.56|                2.5|       0.0|             148|Manhattan|Lower East Side|Yellow Zone|\n",
      "|       2|2022-10-01 06:03:23|2022-10-01 06:17:00|           1.0|        4.17|       1.0|              N|             148|           163|          1|      14.5|  0.5|   0.5|      1.5|        0.0|                 0.3|       19.8|                2.5|       0.0|             148|Manhattan|Lower East Side|Yellow Zone|\n",
      "|       2|2022-10-01 06:20:59|2022-10-01 06:35:08|           1.0|        3.43|       1.0|              N|             148|           233|          2|      13.0|  0.5|   0.5|      0.0|        0.0|                 0.3|       16.8|                2.5|       0.0|             148|Manhattan|Lower East Side|Yellow Zone|\n",
      "|       1|2022-10-01 06:16:56|2022-10-01 06:25:09|           1.0|         1.8|       1.0|              N|             148|           233|          1|       7.5|  3.0|   0.5|     2.25|        0.0|                 0.3|      13.55|                2.5|       0.0|             148|Manhattan|Lower East Side|Yellow Zone|\n",
      "|       2|2022-10-01 06:20:01|2022-10-01 06:29:56|           1.0|         1.3|       1.0|              N|             148|            79|          1|       8.0|  0.5|   0.5|     2.36|        0.0|                 0.3|      14.16|                2.5|       0.0|             148|Manhattan|Lower East Side|Yellow Zone|\n",
      "|       2|2022-10-01 05:41:51|2022-10-01 06:07:21|           1.0|       10.63|       1.0|              N|             148|           178|          1|      31.0|  0.5|   0.5|      8.7|        0.0|                 0.3|       43.5|                2.5|       0.0|             148|Manhattan|Lower East Side|Yellow Zone|\n",
      "|       2|2022-10-01 05:44:36|2022-10-01 06:12:47|           2.0|        5.86|       1.0|              N|             148|           239|          1|      22.5|  0.5|   0.5|     7.89|        0.0|                 0.3|      34.19|                2.5|       0.0|             148|Manhattan|Lower East Side|Yellow Zone|\n",
      "|       2|2022-10-01 06:00:41|2022-10-01 06:25:11|           1.0|        4.69|       1.0|              N|             148|            50|          1|      19.5|  0.5|   0.5|     4.66|        0.0|                 0.3|      27.96|                2.5|       0.0|             148|Manhattan|Lower East Side|Yellow Zone|\n",
      "|       2|2022-10-01 05:45:06|2022-10-01 05:56:18|           1.0|        1.45|       1.0|              N|             148|             4|          1|       8.5|  0.5|   0.5|      4.0|        0.0|                 0.3|       16.3|                2.5|       0.0|             148|Manhattan|Lower East Side|Yellow Zone|\n",
      "|       2|2022-10-01 05:45:37|2022-10-01 06:00:28|           1.0|        2.17|       1.0|              N|             148|           107|          1|      11.5|  0.5|   0.5|     3.06|        0.0|                 0.3|      18.36|                2.5|       0.0|             148|Manhattan|Lower East Side|Yellow Zone|\n",
      "|       2|2022-10-01 06:13:54|2022-10-01 06:33:12|           1.0|        4.64|       1.0|              N|             148|            62|          1|      17.5|  0.5|   0.5|      4.0|        0.0|                 0.3|       25.3|                2.5|       0.0|             148|Manhattan|Lower East Side|Yellow Zone|\n",
      "|       1|2022-10-01 05:35:00|2022-10-01 05:48:03|           2.0|         2.7|       1.0|              N|             148|           229|          1|      11.5|  3.0|   0.5|      2.0|        0.0|                 0.3|       17.3|                2.5|       0.0|             148|Manhattan|Lower East Side|Yellow Zone|\n",
      "|       2|2022-10-01 06:05:33|2022-10-01 06:18:38|           1.0|        4.77|       1.0|              N|             148|           256|          2|      16.0|  0.5|   0.5|      0.0|        0.0|                 0.3|       19.8|                2.5|       0.0|             148|Manhattan|Lower East Side|Yellow Zone|\n",
      "|       2|2022-10-01 06:16:09|2022-10-01 06:30:50|           1.0|        2.45|       1.0|              N|             148|           158|          1|      11.0|  0.5|   0.5|      1.5|        0.0|                 0.3|       16.3|                2.5|       0.0|             148|Manhattan|Lower East Side|Yellow Zone|\n",
      "+--------+-------------------+-------------------+--------------+------------+----------+---------------+----------------+--------------+-----------+----------+-----+------+---------+-----------+--------------------+-----------+-------------------+----------+----------------+---------+---------------+-----------+\n",
      "only showing top 20 rows\n",
      "\n"
     ]
    }
   ],
   "source": [
    "joinedDF = (\n",
    "                yellowTaxiDF\n",
    "                    .join\n",
    "                    (\n",
    "                        taxiZonesDF,\n",
    "                        \n",
    "                        yellowTaxiDF.PickupLocationId == taxiZonesDF.PickupLocationId,\n",
    "                        \n",
    "                        \"inner\"\n",
    "                    )\n",
    "            )\n",
    "\n",
    "joinedDF.show()"
   ]
  },
  {
   "cell_type": "markdown",
   "id": "2e8a3608",
   "metadata": {},
   "source": [
    "### Option 1 - Broadcast Hash Join: Set join threshold"
   ]
  },
  {
   "cell_type": "code",
   "execution_count": null,
   "id": "b935565d",
   "metadata": {},
   "outputs": [],
   "source": [
    "# Will not run. Will manually perform broadcast\n",
    "\n",
    "spark.conf.set(\"spark.sql.autoBroadcastJoinThreshold\", \"10485760b\")\n"
   ]
  },
  {
   "cell_type": "markdown",
   "id": "7aa40007",
   "metadata": {},
   "source": [
    "### Option 2 - Broadcast Hash Join: Manually broadcast small dataset\n",
    "\n",
    "In case below, Taxi Zones is smaller dataset, so manually broadcast it. <br/>\n",
    "\n",
    "Perform broadcast manually if \"smaller\" dataset size is bigger than auto threshold size."
   ]
  },
  {
   "cell_type": "code",
   "execution_count": 9,
   "id": "834c61cb",
   "metadata": {},
   "outputs": [
    {
     "name": "stdout",
     "output_type": "stream",
     "text": [
      "+--------+-------------------+-------------------+--------------+------------+----------+---------------+----------------+--------------+-----------+----------+-----+------+---------+-----------+--------------------+-----------+-------------------+----------+----------------+---------+--------------------+-----------+\n",
      "|VendorId|         PickupTime|           DropTime|PassengerCount|TripDistance|RateCodeId|StoreAndFwdFlag|PickupLocationId|DropLocationId|PaymentType|FareAmount|Extra|MtaTax|TipAmount|TollsAmount|ImprovementSurcharge|TotalAmount|CongestionSurcharge|AirportFee|PickupLocationId|  Borough|                Zone|ServiceZone|\n",
      "+--------+-------------------+-------------------+--------------+------------+----------+---------------+----------------+--------------+-----------+----------+-----+------+---------+-----------+--------------------+-----------+-------------------+----------+----------------+---------+--------------------+-----------+\n",
      "|       1|2022-10-01 05:33:41|2022-10-01 05:48:39|           1.0|         1.7|       1.0|              N|             249|           107|          1|       9.5|  3.0|   0.5|     2.65|        0.0|                 0.3|      15.95|                2.5|       0.0|             249|Manhattan|        West Village|Yellow Zone|\n",
      "|       2|2022-10-01 05:44:30|2022-10-01 05:49:48|           2.0|        0.72|       1.0|              N|             151|           238|          2|       5.5|  0.5|   0.5|      0.0|        0.0|                 0.3|        9.3|                2.5|       0.0|             151|Manhattan|    Manhattan Valley|Yellow Zone|\n",
      "|       2|2022-10-01 05:57:13|2022-10-01 06:07:41|           1.0|        1.74|       1.0|              N|             238|           166|          1|       9.0|  0.5|   0.5|     2.06|        0.0|                 0.3|      12.36|                0.0|       0.0|             238|Manhattan|Upper West Side N...|Yellow Zone|\n",
      "|       1|2022-10-01 06:02:53|2022-10-01 06:08:55|           0.0|         1.3|       1.0|              N|             142|           239|          1|       6.5|  3.0|   0.5|     2.05|        0.0|                 0.3|      12.35|                2.5|       0.0|             142|Manhattan| Lincoln Square East|Yellow Zone|\n",
      "|       1|2022-10-01 06:14:55|2022-10-01 06:20:21|           0.0|         1.0|       1.0|              N|             238|           166|          1|       6.0|  0.5|   0.5|      1.8|        0.0|                 0.3|        9.1|                0.0|       0.0|             238|Manhattan|Upper West Side N...|Yellow Zone|\n",
      "|       1|2022-10-01 05:52:52|2022-10-01 06:22:14|           1.0|         6.8|       1.0|              Y|             186|            41|          2|      25.5|  3.0|   0.5|      0.0|        0.0|                 0.3|       29.3|                2.5|       0.0|             186|Manhattan|Penn Station/Madi...|Yellow Zone|\n",
      "|       2|2022-10-01 06:03:19|2022-10-01 06:14:51|           3.0|        1.88|       1.0|              N|             162|           145|          2|      10.5|  0.5|   0.5|      0.0|        0.0|                 0.3|       14.3|                2.5|       0.0|             162|Manhattan|        Midtown East|Yellow Zone|\n",
      "|       1|2022-10-01 05:32:42|2022-10-01 06:20:01|           1.0|        12.2|       1.0|              N|             100|            22|          1|      41.0|  3.0|   0.5|      3.0|        0.0|                 0.3|       47.8|                2.5|       0.0|             100|Manhattan|    Garment District|Yellow Zone|\n",
      "|       2|2022-10-01 05:36:35|2022-10-01 05:54:38|           1.0|        7.79|       1.0|              N|             138|           112|          1|      23.5|  0.5|   0.5|     4.96|        0.0|                 0.3|      31.01|                0.0|      1.25|             138|   Queens|   LaGuardia Airport|   Airports|\n",
      "|       2|2022-10-01 05:59:25|2022-10-01 06:13:15|           1.0|        4.72|       1.0|              N|             145|            75|          1|      14.5|  0.5|   0.5|      1.5|        0.0|                 0.3|       19.8|                2.5|       0.0|             145|   Queens|Long Island City/...|  Boro Zone|\n",
      "|       1|2022-10-01 05:31:55|2022-10-01 05:50:16|           1.0|         8.8|       1.0|              N|             138|           236|          1|      26.0| 4.25|   0.5|     5.64|       6.55|                 0.3|      43.24|                2.5|      1.25|             138|   Queens|   LaGuardia Airport|   Airports|\n",
      "|       1|2022-10-01 05:57:48|2022-10-01 06:29:50|           1.0|         8.6|       1.0|              N|             140|            36|          1|      29.5|  3.0|   0.5|      6.0|        0.0|                 0.3|       39.3|                2.5|       0.0|             140|Manhattan|     Lenox Hill East|Yellow Zone|\n",
      "|       1|2022-10-01 05:35:27|2022-10-01 06:05:33|           4.0|        12.0|       1.0|              N|              70|           230|          2|      36.5|  3.0|   0.5|      0.0|       6.55|                 0.3|      46.85|                2.5|       0.0|              70|   Queens|       East Elmhurst|  Boro Zone|\n",
      "|       1|2022-10-01 06:08:53|2022-10-01 06:18:13|           2.0|         1.4|       1.0|              N|             230|            68|          1|       8.5|  3.0|   0.5|     3.05|        0.0|                 0.3|      15.35|                2.5|       0.0|             230|Manhattan|Times Sq/Theatre ...|Yellow Zone|\n",
      "|       2|2022-10-01 05:54:40|2022-10-01 06:00:23|           1.0|        0.76|       1.0|              N|              79|           113|          1|       5.5|  0.5|   0.5|     0.93|        0.0|                 0.3|      10.23|                2.5|       0.0|              79|Manhattan|        East Village|Yellow Zone|\n",
      "|       2|2022-10-01 06:02:22|2022-10-01 06:28:55|           1.0|         7.8|       1.0|              N|             113|           116|          1|      26.5|  0.5|   0.5|     6.06|        0.0|                 0.3|      36.36|                2.5|       0.0|             113|Manhattan|Greenwich Village...|Yellow Zone|\n",
      "|       2|2022-10-01 05:47:08|2022-10-01 06:00:50|           2.0|         2.9|       1.0|              N|              13|           249|          1|      12.0|  0.5|   0.5|      2.8|        0.0|                 0.3|       18.6|                2.5|       0.0|              13|Manhattan|   Battery Park City|Yellow Zone|\n",
      "|       2|2022-10-01 06:02:14|2022-10-01 06:14:35|           1.0|        1.71|       1.0|              N|             249|            79|          1|       9.0|  0.5|   0.5|     2.56|        0.0|                 0.3|      15.36|                2.5|       0.0|             249|Manhattan|        West Village|Yellow Zone|\n",
      "|       2|2022-10-01 05:39:24|2022-10-01 05:51:45|           1.0|         2.3|       1.0|              N|              48|           249|          1|      10.0|  0.5|   0.5|     2.76|        0.0|                 0.3|      16.56|                2.5|       0.0|              48|Manhattan|        Clinton East|Yellow Zone|\n",
      "|       2|2022-10-01 05:52:29|2022-10-01 06:03:53|           2.0|        1.67|       1.0|              N|             249|           224|          1|       8.5|  0.5|   0.5|     2.46|        0.0|                 0.3|      14.76|                2.5|       0.0|             249|Manhattan|        West Village|Yellow Zone|\n",
      "+--------+-------------------+-------------------+--------------+------------+----------+---------------+----------------+--------------+-----------+----------+-----+------+---------+-----------+--------------------+-----------+-------------------+----------+----------------+---------+--------------------+-----------+\n",
      "only showing top 20 rows\n",
      "\n"
     ]
    }
   ],
   "source": [
    "# Manually broadcast Taxi Zones\n",
    "\n",
    "joinedDF = (\n",
    "                yellowTaxiDF\n",
    "                    .join\n",
    "                    (\n",
    "                        broadcast(taxiZonesDF),\n",
    "                        \n",
    "                        yellowTaxiDF.PickupLocationId == taxiZonesDF.PickupLocationId,\n",
    "                        \"inner\"\n",
    "                    )\n",
    "            )\n",
    "\n",
    "joinedDF.show()"
   ]
  },
  {
   "cell_type": "code",
   "execution_count": null,
   "id": "33fee723",
   "metadata": {},
   "outputs": [],
   "source": []
  },
  {
   "cell_type": "markdown",
   "id": "978df590",
   "metadata": {},
   "source": [
    "### Optimize shuffle sort merge join performance with Bucketing"
   ]
  },
  {
   "cell_type": "markdown",
   "id": "62a11fd4",
   "metadata": {},
   "source": [
    "### Create two views on a large DataFrame\n",
    "\n",
    "Note using same DataFrame for joining is for demo purpose only. <br/>\n",
    "In real-life scenario, you would be (likely) joining two different datasets."
   ]
  },
  {
   "cell_type": "code",
   "execution_count": 10,
   "id": "e6a64501",
   "metadata": {},
   "outputs": [],
   "source": [
    "\n",
    "yellowTaxiDF.createOrReplaceTempView(\"YellowTaxis1_Unbucketed\")\n",
    "\n",
    "yellowTaxiDF.createOrReplaceTempView(\"YellowTaxis2_Unbucketed\")"
   ]
  },
  {
   "cell_type": "markdown",
   "id": "e740d8aa",
   "metadata": {},
   "source": [
    "### Join two unbucketed datasets\n",
    "\n",
    "This should perform Shuffle Sort Merge Join"
   ]
  },
  {
   "cell_type": "code",
   "execution_count": 11,
   "id": "394e733c",
   "metadata": {},
   "outputs": [
    {
     "name": "stdout",
     "output_type": "stream",
     "text": [
      "+--------+-------------------+-------------------+--------------+------------+----------+---------------+----------------+--------------+-----------+----------+-----+------+---------+-----------+--------------------+-----------+-------------------+----------+--------+-------------------+-------------------+--------------+------------+----------+---------------+----------------+--------------+-----------+----------+-----+------+---------+-----------+--------------------+-----------+-------------------+----------+\n",
      "|VendorId|         PickupTime|           DropTime|PassengerCount|TripDistance|RateCodeId|StoreAndFwdFlag|PickupLocationId|DropLocationId|PaymentType|FareAmount|Extra|MtaTax|TipAmount|TollsAmount|ImprovementSurcharge|TotalAmount|CongestionSurcharge|AirportFee|VendorId|         PickupTime|           DropTime|PassengerCount|TripDistance|RateCodeId|StoreAndFwdFlag|PickupLocationId|DropLocationId|PaymentType|FareAmount|Extra|MtaTax|TipAmount|TollsAmount|ImprovementSurcharge|TotalAmount|CongestionSurcharge|AirportFee|\n",
      "+--------+-------------------+-------------------+--------------+------------+----------+---------------+----------------+--------------+-----------+----------+-----+------+---------+-----------+--------------------+-----------+-------------------+----------+--------+-------------------+-------------------+--------------+------------+----------+---------------+----------------+--------------+-----------+----------+-----+------+---------+-----------+--------------------+-----------+-------------------+----------+\n",
      "|       1|2022-10-01 06:09:18|2022-10-01 06:23:51|           1.0|         2.7|       1.0|              N|             148|           186|          1|      11.5|  3.0|   0.5|      3.8|        0.0|                 0.3|       19.1|                2.5|       0.0|       2|2022-10-01 06:29:34|2022-10-01 06:37:40|           5.0|         0.8|       1.0|              N|             114|           148|          1|       6.5|  0.5|   0.5|     2.06|        0.0|                 0.3|      12.36|                2.5|       0.0|\n",
      "|       1|2022-10-01 06:09:18|2022-10-01 06:23:51|           1.0|         2.7|       1.0|              N|             148|           186|          1|      11.5|  3.0|   0.5|      3.8|        0.0|                 0.3|       19.1|                2.5|       0.0|       2|2022-10-01 05:41:48|2022-10-01 06:04:02|           1.0|         5.3|       1.0|              N|             141|           148|          1|      20.0|  0.5|   0.5|     4.76|        0.0|                 0.3|      28.56|                2.5|       0.0|\n",
      "|       1|2022-10-01 06:09:18|2022-10-01 06:23:51|           1.0|         2.7|       1.0|              N|             148|           186|          1|      11.5|  3.0|   0.5|      3.8|        0.0|                 0.3|       19.1|                2.5|       0.0|       1|2022-10-01 06:24:29|2022-10-01 06:39:11|           1.0|         2.3|       1.0|              N|             234|           148|          1|      11.5|  3.0|   0.5|     3.05|        0.0|                 0.3|      18.35|                2.5|       0.0|\n",
      "|       1|2022-10-01 06:09:18|2022-10-01 06:23:51|           1.0|         2.7|       1.0|              N|             148|           186|          1|      11.5|  3.0|   0.5|      3.8|        0.0|                 0.3|       19.1|                2.5|       0.0|       2|2022-10-01 05:32:12|2022-10-01 05:46:26|           1.0|        1.44|       1.0|              N|             231|           148|          1|      10.5|  0.5|   0.5|     2.86|        0.0|                 0.3|      17.16|                2.5|       0.0|\n",
      "|       1|2022-10-01 06:09:18|2022-10-01 06:23:51|           1.0|         2.7|       1.0|              N|             148|           186|          1|      11.5|  3.0|   0.5|      3.8|        0.0|                 0.3|       19.1|                2.5|       0.0|       2|2022-10-01 05:33:25|2022-10-01 06:02:20|           1.0|        4.07|       1.0|              N|             163|           148|          1|      19.5|  0.5|   0.5|      4.0|        0.0|                 0.3|       27.3|                2.5|       0.0|\n",
      "|       1|2022-10-01 06:09:18|2022-10-01 06:23:51|           1.0|         2.7|       1.0|              N|             148|           186|          1|      11.5|  3.0|   0.5|      3.8|        0.0|                 0.3|       19.1|                2.5|       0.0|       2|2022-10-01 06:15:04|2022-10-01 06:41:43|           2.0|       18.13|       2.0|              N|             132|           148|          2|      52.0|  0.0|   0.5|      0.0|        0.0|                 0.3|       55.3|                2.5|       0.0|\n",
      "|       1|2022-10-01 06:09:18|2022-10-01 06:23:51|           1.0|         2.7|       1.0|              N|             148|           186|          1|      11.5|  3.0|   0.5|      3.8|        0.0|                 0.3|       19.1|                2.5|       0.0|       1|2022-10-01 06:03:24|2022-10-01 06:16:54|           1.0|         2.3|       1.0|              N|             246|           148|          1|       9.0|  3.0|   0.5|      1.0|        0.0|                 0.3|       13.8|                2.5|       0.0|\n",
      "|       1|2022-10-01 06:09:18|2022-10-01 06:23:51|           1.0|         2.7|       1.0|              N|             148|           186|          1|      11.5|  3.0|   0.5|      3.8|        0.0|                 0.3|       19.1|                2.5|       0.0|       2|2022-10-01 05:48:22|2022-10-01 05:58:59|           1.0|        1.88|       1.0|              N|             234|           148|          1|       9.5|  0.5|   0.5|     2.66|        0.0|                 0.3|      15.96|                2.5|       0.0|\n",
      "|       1|2022-10-01 06:09:18|2022-10-01 06:23:51|           1.0|         2.7|       1.0|              N|             148|           186|          1|      11.5|  3.0|   0.5|      3.8|        0.0|                 0.3|       19.1|                2.5|       0.0|       2|2022-10-01 05:36:15|2022-10-01 05:44:12|           1.0|        1.17|       1.0|              N|             231|           148|          1|       7.0|  0.5|   0.5|     2.16|        0.0|                 0.3|      12.96|                2.5|       0.0|\n",
      "|       1|2022-10-01 06:09:18|2022-10-01 06:23:51|           1.0|         2.7|       1.0|              N|             148|           186|          1|      11.5|  3.0|   0.5|      3.8|        0.0|                 0.3|       19.1|                2.5|       0.0|       2|2022-10-01 06:07:14|2022-10-01 06:11:38|           1.0|        0.67|       1.0|              N|              79|           148|          1|       5.0|  0.5|   0.5|      2.2|        0.0|                 0.3|       11.0|                2.5|       0.0|\n",
      "|       1|2022-10-01 06:09:18|2022-10-01 06:23:51|           1.0|         2.7|       1.0|              N|             148|           186|          1|      11.5|  3.0|   0.5|      3.8|        0.0|                 0.3|       19.1|                2.5|       0.0|       2|2022-10-01 05:37:36|2022-10-01 06:02:28|           2.0|        4.64|       1.0|              N|              48|           148|          1|      19.0|  0.5|   0.5|      5.7|        0.0|                 0.3|       28.5|                2.5|       0.0|\n",
      "|       1|2022-10-01 06:09:18|2022-10-01 06:23:51|           1.0|         2.7|       1.0|              N|             148|           186|          1|      11.5|  3.0|   0.5|      3.8|        0.0|                 0.3|       19.1|                2.5|       0.0|       1|2022-10-01 06:24:09|2022-10-01 06:40:31|           1.0|         2.9|       1.0|              N|             164|           148|          2|      13.5|  3.0|   0.5|      0.0|        0.0|                 0.3|       17.3|                2.5|       0.0|\n",
      "|       1|2022-10-01 06:09:18|2022-10-01 06:23:51|           1.0|         2.7|       1.0|              N|             148|           186|          1|      11.5|  3.0|   0.5|      3.8|        0.0|                 0.3|       19.1|                2.5|       0.0|       1|2022-10-01 05:33:49|2022-10-01 06:12:02|           2.0|         6.3|       1.0|              N|             237|           148|          2|      28.0|  3.0|   0.5|      0.0|        0.0|                 0.3|       31.8|                2.5|       0.0|\n",
      "|       1|2022-10-01 06:09:18|2022-10-01 06:23:51|           1.0|         2.7|       1.0|              N|             148|           186|          1|      11.5|  3.0|   0.5|      3.8|        0.0|                 0.3|       19.1|                2.5|       0.0|       2|2022-10-01 05:47:35|2022-10-01 06:06:05|           1.0|        1.88|       1.0|              N|             158|           148|          1|      12.5|  0.5|   0.5|     4.08|        0.0|                 0.3|      20.38|                2.5|       0.0|\n",
      "|       1|2022-10-01 06:09:18|2022-10-01 06:23:51|           1.0|         2.7|       1.0|              N|             148|           186|          1|      11.5|  3.0|   0.5|      3.8|        0.0|                 0.3|       19.1|                2.5|       0.0|       1|2022-10-01 06:17:00|2022-10-01 06:25:18|           2.0|         1.5|       1.0|              N|             231|           148|          1|       8.0|  2.5|   0.5|      0.0|        0.0|                 0.3|       11.3|                2.5|       0.0|\n",
      "|       1|2022-10-01 06:09:18|2022-10-01 06:23:51|           1.0|         2.7|       1.0|              N|             148|           186|          1|      11.5|  3.0|   0.5|      3.8|        0.0|                 0.3|       19.1|                2.5|       0.0|       2|2022-10-01 05:47:10|2022-10-01 05:59:31|           1.0|        2.01|       1.0|              N|             234|           148|          1|      10.0|  0.5|   0.5|     3.45|        0.0|                 0.3|      17.25|                2.5|       0.0|\n",
      "|       1|2022-10-01 06:09:18|2022-10-01 06:23:51|           1.0|         2.7|       1.0|              N|             148|           186|          1|      11.5|  3.0|   0.5|      3.8|        0.0|                 0.3|       19.1|                2.5|       0.0|       2|2022-10-01 05:37:35|2022-10-01 05:45:43|           1.0|        1.06|       1.0|              N|              45|           148|          1|       7.0|  0.5|   0.5|     3.24|        0.0|                 0.3|      14.04|                2.5|       0.0|\n",
      "|       1|2022-10-01 06:09:18|2022-10-01 06:23:51|           1.0|         2.7|       1.0|              N|             148|           186|          1|      11.5|  3.0|   0.5|      3.8|        0.0|                 0.3|       19.1|                2.5|       0.0|       2|2022-10-01 06:06:56|2022-10-01 06:19:26|           1.0|        1.81|       1.0|              N|              90|           148|          1|      10.0|  0.5|   0.5|      1.0|        0.0|                 0.3|       14.8|                2.5|       0.0|\n",
      "|       1|2022-10-01 06:09:18|2022-10-01 06:23:51|           1.0|         2.7|       1.0|              N|             148|           186|          1|      11.5|  3.0|   0.5|      3.8|        0.0|                 0.3|       19.1|                2.5|       0.0|       1|2022-10-01 05:31:04|2022-10-01 05:40:08|           1.0|         0.8|       1.0|              N|             148|           148|          1|       7.0|  3.0|   0.5|     2.15|        0.0|                 0.3|      12.95|                2.5|       0.0|\n",
      "|       1|2022-10-01 06:09:18|2022-10-01 06:23:51|           1.0|         2.7|       1.0|              N|             148|           186|          1|      11.5|  3.0|   0.5|      3.8|        0.0|                 0.3|       19.1|                2.5|       0.0|       2|2022-10-01 06:01:35|2022-10-01 06:20:02|           1.0|        6.06|       1.0|              N|             237|           148|          1|      20.0|  0.5|   0.5|     5.95|        0.0|                 0.3|      29.75|                2.5|       0.0|\n",
      "+--------+-------------------+-------------------+--------------+------------+----------+---------------+----------------+--------------+-----------+----------+-----+------+---------+-----------+--------------------+-----------+-------------------+----------+--------+-------------------+-------------------+--------------+------------+----------+---------------+----------------+--------------+-----------+----------+-----+------+---------+-----------+--------------------+-----------+-------------------+----------+\n",
      "only showing top 20 rows\n",
      "\n"
     ]
    }
   ],
   "source": [
    "spark.sql(\"\"\"\n",
    "\n",
    "SELECT *\n",
    "\n",
    "FROM YellowTaxis1_Unbucketed b1\n",
    "\n",
    "    JOIN YellowTaxis2_Unbucketed b2 ON b1.PickupLocationId = b2.DropLocationId\n",
    "\n",
    "\"\"\").show()"
   ]
  },
  {
   "cell_type": "markdown",
   "id": "b0fd9348",
   "metadata": {},
   "source": [
    "### Write datasets as tables with bucketing\n",
    "\n",
    "1. Bucketing should be on columns that would be used in joins <br/>\n",
    "2. Both datasets should be stored with same number of buckets"
   ]
  },
  {
   "cell_type": "code",
   "execution_count": 15,
   "id": "841a067a",
   "metadata": {},
   "outputs": [],
   "source": [
    "(\n",
    "    yellowTaxiDF\n",
    "            .write\n",
    "    \n",
    "            .bucketBy(4, \"PickupLocationId\")\n",
    "    \n",
    "            #.sortBy(\"PickupLocationId\")      Optionally sort the data\n",
    "            \n",
    "            .option(\"header\", \"true\")\n",
    "            .option(\"dateFormat\", \"yyyy-MM-dd HH:mm:ss.S\")    \n",
    "            .mode(\"overwrite\")    \n",
    "            .format(\"csv\")\n",
    "    \n",
    "            .saveAsTable(\"YellowTaxis_PickupBucket\")\n",
    ")\n",
    "\n",
    "(\n",
    "    yellowTaxiDF\n",
    "            .write\n",
    "    \n",
    "            .bucketBy(4, \"DropLocationId\")\n",
    "    \n",
    "            #.sortBy(\"DropLocationId\")       Optionally sort the data\n",
    "    \n",
    "            .option(\"header\", \"true\")\n",
    "            .option(\"dateFormat\", \"yyyy-MM-dd HH:mm:ss.S\")    \n",
    "            .mode(\"overwrite\")    \n",
    "            .format(\"csv\")\n",
    "    \n",
    "            .saveAsTable(\"YellowTaxis_DropBucket\")\n",
    ")"
   ]
  },
  {
   "cell_type": "markdown",
   "id": "4749bb3d",
   "metadata": {},
   "source": [
    "### Join two bucketed tables\n",
    "\n",
    "1. Bucketing is on columns being used in joins <br/>\n",
    "2. Both tables have same number of buckets"
   ]
  },
  {
   "cell_type": "code",
   "execution_count": 16,
   "id": "ee7b5329",
   "metadata": {},
   "outputs": [
    {
     "name": "stdout",
     "output_type": "stream",
     "text": [
      "+--------+-------------------+-------------------+--------------+------------+----------+---------------+----------------+--------------+-----------+----------+-----+------+---------+-----------+--------------------+-----------+-------------------+----------+--------+-------------------+-------------------+--------------+------------+----------+---------------+----------------+--------------+-----------+----------+-----+------+---------+-----------+--------------------+-----------+-------------------+----------+\n",
      "|VendorId|         PickupTime|           DropTime|PassengerCount|TripDistance|RateCodeId|StoreAndFwdFlag|PickupLocationId|DropLocationId|PaymentType|FareAmount|Extra|MtaTax|TipAmount|TollsAmount|ImprovementSurcharge|TotalAmount|CongestionSurcharge|AirportFee|VendorId|         PickupTime|           DropTime|PassengerCount|TripDistance|RateCodeId|StoreAndFwdFlag|PickupLocationId|DropLocationId|PaymentType|FareAmount|Extra|MtaTax|TipAmount|TollsAmount|ImprovementSurcharge|TotalAmount|CongestionSurcharge|AirportFee|\n",
      "+--------+-------------------+-------------------+--------------+------------+----------+---------------+----------------+--------------+-----------+----------+-----+------+---------+-----------+--------------------+-----------+-------------------+----------+--------+-------------------+-------------------+--------------+------------+----------+---------------+----------------+--------------+-----------+----------+-----+------+---------+-----------+--------------------+-----------+-------------------+----------+\n",
      "|       2|2022-10-06 05:26:53|2022-10-06 05:48:20|           1.0|        7.62|       1.0|              N|              12|           227|          1|      23.5|  0.5|   0.5|     5.46|        0.0|                 0.3|      32.76|                2.5|       0.0|       2|2022-10-01 06:23:19|2022-10-01 06:27:10|           1.0|        0.81|       1.0|              N|              87|            12|          1|       5.0|  0.5|   0.5|     1.76|        0.0|                 0.3|      10.56|                2.5|       0.0|\n",
      "|       2|2022-10-06 05:26:53|2022-10-06 05:48:20|           1.0|        7.62|       1.0|              N|              12|           227|          1|      23.5|  0.5|   0.5|     5.46|        0.0|                 0.3|      32.76|                2.5|       0.0|       2|2022-10-06 12:12:49|2022-10-06 12:29:35|           1.0|        4.36|       1.0|              N|             186|            12|          1|      16.0|  0.0|   0.5|     3.86|        0.0|                 0.3|      23.16|                2.5|       0.0|\n",
      "|       2|2022-10-06 05:26:53|2022-10-06 05:48:20|           1.0|        7.62|       1.0|              N|              12|           227|          1|      23.5|  0.5|   0.5|     5.46|        0.0|                 0.3|      32.76|                2.5|       0.0|       2|2022-10-01 08:01:00|2022-10-01 08:13:39|           1.0|        2.85|       1.0|              N|              79|            12|          2|      11.5|  0.5|   0.5|      0.0|        0.0|                 0.3|       15.3|                2.5|       0.0|\n",
      "|       2|2022-10-06 05:26:53|2022-10-06 05:48:20|           1.0|        7.62|       1.0|              N|              12|           227|          1|      23.5|  0.5|   0.5|     5.46|        0.0|                 0.3|      32.76|                2.5|       0.0|       2|2022-10-06 13:25:19|2022-10-06 13:49:45|           1.0|        5.45|       1.0|              N|             230|            12|          1|      21.0|  0.0|   0.5|     4.86|        0.0|                 0.3|      29.16|                2.5|       0.0|\n",
      "|       2|2022-10-06 05:26:53|2022-10-06 05:48:20|           1.0|        7.62|       1.0|              N|              12|           227|          1|      23.5|  0.5|   0.5|     5.46|        0.0|                 0.3|      32.76|                2.5|       0.0|       2|2022-10-06 13:15:38|2022-10-06 13:31:41|           2.0|         4.3|       1.0|              N|              68|            12|          2|      15.5|  0.0|   0.5|      0.0|        0.0|                 0.3|       18.8|                2.5|       0.0|\n",
      "|       2|2022-10-06 05:26:53|2022-10-06 05:48:20|           1.0|        7.62|       1.0|              N|              12|           227|          1|      23.5|  0.5|   0.5|     5.46|        0.0|                 0.3|      32.76|                2.5|       0.0|       2|2022-10-06 12:48:12|2022-10-06 13:08:21|           4.0|        6.06|       1.0|              N|             142|            12|          1|      20.0|  0.0|   0.5|     4.66|        0.0|                 0.3|      27.96|                2.5|       0.0|\n",
      "|       2|2022-10-06 05:26:53|2022-10-06 05:48:20|           1.0|        7.62|       1.0|              N|              12|           227|          1|      23.5|  0.5|   0.5|     5.46|        0.0|                 0.3|      32.76|                2.5|       0.0|       1|2022-10-06 13:21:32|2022-10-06 14:02:26|           1.0|         6.0|      99.0|              N|             239|            12|          1|      32.2|  0.0|   0.5|      0.0|        0.0|                 0.3|       33.0|                0.0|       0.0|\n",
      "|       2|2022-10-06 05:26:53|2022-10-06 05:48:20|           1.0|        7.62|       1.0|              N|              12|           227|          1|      23.5|  0.5|   0.5|     5.46|        0.0|                 0.3|      32.76|                2.5|       0.0|       2|2022-10-06 14:02:53|2022-10-06 14:28:55|           1.0|        5.15|       1.0|              N|             230|            12|          1|      20.5|  0.0|   0.5|     4.76|        0.0|                 0.3|      28.56|                2.5|       0.0|\n",
      "|       2|2022-10-06 05:26:53|2022-10-06 05:48:20|           1.0|        7.62|       1.0|              N|              12|           227|          1|      23.5|  0.5|   0.5|     5.46|        0.0|                 0.3|      32.76|                2.5|       0.0|       1|2022-10-06 13:41:17|2022-10-06 13:50:28|           1.0|         1.0|       1.0|              N|              13|            12|          2|       7.5|  2.5|   0.5|      0.0|        0.0|                 0.3|       10.8|                2.5|       0.0|\n",
      "|       2|2022-10-06 05:26:53|2022-10-06 05:48:20|           1.0|        7.62|       1.0|              N|              12|           227|          1|      23.5|  0.5|   0.5|     5.46|        0.0|                 0.3|      32.76|                2.5|       0.0|       1|2022-10-06 14:01:35|2022-10-06 14:32:46|           1.0|         5.5|       1.0|              N|             230|            12|          2|      23.5|  2.5|   0.5|      0.0|        0.0|                 0.3|       26.8|                2.5|       0.0|\n",
      "|       2|2022-10-06 05:26:53|2022-10-06 05:48:20|           1.0|        7.62|       1.0|              N|              12|           227|          1|      23.5|  0.5|   0.5|     5.46|        0.0|                 0.3|      32.76|                2.5|       0.0|       2|2022-10-06 13:49:21|2022-10-06 14:06:26|           2.0|        4.92|       1.0|              N|              50|            12|          2|      17.0|  0.0|   0.5|      0.0|        0.0|                 0.3|       20.3|                2.5|       0.0|\n",
      "|       2|2022-10-06 05:26:53|2022-10-06 05:48:20|           1.0|        7.62|       1.0|              N|              12|           227|          1|      23.5|  0.5|   0.5|     5.46|        0.0|                 0.3|      32.76|                2.5|       0.0|       2|2022-10-06 13:48:38|2022-10-06 13:59:21|           1.0|        1.53|       1.0|              N|             231|            12|          1|       9.0|  0.0|   0.5|     2.46|        0.0|                 0.3|      14.76|                2.5|       0.0|\n",
      "|       2|2022-10-06 05:26:53|2022-10-06 05:48:20|           1.0|        7.62|       1.0|              N|              12|           227|          1|      23.5|  0.5|   0.5|     5.46|        0.0|                 0.3|      32.76|                2.5|       0.0|       2|2022-10-06 13:53:16|2022-10-06 14:16:42|           3.0|        3.95|       1.0|              N|             164|            12|          1|      17.5|  0.0|   0.5|      5.2|        0.0|                 0.3|       26.0|                2.5|       0.0|\n",
      "|       2|2022-10-06 05:26:53|2022-10-06 05:48:20|           1.0|        7.62|       1.0|              N|              12|           227|          1|      23.5|  0.5|   0.5|     5.46|        0.0|                 0.3|      32.76|                2.5|       0.0|       2|2022-10-06 13:48:03|2022-10-06 14:11:36|           4.0|        4.69|       1.0|              N|             100|            12|          1|      18.5|  0.0|   0.5|     5.45|        0.0|                 0.3|      27.25|                2.5|       0.0|\n",
      "|       2|2022-10-06 05:26:53|2022-10-06 05:48:20|           1.0|        7.62|       1.0|              N|              12|           227|          1|      23.5|  0.5|   0.5|     5.46|        0.0|                 0.3|      32.76|                2.5|       0.0|       2|2022-10-06 14:00:44|2022-10-06 14:27:01|           1.0|         5.7|       1.0|              N|             163|            12|          2|      21.5|  0.0|   0.5|      0.0|        0.0|                 0.3|       24.8|                2.5|       0.0|\n",
      "|       2|2022-10-06 05:26:53|2022-10-06 05:48:20|           1.0|        7.62|       1.0|              N|              12|           227|          1|      23.5|  0.5|   0.5|     5.46|        0.0|                 0.3|      32.76|                2.5|       0.0|       1|2022-10-06 14:03:56|2022-10-06 14:39:26|           2.0|         5.4|       1.0|              N|             230|            12|          2|      25.5|  2.5|   0.5|      0.0|        0.0|                 0.3|       28.8|                2.5|       0.0|\n",
      "|       2|2022-10-06 05:26:53|2022-10-06 05:48:20|           1.0|        7.62|       1.0|              N|              12|           227|          1|      23.5|  0.5|   0.5|     5.46|        0.0|                 0.3|      32.76|                2.5|       0.0|       1|2022-10-01 13:19:02|2022-10-01 13:30:42|           1.0|         2.6|       1.0|              N|             249|            12|          3|      11.0|  2.5|   0.5|      0.0|        0.0|                 0.3|       14.3|                2.5|       0.0|\n",
      "|       2|2022-10-06 05:26:53|2022-10-06 05:48:20|           1.0|        7.62|       1.0|              N|              12|           227|          1|      23.5|  0.5|   0.5|     5.46|        0.0|                 0.3|      32.76|                2.5|       0.0|       2|2022-10-01 13:21:55|2022-10-01 13:45:35|           1.0|        5.32|       1.0|              N|              48|            12|          2|      21.0|  0.0|   0.5|      0.0|        0.0|                 0.3|       24.3|                2.5|       0.0|\n",
      "|       2|2022-10-06 05:26:53|2022-10-06 05:48:20|           1.0|        7.62|       1.0|              N|              12|           227|          1|      23.5|  0.5|   0.5|     5.46|        0.0|                 0.3|      32.76|                2.5|       0.0|       2|2022-10-01 13:29:54|2022-10-01 13:46:58|           1.0|        4.09|       1.0|              N|             186|            12|          1|      15.5|  0.0|   0.5|     5.64|        0.0|                 0.3|      24.44|                2.5|       0.0|\n",
      "|       2|2022-10-06 05:26:53|2022-10-06 05:48:20|           1.0|        7.62|       1.0|              N|              12|           227|          1|      23.5|  0.5|   0.5|     5.46|        0.0|                 0.3|      32.76|                2.5|       0.0|       1|2022-10-06 14:06:13|2022-10-06 14:32:57|           2.0|         6.3|       1.0|              N|             161|            12|          2|      24.0|  2.5|   0.5|      0.0|        0.0|                 0.3|       27.3|                2.5|       0.0|\n",
      "+--------+-------------------+-------------------+--------------+------------+----------+---------------+----------------+--------------+-----------+----------+-----+------+---------+-----------+--------------------+-----------+-------------------+----------+--------+-------------------+-------------------+--------------+------------+----------+---------------+----------------+--------------+-----------+----------+-----+------+---------+-----------+--------------------+-----------+-------------------+----------+\n",
      "only showing top 20 rows\n",
      "\n"
     ]
    }
   ],
   "source": [
    "spark.sql(\"\"\"\n",
    "\n",
    "SELECT *\n",
    "\n",
    "FROM YellowTaxis_PickupBucket b1\n",
    "\n",
    "    JOIN YellowTaxis_DropBucket b2 ON b1.PickupLocationId = b2.DropLocationId\n",
    "\n",
    "\"\"\").show()"
   ]
  },
  {
   "cell_type": "code",
   "execution_count": null,
   "id": "9987554f",
   "metadata": {},
   "outputs": [],
   "source": []
  },
  {
   "cell_type": "code",
   "execution_count": null,
   "id": "3462ffec",
   "metadata": {},
   "outputs": [],
   "source": []
  },
  {
   "cell_type": "code",
   "execution_count": null,
   "id": "9035f330",
   "metadata": {},
   "outputs": [],
   "source": []
  },
  {
   "cell_type": "code",
   "execution_count": null,
   "id": "5a22337b",
   "metadata": {},
   "outputs": [],
   "source": []
  },
  {
   "cell_type": "code",
   "execution_count": null,
   "id": "40f42d9d",
   "metadata": {},
   "outputs": [],
   "source": []
  },
  {
   "cell_type": "code",
   "execution_count": null,
   "id": "e17df162",
   "metadata": {},
   "outputs": [],
   "source": []
  },
  {
   "cell_type": "code",
   "execution_count": null,
   "id": "50d50cc1",
   "metadata": {},
   "outputs": [],
   "source": []
  },
  {
   "cell_type": "code",
   "execution_count": null,
   "id": "f715f00f",
   "metadata": {},
   "outputs": [],
   "source": []
  },
  {
   "cell_type": "code",
   "execution_count": null,
   "id": "1aae1c31",
   "metadata": {},
   "outputs": [],
   "source": []
  },
  {
   "cell_type": "code",
   "execution_count": null,
   "id": "89ece7b0",
   "metadata": {},
   "outputs": [],
   "source": []
  }
 ],
 "metadata": {
  "kernelspec": {
   "display_name": "Python 3 (ipykernel)",
   "language": "python",
   "name": "python3"
  },
  "language_info": {
   "codemirror_mode": {
    "name": "ipython",
    "version": 3
   },
   "file_extension": ".py",
   "mimetype": "text/x-python",
   "name": "python",
   "nbconvert_exporter": "python",
   "pygments_lexer": "ipython3",
   "version": "3.10.9"
  }
 },
 "nbformat": 4,
 "nbformat_minor": 5
}
